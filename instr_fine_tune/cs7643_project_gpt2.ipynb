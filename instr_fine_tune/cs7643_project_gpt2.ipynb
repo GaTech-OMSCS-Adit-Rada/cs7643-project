{
  "nbformat": 4,
  "nbformat_minor": 0,
  "metadata": {
    "colab": {
      "provenance": [],
      "collapsed_sections": [
        "vO2trnNoJ_sr",
        "XCDTFw8LZgcx",
        "0itX7X2zZn_s",
        "9PncFFFgdSQN",
        "6s2zo3vNQnvF",
        "oVWuqq5w_UnM",
        "-9Gx_ZC5Mg6b",
        "iTgvT-7kKvp0",
        "-B8zvt73bA79",
        "yo9WNa0jJqQK",
        "DPdJyLA6hL4Z",
        "Fe9arV26e4C4",
        "plYJLPT5mGTs",
        "aYqvauqh0nR5",
        "vX9LBfQ53sG5",
        "fsWuqt7jj85M",
        "zfPhL1IYOIzo",
        "oy-dlu1nqXll"
      ],
      "toc_visible": true
    },
    "kernelspec": {
      "name": "python3",
      "display_name": "Python 3"
    },
    "language_info": {
      "name": "python"
    },
    "widgets": {
      "application/vnd.jupyter.widget-state+json": {
        "3f22b4235c454929902bf333ca0333da": {
          "model_module": "@jupyter-widgets/controls",
          "model_name": "HBoxModel",
          "model_module_version": "1.5.0",
          "state": {
            "_dom_classes": [],
            "_model_module": "@jupyter-widgets/controls",
            "_model_module_version": "1.5.0",
            "_model_name": "HBoxModel",
            "_view_count": null,
            "_view_module": "@jupyter-widgets/controls",
            "_view_module_version": "1.5.0",
            "_view_name": "HBoxView",
            "box_style": "",
            "children": [
              "IPY_MODEL_dbacb0064718457a88e51939b9493bd6",
              "IPY_MODEL_013d857359ee4e8a98de82a141a82dc6",
              "IPY_MODEL_78ae9a4a6f47437c9d6f863008babf37"
            ],
            "layout": "IPY_MODEL_7615768f71414af9bd9f857b5432b032"
          }
        },
        "dbacb0064718457a88e51939b9493bd6": {
          "model_module": "@jupyter-widgets/controls",
          "model_name": "HTMLModel",
          "model_module_version": "1.5.0",
          "state": {
            "_dom_classes": [],
            "_model_module": "@jupyter-widgets/controls",
            "_model_module_version": "1.5.0",
            "_model_name": "HTMLModel",
            "_view_count": null,
            "_view_module": "@jupyter-widgets/controls",
            "_view_module_version": "1.5.0",
            "_view_name": "HTMLView",
            "description": "",
            "description_tooltip": null,
            "layout": "IPY_MODEL_a448a9494f9440c9a487b464b244c856",
            "placeholder": "​",
            "style": "IPY_MODEL_49286700bdd24bdf99d0bcde2c40f0df",
            "value": "config.json: 100%"
          }
        },
        "013d857359ee4e8a98de82a141a82dc6": {
          "model_module": "@jupyter-widgets/controls",
          "model_name": "FloatProgressModel",
          "model_module_version": "1.5.0",
          "state": {
            "_dom_classes": [],
            "_model_module": "@jupyter-widgets/controls",
            "_model_module_version": "1.5.0",
            "_model_name": "FloatProgressModel",
            "_view_count": null,
            "_view_module": "@jupyter-widgets/controls",
            "_view_module_version": "1.5.0",
            "_view_name": "ProgressView",
            "bar_style": "success",
            "description": "",
            "description_tooltip": null,
            "layout": "IPY_MODEL_4fdb7451b5e348fc986611784fa16480",
            "max": 718,
            "min": 0,
            "orientation": "horizontal",
            "style": "IPY_MODEL_0cd4b8d1b9334c0b9df1330409ced1e9",
            "value": 718
          }
        },
        "78ae9a4a6f47437c9d6f863008babf37": {
          "model_module": "@jupyter-widgets/controls",
          "model_name": "HTMLModel",
          "model_module_version": "1.5.0",
          "state": {
            "_dom_classes": [],
            "_model_module": "@jupyter-widgets/controls",
            "_model_module_version": "1.5.0",
            "_model_name": "HTMLModel",
            "_view_count": null,
            "_view_module": "@jupyter-widgets/controls",
            "_view_module_version": "1.5.0",
            "_view_name": "HTMLView",
            "description": "",
            "description_tooltip": null,
            "layout": "IPY_MODEL_0d3c1431488348ff9ef4d8eace82c7e9",
            "placeholder": "​",
            "style": "IPY_MODEL_6e0087f49bac42708b148579843f9314",
            "value": " 718/718 [00:00&lt;00:00, 62.8kB/s]"
          }
        },
        "7615768f71414af9bd9f857b5432b032": {
          "model_module": "@jupyter-widgets/base",
          "model_name": "LayoutModel",
          "model_module_version": "1.2.0",
          "state": {
            "_model_module": "@jupyter-widgets/base",
            "_model_module_version": "1.2.0",
            "_model_name": "LayoutModel",
            "_view_count": null,
            "_view_module": "@jupyter-widgets/base",
            "_view_module_version": "1.2.0",
            "_view_name": "LayoutView",
            "align_content": null,
            "align_items": null,
            "align_self": null,
            "border": null,
            "bottom": null,
            "display": null,
            "flex": null,
            "flex_flow": null,
            "grid_area": null,
            "grid_auto_columns": null,
            "grid_auto_flow": null,
            "grid_auto_rows": null,
            "grid_column": null,
            "grid_gap": null,
            "grid_row": null,
            "grid_template_areas": null,
            "grid_template_columns": null,
            "grid_template_rows": null,
            "height": null,
            "justify_content": null,
            "justify_items": null,
            "left": null,
            "margin": null,
            "max_height": null,
            "max_width": null,
            "min_height": null,
            "min_width": null,
            "object_fit": null,
            "object_position": null,
            "order": null,
            "overflow": null,
            "overflow_x": null,
            "overflow_y": null,
            "padding": null,
            "right": null,
            "top": null,
            "visibility": null,
            "width": null
          }
        },
        "a448a9494f9440c9a487b464b244c856": {
          "model_module": "@jupyter-widgets/base",
          "model_name": "LayoutModel",
          "model_module_version": "1.2.0",
          "state": {
            "_model_module": "@jupyter-widgets/base",
            "_model_module_version": "1.2.0",
            "_model_name": "LayoutModel",
            "_view_count": null,
            "_view_module": "@jupyter-widgets/base",
            "_view_module_version": "1.2.0",
            "_view_name": "LayoutView",
            "align_content": null,
            "align_items": null,
            "align_self": null,
            "border": null,
            "bottom": null,
            "display": null,
            "flex": null,
            "flex_flow": null,
            "grid_area": null,
            "grid_auto_columns": null,
            "grid_auto_flow": null,
            "grid_auto_rows": null,
            "grid_column": null,
            "grid_gap": null,
            "grid_row": null,
            "grid_template_areas": null,
            "grid_template_columns": null,
            "grid_template_rows": null,
            "height": null,
            "justify_content": null,
            "justify_items": null,
            "left": null,
            "margin": null,
            "max_height": null,
            "max_width": null,
            "min_height": null,
            "min_width": null,
            "object_fit": null,
            "object_position": null,
            "order": null,
            "overflow": null,
            "overflow_x": null,
            "overflow_y": null,
            "padding": null,
            "right": null,
            "top": null,
            "visibility": null,
            "width": null
          }
        },
        "49286700bdd24bdf99d0bcde2c40f0df": {
          "model_module": "@jupyter-widgets/controls",
          "model_name": "DescriptionStyleModel",
          "model_module_version": "1.5.0",
          "state": {
            "_model_module": "@jupyter-widgets/controls",
            "_model_module_version": "1.5.0",
            "_model_name": "DescriptionStyleModel",
            "_view_count": null,
            "_view_module": "@jupyter-widgets/base",
            "_view_module_version": "1.2.0",
            "_view_name": "StyleView",
            "description_width": ""
          }
        },
        "4fdb7451b5e348fc986611784fa16480": {
          "model_module": "@jupyter-widgets/base",
          "model_name": "LayoutModel",
          "model_module_version": "1.2.0",
          "state": {
            "_model_module": "@jupyter-widgets/base",
            "_model_module_version": "1.2.0",
            "_model_name": "LayoutModel",
            "_view_count": null,
            "_view_module": "@jupyter-widgets/base",
            "_view_module_version": "1.2.0",
            "_view_name": "LayoutView",
            "align_content": null,
            "align_items": null,
            "align_self": null,
            "border": null,
            "bottom": null,
            "display": null,
            "flex": null,
            "flex_flow": null,
            "grid_area": null,
            "grid_auto_columns": null,
            "grid_auto_flow": null,
            "grid_auto_rows": null,
            "grid_column": null,
            "grid_gap": null,
            "grid_row": null,
            "grid_template_areas": null,
            "grid_template_columns": null,
            "grid_template_rows": null,
            "height": null,
            "justify_content": null,
            "justify_items": null,
            "left": null,
            "margin": null,
            "max_height": null,
            "max_width": null,
            "min_height": null,
            "min_width": null,
            "object_fit": null,
            "object_position": null,
            "order": null,
            "overflow": null,
            "overflow_x": null,
            "overflow_y": null,
            "padding": null,
            "right": null,
            "top": null,
            "visibility": null,
            "width": null
          }
        },
        "0cd4b8d1b9334c0b9df1330409ced1e9": {
          "model_module": "@jupyter-widgets/controls",
          "model_name": "ProgressStyleModel",
          "model_module_version": "1.5.0",
          "state": {
            "_model_module": "@jupyter-widgets/controls",
            "_model_module_version": "1.5.0",
            "_model_name": "ProgressStyleModel",
            "_view_count": null,
            "_view_module": "@jupyter-widgets/base",
            "_view_module_version": "1.2.0",
            "_view_name": "StyleView",
            "bar_color": null,
            "description_width": ""
          }
        },
        "0d3c1431488348ff9ef4d8eace82c7e9": {
          "model_module": "@jupyter-widgets/base",
          "model_name": "LayoutModel",
          "model_module_version": "1.2.0",
          "state": {
            "_model_module": "@jupyter-widgets/base",
            "_model_module_version": "1.2.0",
            "_model_name": "LayoutModel",
            "_view_count": null,
            "_view_module": "@jupyter-widgets/base",
            "_view_module_version": "1.2.0",
            "_view_name": "LayoutView",
            "align_content": null,
            "align_items": null,
            "align_self": null,
            "border": null,
            "bottom": null,
            "display": null,
            "flex": null,
            "flex_flow": null,
            "grid_area": null,
            "grid_auto_columns": null,
            "grid_auto_flow": null,
            "grid_auto_rows": null,
            "grid_column": null,
            "grid_gap": null,
            "grid_row": null,
            "grid_template_areas": null,
            "grid_template_columns": null,
            "grid_template_rows": null,
            "height": null,
            "justify_content": null,
            "justify_items": null,
            "left": null,
            "margin": null,
            "max_height": null,
            "max_width": null,
            "min_height": null,
            "min_width": null,
            "object_fit": null,
            "object_position": null,
            "order": null,
            "overflow": null,
            "overflow_x": null,
            "overflow_y": null,
            "padding": null,
            "right": null,
            "top": null,
            "visibility": null,
            "width": null
          }
        },
        "6e0087f49bac42708b148579843f9314": {
          "model_module": "@jupyter-widgets/controls",
          "model_name": "DescriptionStyleModel",
          "model_module_version": "1.5.0",
          "state": {
            "_model_module": "@jupyter-widgets/controls",
            "_model_module_version": "1.5.0",
            "_model_name": "DescriptionStyleModel",
            "_view_count": null,
            "_view_module": "@jupyter-widgets/base",
            "_view_module_version": "1.2.0",
            "_view_name": "StyleView",
            "description_width": ""
          }
        },
        "f22ab3297bf546838e72b352c233a44c": {
          "model_module": "@jupyter-widgets/controls",
          "model_name": "HBoxModel",
          "model_module_version": "1.5.0",
          "state": {
            "_dom_classes": [],
            "_model_module": "@jupyter-widgets/controls",
            "_model_module_version": "1.5.0",
            "_model_name": "HBoxModel",
            "_view_count": null,
            "_view_module": "@jupyter-widgets/controls",
            "_view_module_version": "1.5.0",
            "_view_name": "HBoxView",
            "box_style": "",
            "children": [
              "IPY_MODEL_ee055adabf5f463faf0a6ef754a1c86b",
              "IPY_MODEL_1f4dc8204d254d888e49d7f3d9a5313d",
              "IPY_MODEL_98f57976f5dd4bc3afa48b6758b4555e"
            ],
            "layout": "IPY_MODEL_1764f7ec7505463db8470c3423d6c2fd"
          }
        },
        "ee055adabf5f463faf0a6ef754a1c86b": {
          "model_module": "@jupyter-widgets/controls",
          "model_name": "HTMLModel",
          "model_module_version": "1.5.0",
          "state": {
            "_dom_classes": [],
            "_model_module": "@jupyter-widgets/controls",
            "_model_module_version": "1.5.0",
            "_model_name": "HTMLModel",
            "_view_count": null,
            "_view_module": "@jupyter-widgets/controls",
            "_view_module_version": "1.5.0",
            "_view_name": "HTMLView",
            "description": "",
            "description_tooltip": null,
            "layout": "IPY_MODEL_8337649816c54e359829c38df83f1d6d",
            "placeholder": "​",
            "style": "IPY_MODEL_2bbee239df3e412c92a5f9f96434c570",
            "value": "model.safetensors: 100%"
          }
        },
        "1f4dc8204d254d888e49d7f3d9a5313d": {
          "model_module": "@jupyter-widgets/controls",
          "model_name": "FloatProgressModel",
          "model_module_version": "1.5.0",
          "state": {
            "_dom_classes": [],
            "_model_module": "@jupyter-widgets/controls",
            "_model_module_version": "1.5.0",
            "_model_name": "FloatProgressModel",
            "_view_count": null,
            "_view_module": "@jupyter-widgets/controls",
            "_view_module_version": "1.5.0",
            "_view_name": "ProgressView",
            "bar_style": "success",
            "description": "",
            "description_tooltip": null,
            "layout": "IPY_MODEL_d03bb7ce9b8f48ff822feb305bfc8e19",
            "max": 1519984962,
            "min": 0,
            "orientation": "horizontal",
            "style": "IPY_MODEL_5837e8eb6271449aafac03a005134a28",
            "value": 1519984962
          }
        },
        "98f57976f5dd4bc3afa48b6758b4555e": {
          "model_module": "@jupyter-widgets/controls",
          "model_name": "HTMLModel",
          "model_module_version": "1.5.0",
          "state": {
            "_dom_classes": [],
            "_model_module": "@jupyter-widgets/controls",
            "_model_module_version": "1.5.0",
            "_model_name": "HTMLModel",
            "_view_count": null,
            "_view_module": "@jupyter-widgets/controls",
            "_view_module_version": "1.5.0",
            "_view_name": "HTMLView",
            "description": "",
            "description_tooltip": null,
            "layout": "IPY_MODEL_268765a39df6496eadbff867cfdc1fc9",
            "placeholder": "​",
            "style": "IPY_MODEL_c1fe2e3143df48d28fd6fdb6cf82c9a9",
            "value": " 1.52G/1.52G [00:24&lt;00:00, 101MB/s]"
          }
        },
        "1764f7ec7505463db8470c3423d6c2fd": {
          "model_module": "@jupyter-widgets/base",
          "model_name": "LayoutModel",
          "model_module_version": "1.2.0",
          "state": {
            "_model_module": "@jupyter-widgets/base",
            "_model_module_version": "1.2.0",
            "_model_name": "LayoutModel",
            "_view_count": null,
            "_view_module": "@jupyter-widgets/base",
            "_view_module_version": "1.2.0",
            "_view_name": "LayoutView",
            "align_content": null,
            "align_items": null,
            "align_self": null,
            "border": null,
            "bottom": null,
            "display": null,
            "flex": null,
            "flex_flow": null,
            "grid_area": null,
            "grid_auto_columns": null,
            "grid_auto_flow": null,
            "grid_auto_rows": null,
            "grid_column": null,
            "grid_gap": null,
            "grid_row": null,
            "grid_template_areas": null,
            "grid_template_columns": null,
            "grid_template_rows": null,
            "height": null,
            "justify_content": null,
            "justify_items": null,
            "left": null,
            "margin": null,
            "max_height": null,
            "max_width": null,
            "min_height": null,
            "min_width": null,
            "object_fit": null,
            "object_position": null,
            "order": null,
            "overflow": null,
            "overflow_x": null,
            "overflow_y": null,
            "padding": null,
            "right": null,
            "top": null,
            "visibility": null,
            "width": null
          }
        },
        "8337649816c54e359829c38df83f1d6d": {
          "model_module": "@jupyter-widgets/base",
          "model_name": "LayoutModel",
          "model_module_version": "1.2.0",
          "state": {
            "_model_module": "@jupyter-widgets/base",
            "_model_module_version": "1.2.0",
            "_model_name": "LayoutModel",
            "_view_count": null,
            "_view_module": "@jupyter-widgets/base",
            "_view_module_version": "1.2.0",
            "_view_name": "LayoutView",
            "align_content": null,
            "align_items": null,
            "align_self": null,
            "border": null,
            "bottom": null,
            "display": null,
            "flex": null,
            "flex_flow": null,
            "grid_area": null,
            "grid_auto_columns": null,
            "grid_auto_flow": null,
            "grid_auto_rows": null,
            "grid_column": null,
            "grid_gap": null,
            "grid_row": null,
            "grid_template_areas": null,
            "grid_template_columns": null,
            "grid_template_rows": null,
            "height": null,
            "justify_content": null,
            "justify_items": null,
            "left": null,
            "margin": null,
            "max_height": null,
            "max_width": null,
            "min_height": null,
            "min_width": null,
            "object_fit": null,
            "object_position": null,
            "order": null,
            "overflow": null,
            "overflow_x": null,
            "overflow_y": null,
            "padding": null,
            "right": null,
            "top": null,
            "visibility": null,
            "width": null
          }
        },
        "2bbee239df3e412c92a5f9f96434c570": {
          "model_module": "@jupyter-widgets/controls",
          "model_name": "DescriptionStyleModel",
          "model_module_version": "1.5.0",
          "state": {
            "_model_module": "@jupyter-widgets/controls",
            "_model_module_version": "1.5.0",
            "_model_name": "DescriptionStyleModel",
            "_view_count": null,
            "_view_module": "@jupyter-widgets/base",
            "_view_module_version": "1.2.0",
            "_view_name": "StyleView",
            "description_width": ""
          }
        },
        "d03bb7ce9b8f48ff822feb305bfc8e19": {
          "model_module": "@jupyter-widgets/base",
          "model_name": "LayoutModel",
          "model_module_version": "1.2.0",
          "state": {
            "_model_module": "@jupyter-widgets/base",
            "_model_module_version": "1.2.0",
            "_model_name": "LayoutModel",
            "_view_count": null,
            "_view_module": "@jupyter-widgets/base",
            "_view_module_version": "1.2.0",
            "_view_name": "LayoutView",
            "align_content": null,
            "align_items": null,
            "align_self": null,
            "border": null,
            "bottom": null,
            "display": null,
            "flex": null,
            "flex_flow": null,
            "grid_area": null,
            "grid_auto_columns": null,
            "grid_auto_flow": null,
            "grid_auto_rows": null,
            "grid_column": null,
            "grid_gap": null,
            "grid_row": null,
            "grid_template_areas": null,
            "grid_template_columns": null,
            "grid_template_rows": null,
            "height": null,
            "justify_content": null,
            "justify_items": null,
            "left": null,
            "margin": null,
            "max_height": null,
            "max_width": null,
            "min_height": null,
            "min_width": null,
            "object_fit": null,
            "object_position": null,
            "order": null,
            "overflow": null,
            "overflow_x": null,
            "overflow_y": null,
            "padding": null,
            "right": null,
            "top": null,
            "visibility": null,
            "width": null
          }
        },
        "5837e8eb6271449aafac03a005134a28": {
          "model_module": "@jupyter-widgets/controls",
          "model_name": "ProgressStyleModel",
          "model_module_version": "1.5.0",
          "state": {
            "_model_module": "@jupyter-widgets/controls",
            "_model_module_version": "1.5.0",
            "_model_name": "ProgressStyleModel",
            "_view_count": null,
            "_view_module": "@jupyter-widgets/base",
            "_view_module_version": "1.2.0",
            "_view_name": "StyleView",
            "bar_color": null,
            "description_width": ""
          }
        },
        "268765a39df6496eadbff867cfdc1fc9": {
          "model_module": "@jupyter-widgets/base",
          "model_name": "LayoutModel",
          "model_module_version": "1.2.0",
          "state": {
            "_model_module": "@jupyter-widgets/base",
            "_model_module_version": "1.2.0",
            "_model_name": "LayoutModel",
            "_view_count": null,
            "_view_module": "@jupyter-widgets/base",
            "_view_module_version": "1.2.0",
            "_view_name": "LayoutView",
            "align_content": null,
            "align_items": null,
            "align_self": null,
            "border": null,
            "bottom": null,
            "display": null,
            "flex": null,
            "flex_flow": null,
            "grid_area": null,
            "grid_auto_columns": null,
            "grid_auto_flow": null,
            "grid_auto_rows": null,
            "grid_column": null,
            "grid_gap": null,
            "grid_row": null,
            "grid_template_areas": null,
            "grid_template_columns": null,
            "grid_template_rows": null,
            "height": null,
            "justify_content": null,
            "justify_items": null,
            "left": null,
            "margin": null,
            "max_height": null,
            "max_width": null,
            "min_height": null,
            "min_width": null,
            "object_fit": null,
            "object_position": null,
            "order": null,
            "overflow": null,
            "overflow_x": null,
            "overflow_y": null,
            "padding": null,
            "right": null,
            "top": null,
            "visibility": null,
            "width": null
          }
        },
        "c1fe2e3143df48d28fd6fdb6cf82c9a9": {
          "model_module": "@jupyter-widgets/controls",
          "model_name": "DescriptionStyleModel",
          "model_module_version": "1.5.0",
          "state": {
            "_model_module": "@jupyter-widgets/controls",
            "_model_module_version": "1.5.0",
            "_model_name": "DescriptionStyleModel",
            "_view_count": null,
            "_view_module": "@jupyter-widgets/base",
            "_view_module_version": "1.2.0",
            "_view_name": "StyleView",
            "description_width": ""
          }
        },
        "59d137cdc7114074a42d50d077f22bd2": {
          "model_module": "@jupyter-widgets/controls",
          "model_name": "HBoxModel",
          "model_module_version": "1.5.0",
          "state": {
            "_dom_classes": [],
            "_model_module": "@jupyter-widgets/controls",
            "_model_module_version": "1.5.0",
            "_model_name": "HBoxModel",
            "_view_count": null,
            "_view_module": "@jupyter-widgets/controls",
            "_view_module_version": "1.5.0",
            "_view_name": "HBoxView",
            "box_style": "",
            "children": [
              "IPY_MODEL_30e5d7c7fad244f0bdffd61817d4e898",
              "IPY_MODEL_6892d80d30834ac89922d353c58d1afe",
              "IPY_MODEL_7d326df2b99d49a381a2acde5a286ef9"
            ],
            "layout": "IPY_MODEL_2866f7e744d14734935398b1c826e380"
          }
        },
        "30e5d7c7fad244f0bdffd61817d4e898": {
          "model_module": "@jupyter-widgets/controls",
          "model_name": "HTMLModel",
          "model_module_version": "1.5.0",
          "state": {
            "_dom_classes": [],
            "_model_module": "@jupyter-widgets/controls",
            "_model_module_version": "1.5.0",
            "_model_name": "HTMLModel",
            "_view_count": null,
            "_view_module": "@jupyter-widgets/controls",
            "_view_module_version": "1.5.0",
            "_view_name": "HTMLView",
            "description": "",
            "description_tooltip": null,
            "layout": "IPY_MODEL_d6761cd1067c4fa092a942d373819d5d",
            "placeholder": "​",
            "style": "IPY_MODEL_f75fac600947449bba4836b06b88322f",
            "value": "config.json: 100%"
          }
        },
        "6892d80d30834ac89922d353c58d1afe": {
          "model_module": "@jupyter-widgets/controls",
          "model_name": "FloatProgressModel",
          "model_module_version": "1.5.0",
          "state": {
            "_dom_classes": [],
            "_model_module": "@jupyter-widgets/controls",
            "_model_module_version": "1.5.0",
            "_model_name": "FloatProgressModel",
            "_view_count": null,
            "_view_module": "@jupyter-widgets/controls",
            "_view_module_version": "1.5.0",
            "_view_name": "ProgressView",
            "bar_style": "success",
            "description": "",
            "description_tooltip": null,
            "layout": "IPY_MODEL_a6402a34a24f47f99109cba9f97adee0",
            "max": 666,
            "min": 0,
            "orientation": "horizontal",
            "style": "IPY_MODEL_84290926106b48e3ad17222bbcfff83a",
            "value": 666
          }
        },
        "7d326df2b99d49a381a2acde5a286ef9": {
          "model_module": "@jupyter-widgets/controls",
          "model_name": "HTMLModel",
          "model_module_version": "1.5.0",
          "state": {
            "_dom_classes": [],
            "_model_module": "@jupyter-widgets/controls",
            "_model_module_version": "1.5.0",
            "_model_name": "HTMLModel",
            "_view_count": null,
            "_view_module": "@jupyter-widgets/controls",
            "_view_module_version": "1.5.0",
            "_view_name": "HTMLView",
            "description": "",
            "description_tooltip": null,
            "layout": "IPY_MODEL_bf336ce224a24a5dbfc47c3bdb9960b0",
            "placeholder": "​",
            "style": "IPY_MODEL_137c903e0eb74330b4e6eb1ce01f9b5f",
            "value": " 666/666 [00:00&lt;00:00, 54.6kB/s]"
          }
        },
        "2866f7e744d14734935398b1c826e380": {
          "model_module": "@jupyter-widgets/base",
          "model_name": "LayoutModel",
          "model_module_version": "1.2.0",
          "state": {
            "_model_module": "@jupyter-widgets/base",
            "_model_module_version": "1.2.0",
            "_model_name": "LayoutModel",
            "_view_count": null,
            "_view_module": "@jupyter-widgets/base",
            "_view_module_version": "1.2.0",
            "_view_name": "LayoutView",
            "align_content": null,
            "align_items": null,
            "align_self": null,
            "border": null,
            "bottom": null,
            "display": null,
            "flex": null,
            "flex_flow": null,
            "grid_area": null,
            "grid_auto_columns": null,
            "grid_auto_flow": null,
            "grid_auto_rows": null,
            "grid_column": null,
            "grid_gap": null,
            "grid_row": null,
            "grid_template_areas": null,
            "grid_template_columns": null,
            "grid_template_rows": null,
            "height": null,
            "justify_content": null,
            "justify_items": null,
            "left": null,
            "margin": null,
            "max_height": null,
            "max_width": null,
            "min_height": null,
            "min_width": null,
            "object_fit": null,
            "object_position": null,
            "order": null,
            "overflow": null,
            "overflow_x": null,
            "overflow_y": null,
            "padding": null,
            "right": null,
            "top": null,
            "visibility": null,
            "width": null
          }
        },
        "d6761cd1067c4fa092a942d373819d5d": {
          "model_module": "@jupyter-widgets/base",
          "model_name": "LayoutModel",
          "model_module_version": "1.2.0",
          "state": {
            "_model_module": "@jupyter-widgets/base",
            "_model_module_version": "1.2.0",
            "_model_name": "LayoutModel",
            "_view_count": null,
            "_view_module": "@jupyter-widgets/base",
            "_view_module_version": "1.2.0",
            "_view_name": "LayoutView",
            "align_content": null,
            "align_items": null,
            "align_self": null,
            "border": null,
            "bottom": null,
            "display": null,
            "flex": null,
            "flex_flow": null,
            "grid_area": null,
            "grid_auto_columns": null,
            "grid_auto_flow": null,
            "grid_auto_rows": null,
            "grid_column": null,
            "grid_gap": null,
            "grid_row": null,
            "grid_template_areas": null,
            "grid_template_columns": null,
            "grid_template_rows": null,
            "height": null,
            "justify_content": null,
            "justify_items": null,
            "left": null,
            "margin": null,
            "max_height": null,
            "max_width": null,
            "min_height": null,
            "min_width": null,
            "object_fit": null,
            "object_position": null,
            "order": null,
            "overflow": null,
            "overflow_x": null,
            "overflow_y": null,
            "padding": null,
            "right": null,
            "top": null,
            "visibility": null,
            "width": null
          }
        },
        "f75fac600947449bba4836b06b88322f": {
          "model_module": "@jupyter-widgets/controls",
          "model_name": "DescriptionStyleModel",
          "model_module_version": "1.5.0",
          "state": {
            "_model_module": "@jupyter-widgets/controls",
            "_model_module_version": "1.5.0",
            "_model_name": "DescriptionStyleModel",
            "_view_count": null,
            "_view_module": "@jupyter-widgets/base",
            "_view_module_version": "1.2.0",
            "_view_name": "StyleView",
            "description_width": ""
          }
        },
        "a6402a34a24f47f99109cba9f97adee0": {
          "model_module": "@jupyter-widgets/base",
          "model_name": "LayoutModel",
          "model_module_version": "1.2.0",
          "state": {
            "_model_module": "@jupyter-widgets/base",
            "_model_module_version": "1.2.0",
            "_model_name": "LayoutModel",
            "_view_count": null,
            "_view_module": "@jupyter-widgets/base",
            "_view_module_version": "1.2.0",
            "_view_name": "LayoutView",
            "align_content": null,
            "align_items": null,
            "align_self": null,
            "border": null,
            "bottom": null,
            "display": null,
            "flex": null,
            "flex_flow": null,
            "grid_area": null,
            "grid_auto_columns": null,
            "grid_auto_flow": null,
            "grid_auto_rows": null,
            "grid_column": null,
            "grid_gap": null,
            "grid_row": null,
            "grid_template_areas": null,
            "grid_template_columns": null,
            "grid_template_rows": null,
            "height": null,
            "justify_content": null,
            "justify_items": null,
            "left": null,
            "margin": null,
            "max_height": null,
            "max_width": null,
            "min_height": null,
            "min_width": null,
            "object_fit": null,
            "object_position": null,
            "order": null,
            "overflow": null,
            "overflow_x": null,
            "overflow_y": null,
            "padding": null,
            "right": null,
            "top": null,
            "visibility": null,
            "width": null
          }
        },
        "84290926106b48e3ad17222bbcfff83a": {
          "model_module": "@jupyter-widgets/controls",
          "model_name": "ProgressStyleModel",
          "model_module_version": "1.5.0",
          "state": {
            "_model_module": "@jupyter-widgets/controls",
            "_model_module_version": "1.5.0",
            "_model_name": "ProgressStyleModel",
            "_view_count": null,
            "_view_module": "@jupyter-widgets/base",
            "_view_module_version": "1.2.0",
            "_view_name": "StyleView",
            "bar_color": null,
            "description_width": ""
          }
        },
        "bf336ce224a24a5dbfc47c3bdb9960b0": {
          "model_module": "@jupyter-widgets/base",
          "model_name": "LayoutModel",
          "model_module_version": "1.2.0",
          "state": {
            "_model_module": "@jupyter-widgets/base",
            "_model_module_version": "1.2.0",
            "_model_name": "LayoutModel",
            "_view_count": null,
            "_view_module": "@jupyter-widgets/base",
            "_view_module_version": "1.2.0",
            "_view_name": "LayoutView",
            "align_content": null,
            "align_items": null,
            "align_self": null,
            "border": null,
            "bottom": null,
            "display": null,
            "flex": null,
            "flex_flow": null,
            "grid_area": null,
            "grid_auto_columns": null,
            "grid_auto_flow": null,
            "grid_auto_rows": null,
            "grid_column": null,
            "grid_gap": null,
            "grid_row": null,
            "grid_template_areas": null,
            "grid_template_columns": null,
            "grid_template_rows": null,
            "height": null,
            "justify_content": null,
            "justify_items": null,
            "left": null,
            "margin": null,
            "max_height": null,
            "max_width": null,
            "min_height": null,
            "min_width": null,
            "object_fit": null,
            "object_position": null,
            "order": null,
            "overflow": null,
            "overflow_x": null,
            "overflow_y": null,
            "padding": null,
            "right": null,
            "top": null,
            "visibility": null,
            "width": null
          }
        },
        "137c903e0eb74330b4e6eb1ce01f9b5f": {
          "model_module": "@jupyter-widgets/controls",
          "model_name": "DescriptionStyleModel",
          "model_module_version": "1.5.0",
          "state": {
            "_model_module": "@jupyter-widgets/controls",
            "_model_module_version": "1.5.0",
            "_model_name": "DescriptionStyleModel",
            "_view_count": null,
            "_view_module": "@jupyter-widgets/base",
            "_view_module_version": "1.2.0",
            "_view_name": "StyleView",
            "description_width": ""
          }
        },
        "2a7169b17c20421388cbd2c57aaabb2b": {
          "model_module": "@jupyter-widgets/controls",
          "model_name": "HBoxModel",
          "model_module_version": "1.5.0",
          "state": {
            "_dom_classes": [],
            "_model_module": "@jupyter-widgets/controls",
            "_model_module_version": "1.5.0",
            "_model_name": "HBoxModel",
            "_view_count": null,
            "_view_module": "@jupyter-widgets/controls",
            "_view_module_version": "1.5.0",
            "_view_name": "HBoxView",
            "box_style": "",
            "children": [
              "IPY_MODEL_6c5f581670a146f1b9a86739667a16ef",
              "IPY_MODEL_6de0a3e9f72e4f5eb55cdb4b9854333f",
              "IPY_MODEL_042abe1672c34b8184c2dca737a88d99"
            ],
            "layout": "IPY_MODEL_fb492c2354aa4f4687b59391bad95e70"
          }
        },
        "6c5f581670a146f1b9a86739667a16ef": {
          "model_module": "@jupyter-widgets/controls",
          "model_name": "HTMLModel",
          "model_module_version": "1.5.0",
          "state": {
            "_dom_classes": [],
            "_model_module": "@jupyter-widgets/controls",
            "_model_module_version": "1.5.0",
            "_model_name": "HTMLModel",
            "_view_count": null,
            "_view_module": "@jupyter-widgets/controls",
            "_view_module_version": "1.5.0",
            "_view_name": "HTMLView",
            "description": "",
            "description_tooltip": null,
            "layout": "IPY_MODEL_110ca7774cb84667ab7832b453d5e30e",
            "placeholder": "​",
            "style": "IPY_MODEL_e5f8ea229bf747eb854dd27f1bb24ccb",
            "value": "model.safetensors: 100%"
          }
        },
        "6de0a3e9f72e4f5eb55cdb4b9854333f": {
          "model_module": "@jupyter-widgets/controls",
          "model_name": "FloatProgressModel",
          "model_module_version": "1.5.0",
          "state": {
            "_dom_classes": [],
            "_model_module": "@jupyter-widgets/controls",
            "_model_module_version": "1.5.0",
            "_model_name": "FloatProgressModel",
            "_view_count": null,
            "_view_module": "@jupyter-widgets/controls",
            "_view_module_version": "1.5.0",
            "_view_name": "ProgressView",
            "bar_style": "success",
            "description": "",
            "description_tooltip": null,
            "layout": "IPY_MODEL_64246d207ce04c03be5d67542c0a3b5d",
            "max": 3247159078,
            "min": 0,
            "orientation": "horizontal",
            "style": "IPY_MODEL_04d259e6069e4852bcf4dfb4ba6ae558",
            "value": 3247159078
          }
        },
        "042abe1672c34b8184c2dca737a88d99": {
          "model_module": "@jupyter-widgets/controls",
          "model_name": "HTMLModel",
          "model_module_version": "1.5.0",
          "state": {
            "_dom_classes": [],
            "_model_module": "@jupyter-widgets/controls",
            "_model_module_version": "1.5.0",
            "_model_name": "HTMLModel",
            "_view_count": null,
            "_view_module": "@jupyter-widgets/controls",
            "_view_module_version": "1.5.0",
            "_view_name": "HTMLView",
            "description": "",
            "description_tooltip": null,
            "layout": "IPY_MODEL_fa426df74eab43c58ed2dd4b7093ce81",
            "placeholder": "​",
            "style": "IPY_MODEL_1d0ff35f5d8b4c04b7e9277c2e19105e",
            "value": " 3.25G/3.25G [01:16&lt;00:00, 35.4MB/s]"
          }
        },
        "fb492c2354aa4f4687b59391bad95e70": {
          "model_module": "@jupyter-widgets/base",
          "model_name": "LayoutModel",
          "model_module_version": "1.2.0",
          "state": {
            "_model_module": "@jupyter-widgets/base",
            "_model_module_version": "1.2.0",
            "_model_name": "LayoutModel",
            "_view_count": null,
            "_view_module": "@jupyter-widgets/base",
            "_view_module_version": "1.2.0",
            "_view_name": "LayoutView",
            "align_content": null,
            "align_items": null,
            "align_self": null,
            "border": null,
            "bottom": null,
            "display": null,
            "flex": null,
            "flex_flow": null,
            "grid_area": null,
            "grid_auto_columns": null,
            "grid_auto_flow": null,
            "grid_auto_rows": null,
            "grid_column": null,
            "grid_gap": null,
            "grid_row": null,
            "grid_template_areas": null,
            "grid_template_columns": null,
            "grid_template_rows": null,
            "height": null,
            "justify_content": null,
            "justify_items": null,
            "left": null,
            "margin": null,
            "max_height": null,
            "max_width": null,
            "min_height": null,
            "min_width": null,
            "object_fit": null,
            "object_position": null,
            "order": null,
            "overflow": null,
            "overflow_x": null,
            "overflow_y": null,
            "padding": null,
            "right": null,
            "top": null,
            "visibility": null,
            "width": null
          }
        },
        "110ca7774cb84667ab7832b453d5e30e": {
          "model_module": "@jupyter-widgets/base",
          "model_name": "LayoutModel",
          "model_module_version": "1.2.0",
          "state": {
            "_model_module": "@jupyter-widgets/base",
            "_model_module_version": "1.2.0",
            "_model_name": "LayoutModel",
            "_view_count": null,
            "_view_module": "@jupyter-widgets/base",
            "_view_module_version": "1.2.0",
            "_view_name": "LayoutView",
            "align_content": null,
            "align_items": null,
            "align_self": null,
            "border": null,
            "bottom": null,
            "display": null,
            "flex": null,
            "flex_flow": null,
            "grid_area": null,
            "grid_auto_columns": null,
            "grid_auto_flow": null,
            "grid_auto_rows": null,
            "grid_column": null,
            "grid_gap": null,
            "grid_row": null,
            "grid_template_areas": null,
            "grid_template_columns": null,
            "grid_template_rows": null,
            "height": null,
            "justify_content": null,
            "justify_items": null,
            "left": null,
            "margin": null,
            "max_height": null,
            "max_width": null,
            "min_height": null,
            "min_width": null,
            "object_fit": null,
            "object_position": null,
            "order": null,
            "overflow": null,
            "overflow_x": null,
            "overflow_y": null,
            "padding": null,
            "right": null,
            "top": null,
            "visibility": null,
            "width": null
          }
        },
        "e5f8ea229bf747eb854dd27f1bb24ccb": {
          "model_module": "@jupyter-widgets/controls",
          "model_name": "DescriptionStyleModel",
          "model_module_version": "1.5.0",
          "state": {
            "_model_module": "@jupyter-widgets/controls",
            "_model_module_version": "1.5.0",
            "_model_name": "DescriptionStyleModel",
            "_view_count": null,
            "_view_module": "@jupyter-widgets/base",
            "_view_module_version": "1.2.0",
            "_view_name": "StyleView",
            "description_width": ""
          }
        },
        "64246d207ce04c03be5d67542c0a3b5d": {
          "model_module": "@jupyter-widgets/base",
          "model_name": "LayoutModel",
          "model_module_version": "1.2.0",
          "state": {
            "_model_module": "@jupyter-widgets/base",
            "_model_module_version": "1.2.0",
            "_model_name": "LayoutModel",
            "_view_count": null,
            "_view_module": "@jupyter-widgets/base",
            "_view_module_version": "1.2.0",
            "_view_name": "LayoutView",
            "align_content": null,
            "align_items": null,
            "align_self": null,
            "border": null,
            "bottom": null,
            "display": null,
            "flex": null,
            "flex_flow": null,
            "grid_area": null,
            "grid_auto_columns": null,
            "grid_auto_flow": null,
            "grid_auto_rows": null,
            "grid_column": null,
            "grid_gap": null,
            "grid_row": null,
            "grid_template_areas": null,
            "grid_template_columns": null,
            "grid_template_rows": null,
            "height": null,
            "justify_content": null,
            "justify_items": null,
            "left": null,
            "margin": null,
            "max_height": null,
            "max_width": null,
            "min_height": null,
            "min_width": null,
            "object_fit": null,
            "object_position": null,
            "order": null,
            "overflow": null,
            "overflow_x": null,
            "overflow_y": null,
            "padding": null,
            "right": null,
            "top": null,
            "visibility": null,
            "width": null
          }
        },
        "04d259e6069e4852bcf4dfb4ba6ae558": {
          "model_module": "@jupyter-widgets/controls",
          "model_name": "ProgressStyleModel",
          "model_module_version": "1.5.0",
          "state": {
            "_model_module": "@jupyter-widgets/controls",
            "_model_module_version": "1.5.0",
            "_model_name": "ProgressStyleModel",
            "_view_count": null,
            "_view_module": "@jupyter-widgets/base",
            "_view_module_version": "1.2.0",
            "_view_name": "StyleView",
            "bar_color": null,
            "description_width": ""
          }
        },
        "fa426df74eab43c58ed2dd4b7093ce81": {
          "model_module": "@jupyter-widgets/base",
          "model_name": "LayoutModel",
          "model_module_version": "1.2.0",
          "state": {
            "_model_module": "@jupyter-widgets/base",
            "_model_module_version": "1.2.0",
            "_model_name": "LayoutModel",
            "_view_count": null,
            "_view_module": "@jupyter-widgets/base",
            "_view_module_version": "1.2.0",
            "_view_name": "LayoutView",
            "align_content": null,
            "align_items": null,
            "align_self": null,
            "border": null,
            "bottom": null,
            "display": null,
            "flex": null,
            "flex_flow": null,
            "grid_area": null,
            "grid_auto_columns": null,
            "grid_auto_flow": null,
            "grid_auto_rows": null,
            "grid_column": null,
            "grid_gap": null,
            "grid_row": null,
            "grid_template_areas": null,
            "grid_template_columns": null,
            "grid_template_rows": null,
            "height": null,
            "justify_content": null,
            "justify_items": null,
            "left": null,
            "margin": null,
            "max_height": null,
            "max_width": null,
            "min_height": null,
            "min_width": null,
            "object_fit": null,
            "object_position": null,
            "order": null,
            "overflow": null,
            "overflow_x": null,
            "overflow_y": null,
            "padding": null,
            "right": null,
            "top": null,
            "visibility": null,
            "width": null
          }
        },
        "1d0ff35f5d8b4c04b7e9277c2e19105e": {
          "model_module": "@jupyter-widgets/controls",
          "model_name": "DescriptionStyleModel",
          "model_module_version": "1.5.0",
          "state": {
            "_model_module": "@jupyter-widgets/controls",
            "_model_module_version": "1.5.0",
            "_model_name": "DescriptionStyleModel",
            "_view_count": null,
            "_view_module": "@jupyter-widgets/base",
            "_view_module_version": "1.2.0",
            "_view_name": "StyleView",
            "description_width": ""
          }
        },
        "2a4acb386cd7445c9a306f45b49035ac": {
          "model_module": "@jupyter-widgets/controls",
          "model_name": "HBoxModel",
          "model_module_version": "1.5.0",
          "state": {
            "_dom_classes": [],
            "_model_module": "@jupyter-widgets/controls",
            "_model_module_version": "1.5.0",
            "_model_name": "HBoxModel",
            "_view_count": null,
            "_view_module": "@jupyter-widgets/controls",
            "_view_module_version": "1.5.0",
            "_view_name": "HBoxView",
            "box_style": "",
            "children": [
              "IPY_MODEL_4193edbc9dd24dd1930cb516f3e67c36",
              "IPY_MODEL_39c21e48c25240b4a8b0a65ed26e6b56",
              "IPY_MODEL_3ed30978b7894f58987619a35bc9751e"
            ],
            "layout": "IPY_MODEL_72fc08a40e7d47e7ae9a778b13123adf"
          }
        },
        "4193edbc9dd24dd1930cb516f3e67c36": {
          "model_module": "@jupyter-widgets/controls",
          "model_name": "HTMLModel",
          "model_module_version": "1.5.0",
          "state": {
            "_dom_classes": [],
            "_model_module": "@jupyter-widgets/controls",
            "_model_module_version": "1.5.0",
            "_model_name": "HTMLModel",
            "_view_count": null,
            "_view_module": "@jupyter-widgets/controls",
            "_view_module_version": "1.5.0",
            "_view_name": "HTMLView",
            "description": "",
            "description_tooltip": null,
            "layout": "IPY_MODEL_16b2ed68aaa44c9f816a5949f938e7ec",
            "placeholder": "​",
            "style": "IPY_MODEL_be0c0fabad584a4aa30dd010c1eae152",
            "value": "config.json: 100%"
          }
        },
        "39c21e48c25240b4a8b0a65ed26e6b56": {
          "model_module": "@jupyter-widgets/controls",
          "model_name": "FloatProgressModel",
          "model_module_version": "1.5.0",
          "state": {
            "_dom_classes": [],
            "_model_module": "@jupyter-widgets/controls",
            "_model_module_version": "1.5.0",
            "_model_name": "FloatProgressModel",
            "_view_count": null,
            "_view_module": "@jupyter-widgets/controls",
            "_view_module_version": "1.5.0",
            "_view_name": "ProgressView",
            "bar_style": "success",
            "description": "",
            "description_tooltip": null,
            "layout": "IPY_MODEL_daa8cc67975a40f0a6c3493bc117c529",
            "max": 665,
            "min": 0,
            "orientation": "horizontal",
            "style": "IPY_MODEL_1a75f9599c4648588ea6ea05fae157d5",
            "value": 665
          }
        },
        "3ed30978b7894f58987619a35bc9751e": {
          "model_module": "@jupyter-widgets/controls",
          "model_name": "HTMLModel",
          "model_module_version": "1.5.0",
          "state": {
            "_dom_classes": [],
            "_model_module": "@jupyter-widgets/controls",
            "_model_module_version": "1.5.0",
            "_model_name": "HTMLModel",
            "_view_count": null,
            "_view_module": "@jupyter-widgets/controls",
            "_view_module_version": "1.5.0",
            "_view_name": "HTMLView",
            "description": "",
            "description_tooltip": null,
            "layout": "IPY_MODEL_d10fb6234f8a4b43a2046ff3f957b10d",
            "placeholder": "​",
            "style": "IPY_MODEL_1ad3497b36bc4809ae08c1583b1c4ba6",
            "value": " 665/665 [00:00&lt;00:00, 65.0kB/s]"
          }
        },
        "72fc08a40e7d47e7ae9a778b13123adf": {
          "model_module": "@jupyter-widgets/base",
          "model_name": "LayoutModel",
          "model_module_version": "1.2.0",
          "state": {
            "_model_module": "@jupyter-widgets/base",
            "_model_module_version": "1.2.0",
            "_model_name": "LayoutModel",
            "_view_count": null,
            "_view_module": "@jupyter-widgets/base",
            "_view_module_version": "1.2.0",
            "_view_name": "LayoutView",
            "align_content": null,
            "align_items": null,
            "align_self": null,
            "border": null,
            "bottom": null,
            "display": null,
            "flex": null,
            "flex_flow": null,
            "grid_area": null,
            "grid_auto_columns": null,
            "grid_auto_flow": null,
            "grid_auto_rows": null,
            "grid_column": null,
            "grid_gap": null,
            "grid_row": null,
            "grid_template_areas": null,
            "grid_template_columns": null,
            "grid_template_rows": null,
            "height": null,
            "justify_content": null,
            "justify_items": null,
            "left": null,
            "margin": null,
            "max_height": null,
            "max_width": null,
            "min_height": null,
            "min_width": null,
            "object_fit": null,
            "object_position": null,
            "order": null,
            "overflow": null,
            "overflow_x": null,
            "overflow_y": null,
            "padding": null,
            "right": null,
            "top": null,
            "visibility": null,
            "width": null
          }
        },
        "16b2ed68aaa44c9f816a5949f938e7ec": {
          "model_module": "@jupyter-widgets/base",
          "model_name": "LayoutModel",
          "model_module_version": "1.2.0",
          "state": {
            "_model_module": "@jupyter-widgets/base",
            "_model_module_version": "1.2.0",
            "_model_name": "LayoutModel",
            "_view_count": null,
            "_view_module": "@jupyter-widgets/base",
            "_view_module_version": "1.2.0",
            "_view_name": "LayoutView",
            "align_content": null,
            "align_items": null,
            "align_self": null,
            "border": null,
            "bottom": null,
            "display": null,
            "flex": null,
            "flex_flow": null,
            "grid_area": null,
            "grid_auto_columns": null,
            "grid_auto_flow": null,
            "grid_auto_rows": null,
            "grid_column": null,
            "grid_gap": null,
            "grid_row": null,
            "grid_template_areas": null,
            "grid_template_columns": null,
            "grid_template_rows": null,
            "height": null,
            "justify_content": null,
            "justify_items": null,
            "left": null,
            "margin": null,
            "max_height": null,
            "max_width": null,
            "min_height": null,
            "min_width": null,
            "object_fit": null,
            "object_position": null,
            "order": null,
            "overflow": null,
            "overflow_x": null,
            "overflow_y": null,
            "padding": null,
            "right": null,
            "top": null,
            "visibility": null,
            "width": null
          }
        },
        "be0c0fabad584a4aa30dd010c1eae152": {
          "model_module": "@jupyter-widgets/controls",
          "model_name": "DescriptionStyleModel",
          "model_module_version": "1.5.0",
          "state": {
            "_model_module": "@jupyter-widgets/controls",
            "_model_module_version": "1.5.0",
            "_model_name": "DescriptionStyleModel",
            "_view_count": null,
            "_view_module": "@jupyter-widgets/base",
            "_view_module_version": "1.2.0",
            "_view_name": "StyleView",
            "description_width": ""
          }
        },
        "daa8cc67975a40f0a6c3493bc117c529": {
          "model_module": "@jupyter-widgets/base",
          "model_name": "LayoutModel",
          "model_module_version": "1.2.0",
          "state": {
            "_model_module": "@jupyter-widgets/base",
            "_model_module_version": "1.2.0",
            "_model_name": "LayoutModel",
            "_view_count": null,
            "_view_module": "@jupyter-widgets/base",
            "_view_module_version": "1.2.0",
            "_view_name": "LayoutView",
            "align_content": null,
            "align_items": null,
            "align_self": null,
            "border": null,
            "bottom": null,
            "display": null,
            "flex": null,
            "flex_flow": null,
            "grid_area": null,
            "grid_auto_columns": null,
            "grid_auto_flow": null,
            "grid_auto_rows": null,
            "grid_column": null,
            "grid_gap": null,
            "grid_row": null,
            "grid_template_areas": null,
            "grid_template_columns": null,
            "grid_template_rows": null,
            "height": null,
            "justify_content": null,
            "justify_items": null,
            "left": null,
            "margin": null,
            "max_height": null,
            "max_width": null,
            "min_height": null,
            "min_width": null,
            "object_fit": null,
            "object_position": null,
            "order": null,
            "overflow": null,
            "overflow_x": null,
            "overflow_y": null,
            "padding": null,
            "right": null,
            "top": null,
            "visibility": null,
            "width": null
          }
        },
        "1a75f9599c4648588ea6ea05fae157d5": {
          "model_module": "@jupyter-widgets/controls",
          "model_name": "ProgressStyleModel",
          "model_module_version": "1.5.0",
          "state": {
            "_model_module": "@jupyter-widgets/controls",
            "_model_module_version": "1.5.0",
            "_model_name": "ProgressStyleModel",
            "_view_count": null,
            "_view_module": "@jupyter-widgets/base",
            "_view_module_version": "1.2.0",
            "_view_name": "StyleView",
            "bar_color": null,
            "description_width": ""
          }
        },
        "d10fb6234f8a4b43a2046ff3f957b10d": {
          "model_module": "@jupyter-widgets/base",
          "model_name": "LayoutModel",
          "model_module_version": "1.2.0",
          "state": {
            "_model_module": "@jupyter-widgets/base",
            "_model_module_version": "1.2.0",
            "_model_name": "LayoutModel",
            "_view_count": null,
            "_view_module": "@jupyter-widgets/base",
            "_view_module_version": "1.2.0",
            "_view_name": "LayoutView",
            "align_content": null,
            "align_items": null,
            "align_self": null,
            "border": null,
            "bottom": null,
            "display": null,
            "flex": null,
            "flex_flow": null,
            "grid_area": null,
            "grid_auto_columns": null,
            "grid_auto_flow": null,
            "grid_auto_rows": null,
            "grid_column": null,
            "grid_gap": null,
            "grid_row": null,
            "grid_template_areas": null,
            "grid_template_columns": null,
            "grid_template_rows": null,
            "height": null,
            "justify_content": null,
            "justify_items": null,
            "left": null,
            "margin": null,
            "max_height": null,
            "max_width": null,
            "min_height": null,
            "min_width": null,
            "object_fit": null,
            "object_position": null,
            "order": null,
            "overflow": null,
            "overflow_x": null,
            "overflow_y": null,
            "padding": null,
            "right": null,
            "top": null,
            "visibility": null,
            "width": null
          }
        },
        "1ad3497b36bc4809ae08c1583b1c4ba6": {
          "model_module": "@jupyter-widgets/controls",
          "model_name": "DescriptionStyleModel",
          "model_module_version": "1.5.0",
          "state": {
            "_model_module": "@jupyter-widgets/controls",
            "_model_module_version": "1.5.0",
            "_model_name": "DescriptionStyleModel",
            "_view_count": null,
            "_view_module": "@jupyter-widgets/base",
            "_view_module_version": "1.2.0",
            "_view_name": "StyleView",
            "description_width": ""
          }
        },
        "7a94e7c6a42c45e3b4eb0189927ca011": {
          "model_module": "@jupyter-widgets/controls",
          "model_name": "HBoxModel",
          "model_module_version": "1.5.0",
          "state": {
            "_dom_classes": [],
            "_model_module": "@jupyter-widgets/controls",
            "_model_module_version": "1.5.0",
            "_model_name": "HBoxModel",
            "_view_count": null,
            "_view_module": "@jupyter-widgets/controls",
            "_view_module_version": "1.5.0",
            "_view_name": "HBoxView",
            "box_style": "",
            "children": [
              "IPY_MODEL_baf8880e266640ea971de542d37be0f5",
              "IPY_MODEL_06dbdd30e7e94304b8b8f3f58297b637",
              "IPY_MODEL_c231276adcf344708059583054d23c53"
            ],
            "layout": "IPY_MODEL_1417be87ed014e4ca7ec9f61e0e5b26b"
          }
        },
        "baf8880e266640ea971de542d37be0f5": {
          "model_module": "@jupyter-widgets/controls",
          "model_name": "HTMLModel",
          "model_module_version": "1.5.0",
          "state": {
            "_dom_classes": [],
            "_model_module": "@jupyter-widgets/controls",
            "_model_module_version": "1.5.0",
            "_model_name": "HTMLModel",
            "_view_count": null,
            "_view_module": "@jupyter-widgets/controls",
            "_view_module_version": "1.5.0",
            "_view_name": "HTMLView",
            "description": "",
            "description_tooltip": null,
            "layout": "IPY_MODEL_13f2a463ec5a4ad0b467970aef00e80d",
            "placeholder": "​",
            "style": "IPY_MODEL_b1dbe6c5f036444a84dc05a1fbc04cf5",
            "value": "model.safetensors: 100%"
          }
        },
        "06dbdd30e7e94304b8b8f3f58297b637": {
          "model_module": "@jupyter-widgets/controls",
          "model_name": "FloatProgressModel",
          "model_module_version": "1.5.0",
          "state": {
            "_dom_classes": [],
            "_model_module": "@jupyter-widgets/controls",
            "_model_module_version": "1.5.0",
            "_model_name": "FloatProgressModel",
            "_view_count": null,
            "_view_module": "@jupyter-widgets/controls",
            "_view_module_version": "1.5.0",
            "_view_name": "ProgressView",
            "bar_style": "success",
            "description": "",
            "description_tooltip": null,
            "layout": "IPY_MODEL_951c4d07c293458e8714ed4f2eb2ab30",
            "max": 548105171,
            "min": 0,
            "orientation": "horizontal",
            "style": "IPY_MODEL_83f0cde47fbc4575aaf32b1f90ca217c",
            "value": 548105171
          }
        },
        "c231276adcf344708059583054d23c53": {
          "model_module": "@jupyter-widgets/controls",
          "model_name": "HTMLModel",
          "model_module_version": "1.5.0",
          "state": {
            "_dom_classes": [],
            "_model_module": "@jupyter-widgets/controls",
            "_model_module_version": "1.5.0",
            "_model_name": "HTMLModel",
            "_view_count": null,
            "_view_module": "@jupyter-widgets/controls",
            "_view_module_version": "1.5.0",
            "_view_name": "HTMLView",
            "description": "",
            "description_tooltip": null,
            "layout": "IPY_MODEL_def93ba457604adb80b67b49576687a9",
            "placeholder": "​",
            "style": "IPY_MODEL_888b68e0cc0c4f98979fa12f0a3d9c2f",
            "value": " 548M/548M [00:01&lt;00:00, 300MB/s]"
          }
        },
        "1417be87ed014e4ca7ec9f61e0e5b26b": {
          "model_module": "@jupyter-widgets/base",
          "model_name": "LayoutModel",
          "model_module_version": "1.2.0",
          "state": {
            "_model_module": "@jupyter-widgets/base",
            "_model_module_version": "1.2.0",
            "_model_name": "LayoutModel",
            "_view_count": null,
            "_view_module": "@jupyter-widgets/base",
            "_view_module_version": "1.2.0",
            "_view_name": "LayoutView",
            "align_content": null,
            "align_items": null,
            "align_self": null,
            "border": null,
            "bottom": null,
            "display": null,
            "flex": null,
            "flex_flow": null,
            "grid_area": null,
            "grid_auto_columns": null,
            "grid_auto_flow": null,
            "grid_auto_rows": null,
            "grid_column": null,
            "grid_gap": null,
            "grid_row": null,
            "grid_template_areas": null,
            "grid_template_columns": null,
            "grid_template_rows": null,
            "height": null,
            "justify_content": null,
            "justify_items": null,
            "left": null,
            "margin": null,
            "max_height": null,
            "max_width": null,
            "min_height": null,
            "min_width": null,
            "object_fit": null,
            "object_position": null,
            "order": null,
            "overflow": null,
            "overflow_x": null,
            "overflow_y": null,
            "padding": null,
            "right": null,
            "top": null,
            "visibility": null,
            "width": null
          }
        },
        "13f2a463ec5a4ad0b467970aef00e80d": {
          "model_module": "@jupyter-widgets/base",
          "model_name": "LayoutModel",
          "model_module_version": "1.2.0",
          "state": {
            "_model_module": "@jupyter-widgets/base",
            "_model_module_version": "1.2.0",
            "_model_name": "LayoutModel",
            "_view_count": null,
            "_view_module": "@jupyter-widgets/base",
            "_view_module_version": "1.2.0",
            "_view_name": "LayoutView",
            "align_content": null,
            "align_items": null,
            "align_self": null,
            "border": null,
            "bottom": null,
            "display": null,
            "flex": null,
            "flex_flow": null,
            "grid_area": null,
            "grid_auto_columns": null,
            "grid_auto_flow": null,
            "grid_auto_rows": null,
            "grid_column": null,
            "grid_gap": null,
            "grid_row": null,
            "grid_template_areas": null,
            "grid_template_columns": null,
            "grid_template_rows": null,
            "height": null,
            "justify_content": null,
            "justify_items": null,
            "left": null,
            "margin": null,
            "max_height": null,
            "max_width": null,
            "min_height": null,
            "min_width": null,
            "object_fit": null,
            "object_position": null,
            "order": null,
            "overflow": null,
            "overflow_x": null,
            "overflow_y": null,
            "padding": null,
            "right": null,
            "top": null,
            "visibility": null,
            "width": null
          }
        },
        "b1dbe6c5f036444a84dc05a1fbc04cf5": {
          "model_module": "@jupyter-widgets/controls",
          "model_name": "DescriptionStyleModel",
          "model_module_version": "1.5.0",
          "state": {
            "_model_module": "@jupyter-widgets/controls",
            "_model_module_version": "1.5.0",
            "_model_name": "DescriptionStyleModel",
            "_view_count": null,
            "_view_module": "@jupyter-widgets/base",
            "_view_module_version": "1.2.0",
            "_view_name": "StyleView",
            "description_width": ""
          }
        },
        "951c4d07c293458e8714ed4f2eb2ab30": {
          "model_module": "@jupyter-widgets/base",
          "model_name": "LayoutModel",
          "model_module_version": "1.2.0",
          "state": {
            "_model_module": "@jupyter-widgets/base",
            "_model_module_version": "1.2.0",
            "_model_name": "LayoutModel",
            "_view_count": null,
            "_view_module": "@jupyter-widgets/base",
            "_view_module_version": "1.2.0",
            "_view_name": "LayoutView",
            "align_content": null,
            "align_items": null,
            "align_self": null,
            "border": null,
            "bottom": null,
            "display": null,
            "flex": null,
            "flex_flow": null,
            "grid_area": null,
            "grid_auto_columns": null,
            "grid_auto_flow": null,
            "grid_auto_rows": null,
            "grid_column": null,
            "grid_gap": null,
            "grid_row": null,
            "grid_template_areas": null,
            "grid_template_columns": null,
            "grid_template_rows": null,
            "height": null,
            "justify_content": null,
            "justify_items": null,
            "left": null,
            "margin": null,
            "max_height": null,
            "max_width": null,
            "min_height": null,
            "min_width": null,
            "object_fit": null,
            "object_position": null,
            "order": null,
            "overflow": null,
            "overflow_x": null,
            "overflow_y": null,
            "padding": null,
            "right": null,
            "top": null,
            "visibility": null,
            "width": null
          }
        },
        "83f0cde47fbc4575aaf32b1f90ca217c": {
          "model_module": "@jupyter-widgets/controls",
          "model_name": "ProgressStyleModel",
          "model_module_version": "1.5.0",
          "state": {
            "_model_module": "@jupyter-widgets/controls",
            "_model_module_version": "1.5.0",
            "_model_name": "ProgressStyleModel",
            "_view_count": null,
            "_view_module": "@jupyter-widgets/base",
            "_view_module_version": "1.2.0",
            "_view_name": "StyleView",
            "bar_color": null,
            "description_width": ""
          }
        },
        "def93ba457604adb80b67b49576687a9": {
          "model_module": "@jupyter-widgets/base",
          "model_name": "LayoutModel",
          "model_module_version": "1.2.0",
          "state": {
            "_model_module": "@jupyter-widgets/base",
            "_model_module_version": "1.2.0",
            "_model_name": "LayoutModel",
            "_view_count": null,
            "_view_module": "@jupyter-widgets/base",
            "_view_module_version": "1.2.0",
            "_view_name": "LayoutView",
            "align_content": null,
            "align_items": null,
            "align_self": null,
            "border": null,
            "bottom": null,
            "display": null,
            "flex": null,
            "flex_flow": null,
            "grid_area": null,
            "grid_auto_columns": null,
            "grid_auto_flow": null,
            "grid_auto_rows": null,
            "grid_column": null,
            "grid_gap": null,
            "grid_row": null,
            "grid_template_areas": null,
            "grid_template_columns": null,
            "grid_template_rows": null,
            "height": null,
            "justify_content": null,
            "justify_items": null,
            "left": null,
            "margin": null,
            "max_height": null,
            "max_width": null,
            "min_height": null,
            "min_width": null,
            "object_fit": null,
            "object_position": null,
            "order": null,
            "overflow": null,
            "overflow_x": null,
            "overflow_y": null,
            "padding": null,
            "right": null,
            "top": null,
            "visibility": null,
            "width": null
          }
        },
        "888b68e0cc0c4f98979fa12f0a3d9c2f": {
          "model_module": "@jupyter-widgets/controls",
          "model_name": "DescriptionStyleModel",
          "model_module_version": "1.5.0",
          "state": {
            "_model_module": "@jupyter-widgets/controls",
            "_model_module_version": "1.5.0",
            "_model_name": "DescriptionStyleModel",
            "_view_count": null,
            "_view_module": "@jupyter-widgets/base",
            "_view_module_version": "1.2.0",
            "_view_name": "StyleView",
            "description_width": ""
          }
        }
      }
    }
  },
  "cells": [
    {
      "cell_type": "markdown",
      "source": [
        "# CS7643: GPT2 From Scratch & Fine Tuning"
      ],
      "metadata": {
        "id": "Vr-qyFSktVrG"
      }
    },
    {
      "cell_type": "markdown",
      "source": [
        "# 0. Setup"
      ],
      "metadata": {
        "id": "vO2trnNoJ_sr"
      }
    },
    {
      "cell_type": "markdown",
      "source": [
        "### [Optional] Set up Google Drive Connection"
      ],
      "metadata": {
        "id": "XCDTFw8LZgcx"
      }
    },
    {
      "cell_type": "code",
      "source": [
        "%load_ext autoreload\n",
        "%autoreload 2"
      ],
      "metadata": {
        "id": "D0J9P8XZZKsH"
      },
      "execution_count": null,
      "outputs": []
    },
    {
      "cell_type": "code",
      "source": [
        "from google.colab import drive\n",
        "drive.mount('/content/drive')"
      ],
      "metadata": {
        "id": "MfiVBmhzZMLY",
        "colab": {
          "base_uri": "https://localhost:8080/"
        },
        "outputId": "05994ed0-db18-4557-cc88-3c70fd29774f"
      },
      "execution_count": null,
      "outputs": [
        {
          "output_type": "stream",
          "name": "stdout",
          "text": [
            "Mounted at /content/drive\n"
          ]
        }
      ]
    },
    {
      "cell_type": "code",
      "source": [
        "import os\n",
        "\n",
        "# TODO: Fill in the Google Drive path where you uploaded assignment1\n",
        "# Example: If you create a Fall2023 folder and put all the files under A1 folder, then 'Fall2023/A1'\n",
        "GOOGLE_DRIVE_PATH_POST_MYDRIVE = 'cs7643/project'\n",
        "GOOGLE_DRIVE_PATH = os.path.join('/content', 'drive', 'MyDrive', GOOGLE_DRIVE_PATH_POST_MYDRIVE)\n",
        "print(os.listdir(GOOGLE_DRIVE_PATH))"
      ],
      "metadata": {
        "id": "JXUrVEoGZOSI",
        "colab": {
          "base_uri": "https://localhost:8080/"
        },
        "outputId": "79a03af9-3be5-4d23-83a4-6f862d6f68cd"
      },
      "execution_count": null,
      "outputs": [
        {
          "output_type": "stream",
          "name": "stdout",
          "text": [
            "['project notes.docx', 'Project Proposal.pdf', 'environment.yaml', 'README.md', 'instr_fine_tune', 'data', 'the-verdict.txt', 'model']\n"
          ]
        }
      ]
    },
    {
      "cell_type": "code",
      "source": [
        "import sys\n",
        "import numpy as np\n",
        "import math\n",
        "sys.path.append(GOOGLE_DRIVE_PATH)"
      ],
      "metadata": {
        "id": "kHRgOKJ6ZbrX"
      },
      "execution_count": null,
      "outputs": []
    },
    {
      "cell_type": "code",
      "source": [
        "sys.path"
      ],
      "metadata": {
        "colab": {
          "base_uri": "https://localhost:8080/"
        },
        "id": "PK1Y7DZrjQeG",
        "outputId": "bf449df7-3012-4bda-90c1-201d4b54066f"
      },
      "execution_count": null,
      "outputs": [
        {
          "output_type": "execute_result",
          "data": {
            "text/plain": [
              "['/content',\n",
              " '/env/python',\n",
              " '/usr/lib/python311.zip',\n",
              " '/usr/lib/python3.11',\n",
              " '/usr/lib/python3.11/lib-dynload',\n",
              " '',\n",
              " '/usr/local/lib/python3.11/dist-packages',\n",
              " '/usr/lib/python3/dist-packages',\n",
              " '/usr/local/lib/python3.11/dist-packages/IPython/extensions',\n",
              " '/root/.ipython',\n",
              " '/content/drive/MyDrive/cs7643/project']"
            ]
          },
          "metadata": {},
          "execution_count": 5
        }
      ]
    },
    {
      "cell_type": "code",
      "source": [
        "# if running locally set GOOGLE PATH\n",
        "import sys\n",
        "if 'google.colab' in sys.modules:\n",
        "  print(f'Running in google colab. Our path is `{GOOGLE_DRIVE_PATH}`')\n",
        "else:\n",
        "  GOOGLE_DRIVE_PATH = '.'\n",
        "  print('Running locally.')"
      ],
      "metadata": {
        "id": "zVXHDfnuZZZZ",
        "colab": {
          "base_uri": "https://localhost:8080/"
        },
        "outputId": "c1765048-5beb-4787-b76a-ea86eb1f689d"
      },
      "execution_count": null,
      "outputs": [
        {
          "output_type": "stream",
          "name": "stdout",
          "text": [
            "Running in google colab. Our path is `/content/drive/MyDrive/cs7643/project`\n"
          ]
        }
      ]
    },
    {
      "cell_type": "markdown",
      "source": [
        "### Import Modules"
      ],
      "metadata": {
        "id": "0itX7X2zZn_s"
      }
    },
    {
      "cell_type": "code",
      "execution_count": null,
      "metadata": {
        "colab": {
          "base_uri": "https://localhost:8080/"
        },
        "id": "MNv9dhcltM9M",
        "outputId": "f46afd14-8a6f-4567-94a7-f30f35116d58"
      },
      "outputs": [
        {
          "output_type": "stream",
          "name": "stdout",
          "text": [
            "Collecting tiktoken\n",
            "  Downloading tiktoken-0.9.0-cp311-cp311-manylinux_2_17_x86_64.manylinux2014_x86_64.whl.metadata (6.7 kB)\n",
            "Requirement already satisfied: regex>=2022.1.18 in /usr/local/lib/python3.11/dist-packages (from tiktoken) (2024.11.6)\n",
            "Requirement already satisfied: requests>=2.26.0 in /usr/local/lib/python3.11/dist-packages (from tiktoken) (2.32.3)\n",
            "Requirement already satisfied: charset-normalizer<4,>=2 in /usr/local/lib/python3.11/dist-packages (from requests>=2.26.0->tiktoken) (3.4.1)\n",
            "Requirement already satisfied: idna<4,>=2.5 in /usr/local/lib/python3.11/dist-packages (from requests>=2.26.0->tiktoken) (3.10)\n",
            "Requirement already satisfied: urllib3<3,>=1.21.1 in /usr/local/lib/python3.11/dist-packages (from requests>=2.26.0->tiktoken) (2.3.0)\n",
            "Requirement already satisfied: certifi>=2017.4.17 in /usr/local/lib/python3.11/dist-packages (from requests>=2.26.0->tiktoken) (2025.1.31)\n",
            "Downloading tiktoken-0.9.0-cp311-cp311-manylinux_2_17_x86_64.manylinux2014_x86_64.whl (1.2 MB)\n",
            "\u001b[2K   \u001b[90m━━━━━━━━━━━━━━━━━━━━━━━━━━━━━━━━━━━━━━━━\u001b[0m \u001b[32m1.2/1.2 MB\u001b[0m \u001b[31m12.6 MB/s\u001b[0m eta \u001b[36m0:00:00\u001b[0m\n",
            "\u001b[?25hInstalling collected packages: tiktoken\n",
            "Successfully installed tiktoken-0.9.0\n"
          ]
        }
      ],
      "source": [
        "!pip install tiktoken"
      ]
    },
    {
      "cell_type": "code",
      "source": [
        "from importlib.metadata import version\n",
        "import tiktoken\n",
        "print(\"tiktoken version:\", version(\"tiktoken\"))"
      ],
      "metadata": {
        "colab": {
          "base_uri": "https://localhost:8080/"
        },
        "id": "r23i-TndKDkO",
        "outputId": "0ed78b39-5a8e-4dde-84dc-ba511e0da914"
      },
      "execution_count": null,
      "outputs": [
        {
          "output_type": "stream",
          "name": "stdout",
          "text": [
            "tiktoken version: 0.9.0\n"
          ]
        }
      ]
    },
    {
      "cell_type": "code",
      "source": [
        "import torch\n",
        "print(\"torch version:\", version(\"torch\"))\n",
        "\n",
        "device = 'mps' if torch.backends.mps.is_available() else ('cuda' if torch.cuda.is_available() else 'cpu')\n",
        "print(\"Using device = \" + device)\n",
        "if device == 'cpu':\n",
        "    print(\"WARNING: Using CPU will cause slower train times\")"
      ],
      "metadata": {
        "colab": {
          "base_uri": "https://localhost:8080/"
        },
        "id": "IeWaGyVlKGSq",
        "outputId": "826b10ad-5b7e-45b5-f5ec-1c57016e7353"
      },
      "execution_count": null,
      "outputs": [
        {
          "output_type": "stream",
          "name": "stdout",
          "text": [
            "torch version: 2.6.0+cu124\n",
            "Using device = cpu\n",
            "WARNING: Using CPU will cause slower train times\n"
          ]
        }
      ]
    },
    {
      "cell_type": "code",
      "source": [
        "from torch.utils.data import Dataset, DataLoader"
      ],
      "metadata": {
        "id": "j4HnzllKKHk-"
      },
      "execution_count": null,
      "outputs": []
    },
    {
      "cell_type": "code",
      "source": [
        "from torch import nn"
      ],
      "metadata": {
        "id": "ta22rvfJpOxg"
      },
      "execution_count": null,
      "outputs": []
    },
    {
      "cell_type": "code",
      "source": [
        "import pandas as pd"
      ],
      "metadata": {
        "id": "Rv5-QQY6lAD1"
      },
      "execution_count": null,
      "outputs": []
    },
    {
      "cell_type": "code",
      "source": [
        "import urllib\n",
        "from pathlib import Path\n",
        "import time\n",
        "from tqdm import tqdm"
      ],
      "metadata": {
        "id": "vj2UrO4YlKHP"
      },
      "execution_count": null,
      "outputs": []
    },
    {
      "cell_type": "markdown",
      "source": [
        "# 1. Implement a GPT-2 Model"
      ],
      "metadata": {
        "id": "XjR2sCawk0TP"
      }
    },
    {
      "cell_type": "code",
      "source": [
        "from model.gpt import GPTModel, text_to_token_ids, token_ids_to_text, generate_text_simple, generate, print_model_stats, TransformerBlock\n",
        "from model.load_model import load_weights\n",
        "from model.lora_gpt import LoRALayer, LinearWithLoRA, replace_linear_with_lora, replace_linear_with_lora_last_n"
      ],
      "metadata": {
        "id": "prULdEtOuuJr"
      },
      "execution_count": null,
      "outputs": []
    },
    {
      "cell_type": "markdown",
      "source": [
        "## 1.0 Utils"
      ],
      "metadata": {
        "id": "r8eGGcMtYB2F"
      }
    },
    {
      "cell_type": "code",
      "source": [
        "from transformers import GPT2Model\n",
        "\n",
        "# Available Models Names\n",
        "model_names = {\n",
        "    \"gpt2-small (124M)\": \"openai-community/gpt2\",\n",
        "    \"gpt2-medium (355M)\": \"openai-community/gpt2-medium\",\n",
        "    \"gpt2-large (774M)\": \"openai-community/gpt2-large\",\n",
        "    \"gpt2-xl (1558M)\": \"openai-community/gpt2-xl\"\n",
        "}\n",
        "\n",
        "BASE_CONFIG = {\n",
        "    \"vocab_size\": 50257,     # Vocabulary size\n",
        "    \"context_length\": 1024,  # Context length\n",
        "    \"drop_rate\": 0.0,        # Dropout rate\n",
        "    \"qkv_bias\": True         # Query-key-value bias\n",
        "}\n",
        "\n",
        "model_configs = {\n",
        "    \"gpt2-small (124M)\": {\"emb_dim\": 768, \"n_layers\": 12, \"n_heads\": 12},\n",
        "    \"gpt2-medium (355M)\": {\"emb_dim\": 1024, \"n_layers\": 24, \"n_heads\": 16},\n",
        "    \"gpt2-large (774M)\": {\"emb_dim\": 1280, \"n_layers\": 36, \"n_heads\": 20},\n",
        "    \"gpt2-xl (1558M)\": {\"emb_dim\": 1600, \"n_layers\": 48, \"n_heads\": 25},\n",
        "}\n",
        "\n",
        "def get_raw_gpt(model_name):\n",
        "    if model_name not in model_configs:\n",
        "        raise ValueError(f\"Unknown model name: {model_name}\")\n",
        "\n",
        "    base_config_copy = BASE_CONFIG.copy()\n",
        "    base_config_copy.update(model_configs[model_name])\n",
        "    return GPTModel(base_config_copy)\n",
        "\n",
        "def get_pretrained_gpt_model(model_name, verbose=True):\n",
        "    if model_name not in model_configs:\n",
        "        raise ValueError(f\"Unknown model name: {model_name}\")\n",
        "\n",
        "    base_config_copy = BASE_CONFIG.copy()\n",
        "    base_config_copy.update(model_configs[model_name])\n",
        "    gpt_model = GPTModel(base_config_copy)\n",
        "\n",
        "    hf_pretrained_gpt = GPT2Model.from_pretrained(model_names[model_name], cache_dir=\"checkpoints\")\n",
        "    load_weights(gpt_model, hf_pretrained_gpt, base_config_copy)\n",
        "\n",
        "    if verbose:\n",
        "        print_model_stats(gpt_model, model_name)\n",
        "\n",
        "    return gpt_model"
      ],
      "metadata": {
        "id": "a-SVWsCM7Cs6"
      },
      "execution_count": null,
      "outputs": []
    },
    {
      "cell_type": "code",
      "source": [
        "def convert_to_lora_model(model: GPTModel, rank: int, alpha: int, last_n_trf_blocks=None) -> GPTModel:\n",
        "    total_params = sum(p.numel() for p in model.parameters() if p.requires_grad)\n",
        "    print(f\"Total trainable parameters before: {total_params:,}\")\n",
        "\n",
        "    for param in model.parameters():\n",
        "        param.requires_grad = False\n",
        "\n",
        "    total_params = sum(p.numel() for p in model.parameters() if p.requires_grad)\n",
        "    print(f\"Total trainable parameters after: {total_params:,}\")\n",
        "\n",
        "    if last_n_trf_blocks is not None:\n",
        "        replace_linear_with_lora_last_n(model, n=last_n_trf_blocks, rank=rank, alpha=alpha)\n",
        "    else:\n",
        "        replace_linear_with_lora(model, rank=rank, alpha=alpha)\n",
        "\n",
        "    total_params = sum(p.numel() for p in model.parameters() if p.requires_grad)\n",
        "    print(f\"Total trainable LoRA parameters: {total_params:,}\")\n",
        "    model.to(device)\n",
        "    return model"
      ],
      "metadata": {
        "id": "YT2xtQfWlhKp"
      },
      "execution_count": null,
      "outputs": []
    },
    {
      "cell_type": "markdown",
      "source": [
        "## 1.1 Sanity Check Creating GPT Model"
      ],
      "metadata": {
        "id": "9PncFFFgdSQN"
      }
    },
    {
      "cell_type": "code",
      "source": [
        "GPT_CONFIG_124M = {\n",
        "    \"vocab_size\": 50257,     # Vocabulary size\n",
        "    \"context_length\": 1024,  # Context length\n",
        "    \"emb_dim\": 768,          # Embedding dimension\n",
        "    \"n_heads\": 12,           # Number of attention heads\n",
        "    \"n_layers\": 12,          # Number of layers\n",
        "    \"drop_rate\": 0.1,        # Dropout rate\n",
        "    \"qkv_bias\": False        # Query-Key-Value bias\n",
        "}\n",
        "\n",
        "torch.manual_seed(123)\n",
        "test_raw_gpt = GPTModel(GPT_CONFIG_124M)\n",
        "test_raw_gpt.eval()  # disable dropout\n",
        "\n",
        "start_context = \"Hello, I am\"\n",
        "\n",
        "tokenizer = tiktoken.get_encoding(\"gpt2\")\n",
        "encoded_tensor = text_to_token_ids(start_context, tokenizer)\n",
        "\n",
        "print(f\"\\n{50*'='}\\n{22*' '}IN\\n{50*'='}\")\n",
        "print(\"\\nInput text:\", start_context)\n",
        "print(\"Encoded input text:\", encoded_tensor)\n",
        "print(\"encoded_tensor.shape:\", encoded_tensor.shape)\n",
        "\n",
        "out_token_ids = generate_text_simple(\n",
        "    model=test_raw_gpt,\n",
        "    token_ids=encoded_tensor,\n",
        "    max_new_tokens=10,\n",
        "    context_size=GPT_CONFIG_124M[\"context_length\"]\n",
        ")\n",
        "decoded_text = token_ids_to_text(out_token_ids, tokenizer)\n",
        "\n",
        "print(f\"\\n\\n{50*'='}\\n{22*' '}OUT\\n{50*'='}\")\n",
        "print(\"\\nOutput:\", out_token_ids)\n",
        "print(\"Output length:\", len(out_token_ids[0]))\n",
        "print(\"Output text:\", decoded_text)"
      ],
      "metadata": {
        "colab": {
          "base_uri": "https://localhost:8080/"
        },
        "id": "UlEgkrKj6HeJ",
        "outputId": "1a87cd6f-22fb-436f-b3aa-4dc146aaf764"
      },
      "execution_count": null,
      "outputs": [
        {
          "output_type": "stream",
          "name": "stdout",
          "text": [
            "\n",
            "==================================================\n",
            "                      IN\n",
            "==================================================\n",
            "\n",
            "Input text: Hello, I am\n",
            "Encoded input text: tensor([[15496,    11,   314,   716]])\n",
            "encoded_tensor.shape: torch.Size([1, 4])\n",
            "\n",
            "\n",
            "==================================================\n",
            "                      OUT\n",
            "==================================================\n",
            "\n",
            "Output: tensor([[15496,    11,   314,   716, 27018, 24086, 47843, 30961, 42348,  7267,\n",
            "         49706, 43231, 47062, 34657]])\n",
            "Output length: 14\n",
            "Output text: Hello, I am Featureiman Byeswickattribute argue logger Normandy Compton analogous\n"
          ]
        }
      ]
    },
    {
      "cell_type": "code",
      "source": [
        "total_params = sum(p.numel() for p in test_raw_gpt.parameters())\n",
        "print(f\"Total Parameters: {total_params:,}\")\n",
        "\n",
        "total_params_gpt2 =  total_params - sum(p.numel() for p in test_raw_gpt.out_head.parameters())\n",
        "print(f\"Number of trainable parameters considering weight tying: {total_params_gpt2:,}\")"
      ],
      "metadata": {
        "id": "pl5PBMe56HVP",
        "colab": {
          "base_uri": "https://localhost:8080/"
        },
        "outputId": "3e897b01-fd96-4612-c2cd-b2ee68128eef"
      },
      "execution_count": null,
      "outputs": [
        {
          "output_type": "stream",
          "name": "stdout",
          "text": [
            "Total Parameters: 163,009,536\n",
            "Number of trainable parameters considering weight tying: 124,412,160\n"
          ]
        }
      ]
    },
    {
      "cell_type": "code",
      "source": [
        "print_model_stats(test_raw_gpt, \"GPT-124M\")"
      ],
      "metadata": {
        "id": "KHUgFxo1btRW",
        "colab": {
          "base_uri": "https://localhost:8080/"
        },
        "outputId": "849e4aa4-a2db-474e-830c-f3b3a85ce87d"
      },
      "execution_count": null,
      "outputs": [
        {
          "output_type": "stream",
          "name": "stdout",
          "text": [
            "Model Name: GPT-124M\n",
            "\tTotal Parameters: 163,009,536\n",
            "\tTotal Memory Requirement: 621.83 MB\n"
          ]
        }
      ]
    },
    {
      "cell_type": "markdown",
      "source": [
        "## 1.2 Sanity Check Loading Pre-trained Weights"
      ],
      "metadata": {
        "id": "6s2zo3vNQnvF"
      }
    },
    {
      "cell_type": "code",
      "source": [
        "# CHOOSE_MODEL = \"gpt2-medium (355M)\"\n",
        "CHOOSE_MODEL = \"gpt2-large (774M)\"\n",
        "test_pretrained_gpt = get_pretrained_gpt_model(CHOOSE_MODEL, verbose=False)"
      ],
      "metadata": {
        "colab": {
          "base_uri": "https://localhost:8080/",
          "referenced_widgets": [
            "59d137cdc7114074a42d50d077f22bd2",
            "30e5d7c7fad244f0bdffd61817d4e898",
            "6892d80d30834ac89922d353c58d1afe",
            "7d326df2b99d49a381a2acde5a286ef9",
            "2866f7e744d14734935398b1c826e380",
            "d6761cd1067c4fa092a942d373819d5d",
            "f75fac600947449bba4836b06b88322f",
            "a6402a34a24f47f99109cba9f97adee0",
            "84290926106b48e3ad17222bbcfff83a",
            "bf336ce224a24a5dbfc47c3bdb9960b0",
            "137c903e0eb74330b4e6eb1ce01f9b5f",
            "2a7169b17c20421388cbd2c57aaabb2b",
            "6c5f581670a146f1b9a86739667a16ef",
            "6de0a3e9f72e4f5eb55cdb4b9854333f",
            "042abe1672c34b8184c2dca737a88d99",
            "fb492c2354aa4f4687b59391bad95e70",
            "110ca7774cb84667ab7832b453d5e30e",
            "e5f8ea229bf747eb854dd27f1bb24ccb",
            "64246d207ce04c03be5d67542c0a3b5d",
            "04d259e6069e4852bcf4dfb4ba6ae558",
            "fa426df74eab43c58ed2dd4b7093ce81",
            "1d0ff35f5d8b4c04b7e9277c2e19105e"
          ]
        },
        "id": "s-kDdhsMc6JO",
        "outputId": "6bdee77e-07f6-413e-a24e-6d8b90022afc"
      },
      "execution_count": null,
      "outputs": [
        {
          "output_type": "display_data",
          "data": {
            "text/plain": [
              "config.json:   0%|          | 0.00/666 [00:00<?, ?B/s]"
            ],
            "application/vnd.jupyter.widget-view+json": {
              "version_major": 2,
              "version_minor": 0,
              "model_id": "59d137cdc7114074a42d50d077f22bd2"
            }
          },
          "metadata": {}
        },
        {
          "output_type": "stream",
          "name": "stderr",
          "text": [
            "Xet Storage is enabled for this repo, but the 'hf_xet' package is not installed. Falling back to regular HTTP download. For better performance, install the package with: `pip install huggingface_hub[hf_xet]` or `pip install hf_xet`\n",
            "WARNING:huggingface_hub.file_download:Xet Storage is enabled for this repo, but the 'hf_xet' package is not installed. Falling back to regular HTTP download. For better performance, install the package with: `pip install huggingface_hub[hf_xet]` or `pip install hf_xet`\n"
          ]
        },
        {
          "output_type": "display_data",
          "data": {
            "text/plain": [
              "model.safetensors:   0%|          | 0.00/3.25G [00:00<?, ?B/s]"
            ],
            "application/vnd.jupyter.widget-view+json": {
              "version_major": 2,
              "version_minor": 0,
              "model_id": "2a7169b17c20421388cbd2c57aaabb2b"
            }
          },
          "metadata": {}
        }
      ]
    },
    {
      "cell_type": "code",
      "source": [
        "torch.manual_seed(123)\n",
        "\n",
        "tokenizer = tiktoken.get_encoding(\"gpt2\")\n",
        "\n",
        "token_ids = generate_text_simple(\n",
        "    model=test_pretrained_gpt.to(device),\n",
        "    # token_ids=text_to_token_ids(\"Every effort moves\", tokenizer).to(device),\n",
        "    token_ids=text_to_token_ids(\"The state capital of New Jersey is Newark. The state capital of California is\", tokenizer).to(device),\n",
        "    max_new_tokens=30,\n",
        "    context_size=BASE_CONFIG[\"context_length\"],\n",
        ")\n",
        "\n",
        "print(\"Output text:\\n\", token_ids_to_text(token_ids, tokenizer))"
      ],
      "metadata": {
        "colab": {
          "base_uri": "https://localhost:8080/"
        },
        "id": "h5KfRrBWU5pT",
        "outputId": "a527c61d-c72f-4ddf-924d-956393ed20b0"
      },
      "execution_count": null,
      "outputs": [
        {
          "output_type": "stream",
          "name": "stdout",
          "text": [
            "Output text:\n",
            " The state capital of New Jersey is Newark. The state capital of California is Los Angeles. The state capital of New York is Albany. The state capital of Texas is Austin. The state capital of Florida is Miami. The state\n"
          ]
        }
      ]
    },
    {
      "cell_type": "markdown",
      "source": [
        "## 1.3 Sanity check LoRA model"
      ],
      "metadata": {
        "id": "oVWuqq5w_UnM"
      }
    },
    {
      "cell_type": "code",
      "source": [
        "test_lora_gpt = get_pretrained_gpt_model(\"gpt2-small (124M)\", verbose=False)"
      ],
      "metadata": {
        "colab": {
          "base_uri": "https://localhost:8080/",
          "referenced_widgets": [
            "2a4acb386cd7445c9a306f45b49035ac",
            "4193edbc9dd24dd1930cb516f3e67c36",
            "39c21e48c25240b4a8b0a65ed26e6b56",
            "3ed30978b7894f58987619a35bc9751e",
            "72fc08a40e7d47e7ae9a778b13123adf",
            "16b2ed68aaa44c9f816a5949f938e7ec",
            "be0c0fabad584a4aa30dd010c1eae152",
            "daa8cc67975a40f0a6c3493bc117c529",
            "1a75f9599c4648588ea6ea05fae157d5",
            "d10fb6234f8a4b43a2046ff3f957b10d",
            "1ad3497b36bc4809ae08c1583b1c4ba6",
            "7a94e7c6a42c45e3b4eb0189927ca011",
            "baf8880e266640ea971de542d37be0f5",
            "06dbdd30e7e94304b8b8f3f58297b637",
            "c231276adcf344708059583054d23c53",
            "1417be87ed014e4ca7ec9f61e0e5b26b",
            "13f2a463ec5a4ad0b467970aef00e80d",
            "b1dbe6c5f036444a84dc05a1fbc04cf5",
            "951c4d07c293458e8714ed4f2eb2ab30",
            "83f0cde47fbc4575aaf32b1f90ca217c",
            "def93ba457604adb80b67b49576687a9",
            "888b68e0cc0c4f98979fa12f0a3d9c2f"
          ]
        },
        "id": "C8viZip4XK_0",
        "outputId": "501251ed-740c-4570-bce3-c7fb46fedd3b"
      },
      "execution_count": null,
      "outputs": [
        {
          "output_type": "stream",
          "name": "stderr",
          "text": [
            "/usr/local/lib/python3.11/dist-packages/huggingface_hub/utils/_auth.py:94: UserWarning: \n",
            "The secret `HF_TOKEN` does not exist in your Colab secrets.\n",
            "To authenticate with the Hugging Face Hub, create a token in your settings tab (https://huggingface.co/settings/tokens), set it as secret in your Google Colab and restart your session.\n",
            "You will be able to reuse this secret in all of your notebooks.\n",
            "Please note that authentication is recommended but still optional to access public models or datasets.\n",
            "  warnings.warn(\n"
          ]
        },
        {
          "output_type": "display_data",
          "data": {
            "text/plain": [
              "config.json:   0%|          | 0.00/665 [00:00<?, ?B/s]"
            ],
            "application/vnd.jupyter.widget-view+json": {
              "version_major": 2,
              "version_minor": 0,
              "model_id": "2a4acb386cd7445c9a306f45b49035ac"
            }
          },
          "metadata": {}
        },
        {
          "output_type": "stream",
          "name": "stderr",
          "text": [
            "Xet Storage is enabled for this repo, but the 'hf_xet' package is not installed. Falling back to regular HTTP download. For better performance, install the package with: `pip install huggingface_hub[hf_xet]` or `pip install hf_xet`\n",
            "WARNING:huggingface_hub.file_download:Xet Storage is enabled for this repo, but the 'hf_xet' package is not installed. Falling back to regular HTTP download. For better performance, install the package with: `pip install huggingface_hub[hf_xet]` or `pip install hf_xet`\n"
          ]
        },
        {
          "output_type": "display_data",
          "data": {
            "text/plain": [
              "model.safetensors:   0%|          | 0.00/548M [00:00<?, ?B/s]"
            ],
            "application/vnd.jupyter.widget-view+json": {
              "version_major": 2,
              "version_minor": 0,
              "model_id": "7a94e7c6a42c45e3b4eb0189927ca011"
            }
          },
          "metadata": {}
        }
      ]
    },
    {
      "cell_type": "code",
      "source": [
        "total_params = sum(p.numel() for p in test_lora_gpt.parameters() if p.requires_grad)\n",
        "print(f\"Total trainable parameters before: {total_params:,}\")\n",
        "\n",
        "for param in test_lora_gpt.parameters():\n",
        "    param.requires_grad = False\n",
        "\n",
        "total_params = sum(p.numel() for p in test_lora_gpt.parameters() if p.requires_grad)\n",
        "print(f\"Total trainable parameters after: {total_params:,}\")"
      ],
      "metadata": {
        "colab": {
          "base_uri": "https://localhost:8080/"
        },
        "id": "8a7IzwPe6FnM",
        "outputId": "d8a44148-cb00-4f2a-b759-0e2a2a8c8f71"
      },
      "execution_count": null,
      "outputs": [
        {
          "output_type": "stream",
          "name": "stdout",
          "text": [
            "Total trainable parameters before: 163,037,184\n",
            "Total trainable parameters after: 0\n"
          ]
        }
      ]
    },
    {
      "cell_type": "code",
      "source": [
        "# replace_linear_with_lora(test_lora_gpt, rank=16, alpha=16)\n",
        "replace_linear_with_lora_last_n(test_lora_gpt, n=2, rank=16, alpha=16)\n",
        "\n",
        "total_params = sum(p.numel() for p in test_lora_gpt.parameters() if p.requires_grad)\n",
        "print(f\"Total trainable LoRA parameters: {total_params:,}\")"
      ],
      "metadata": {
        "colab": {
          "base_uri": "https://localhost:8080/"
        },
        "id": "lct79HEu6Fk4",
        "outputId": "d770a7a6-fc11-4f6a-9e7c-d1a39e218bd1"
      },
      "execution_count": null,
      "outputs": [
        {
          "output_type": "stream",
          "name": "stdout",
          "text": [
            "Applying LoRA with rank=16, alpha=16 to the last 2 transformer blocks (indices 10 to 11).\n",
            "Total trainable LoRA parameters: 1,258,768\n"
          ]
        }
      ]
    },
    {
      "cell_type": "code",
      "source": [
        "torch.manual_seed(123)\n",
        "\n",
        "tokenizer = tiktoken.get_encoding(\"gpt2\")\n",
        "\n",
        "token_ids = generate_text_simple(\n",
        "    model=test_lora_gpt.to(device),\n",
        "    token_ids=text_to_token_ids(\"Every effort moves\", tokenizer).to(device),\n",
        "    max_new_tokens=30,\n",
        "    context_size=BASE_CONFIG[\"context_length\"],\n",
        ")\n",
        "\n",
        "print(\"Output text:\\n\", token_ids_to_text(token_ids, tokenizer))"
      ],
      "metadata": {
        "id": "CCl1w8S8U5jL",
        "colab": {
          "base_uri": "https://localhost:8080/"
        },
        "outputId": "24b7c8d4-f3eb-403a-f769-36b4f2566b8c"
      },
      "execution_count": null,
      "outputs": [
        {
          "output_type": "stream",
          "name": "stdout",
          "text": [
            "Output text:\n",
            " Every effort moves forward, but it's not enough.\n",
            "\n",
            "\"I'm not going to sit here and say, 'I'm not going to do this,'\n"
          ]
        }
      ]
    },
    {
      "cell_type": "code",
      "source": [],
      "metadata": {
        "id": "x263ce0wOmLW"
      },
      "execution_count": null,
      "outputs": []
    },
    {
      "cell_type": "markdown",
      "source": [
        "# 3. The Verdict Dataset Loaders"
      ],
      "metadata": {
        "id": "-9Gx_ZC5Mg6b"
      }
    },
    {
      "cell_type": "code",
      "source": [
        "class GPTDatasetV1(Dataset):\n",
        "    def __init__(self, txt, tokenizer, max_length, stride):\n",
        "        self.input_ids = []\n",
        "        self.target_ids = []\n",
        "\n",
        "        # Tokenize the entire text\n",
        "        token_ids = tokenizer.encode(txt, allowed_special={\"<|endoftext|>\"})\n",
        "\n",
        "        # Use a sliding window to chunk the book into overlapping sequences of max_length\n",
        "        for i in range(0, len(token_ids) - max_length, stride):\n",
        "            input_chunk = token_ids[i:i + max_length]\n",
        "            target_chunk = token_ids[i + 1: i + max_length + 1]\n",
        "            self.input_ids.append(torch.tensor(input_chunk))\n",
        "            self.target_ids.append(torch.tensor(target_chunk))\n",
        "\n",
        "    def __len__(self):\n",
        "        return len(self.input_ids)\n",
        "\n",
        "    def __getitem__(self, idx):\n",
        "        return self.input_ids[idx], self.target_ids[idx]\n",
        "\n",
        "\n",
        "def create_dataloader_v1(txt, batch_size=4, max_length=256,\n",
        "                         stride=128, shuffle=True, drop_last=True, num_workers=0):\n",
        "    # Initialize the tokenizer\n",
        "    tokenizer = tiktoken.get_encoding(\"gpt2\")\n",
        "\n",
        "    # Create dataset\n",
        "    dataset = GPTDatasetV1(txt, tokenizer, max_length, stride)\n",
        "\n",
        "    # Create dataloader\n",
        "    dataloader = DataLoader(\n",
        "        dataset, batch_size=batch_size, shuffle=shuffle, drop_last=drop_last, num_workers=num_workers)\n",
        "\n",
        "    return dataloader"
      ],
      "metadata": {
        "id": "EIsL40qmMROe"
      },
      "execution_count": null,
      "outputs": []
    },
    {
      "cell_type": "markdown",
      "source": [
        "### Test on simple \"The Verdict\" data"
      ],
      "metadata": {
        "id": "GpOofVxjN3Pj"
      }
    },
    {
      "cell_type": "code",
      "source": [
        "verdict_file_path = GOOGLE_DRIVE_PATH + '/the-verdict.txt'\n",
        "# verdict_file_path = 'the-verdict.txt'       # If loaded directly to Google Colab Runtime\n",
        "\n",
        "with open(verdict_file_path, \"r\", encoding=\"utf-8\") as f:\n",
        "    raw_text = f.read()\n",
        "\n",
        "dataloader = create_dataloader_v1(\n",
        "    raw_text, batch_size=1, max_length=4, stride=1, shuffle=False)\n",
        "data_iter = iter(dataloader)\n",
        "first_batch = next(data_iter)\n",
        "print(first_batch)"
      ],
      "metadata": {
        "colab": {
          "base_uri": "https://localhost:8080/"
        },
        "id": "2I3jZ-J3MkHm",
        "outputId": "418f6636-72ae-4544-f257-96db13901fa9"
      },
      "execution_count": null,
      "outputs": [
        {
          "output_type": "stream",
          "name": "stdout",
          "text": [
            "[tensor([[  40,  367, 2885, 1464]]), tensor([[ 367, 2885, 1464, 1807]])]\n"
          ]
        }
      ]
    },
    {
      "cell_type": "code",
      "source": [
        "raw_text"
      ],
      "metadata": {
        "id": "jdlOefTIOA3e",
        "colab": {
          "base_uri": "https://localhost:8080/",
          "height": 87
        },
        "outputId": "2292e79d-5a28-45e2-b03b-8a400d621dba"
      },
      "execution_count": null,
      "outputs": [
        {
          "output_type": "execute_result",
          "data": {
            "text/plain": [
              "'I HAD always thought Jack Gisburn rather a cheap genius--though a good fellow enough--so it was no great surprise to me to hear that, in the height of his glory, he had dropped his painting, married a rich widow, and established himself in a villa on the Riviera. (Though I rather thought it would have been Rome or Florence.)\\n\\n\"The height of his glory\"--that was what the women called it. I can hear Mrs. Gideon Thwing--his last Chicago sitter--deploring his unaccountable abdication. \"Of course it\\'s going to send the value of my picture \\'way up; but I don\\'t think of that, Mr. Rickham--the loss to Arrt is all I think of.\" The word, on Mrs. Thwing\\'s lips, multiplied its _rs_ as though they were reflected in an endless vista of mirrors. And it was not only the Mrs. Thwings who mourned. Had not the exquisite Hermia Croft, at the last Grafton Gallery show, stopped me before Gisburn\\'s \"Moon-dancers\" to say, with tears in her eyes: \"We shall not look upon its like again\"?\\n\\nWell!--even through the prism of Hermia\\'s tears I felt able to face the fact with equanimity. Poor Jack Gisburn! The women had made him--it was fitting that they should mourn him. Among his own sex fewer regrets were heard, and in his own trade hardly a murmur. Professional jealousy? Perhaps. If it were, the honour of the craft was vindicated by little Claude Nutley, who, in all good faith, brought out in the Burlington a very handsome \"obituary\" on Jack--one of those showy articles stocked with random technicalities that I have heard (I won\\'t say by whom) compared to Gisburn\\'s painting. And so--his resolve being apparently irrevocable--the discussion gradually died out, and, as Mrs. Thwing had predicted, the price of \"Gisburns\" went up.\\n\\nIt was not till three years later that, in the course of a few weeks\\' idling on the Riviera, it suddenly occurred to me to wonder why Gisburn had given up his painting. On reflection, it really was a tempting problem. To accuse his wife would have been too easy--his fair sitters had been denied the solace of saying that Mrs. Gisburn had \"dragged him down.\" For Mrs. Gisburn--as such--had not existed till nearly a year after Jack\\'s resolve had been taken. It might be that he had married her--since he liked his ease--because he didn\\'t want to go on painting; but it would have been hard to prove that he had given up his painting because he had married her.\\n\\nOf course, if she had not dragged him down, she had equally, as Miss Croft contended, failed to \"lift him up\"--she had not led him back to the easel. To put the brush into his hand again--what a vocation for a wife! But Mrs. Gisburn appeared to have disdained it--and I felt it might be interesting to find out why.\\n\\nThe desultory life of the Riviera lends itself to such purely academic speculations; and having, on my way to Monte Carlo, caught a glimpse of Jack\\'s balustraded terraces between the pines, I had myself borne thither the next day.\\n\\nI found the couple at tea beneath their palm-trees; and Mrs. Gisburn\\'s welcome was so genial that, in the ensuing weeks, I claimed it frequently. It was not that my hostess was \"interesting\": on that point I could have given Miss Croft the fullest reassurance. It was just because she was _not_ interesting--if I may be pardoned the bull--that I found her so. For Jack, all his life, had been surrounded by interesting women: they had fostered his art, it had been reared in the hot-house of their adulation. And it was therefore instructive to note what effect the \"deadening atmosphere of mediocrity\" (I quote Miss Croft) was having on him.\\n\\nI have mentioned that Mrs. Gisburn was rich; and it was immediately perceptible that her husband was extracting from this circumstance a delicate but substantial satisfaction. It is, as a rule, the people who scorn money who get most out of it; and Jack\\'s elegant disdain of his wife\\'s big balance enabled him, with an appearance of perfect good-breeding, to transmute it into objects of art and luxury. To the latter, I must add, he remained relatively indifferent; but he was buying Renaissance bronzes and eighteenth-century pictures with a discrimination that bespoke the amplest resources.\\n\\n\"Money\\'s only excuse is to put beauty into circulation,\" was one of the axioms he laid down across the Sevres and silver of an exquisitely appointed luncheon-table, when, on a later day, I had again run over from Monte Carlo; and Mrs. Gisburn, beaming on him, added for my enlightenment: \"Jack is so morbidly sensitive to every form of beauty.\"\\n\\nPoor Jack! It had always been his fate to have women say such things of him: the fact should be set down in extenuation. What struck me now was that, for the first time, he resented the tone. I had seen him, so often, basking under similar tributes--was it the conjugal note that robbed them of their savour? No--for, oddly enough, it became apparent that he was fond of Mrs. Gisburn--fond enough not to see her absurdity. It was his own absurdity he seemed to be wincing under--his own attitude as an object for garlands and incense.\\n\\n\"My dear, since I\\'ve chucked painting people don\\'t say that stuff about me--they say it about Victor Grindle,\" was his only protest, as he rose from the table and strolled out onto the sunlit terrace.\\n\\nI glanced after him, struck by his last word. Victor Grindle was, in fact, becoming the man of the moment--as Jack himself, one might put it, had been the man of the hour. The younger artist was said to have formed himself at my friend\\'s feet, and I wondered if a tinge of jealousy underlay the latter\\'s mysterious abdication. But no--for it was not till after that event that the _rose Dubarry_ drawing-rooms had begun to display their \"Grindles.\"\\n\\nI turned to Mrs. Gisburn, who had lingered to give a lump of sugar to her spaniel in the dining-room.\\n\\n\"Why _has_ he chucked painting?\" I asked abruptly.\\n\\nShe raised her eyebrows with a hint of good-humoured surprise.\\n\\n\"Oh, he doesn\\'t _have_ to now, you know; and I want him to enjoy himself,\" she said quite simply.\\n\\nI looked about the spacious white-panelled room, with its _famille-verte_ vases repeating the tones of the pale damask curtains, and its eighteenth-century pastels in delicate faded frames.\\n\\n\"Has he chucked his pictures too? I haven\\'t seen a single one in the house.\"\\n\\nA slight shade of constraint crossed Mrs. Gisburn\\'s open countenance. \"It\\'s his ridiculous modesty, you know. He says they\\'re not fit to have about; he\\'s sent them all away except one--my portrait--and that I have to keep upstairs.\"\\n\\nHis ridiculous modesty--Jack\\'s modesty about his pictures? My curiosity was growing like the bean-stalk. I said persuasively to my hostess: \"I must really see your portrait, you know.\"\\n\\nShe glanced out almost timorously at the terrace where her husband, lounging in a hooded chair, had lit a cigar and drawn the Russian deerhound\\'s head between his knees.\\n\\n\"Well, come while he\\'s not looking,\" she said, with a laugh that tried to hide her nervousness; and I followed her between the marble Emperors of the hall, and up the wide stairs with terra-cotta nymphs poised among flowers at each landing.\\n\\nIn the dimmest corner of her boudoir, amid a profusion of delicate and distinguished objects, hung one of the familiar oval canvases, in the inevitable garlanded frame. The mere outline of the frame called up all Gisburn\\'s past!\\n\\nMrs. Gisburn drew back the window-curtains, moved aside a _jardiniere_ full of pink azaleas, pushed an arm-chair away, and said: \"If you stand here you can just manage to see it. I had it over the mantel-piece, but he wouldn\\'t let it stay.\"\\n\\nYes--I could just manage to see it--the first portrait of Jack\\'s I had ever had to strain my eyes over! Usually they had the place of honour--say the central panel in a pale yellow or _rose Dubarry_ drawing-room, or a monumental easel placed so that it took the light through curtains of old Venetian point. The more modest place became the picture better; yet, as my eyes grew accustomed to the half-light, all the characteristic qualities came out--all the hesitations disguised as audacities, the tricks of prestidigitation by which, with such consummate skill, he managed to divert attention from the real business of the picture to some pretty irrelevance of detail. Mrs. Gisburn, presenting a neutral surface to work on--forming, as it were, so inevitably the background of her own picture--had lent herself in an unusual degree to the display of this false virtuosity. The picture was one of Jack\\'s \"strongest,\" as his admirers would have put it--it represented, on his part, a swelling of muscles, a congesting of veins, a balancing, straddling and straining, that reminded one of the circus-clown\\'s ironic efforts to lift a feather. It met, in short, at every point the demand of lovely woman to be painted \"strongly\" because she was tired of being painted \"sweetly\"--and yet not to lose an atom of the sweetness.\\n\\n\"It\\'s the last he painted, you know,\" Mrs. Gisburn said with pardonable pride. \"The last but one,\" she corrected herself--\"but the other doesn\\'t count, because he destroyed it.\"\\n\\n\"Destroyed it?\" I was about to follow up this clue when I heard a footstep and saw Jack himself on the threshold.\\n\\nAs he stood there, his hands in the pockets of his velveteen coat, the thin brown waves of hair pushed back from his white forehead, his lean sunburnt cheeks furrowed by a smile that lifted the tips of a self-confident moustache, I felt to what a degree he had the same quality as his pictures--the quality of looking cleverer than he was.\\n\\nHis wife glanced at him deprecatingly, but his eyes travelled past her to the portrait.\\n\\n\"Mr. Rickham wanted to see it,\" she began, as if excusing herself. He shrugged his shoulders, still smiling.\\n\\n\"Oh, Rickham found me out long ago,\" he said lightly; then, passing his arm through mine: \"Come and see the rest of the house.\"\\n\\nHe showed it to me with a kind of naive suburban pride: the bath-rooms, the speaking-tubes, the dress-closets, the trouser-presses--all the complex simplifications of the millionaire\\'s domestic economy. And whenever my wonder paid the expected tribute he said, throwing out his chest a little: \"Yes, I really don\\'t see how people manage to live without that.\"\\n\\nWell--it was just the end one might have foreseen for him. Only he was, through it all and in spite of it all--as he had been through, and in spite of, his pictures--so handsome, so charming, so disarming, that one longed to cry out: \"Be dissatisfied with your leisure!\" as once one had longed to say: \"Be dissatisfied with your work!\"\\n\\nBut, with the cry on my lips, my diagnosis suffered an unexpected check.\\n\\n\"This is my own lair,\" he said, leading me into a dark plain room at the end of the florid vista. It was square and brown and leathery: no \"effects\"; no bric-a-brac, none of the air of posing for reproduction in a picture weekly--above all, no least sign of ever having been used as a studio.\\n\\nThe fact brought home to me the absolute finality of Jack\\'s break with his old life.\\n\\n\"Don\\'t you ever dabble with paint any more?\" I asked, still looking about for a trace of such activity.\\n\\n\"Never,\" he said briefly.\\n\\n\"Or water-colour--or etching?\"\\n\\nHis confident eyes grew dim, and his cheeks paled a little under their handsome sunburn.\\n\\n\"Never think of it, my dear fellow--any more than if I\\'d never touched a brush.\"\\n\\nAnd his tone told me in a flash that he never thought of anything else.\\n\\nI moved away, instinctively embarrassed by my unexpected discovery; and as I turned, my eye fell on a small picture above the mantel-piece--the only object breaking the plain oak panelling of the room.\\n\\n\"Oh, by Jove!\" I said.\\n\\nIt was a sketch of a donkey--an old tired donkey, standing in the rain under a wall.\\n\\n\"By Jove--a Stroud!\" I cried.\\n\\nHe was silent; but I felt him close behind me, breathing a little quickly.\\n\\n\"What a wonder! Made with a dozen lines--but on everlasting foundations. You lucky chap, where did you get it?\"\\n\\nHe answered slowly: \"Mrs. Stroud gave it to me.\"\\n\\n\"Ah--I didn\\'t know you even knew the Strouds. He was such an inflexible hermit.\"\\n\\n\"I didn\\'t--till after. . . . She sent for me to paint him when he was dead.\"\\n\\n\"When he was dead? You?\"\\n\\nI must have let a little too much amazement escape through my surprise, for he answered with a deprecating laugh: \"Yes--she\\'s an awful simpleton, you know, Mrs. Stroud. Her only idea was to have him done by a fashionable painter--ah, poor Stroud! She thought it the surest way of proclaiming his greatness--of forcing it on a purblind public. And at the moment I was _the_ fashionable painter.\"\\n\\n\"Ah, poor Stroud--as you say. Was _that_ his history?\"\\n\\n\"That was his history. She believed in him, gloried in him--or thought she did. But she couldn\\'t bear not to have all the drawing-rooms with her. She couldn\\'t bear the fact that, on varnishing days, one could always get near enough to see his pictures. Poor woman! She\\'s just a fragment groping for other fragments. Stroud is the only whole I ever knew.\"\\n\\n\"You ever knew? But you just said--\"\\n\\nGisburn had a curious smile in his eyes.\\n\\n\"Oh, I knew him, and he knew me--only it happened after he was dead.\"\\n\\nI dropped my voice instinctively. \"When she sent for you?\"\\n\\n\"Yes--quite insensible to the irony. She wanted him vindicated--and by me!\"\\n\\nHe laughed again, and threw back his head to look up at the sketch of the donkey. \"There were days when I couldn\\'t look at that thing--couldn\\'t face it. But I forced myself to put it here; and now it\\'s cured me--cured me. That\\'s the reason why I don\\'t dabble any more, my dear Rickham; or rather Stroud himself is the reason.\"\\n\\nFor the first time my idle curiosity about my companion turned into a serious desire to understand him better.\\n\\n\"I wish you\\'d tell me how it happened,\" I said.\\n\\nHe stood looking up at the sketch, and twirling between his fingers a cigarette he had forgotten to light. Suddenly he turned toward me.\\n\\n\"I\\'d rather like to tell you--because I\\'ve always suspected you of loathing my work.\"\\n\\nI made a deprecating gesture, which he negatived with a good-humoured shrug.\\n\\n\"Oh, I didn\\'t care a straw when I believed in myself--and now it\\'s an added tie between us!\"\\n\\nHe laughed slightly, without bitterness, and pushed one of the deep arm-chairs forward. \"There: make yourself comfortable--and here are the cigars you like.\"\\n\\nHe placed them at my elbow and continued to wander up and down the room, stopping now and then beneath the picture.\\n\\n\"How it happened? I can tell you in five minutes--and it didn\\'t take much longer to happen. . . . I can remember now how surprised and pleased I was when I got Mrs. Stroud\\'s note. Of course, deep down, I had always _felt_ there was no one like him--only I had gone with the stream, echoed the usual platitudes about him, till I half got to think he was a failure, one of the kind that are left behind. By Jove, and he _was_ left behind--because he had come to stay! The rest of us had to let ourselves be swept along or go under, but he was high above the current--on everlasting foundations, as you say.\\n\\n\"Well, I went off to the house in my most egregious mood--rather moved, Lord forgive me, at the pathos of poor Stroud\\'s career of failure being crowned by the glory of my painting him! Of course I meant to do the picture for nothing--I told Mrs. Stroud so when she began to stammer something about her poverty. I remember getting off a prodigious phrase about the honour being _mine_--oh, I was princely, my dear Rickham! I was posing to myself like one of my own sitters.\\n\\n\"Then I was taken up and left alone with him. I had sent all my traps in advance, and I had only to set up the easel and get to work. He had been dead only twenty-four hours, and he died suddenly, of heart disease, so that there had been no preliminary work of destruction--his face was clear and untouched. I had met him once or twice, years before, and thought him insignificant and dingy. Now I saw that he was superb.\\n\\n\"I was glad at first, with a merely aesthetic satisfaction: glad to have my hand on such a \\'subject.\\' Then his strange life-likeness began to affect me queerly--as I blocked the head in I felt as if he were watching me do it. The sensation was followed by the thought: if he _were_ watching me, what would he say to my way of working? My strokes began to go a little wild--I felt nervous and uncertain.\\n\\n\"Once, when I looked up, I seemed to see a smile behind his close grayish beard--as if he had the secret, and were amusing himself by holding it back from me. That exasperated me still more. The secret? Why, I had a secret worth twenty of his! I dashed at the canvas furiously, and tried some of my bravura tricks. But they failed me, they crumbled. I saw that he wasn\\'t watching the showy bits--I couldn\\'t distract his attention; he just kept his eyes on the hard passages between. Those were the ones I had always shirked, or covered up with some lying paint. And how he saw through my lies!\\n\\n\"I looked up again, and caught sight of that sketch of the donkey hanging on the wall near his bed. His wife told me afterward it was the last thing he had done--just a note taken with a shaking hand, when he was down in Devonshire recovering from a previous heart attack. Just a note! But it tells his whole history. There are years of patient scornful persistence in every line. A man who had swum with the current could never have learned that mighty up-stream stroke. . . .\\n\\n\"I turned back to my work, and went on groping and muddling; then I looked at the donkey again. I saw that, when Stroud laid in the first stroke, he knew just what the end would be. He had possessed his subject, absorbed it, recreated it. When had I done that with any of my things? They hadn\\'t been born of me--I had just adopted them. . . .\\n\\n\"Hang it, Rickham, with that face watching me I couldn\\'t do another stroke. The plain truth was, I didn\\'t know where to put it--_I had never known_. Only, with my sitters and my public, a showy splash of colour covered up the fact--I just threw paint into their faces. . . . Well, paint was the one medium those dead eyes could see through--see straight to the tottering foundations underneath. Don\\'t you know how, in talking a foreign language, even fluently, one says half the time not what one wants to but what one can? Well--that was the way I painted; and as he lay there and watched me, the thing they called my \\'technique\\' collapsed like a house of cards. He didn\\'t sneer, you understand, poor Stroud--he just lay there quietly watching, and on his lips, through the gray beard, I seemed to hear the question: \\'Are you sure you know where you\\'re coming out?\\'\\n\\n\"If I could have painted that face, with that question on it, I should have done a great thing. The next greatest thing was to see that I couldn\\'t--and that grace was given me. But, oh, at that minute, Rickham, was there anything on earth I wouldn\\'t have given to have Stroud alive before me, and to hear him say: \\'It\\'s not too late--I\\'ll show you how\\'?\\n\\n\"It _was_ too late--it would have been, even if he\\'d been alive. I packed up my traps, and went down and told Mrs. Stroud. Of course I didn\\'t tell her _that_--it would have been Greek to her. I simply said I couldn\\'t paint him, that I was too moved. She rather liked the idea--she\\'s so romantic! It was that that made her give me the donkey. But she was terribly upset at not getting the portrait--she did so want him \\'done\\' by some one showy! At first I was afraid she wouldn\\'t let me off--and at my wits\\' end I suggested Grindle. Yes, it was I who started Grindle: I told Mrs. Stroud he was the \\'coming\\' man, and she told somebody else, and so it got to be true. . . . And he painted Stroud without wincing; and she hung the picture among her husband\\'s things. . . .\"\\n\\nHe flung himself down in the arm-chair near mine, laid back his head, and clasping his arms beneath it, looked up at the picture above the chimney-piece.\\n\\n\"I like to fancy that Stroud himself would have given it to me, if he\\'d been able to say what he thought that day.\"\\n\\nAnd, in answer to a question I put half-mechanically--\"Begin again?\" he flashed out. \"When the one thing that brings me anywhere near him is that I knew enough to leave off?\"\\n\\nHe stood up and laid his hand on my shoulder with a laugh. \"Only the irony of it is that I _am_ still painting--since Grindle\\'s doing it for me! The Strouds stand alone, and happen once--but there\\'s no exterminating our kind of art.\"'"
            ],
            "application/vnd.google.colaboratory.intrinsic+json": {
              "type": "string"
            }
          },
          "metadata": {},
          "execution_count": 16
        }
      ]
    },
    {
      "cell_type": "markdown",
      "source": [
        "# 4. Training Loop"
      ],
      "metadata": {
        "id": "uCbGwMnapeuM"
      }
    },
    {
      "cell_type": "code",
      "source": [
        "from instr_fine_tune.train import calc_batch_loss, calc_loader_loss, evaluate_model, generate_and_print_sample, TrainingConfig, TrainingResults, train_model_simple, train_model\n",
        "from instr_fine_tune.train_plots import plot_losses, plot_perplexity, plot_and_save_learning_rate"
      ],
      "metadata": {
        "id": "HUm8OIRgnGJA"
      },
      "execution_count": null,
      "outputs": []
    },
    {
      "cell_type": "code",
      "source": [
        "\n",
        "def save_training_results(results: TrainingResults, filename: str):\n",
        "    results_dict = {\n",
        "        \"train_losses\": results.train_losses,\n",
        "        \"val_losses\": results.val_losses,\n",
        "        \"track_tokens_seen\": results.track_tokens_seen,\n",
        "        \"train_perplexity\": results.train_perplexity,\n",
        "        \"val_perplexity\": results.val_perplexity\n",
        "    }\n",
        "    if results.track_lrs is not None:\n",
        "        results_dict[\"track_lrs\"] = results.track_lrs\n",
        "\n",
        "    with open(filename, \"w\") as f:\n",
        "        json.dump(results_dict, f)\n",
        "        print(f\"Training results saved to {filename}\")"
      ],
      "metadata": {
        "id": "5Ehg-TWtG1hH"
      },
      "execution_count": null,
      "outputs": []
    },
    {
      "cell_type": "markdown",
      "source": [
        "## 4.2 Simple Train loop"
      ],
      "metadata": {
        "id": "iTgvT-7kKvp0"
      }
    },
    {
      "cell_type": "code",
      "source": [
        "GPT_CONFIG_124M = {\n",
        "    \"vocab_size\": 50257,   # Vocabulary size\n",
        "    \"context_length\": 256, # Shortened context length (orig: 1024)\n",
        "    \"emb_dim\": 768,        # Embedding dimension\n",
        "    \"n_heads\": 12,         # Number of attention heads\n",
        "    \"n_layers\": 12,        # Number of layers\n",
        "    \"drop_rate\": 0.1,      # Dropout rate\n",
        "    \"qkv_bias\": False      # Query-key-value bias\n",
        "}\n",
        "\n",
        "torch.manual_seed(123)\n",
        "model = GPTModel(GPT_CONFIG_124M)\n",
        "model.eval();  # Disable dropout during inference"
      ],
      "metadata": {
        "id": "zo7KsLUPtFU9"
      },
      "execution_count": null,
      "outputs": []
    },
    {
      "cell_type": "code",
      "source": [
        "with open(verdict_file_path, \"r\", encoding=\"utf-8\") as file:\n",
        "    text_data = file.read()"
      ],
      "metadata": {
        "id": "gD52pCMffUsH"
      },
      "execution_count": null,
      "outputs": []
    },
    {
      "cell_type": "code",
      "source": [
        "print(text_data[:99])"
      ],
      "metadata": {
        "colab": {
          "base_uri": "https://localhost:8080/"
        },
        "id": "TIxTSHPgfUpR",
        "outputId": "e93a7453-d460-40a0-f047-f8f0f73fd468"
      },
      "execution_count": null,
      "outputs": [
        {
          "output_type": "stream",
          "name": "stdout",
          "text": [
            "I HAD always thought Jack Gisburn rather a cheap genius--though a good fellow enough--so it was no \n"
          ]
        }
      ]
    },
    {
      "cell_type": "code",
      "source": [
        "total_characters = len(text_data)\n",
        "total_tokens = len(tokenizer.encode(text_data))\n",
        "\n",
        "print(\"Characters:\", total_characters)\n",
        "print(\"Tokens:\", total_tokens)"
      ],
      "metadata": {
        "colab": {
          "base_uri": "https://localhost:8080/"
        },
        "id": "7A3rM_VWfUmo",
        "outputId": "75827ab8-11a5-4cfb-dd7f-c2e4d984a65d"
      },
      "execution_count": null,
      "outputs": [
        {
          "output_type": "stream",
          "name": "stdout",
          "text": [
            "Characters: 20479\n",
            "Tokens: 5145\n"
          ]
        }
      ]
    },
    {
      "cell_type": "code",
      "source": [
        "# Train/validation ratio\n",
        "train_ratio = 0.90\n",
        "split_idx = int(train_ratio * len(text_data))\n",
        "train_data = text_data[:split_idx]\n",
        "val_data = text_data[split_idx:]\n",
        "\n",
        "\n",
        "torch.manual_seed(123)\n",
        "\n",
        "train_loader = create_dataloader_v1(\n",
        "    train_data,\n",
        "    batch_size=2,\n",
        "    max_length=GPT_CONFIG_124M[\"context_length\"],\n",
        "    stride=GPT_CONFIG_124M[\"context_length\"],\n",
        "    drop_last=True,\n",
        "    shuffle=True,\n",
        "    num_workers=0\n",
        ")\n",
        "\n",
        "val_loader = create_dataloader_v1(\n",
        "    val_data,\n",
        "    batch_size=2,\n",
        "    max_length=GPT_CONFIG_124M[\"context_length\"],\n",
        "    stride=GPT_CONFIG_124M[\"context_length\"],\n",
        "    drop_last=False,\n",
        "    shuffle=False,\n",
        "    num_workers=0\n",
        ")"
      ],
      "metadata": {
        "id": "KaR8aLz6btOK"
      },
      "execution_count": null,
      "outputs": []
    },
    {
      "cell_type": "code",
      "source": [
        "train_tokens = 0\n",
        "for input_batch, target_batch in train_loader:\n",
        "    train_tokens += input_batch.numel()\n",
        "\n",
        "val_tokens = 0\n",
        "for input_batch, target_batch in val_loader:\n",
        "    val_tokens += input_batch.numel()\n",
        "\n",
        "print(\"Training tokens:\", train_tokens)\n",
        "print(\"Validation tokens:\", val_tokens)\n",
        "print(\"All tokens:\", train_tokens + val_tokens)"
      ],
      "metadata": {
        "colab": {
          "base_uri": "https://localhost:8080/"
        },
        "id": "MaqdxWSYI-dI",
        "outputId": "83547c47-46e8-4f85-9c51-e6aff36143c2"
      },
      "execution_count": null,
      "outputs": [
        {
          "output_type": "stream",
          "name": "stdout",
          "text": [
            "Training tokens: 4608\n",
            "Validation tokens: 512\n",
            "All tokens: 5120\n"
          ]
        }
      ]
    },
    {
      "cell_type": "code",
      "source": [
        "print(\"Train loader:\")\n",
        "for x, y in train_loader:\n",
        "    print(x.shape, y.shape)\n",
        "\n",
        "print(\"\\nValidation loader:\")\n",
        "for x, y in val_loader:\n",
        "    print(x.shape, y.shape)"
      ],
      "metadata": {
        "id": "KxU2uytmbtLY",
        "colab": {
          "base_uri": "https://localhost:8080/"
        },
        "outputId": "1f6f7518-7a71-45d2-8030-5bb6e4aa5ddc"
      },
      "execution_count": null,
      "outputs": [
        {
          "output_type": "stream",
          "name": "stdout",
          "text": [
            "Train loader:\n",
            "torch.Size([2, 256]) torch.Size([2, 256])\n",
            "torch.Size([2, 256]) torch.Size([2, 256])\n",
            "torch.Size([2, 256]) torch.Size([2, 256])\n",
            "torch.Size([2, 256]) torch.Size([2, 256])\n",
            "torch.Size([2, 256]) torch.Size([2, 256])\n",
            "torch.Size([2, 256]) torch.Size([2, 256])\n",
            "torch.Size([2, 256]) torch.Size([2, 256])\n",
            "torch.Size([2, 256]) torch.Size([2, 256])\n",
            "torch.Size([2, 256]) torch.Size([2, 256])\n",
            "\n",
            "Validation loader:\n",
            "torch.Size([2, 256]) torch.Size([2, 256])\n"
          ]
        }
      ]
    },
    {
      "cell_type": "markdown",
      "source": [
        "### 4.2.1 Sanity check the simple training loop"
      ],
      "metadata": {
        "id": "iO_APCB9OhRo"
      }
    },
    {
      "cell_type": "code",
      "source": [
        "torch.manual_seed(123)\n",
        "GPT_CONFIG_124M = {\n",
        "    \"vocab_size\": 50257,   # Vocabulary size\n",
        "    \"context_length\": 256, # Shortened context length (orig: 1024)\n",
        "    \"emb_dim\": 768,        # Embedding dimension\n",
        "    \"n_heads\": 12,         # Number of attention heads\n",
        "    \"n_layers\": 12,        # Number of layers\n",
        "    \"drop_rate\": 0.1,      # Dropout rate\n",
        "    \"qkv_bias\": False      # Query-key-value bias\n",
        "}\n",
        "\n",
        "model = GPTModel(GPT_CONFIG_124M)\n",
        "model.to(device)\n",
        "optimizer = torch.optim.AdamW(model.parameters(), lr=0.0004, weight_decay=0.1)\n",
        "\n",
        "num_epochs = 10\n",
        "training_config = TrainingConfig(\n",
        "    model=model,\n",
        "    train_loader=train_loader,\n",
        "    val_loader=val_loader,\n",
        "    optimizer=optimizer,\n",
        "    device=device,\n",
        "    num_epochs=num_epochs,\n",
        "    eval_freq=5,\n",
        "    eval_iter=5,\n",
        "    start_context=\"Every effort moves you\",\n",
        "    tokenizer=tokenizer,\n",
        ")\n",
        "\n",
        "sanity_check_training_results = train_model_simple(training_config)"
      ],
      "metadata": {
        "id": "w75jjewbZIf9",
        "colab": {
          "base_uri": "https://localhost:8080/",
          "height": 210
        },
        "outputId": "2e963b27-2a46-4404-fdf9-47c39bc41090"
      },
      "execution_count": null,
      "outputs": [
        {
          "output_type": "error",
          "ename": "NameError",
          "evalue": "name 'train_loader' is not defined",
          "traceback": [
            "\u001b[0;31m---------------------------------------------------------------------------\u001b[0m",
            "\u001b[0;31mNameError\u001b[0m                                 Traceback (most recent call last)",
            "\u001b[0;32m<ipython-input-25-2871b9e02515>\u001b[0m in \u001b[0;36m<cell line: 0>\u001b[0;34m()\u001b[0m\n\u001b[1;32m     17\u001b[0m training_config = TrainingConfig(\n\u001b[1;32m     18\u001b[0m     \u001b[0mmodel\u001b[0m\u001b[0;34m=\u001b[0m\u001b[0mmodel\u001b[0m\u001b[0;34m,\u001b[0m\u001b[0;34m\u001b[0m\u001b[0;34m\u001b[0m\u001b[0m\n\u001b[0;32m---> 19\u001b[0;31m     \u001b[0mtrain_loader\u001b[0m\u001b[0;34m=\u001b[0m\u001b[0mtrain_loader\u001b[0m\u001b[0;34m,\u001b[0m\u001b[0;34m\u001b[0m\u001b[0;34m\u001b[0m\u001b[0m\n\u001b[0m\u001b[1;32m     20\u001b[0m     \u001b[0mval_loader\u001b[0m\u001b[0;34m=\u001b[0m\u001b[0mval_loader\u001b[0m\u001b[0;34m,\u001b[0m\u001b[0;34m\u001b[0m\u001b[0;34m\u001b[0m\u001b[0m\n\u001b[1;32m     21\u001b[0m     \u001b[0moptimizer\u001b[0m\u001b[0;34m=\u001b[0m\u001b[0moptimizer\u001b[0m\u001b[0;34m,\u001b[0m\u001b[0;34m\u001b[0m\u001b[0;34m\u001b[0m\u001b[0m\n",
            "\u001b[0;31mNameError\u001b[0m: name 'train_loader' is not defined"
          ]
        }
      ]
    },
    {
      "cell_type": "code",
      "source": [
        "epochs_tensor = torch.linspace(0, num_epochs, len(sanity_check_training_results.train_losses))\n",
        "plot_losses(epochs_tensor,\n",
        "            sanity_check_training_results.track_tokens_seen,\n",
        "            sanity_check_training_results.train_losses,\n",
        "            sanity_check_training_results.val_losses)"
      ],
      "metadata": {
        "id": "I4hi114LW2Xn"
      },
      "execution_count": null,
      "outputs": []
    },
    {
      "cell_type": "markdown",
      "source": [
        "## 4.3 Advanced Train Loop"
      ],
      "metadata": {
        "id": "-B8zvt73bA79"
      }
    },
    {
      "cell_type": "markdown",
      "source": [
        "This training loop adds the following to the simple one:\n",
        "\n",
        "1) Learning rate warmup\n",
        "\n",
        "2) Cosine decay (after pear l.r has been reached)\n",
        "\n",
        "3) Gradient clipping"
      ],
      "metadata": {
        "id": "6bdSVNHqbHR8"
      }
    },
    {
      "cell_type": "markdown",
      "source": [
        "### 4.3.1 Sanity check the advanced training loop"
      ],
      "metadata": {
        "id": "ZKYxMoHMdNzC"
      }
    },
    {
      "cell_type": "markdown",
      "source": [
        "Typically, the number of warmup steps is between 0.1% to 20% of the total number of steps"
      ],
      "metadata": {
        "id": "amBRlxcvdnBS"
      }
    },
    {
      "cell_type": "code",
      "source": [
        "num_epochs = 15\n",
        "total_steps = len(train_loader) * num_epochs\n",
        "warmup_steps = int(0.2 * total_steps) # 20% warmup\n",
        "print(warmup_steps)"
      ],
      "metadata": {
        "colab": {
          "base_uri": "https://localhost:8080/"
        },
        "id": "1Tj7W8tFdofi",
        "outputId": "26b6f76f-f044-4de3-8971-d11c5eb510c6"
      },
      "execution_count": null,
      "outputs": [
        {
          "output_type": "stream",
          "name": "stdout",
          "text": [
            "27\n"
          ]
        }
      ]
    },
    {
      "cell_type": "code",
      "source": [
        "torch.manual_seed(123)\n",
        "model = GPTModel(GPT_CONFIG_124M)\n",
        "model.to(device)\n",
        "\n",
        "peak_lr = 0.001\n",
        "optimizer = torch.optim.AdamW(model.parameters(), lr=peak_lr, weight_decay=0.1)\n",
        "tokenizer = tiktoken.get_encoding(\"gpt2\")\n",
        "\n",
        "num_epochs = 15\n",
        "training_config = TrainingConfig(\n",
        "    model=model,\n",
        "    train_loader=train_loader,\n",
        "    val_loader=val_loader,\n",
        "    optimizer=optimizer,\n",
        "    device=device,\n",
        "    num_epochs=num_epochs,\n",
        "    eval_freq=5,\n",
        "    eval_iter=1,\n",
        "    start_context=\"Every effort moves you\",\n",
        "    tokenizer=tokenizer,\n",
        "    warmup_steps=warmup_steps,\n",
        "    initial_lr=1e-5,\n",
        "    min_lr=1e-5,\n",
        ")\n",
        "\n",
        "sanity_check_advanced_training_results = train_model(training_config)"
      ],
      "metadata": {
        "colab": {
          "base_uri": "https://localhost:8080/"
        },
        "id": "eCnU-1bYetGb",
        "outputId": "7412042f-049b-4efc-c09a-37631bb5cf19"
      },
      "execution_count": null,
      "outputs": [
        {
          "output_type": "stream",
          "name": "stdout",
          "text": [
            "Ep 1 (Iter 000000): Train loss 10.970, Val loss 10.938\n",
            "Ep 1 (Iter 000005): Train loss 9.336, Val loss 9.460\n",
            "\t Every effort moves you,,,,,,,,,,,,,,,,,,,,,,,,,,,,,,,,,,,,,,,,,,,,,,,,,,\n",
            "Ep 2 (Iter 000010): Train loss 7.820, Val loss 8.186\n",
            "Ep 2 (Iter 000015): Train loss 6.344, Val loss 6.892\n",
            "\t Every effort moves you,,,,,,,,,,,,,,,,,,,,,,,,,,,,,,,,,,,,,,,,,,,,,,,,,,\n",
            "Ep 3 (Iter 000020): Train loss 6.076, Val loss 6.595\n",
            "Ep 3 (Iter 000025): Train loss 5.681, Val loss 6.771\n",
            "\t Every effort moves you, the of the of the of the of the of the of the of the of the of the of the of the of the of the of the of the of the of the of the of the of the of the of the of the of the\n",
            "Ep 4 (Iter 000030): Train loss 5.816, Val loss 6.818\n",
            "Ep 4 (Iter 000035): Train loss 5.776, Val loss 6.863\n",
            "\t Every effort moves youisisis.                                              \n",
            "Ep 5 (Iter 000040): Train loss 5.438, Val loss 6.675\n",
            "\t Every effort moves you.                                                 \n",
            "Ep 6 (Iter 000045): Train loss 5.052, Val loss 6.587\n",
            "Ep 6 (Iter 000050): Train loss 4.512, Val loss 6.413\n",
            "\t Every effort moves you his the picture.  \"--I had been \" a little a little a little--and, and I had been. \"I had been his his pictures--and a little the picture to the picture and his pictures--I had been\n",
            "Ep 7 (Iter 000055): Train loss 3.954, Val loss 6.351\n",
            "Ep 7 (Iter 000060): Train loss 2.892, Val loss 6.175\n",
            "\t Every effort moves you know, and, and in the donkey of the fact of the picture of the.                                 \n",
            "Ep 8 (Iter 000065): Train loss 2.700, Val loss 6.167\n",
            "Ep 8 (Iter 000070): Train loss 2.282, Val loss 6.188\n",
            "\t Every effort moves you know,\" was not that the ax. Gisburn--as of the donkey. Gisburn's an!                           \n",
            "Ep 9 (Iter 000075): Train loss 1.930, Val loss 6.197\n",
            "Ep 9 (Iter 000080): Train loss 1.165, Val loss 6.213\n",
            "\t Every effort moves you know.\"                                      \"I turned him--because he had the his\n",
            "Ep 10 (Iter 000085): Train loss 1.167, Val loss 6.237\n",
            "\t Every effort moves you?\"  \"Yes--quite insensible to the fact with that point I could have given Miss Croft the fullest reassurance.         \"Oh, as I turned, and down the room, with your\n",
            "Ep 11 (Iter 000090): Train loss 0.701, Val loss 6.312\n",
            "Ep 11 (Iter 000095): Train loss 0.617, Val loss 6.314\n",
            "\t Every effort moves you?\"  \"Yes--quite insensible to the irony. She wanted him vindicated--and by me!\"  He laughed again, and threw back his head to look up at the sketch of the donkey. \"There were days when I\n",
            "Ep 12 (Iter 000100): Train loss 0.447, Val loss 6.380\n",
            "Ep 12 (Iter 000105): Train loss 0.365, Val loss 6.391\n",
            "\t Every effort moves you?\"  \"Yes--quite insensible to the irony. She wanted him vindicated--and by me!\"  He laughed again, and threw back his head to look up at the sketch of the donkey. \"There were days when I\n",
            "Ep 13 (Iter 000110): Train loss 0.359, Val loss 6.432\n",
            "Ep 13 (Iter 000115): Train loss 0.269, Val loss 6.445\n",
            "\t Every effort moves you?\"  \"Yes--quite insensible to the irony. She wanted him vindicated--and by me!\"  He laughed again, and threw back his head to look up at the sketch of the donkey. \"There were days when I\n",
            "Ep 14 (Iter 000120): Train loss 0.239, Val loss 6.460\n",
            "Ep 14 (Iter 000125): Train loss 0.222, Val loss 6.465\n",
            "\t Every effort moves you?\"  \"Yes--quite insensible to the irony. She wanted him vindicated--and by me!\"  He laughed again, and threw back his head to look up at the sketch of the donkey. \"There were days when I\n",
            "Ep 15 (Iter 000130): Train loss 0.207, Val loss 6.468\n",
            "\t Every effort moves you?\"  \"Yes--quite insensible to the irony. She wanted him vindicated--and by me!\"  He laughed again, and threw back his head to look up at the sketch of the donkey. \"There were days when I\n"
          ]
        }
      ]
    },
    {
      "cell_type": "code",
      "source": [
        "epochs_tensor = torch.linspace(1, num_epochs, len(sanity_check_advanced_training_results.train_losses))\n",
        "\n",
        "plot_losses(epochs_tensor,\n",
        "            sanity_check_advanced_training_results.track_tokens_seen,\n",
        "            sanity_check_advanced_training_results.train_losses,\n",
        "            sanity_check_advanced_training_results.val_losses)\n",
        "plt.tight_layout(); plt.savefig(\"3.pdf\")\n",
        "plt.show()"
      ],
      "metadata": {
        "colab": {
          "base_uri": "https://localhost:8080/",
          "height": 324
        },
        "id": "nGID41Q_d04n",
        "outputId": "b9e06e47-5281-48e1-a721-154346786a76"
      },
      "execution_count": null,
      "outputs": [
        {
          "output_type": "display_data",
          "data": {
            "text/plain": [
              "<Figure size 500x300 with 2 Axes>"
            ],
            "image/png": "[encoded data removed]"
          },
          "metadata": {}
        },
        {
          "output_type": "display_data",
          "data": {
            "text/plain": [
              "<Figure size 640x480 with 0 Axes>"
            ]
          },
          "metadata": {}
        }
      ]
    },
    {
      "cell_type": "code",
      "source": [
        "plt.figure(figsize=(7, 5))\n",
        "plt.plot(range(len(sanity_check_advanced_training_results.track_lrs)), sanity_check_advanced_training_results.track_lrs)\n",
        "plt.ylabel(\"Learning rate\")\n",
        "plt.xlabel(\"Steps\")\n",
        "plt.grid()\n",
        "plt.show()"
      ],
      "metadata": {
        "colab": {
          "base_uri": "https://localhost:8080/",
          "height": 311
        },
        "id": "S8xdjJA9d01k",
        "outputId": "335945e8-454d-4f7f-d712-5a15adfe2d2a"
      },
      "execution_count": null,
      "outputs": [
        {
          "output_type": "display_data",
          "data": {
            "text/plain": [
              "<Figure size 500x300 with 1 Axes>"
            ],
            "image/png": "[encoded data removed]"
          },
          "metadata": {}
        }
      ]
    },
    {
      "cell_type": "code",
      "source": [],
      "metadata": {
        "id": "Ex_Z32LZbG79"
      },
      "execution_count": null,
      "outputs": []
    },
    {
      "cell_type": "markdown",
      "source": [
        "# 5. Mini-Alpaca Instruction Fine Tuning"
      ],
      "metadata": {
        "id": "iJCZH-lYy5dN"
      }
    },
    {
      "cell_type": "markdown",
      "source": [
        "## 5.0 Utils"
      ],
      "metadata": {
        "id": "yo9WNa0jJqQK"
      }
    },
    {
      "cell_type": "code",
      "source": [
        "def print_model_losses(model, train_loader, val_loader, device):\n",
        "    with torch.no_grad():\n",
        "        train_loss = calc_loader_loss(train_loader, model, device, num_batches=5)\n",
        "        val_loss = calc_loader_loss(val_loader, model, device, num_batches=5)\n",
        "\n",
        "    print(\"Training loss:\", train_loss)\n",
        "    print(\"Validation loss:\", val_loss)\n",
        "    print(\"Training perplexity:\", torch.exp(torch.tensor(train_loss)).item())\n",
        "    print(\"Validation perplexity:\", torch.exp(torch.tensor(val_loss)).item())"
      ],
      "metadata": {
        "id": "Sw26kCwgJp9g"
      },
      "execution_count": null,
      "outputs": []
    },
    {
      "cell_type": "code",
      "source": [
        "import json\n",
        "\n",
        "def download_and_load_json_file(file_path, url):\n",
        "    if not os.path.exists(file_path):\n",
        "        with urllib.request.urlopen(url) as response:\n",
        "            text_data = response.read().decode(\"utf-8\")\n",
        "        with open(file_path, \"w\", encoding=\"utf-8\") as file:\n",
        "            file.write(text_data)\n",
        "\n",
        "    with open(file_path, \"r\", encoding=\"utf-8\") as file:\n",
        "        data = json.load(file)\n",
        "\n",
        "    return data"
      ],
      "metadata": {
        "id": "YAAFTViCZ3Ti"
      },
      "execution_count": null,
      "outputs": []
    },
    {
      "cell_type": "code",
      "source": [
        "def format_input(entry):\n",
        "    instruction_text = (\n",
        "        f\"Below is an instruction that describes a task. \"\n",
        "        f\"Write a response that appropriately completes the request.\"\n",
        "        f\"\\n\\n### Instruction:\\n{entry['instruction']}\"\n",
        "    )\n",
        "\n",
        "    input_text = f\"\\n\\n### Input:\\n{entry['input']}\" if entry[\"input\"] else \"\"\n",
        "\n",
        "    return instruction_text + input_text\n",
        "\n",
        "def format_response(entry):\n",
        "    return f\"\\n\\n### Response:\\n{entry['output']}\""
      ],
      "metadata": {
        "id": "efiB2bnde7LX"
      },
      "execution_count": null,
      "outputs": []
    },
    {
      "cell_type": "code",
      "source": [
        "def load_json_data(filepath):\n",
        "    with open(filepath, 'r') as f:\n",
        "        data = json.load(f)\n",
        "    return data"
      ],
      "metadata": {
        "id": "Uip0rvfyng-6"
      },
      "execution_count": null,
      "outputs": []
    },
    {
      "cell_type": "code",
      "source": [
        "def generate_model_response(model, test_data, file_path=None):\n",
        "    model.eval()\n",
        "    with torch.no_grad():\n",
        "        for i, entry in tqdm(enumerate(test_data), total=len(test_data)):\n",
        "            instruction_text = format_input(entry)\n",
        "            token_ids = generate(\n",
        "                model=model.to(device),\n",
        "                token_ids=text_to_token_ids(instruction_text, tokenizer).to(device),\n",
        "                max_new_tokens=512,\n",
        "                context_size=BASE_CONFIG[\"context_length\"],\n",
        "                eos_id=50256,\n",
        "            )\n",
        "            generated_text = token_ids_to_text(token_ids, tokenizer)\n",
        "\n",
        "            response_text = generated_text[len(instruction_text):].replace(\"### Response:\", \"\").strip()\n",
        "            entry[\"generated_text\"] = response_text\n",
        "\n",
        "    # Save the data\n",
        "    if file_path:\n",
        "        with open(file_path, 'w') as f:\n",
        "            json.dump(test_data, f, indent=4)\n",
        "\n",
        "    return test_data"
      ],
      "metadata": {
        "id": "cLjYSSPZI7Yi"
      },
      "execution_count": null,
      "outputs": []
    },
    {
      "cell_type": "code",
      "source": [
        "def print_model_losses(model, train_loader, val_loader, device):\n",
        "    with torch.no_grad():\n",
        "        train_loss = calc_loader_loss(train_loader, model, device, num_batches=5)\n",
        "        val_loss = calc_loader_loss(val_loader, model, device, num_batches=5)\n",
        "\n",
        "    print(\"Training loss:\", train_loss)\n",
        "    print(\"Validation loss:\", val_loss)\n",
        "    print(\"Training perplexity:\", torch.exp(torch.tensor(train_loss)).item())\n",
        "    print(\"Validation perplexity:\", torch.exp(torch.tensor(val_loss)).item())\n",
        "    print()"
      ],
      "metadata": {
        "id": "KilDuOmYKBmf"
      },
      "execution_count": null,
      "outputs": []
    },
    {
      "cell_type": "markdown",
      "source": [
        "## 5.2 Organizing data into training batches"
      ],
      "metadata": {
        "id": "DPdJyLA6hL4Z"
      }
    },
    {
      "cell_type": "code",
      "source": [
        "class InstructionDataset(Dataset):\n",
        "    def __init__(self, data, tokenizer):\n",
        "        self.data = data\n",
        "\n",
        "        # Pre-tokenize texts\n",
        "        self.encoded_texts = []\n",
        "        for entry in data:\n",
        "            instruction_plus_input = format_input(entry)\n",
        "            response_text = format_response(entry)\n",
        "            full_text = instruction_plus_input + response_text\n",
        "            self.encoded_texts.append(\n",
        "                tokenizer.encode(full_text)\n",
        "            )\n",
        "\n",
        "    def __getitem__(self, index):\n",
        "        return self.encoded_texts[index]\n",
        "\n",
        "    def __len__(self):\n",
        "        return len(self.data)"
      ],
      "metadata": {
        "id": "mdNP2rDhgZWJ"
      },
      "execution_count": null,
      "outputs": []
    },
    {
      "cell_type": "code",
      "source": [
        "def custom_collate_fn(\n",
        "    batch,\n",
        "    pad_token_id=50256,\n",
        "    ignore_index=-100,\n",
        "    allowed_max_length=None,\n",
        "    device=\"cpu\"\n",
        "):\n",
        "    # Find the longest sequence in the batch\n",
        "    batch_max_length = max(len(item)+1 for item in batch)\n",
        "\n",
        "    # Pad and prepare inputs and targets\n",
        "    inputs_lst, targets_lst = [], []\n",
        "\n",
        "    for item in batch:          # item is just list of token ids e.g. [0, 1, 2, 3]\n",
        "        new_item = item.copy()\n",
        "        # Add an <|endoftext|> token\n",
        "        new_item += [pad_token_id]\n",
        "        # Pad sequences to max_length\n",
        "        padded = (\n",
        "            new_item + [pad_token_id] *\n",
        "            (batch_max_length - len(new_item))\n",
        "        )\n",
        "        inputs = torch.tensor(padded[:-1])  # Truncate the last token for inputs\n",
        "        targets = torch.tensor(padded[1:])  # Shift +1 to the right for targets\n",
        "\n",
        "        # New: Replace all but the first padding tokens in targets by ignore_index\n",
        "        mask = targets == pad_token_id\n",
        "        indices = torch.nonzero(mask).squeeze()\n",
        "        if indices.numel() > 1:\n",
        "            targets[indices[1:]] = ignore_index\n",
        "\n",
        "        # New: Optionally truncate to maximum sequence length\n",
        "        if allowed_max_length is not None:\n",
        "            inputs = inputs[:allowed_max_length]\n",
        "            targets = targets[:allowed_max_length]\n",
        "\n",
        "        inputs_lst.append(inputs)\n",
        "        targets_lst.append(targets)\n",
        "\n",
        "    # Convert list of inputs and targets to tensors and transfer to target device\n",
        "    inputs_tensor = torch.stack(inputs_lst).to(device)\n",
        "    targets_tensor = torch.stack(targets_lst).to(device)\n",
        "\n",
        "    return inputs_tensor, targets_tensor"
      ],
      "metadata": {
        "id": "b25rJlXYgZPc"
      },
      "execution_count": null,
      "outputs": []
    },
    {
      "cell_type": "code",
      "source": [
        "from functools import partial\n",
        "\n",
        "customized_collate_fn = partial(\n",
        "    custom_collate_fn,\n",
        "    device=device,\n",
        "    allowed_max_length=1024\n",
        ")"
      ],
      "metadata": {
        "id": "YSJojPSWzdzk"
      },
      "execution_count": null,
      "outputs": []
    },
    {
      "cell_type": "markdown",
      "source": [
        "## 5.1 Prepare Dataset"
      ],
      "metadata": {
        "id": "Fe9arV26e4C4"
      }
    },
    {
      "cell_type": "code",
      "source": [
        "file_path = \"instruction-data.json\"\n",
        "url = (\n",
        "    \"https://raw.githubusercontent.com/rasbt/LLMs-from-scratch\"\n",
        "    \"/main/ch07/01_main-chapter-code/instruction-data.json\"\n",
        ")\n",
        "\n",
        "data = download_and_load_json_file(file_path, url)\n",
        "print(\"Number of entries:\", len(data))"
      ],
      "metadata": {
        "id": "UBEEFb7gy_Rq",
        "colab": {
          "base_uri": "https://localhost:8080/"
        },
        "outputId": "adc55f83-d554-4e3f-9978-ceeeac97123a"
      },
      "execution_count": null,
      "outputs": [
        {
          "output_type": "stream",
          "name": "stdout",
          "text": [
            "Number of entries: 1100\n"
          ]
        }
      ]
    },
    {
      "cell_type": "code",
      "source": [
        "print(\"Example entry:\\n\", data[50])"
      ],
      "metadata": {
        "colab": {
          "base_uri": "https://localhost:8080/"
        },
        "id": "JAfrYT3Ve7Oe",
        "outputId": "07ba92df-2987-44de-f76a-2a29d7210130"
      },
      "execution_count": null,
      "outputs": [
        {
          "output_type": "stream",
          "name": "stdout",
          "text": [
            "Example entry:\n",
            " {'instruction': 'Identify the correct spelling of the following word.', 'input': 'Ocassion', 'output': \"The correct spelling is 'Occasion.'\"}\n"
          ]
        }
      ]
    },
    {
      "cell_type": "code",
      "source": [
        "def save_first_n_entries(data, n, filename):\n",
        "    \"\"\"Saves the first n entries of the data to a JSON file.\"\"\"\n",
        "    try:\n",
        "        with open(filename, 'w') as f:\n",
        "            json.dump(data[:n], f, indent=4)  # Use indent for pretty printing\n",
        "        print(f\"Successfully saved the first {n} entries to {filename}\")\n",
        "    except Exception as e:\n",
        "        print(f\"An error occurred: {e}\")\n",
        "\n",
        "save_first_n_entries(\n",
        "    data, 30,\n",
        "    GOOGLE_DRIVE_PATH + \"/instr_fine_tune\" + \"/data/alpaca_sample_generation_data_30.json\")"
      ],
      "metadata": {
        "colab": {
          "base_uri": "https://localhost:8080/"
        },
        "id": "059JD76VqsRE",
        "outputId": "a77b4279-7cc9-4b3c-9ed8-414e42fbcc04"
      },
      "execution_count": null,
      "outputs": [
        {
          "output_type": "stream",
          "name": "stdout",
          "text": [
            "Successfully saved the first 30 entries to /content/drive/MyDrive/cs7643/project/instr_fine_tune/data/alpaca_sample_generation_data_30.json\n"
          ]
        }
      ]
    },
    {
      "cell_type": "code",
      "source": [
        "print(format_input(data[50]) + format_response(data[50]))"
      ],
      "metadata": {
        "colab": {
          "base_uri": "https://localhost:8080/"
        },
        "id": "D6vtd7YAifRx",
        "outputId": "1b4da15f-2860-439d-919f-97915eaf85fb"
      },
      "execution_count": null,
      "outputs": [
        {
          "output_type": "stream",
          "name": "stdout",
          "text": [
            "Below is an instruction that describes a task. Write a response that appropriately completes the request.\n",
            "\n",
            "### Instruction:\n",
            "Identify the correct spelling of the following word.\n",
            "\n",
            "### Input:\n",
            "Ocassion\n",
            "\n",
            "### Response:\n",
            "The correct spelling is 'Occasion.'\n"
          ]
        }
      ]
    },
    {
      "cell_type": "code",
      "source": [
        "train_portion = int(len(data) * 0.85)  # 85% for training\n",
        "test_portion = int(len(data) * 0.1)    # 10% for testing\n",
        "val_portion = len(data) - train_portion - test_portion  # Remaining 5% for validation\n",
        "\n",
        "train_data = data[:train_portion]\n",
        "test_data = data[train_portion:train_portion + test_portion]\n",
        "val_data = data[train_portion + test_portion:]"
      ],
      "metadata": {
        "id": "HRSK5iGle7Ig"
      },
      "execution_count": null,
      "outputs": []
    },
    {
      "cell_type": "code",
      "source": [
        "print(\"Training set length:\", len(train_data))\n",
        "print(\"Validation set length:\", len(val_data))\n",
        "print(\"Test set length:\", len(test_data))"
      ],
      "metadata": {
        "colab": {
          "base_uri": "https://localhost:8080/"
        },
        "id": "eN-P8iqoe7FV",
        "outputId": "84a8c7a9-5fb2-4fad-ca7c-42c5aeeed8f6"
      },
      "execution_count": null,
      "outputs": [
        {
          "output_type": "stream",
          "name": "stdout",
          "text": [
            "Training set length: 935\n",
            "Validation set length: 55\n",
            "Test set length: 110\n"
          ]
        }
      ]
    },
    {
      "cell_type": "markdown",
      "source": [
        "## 5.3 Creating data loaders for an instruction dataset"
      ],
      "metadata": {
        "id": "plYJLPT5mGTs"
      }
    },
    {
      "cell_type": "code",
      "source": [
        "tokenizer = tiktoken.get_encoding(\"gpt2\")"
      ],
      "metadata": {
        "id": "kuTmqWc57aPP"
      },
      "execution_count": null,
      "outputs": []
    },
    {
      "cell_type": "code",
      "source": [
        "num_workers = 0\n",
        "batch_size = 8\n",
        "\n",
        "torch.manual_seed(123)\n",
        "\n",
        "train_dataset = InstructionDataset(train_data, tokenizer)\n",
        "train_loader = DataLoader(\n",
        "    train_dataset,\n",
        "    batch_size=batch_size,\n",
        "    collate_fn=customized_collate_fn,\n",
        "    shuffle=True,\n",
        "    drop_last=True,\n",
        "    num_workers=num_workers\n",
        ")\n",
        "\n",
        "val_dataset = InstructionDataset(val_data, tokenizer)\n",
        "val_loader = DataLoader(\n",
        "    val_dataset,\n",
        "    batch_size=batch_size,\n",
        "    collate_fn=customized_collate_fn,\n",
        "    shuffle=False,\n",
        "    drop_last=False,\n",
        "    num_workers=num_workers\n",
        ")\n",
        "\n",
        "test_dataset = InstructionDataset(test_data, tokenizer)\n",
        "test_loader = DataLoader(\n",
        "    test_dataset,\n",
        "    batch_size=batch_size,\n",
        "    collate_fn=customized_collate_fn,\n",
        "    shuffle=False,\n",
        "    drop_last=False,\n",
        "    num_workers=num_workers\n",
        ")"
      ],
      "metadata": {
        "id": "f94-uFkbgZI_"
      },
      "execution_count": null,
      "outputs": []
    },
    {
      "cell_type": "code",
      "source": [
        "print(\"Train loader:\")\n",
        "i = 0\n",
        "for inputs, targets in train_loader:\n",
        "    print(inputs.shape, targets.shape)\n",
        "    if i == 3: break\n",
        "    i += 1"
      ],
      "metadata": {
        "colab": {
          "base_uri": "https://localhost:8080/"
        },
        "id": "S7x61mfFe7CN",
        "outputId": "c895d5b3-cb02-4a79-bd8f-4eedd5a30a91"
      },
      "execution_count": null,
      "outputs": [
        {
          "output_type": "stream",
          "name": "stdout",
          "text": [
            "Train loader:\n",
            "torch.Size([8, 61]) torch.Size([8, 61])\n",
            "torch.Size([8, 76]) torch.Size([8, 76])\n",
            "torch.Size([8, 73]) torch.Size([8, 73])\n",
            "torch.Size([8, 68]) torch.Size([8, 68])\n"
          ]
        }
      ]
    },
    {
      "cell_type": "markdown",
      "source": [
        "## 5.4 Loading a pretrained LLM"
      ],
      "metadata": {
        "id": "aYqvauqh0nR5"
      }
    },
    {
      "cell_type": "code",
      "source": [
        "CHOOSE_MODEL = \"gpt2-medium (355M)\"\n",
        "gpt_m = get_pretrained_gpt_model(CHOOSE_MODEL)"
      ],
      "metadata": {
        "colab": {
          "base_uri": "https://localhost:8080/",
          "referenced_widgets": [
            "3f22b4235c454929902bf333ca0333da",
            "dbacb0064718457a88e51939b9493bd6",
            "013d857359ee4e8a98de82a141a82dc6",
            "78ae9a4a6f47437c9d6f863008babf37",
            "7615768f71414af9bd9f857b5432b032",
            "a448a9494f9440c9a487b464b244c856",
            "49286700bdd24bdf99d0bcde2c40f0df",
            "4fdb7451b5e348fc986611784fa16480",
            "0cd4b8d1b9334c0b9df1330409ced1e9",
            "0d3c1431488348ff9ef4d8eace82c7e9",
            "6e0087f49bac42708b148579843f9314",
            "f22ab3297bf546838e72b352c233a44c",
            "ee055adabf5f463faf0a6ef754a1c86b",
            "1f4dc8204d254d888e49d7f3d9a5313d",
            "98f57976f5dd4bc3afa48b6758b4555e",
            "1764f7ec7505463db8470c3423d6c2fd",
            "8337649816c54e359829c38df83f1d6d",
            "2bbee239df3e412c92a5f9f96434c570",
            "d03bb7ce9b8f48ff822feb305bfc8e19",
            "5837e8eb6271449aafac03a005134a28",
            "268765a39df6496eadbff867cfdc1fc9",
            "c1fe2e3143df48d28fd6fdb6cf82c9a9"
          ]
        },
        "id": "aX2GQyq6cDG7",
        "outputId": "43ff2fec-891a-41fe-88dc-0a5cfc83169d"
      },
      "execution_count": null,
      "outputs": [
        {
          "output_type": "stream",
          "name": "stderr",
          "text": [
            "/usr/local/lib/python3.11/dist-packages/huggingface_hub/utils/_auth.py:94: UserWarning: \n",
            "The secret `HF_TOKEN` does not exist in your Colab secrets.\n",
            "To authenticate with the Hugging Face Hub, create a token in your settings tab (https://huggingface.co/settings/tokens), set it as secret in your Google Colab and restart your session.\n",
            "You will be able to reuse this secret in all of your notebooks.\n",
            "Please note that authentication is recommended but still optional to access public models or datasets.\n",
            "  warnings.warn(\n"
          ]
        },
        {
          "output_type": "display_data",
          "data": {
            "text/plain": [
              "config.json:   0%|          | 0.00/718 [00:00<?, ?B/s]"
            ],
            "application/vnd.jupyter.widget-view+json": {
              "version_major": 2,
              "version_minor": 0,
              "model_id": "3f22b4235c454929902bf333ca0333da"
            }
          },
          "metadata": {}
        },
        {
          "output_type": "display_data",
          "data": {
            "text/plain": [
              "model.safetensors:   0%|          | 0.00/1.52G [00:00<?, ?B/s]"
            ],
            "application/vnd.jupyter.widget-view+json": {
              "version_major": 2,
              "version_minor": 0,
              "model_id": "f22ab3297bf546838e72b352c233a44c"
            }
          },
          "metadata": {}
        },
        {
          "output_type": "stream",
          "name": "stdout",
          "text": [
            "Model Name: gpt2-medium (355M)\n",
            "\tTotal Parameters: 406,286,336\n",
            "\tTotal Memory Requirement: 1549.86 MB\n"
          ]
        }
      ]
    },
    {
      "cell_type": "code",
      "source": [
        "input_text = format_input(val_data[0])\n",
        "print(input_text)"
      ],
      "metadata": {
        "colab": {
          "base_uri": "https://localhost:8080/"
        },
        "id": "rplwttIG3DjU",
        "outputId": "509dbeff-cdd1-4519-c9e7-9886aa2e1e6f"
      },
      "execution_count": null,
      "outputs": [
        {
          "output_type": "stream",
          "name": "stdout",
          "text": [
            "Below is an instruction that describes a task. Write a response that appropriately completes the request.\n",
            "\n",
            "### Instruction:\n",
            "Convert the active sentence to passive: 'The chef cooks the meal every day.'\n"
          ]
        }
      ]
    },
    {
      "cell_type": "code",
      "source": [
        "torch.manual_seed(123)\n",
        "\n",
        "tokenizer = tiktoken.get_encoding(\"gpt2\")\n",
        "\n",
        "token_ids = generate_text_simple(\n",
        "    model=gpt_m.to(device),\n",
        "    token_ids=text_to_token_ids(input_text, tokenizer).to(device),\n",
        "    max_new_tokens=35,\n",
        "    context_size=BASE_CONFIG[\"context_length\"],\n",
        ")\n",
        "\n",
        "generated_text = token_ids_to_text(token_ids, tokenizer)\n",
        "print(\"Output text:\\n\", generated_text)"
      ],
      "metadata": {
        "colab": {
          "base_uri": "https://localhost:8080/"
        },
        "outputId": "ff27d1b7-143a-4cef-b31b-14ef13247c3d",
        "id": "es3az17y2jyw"
      },
      "execution_count": null,
      "outputs": [
        {
          "output_type": "stream",
          "name": "stdout",
          "text": [
            "Output text:\n",
            " Below is an instruction that describes a task. Write a response that appropriately completes the request.\n",
            "\n",
            "### Instruction:\n",
            "Convert the active sentence to passive: 'The chef cooks the meal every day.'\n",
            "\n",
            "### Response:\n",
            "\n",
            "The chef cooks the meal every day.\n",
            "\n",
            "### Instruction:\n",
            "\n",
            "Convert the active sentence to passive: 'The chef cooks the\n"
          ]
        }
      ]
    },
    {
      "cell_type": "code",
      "source": [
        "response_text = (\n",
        "    generated_text[len(input_text):]\n",
        "    .replace(\"### Response:\", \"\")\n",
        "    .strip()\n",
        ")\n",
        "print(response_text)"
      ],
      "metadata": {
        "id": "XG8DKGQEy-oq",
        "colab": {
          "base_uri": "https://localhost:8080/"
        },
        "outputId": "0383f271-ae99-4095-eef1-63422e2eeb6f"
      },
      "execution_count": null,
      "outputs": [
        {
          "output_type": "stream",
          "name": "stdout",
          "text": [
            "The chef cooks the meal every day.\n",
            "\n",
            "### Instruction:\n",
            "\n",
            "Convert the active sentence to passive: 'The chef cooks the\n"
          ]
        }
      ]
    },
    {
      "cell_type": "markdown",
      "source": [
        "## 5.5 Finetuning the LLM on instruction data"
      ],
      "metadata": {
        "id": "vX9LBfQ53sG5"
      }
    },
    {
      "cell_type": "markdown",
      "source": [
        "Initial Loss"
      ],
      "metadata": {
        "id": "2PyBCd2x5zc9"
      }
    },
    {
      "cell_type": "code",
      "source": [
        "torch.manual_seed(123)\n",
        "\n",
        "with torch.no_grad():\n",
        "    train_loss = calc_loader_loss(train_loader, gpt_m, device, num_batches=5)\n",
        "    val_loss = calc_loader_loss(val_loader, gpt_m, device, num_batches=5)\n",
        "\n",
        "print(\"Training loss:\", train_loss)\n",
        "print(\"Validation loss:\", val_loss)\n",
        "print(\"Training perplexity:\", torch.exp(torch.tensor(train_loss)).item())\n",
        "print(\"Validation perplexity:\", torch.exp(torch.tensor(val_loss)).item())"
      ],
      "metadata": {
        "colab": {
          "base_uri": "https://localhost:8080/"
        },
        "id": "oXSXMMYW3jmv",
        "outputId": "bd8c7e69-1e5e-4474-fe66-4a85181d5492"
      },
      "execution_count": null,
      "outputs": [
        {
          "output_type": "stream",
          "name": "stdout",
          "text": [
            "Training loss: 3.825909471511841\n",
            "Validation loss: 3.761934232711792\n",
            "Training perplexity: 45.8745002746582\n",
            "Validation perplexity: 43.03158187866211\n"
          ]
        }
      ]
    },
    {
      "cell_type": "code",
      "source": [
        "import time\n",
        "\n",
        "start_time = time.time()\n",
        "\n",
        "torch.manual_seed(123)\n",
        "\n",
        "optimizer = torch.optim.AdamW(gpt_m.parameters(), lr=0.00005, weight_decay=0.1)\n",
        "num_epochs = 2\n",
        "\n",
        "ift_mini_alpaca_training_config = TrainingConfig(\n",
        "    model=gpt_m,\n",
        "    train_loader=train_loader,\n",
        "    val_loader=val_loader,\n",
        "    optimizer=optimizer,\n",
        "    device=device,\n",
        "    num_epochs=num_epochs,\n",
        "    eval_freq=5,\n",
        "    eval_iter=5,\n",
        "    start_context=format_input(val_data[0]),\n",
        "    tokenizer=tokenizer,\n",
        ")\n",
        "\n",
        "ift_mini_alpaca_training_results = train_model_simple(ift_mini_alpaca_training_config)\n",
        "\n",
        "end_time = time.time()\n",
        "execution_time_minutes = (end_time - start_time) / 60\n",
        "print(f\"Training completed in {execution_time_minutes:.2f} minutes.\")"
      ],
      "metadata": {
        "colab": {
          "base_uri": "https://localhost:8080/"
        },
        "id": "DDn4kE5_3jjm",
        "outputId": "8ebda58a-9ace-4c41-cc65-3da0509bba95"
      },
      "execution_count": null,
      "outputs": [
        {
          "output_type": "stream",
          "name": "stdout",
          "text": [
            "Ep 1 (Step 000000): Train loss 2.637, Val loss 2.626\n",
            "Ep 1 (Step 000005): Train loss 1.174, Val loss 1.103\n",
            "Ep 1 (Step 000010): Train loss 0.872, Val loss 0.944\n",
            "Ep 1 (Step 000015): Train loss 0.857, Val loss 0.906\n",
            "Ep 1 (Step 000020): Train loss 0.776, Val loss 0.881\n",
            "Ep 1 (Step 000025): Train loss 0.754, Val loss 0.859\n",
            "Ep 1 (Step 000030): Train loss 0.799, Val loss 0.836\n",
            "Ep 1 (Step 000035): Train loss 0.714, Val loss 0.808\n",
            "Ep 1 (Step 000040): Train loss 0.672, Val loss 0.806\n",
            "Ep 1 (Step 000045): Train loss 0.633, Val loss 0.789\n",
            "Ep 1 (Step 000050): Train loss 0.663, Val loss 0.783\n",
            "Ep 1 (Step 000055): Train loss 0.760, Val loss 0.763\n",
            "Ep 1 (Step 000060): Train loss 0.719, Val loss 0.743\n",
            "Ep 1 (Step 000065): Train loss 0.653, Val loss 0.735\n",
            "Ep 1 (Step 000070): Train loss 0.533, Val loss 0.729\n",
            "Ep 1 (Step 000075): Train loss 0.568, Val loss 0.729\n",
            "Ep 1 (Step 000080): Train loss 0.604, Val loss 0.725\n",
            "Ep 1 (Step 000085): Train loss 0.509, Val loss 0.710\n",
            "Ep 1 (Step 000090): Train loss 0.563, Val loss 0.691\n",
            "Ep 1 (Step 000095): Train loss 0.502, Val loss 0.681\n",
            "Ep 1 (Step 000100): Train loss 0.504, Val loss 0.677\n",
            "Ep 1 (Step 000105): Train loss 0.565, Val loss 0.670\n",
            "Ep 1 (Step 000110): Train loss 0.554, Val loss 0.666\n",
            "Ep 1 (Step 000115): Train loss 0.509, Val loss 0.663\n",
            "\t Below is an instruction that describes a task. Write a response that appropriately completes the request.  ### Instruction: Convert the active sentence to passive: 'The chef cooks the meal every day.'  ### Response: The meal is prepared every day by the chef.<|endoftext|>The following is an instruction that describes a task. Write a response that appropriately completes the request.  ### Instruction: Convert the active sentence to passive:\n",
            "Ep 2 (Step 000120): Train loss 0.435, Val loss 0.671\n",
            "Ep 2 (Step 000125): Train loss 0.451, Val loss 0.686\n",
            "Ep 2 (Step 000130): Train loss 0.447, Val loss 0.682\n",
            "Ep 2 (Step 000135): Train loss 0.405, Val loss 0.681\n",
            "Ep 2 (Step 000140): Train loss 0.410, Val loss 0.681\n",
            "Ep 2 (Step 000145): Train loss 0.369, Val loss 0.681\n",
            "Ep 2 (Step 000150): Train loss 0.382, Val loss 0.675\n",
            "Ep 2 (Step 000155): Train loss 0.414, Val loss 0.675\n",
            "Ep 2 (Step 000160): Train loss 0.412, Val loss 0.684\n",
            "Ep 2 (Step 000165): Train loss 0.379, Val loss 0.686\n",
            "Ep 2 (Step 000170): Train loss 0.322, Val loss 0.680\n",
            "Ep 2 (Step 000175): Train loss 0.337, Val loss 0.668\n",
            "Ep 2 (Step 000180): Train loss 0.392, Val loss 0.656\n",
            "Ep 2 (Step 000185): Train loss 0.414, Val loss 0.657\n",
            "Ep 2 (Step 000190): Train loss 0.340, Val loss 0.648\n",
            "Ep 2 (Step 000195): Train loss 0.328, Val loss 0.634\n",
            "Ep 2 (Step 000200): Train loss 0.309, Val loss 0.634\n",
            "Ep 2 (Step 000205): Train loss 0.353, Val loss 0.631\n",
            "Ep 2 (Step 000210): Train loss 0.362, Val loss 0.631\n",
            "Ep 2 (Step 000215): Train loss 0.393, Val loss 0.634\n",
            "Ep 2 (Step 000220): Train loss 0.297, Val loss 0.644\n",
            "Ep 2 (Step 000225): Train loss 0.341, Val loss 0.658\n",
            "Ep 2 (Step 000230): Train loss 0.294, Val loss 0.656\n",
            "\t Below is an instruction that describes a task. Write a response that appropriately completes the request.  ### Instruction: Convert the active sentence to passive: 'The chef cooks the meal every day.'  ### Response: The meal is cooked every day by the chef.<|endoftext|>The following is an instruction that describes a task. Write a response that appropriately completes the request.  ### Instruction: What is the capital of the United Kingdom\n",
            "Training completed in 2.98 minutes.\n"
          ]
        }
      ]
    },
    {
      "cell_type": "code",
      "source": [
        "epochs_tensor = torch.linspace(\n",
        "    0, num_epochs, len(ift_mini_alpaca_training_results.train_losses))\n",
        "\n",
        "plot_losses(epochs_tensor,\n",
        "            ift_mini_alpaca_training_results.track_tokens_seen,\n",
        "            ift_mini_alpaca_training_results.train_losses,\n",
        "            ift_mini_alpaca_training_results.val_losses)"
      ],
      "metadata": {
        "colab": {
          "base_uri": "https://localhost:8080/",
          "height": 307
        },
        "id": "K-jQHEZA6eJb",
        "outputId": "1977a3cc-496c-42ae-c72d-abe8abd9afa2"
      },
      "execution_count": null,
      "outputs": [
        {
          "output_type": "display_data",
          "data": {
            "text/plain": [
              "<Figure size 500x300 with 2 Axes>"
            ],
            "image/png": "[encoded data removed]"
          },
          "metadata": {}
        }
      ]
    },
    {
      "cell_type": "code",
      "source": [
        "token_ids = generate(\n",
        "    model=gpt_m.to(device),\n",
        "    token_ids=text_to_token_ids(input_text, tokenizer).to(device),\n",
        "    max_new_tokens=35,\n",
        "    context_size=BASE_CONFIG[\"context_length\"],\n",
        "    eos_id=50256,\n",
        ")\n",
        "\n",
        "generated_text = token_ids_to_text(token_ids, tokenizer)\n",
        "print(\"Output text:\\n\", generated_text)"
      ],
      "metadata": {
        "colab": {
          "base_uri": "https://localhost:8080/"
        },
        "id": "Bv8QZoDL9bh-",
        "outputId": "bc9bf9aa-4019-46d8-dbbe-9e3a590da9e9"
      },
      "execution_count": null,
      "outputs": [
        {
          "output_type": "stream",
          "name": "stdout",
          "text": [
            "Output text:\n",
            " Below is an instruction that describes a task. Write a response that appropriately completes the request.\n",
            "\n",
            "### Instruction:\n",
            "Convert the active sentence to passive: 'The chef cooks the meal every day.'\n",
            "\n",
            "### Response:\n",
            "The meal is cooked every day by the chef.\n"
          ]
        }
      ]
    },
    {
      "cell_type": "markdown",
      "source": [
        "# 6. Alpaca Instruction Fine Tuning"
      ],
      "metadata": {
        "id": "tq7y5Spe-6Vi"
      }
    },
    {
      "cell_type": "markdown",
      "source": [
        "## 6.0 [Optional] Download the ALpaca Dataset"
      ],
      "metadata": {
        "id": "fsWuqt7jj85M"
      }
    },
    {
      "cell_type": "code",
      "source": [
        "alpaca_data_url = \"https://raw.githubusercontent.com/tatsu-lab/stanford_alpaca/main/alpaca_data.json\"\n",
        "file_path = GOOGLE_DRIVE_PATH + \"/instr_fine_tune\" + \"/data/alpaca_data.json\""
      ],
      "metadata": {
        "id": "SE9wLMqW9bef"
      },
      "execution_count": null,
      "outputs": []
    },
    {
      "cell_type": "code",
      "source": [
        "alpaca_data = download_and_load_json_file(file_path, alpaca_data_url)\n",
        "print(\"Number of entries:\", len(alpaca_data))"
      ],
      "metadata": {
        "colab": {
          "base_uri": "https://localhost:8080/"
        },
        "id": "3KAOuVQ8k-BZ",
        "outputId": "f505bdb1-586e-4beb-87c8-0bca5ef18297"
      },
      "execution_count": null,
      "outputs": [
        {
          "output_type": "stream",
          "name": "stdout",
          "text": [
            "Number of entries: 52002\n"
          ]
        }
      ]
    },
    {
      "cell_type": "markdown",
      "source": [
        "We will select only 12K entries of the 52K for compute reasons.\n",
        "\n",
        "We will only keep entires whose output is less than 512 characters in length"
      ],
      "metadata": {
        "id": "x2w93IFYliXh"
      }
    },
    {
      "cell_type": "code",
      "source": [
        "def filter_alpaca_data_by_len(alpaca_data, target_size=12000, max_output_len=512, filepath=None):\n",
        "    filtered_alpaca_data = []\n",
        "\n",
        "    for entry in alpaca_data:\n",
        "            if len(entry['output']) < max_output_len:\n",
        "                filtered_alpaca_data.append(entry)\n",
        "            if len(filtered_alpaca_data) >= target_size:\n",
        "                break\n",
        "\n",
        "    if filepath:\n",
        "        with open(filepath, 'w') as f:\n",
        "            json.dump(filtered_alpaca_data, f, indent=4)\n",
        "\n",
        "    return filtered_alpaca_data"
      ],
      "metadata": {
        "id": "kvugrUxIl3R4"
      },
      "execution_count": null,
      "outputs": []
    },
    {
      "cell_type": "code",
      "source": [
        "alpaca_data_15k = filter_alpaca_data_by_len(\n",
        "    alpaca_data, target_size=15000, max_output_len=512,\n",
        "    filepath=GOOGLE_DRIVE_PATH + \"/instr_fine_tune\" + \"/data/alpaca_data_15k.json\")"
      ],
      "metadata": {
        "id": "WoVEeHphk9-s"
      },
      "execution_count": null,
      "outputs": []
    },
    {
      "cell_type": "code",
      "source": [
        "print(\"Number of entries:\", len(alpaca_data_15k))"
      ],
      "metadata": {
        "colab": {
          "base_uri": "https://localhost:8080/"
        },
        "id": "DdW6vBK3k947",
        "outputId": "f18dbe4f-0281-4bc2-f1d4-8f53f75f4fc0"
      },
      "execution_count": null,
      "outputs": [
        {
          "output_type": "stream",
          "name": "stdout",
          "text": [
            "Number of entries: 15000\n"
          ]
        }
      ]
    },
    {
      "cell_type": "markdown",
      "source": [
        "## Gemini Eval"
      ],
      "metadata": {
        "id": "zfPhL1IYOIzo"
      }
    },
    {
      "cell_type": "code",
      "source": [
        "from google import genai\n",
        "from google.genai import types\n",
        "from google.colab import userdata\n",
        "\n",
        "\n",
        "def gemini_generate(prompt):\n",
        "    client = genai.Client(\n",
        "        api_key=userdata.get('GOOGLE_API_KEY')\n",
        "    )\n",
        "\n",
        "    # model = \"gemini-2.5-pro-exp-03-25\"\n",
        "    model = \"gemini-2.0-flash-thinking-exp-01-21\"\n",
        "    contents = [\n",
        "        types.Content(\n",
        "            role=\"user\",\n",
        "            parts=[\n",
        "                types.Part.from_text(text=prompt),\n",
        "            ],\n",
        "        ),\n",
        "    ]\n",
        "    generate_content_config = types.GenerateContentConfig(\n",
        "        response_mime_type=\"text/plain\",\n",
        "    )\n",
        "\n",
        "    for tries in range(3):\n",
        "        try:\n",
        "            response = client.models.generate_content(\n",
        "                model=model,\n",
        "                contents=contents,\n",
        "                config=generate_content_config,\n",
        "            )\n",
        "            return response.text\n",
        "        except Exception as e:\n",
        "            print(f\"An error occurred: {e}\")\n",
        "            time.sleep(30)\n",
        "            continue"
      ],
      "metadata": {
        "id": "4XMZhnoRrSEY"
      },
      "execution_count": null,
      "outputs": []
    },
    {
      "cell_type": "code",
      "source": [
        "gemini_generate(\"Hello, how are you?\")"
      ],
      "metadata": {
        "colab": {
          "base_uri": "https://localhost:8080/"
        },
        "id": "hSflIU4eOkLu",
        "outputId": "d39086a1-7f67-4531-e4d6-cf295c3f0480"
      },
      "execution_count": null,
      "outputs": [
        {
          "output_type": "execute_result",
          "data": {
            "text/plain": [
              "\"Hello there! I am doing well, thank you for asking.  As a large language model, I don't experience feelings in the same way humans do, but I am functioning optimally and ready to assist you.\\n\\nHow are you doing today?\""
            ],
            "application/vnd.google.colaboratory.intrinsic+json": {
              "type": "string"
            }
          },
          "metadata": {},
          "execution_count": 29
        }
      ]
    },
    {
      "cell_type": "code",
      "source": [
        "def generate_model_scores(json_data, filepath=None):\n",
        "    scores = []\n",
        "    for entry in tqdm(json_data, desc=\"Scoring entries\"):\n",
        "        prompt = (\n",
        "            f\"Given the input `{format_input(entry)}` \"\n",
        "            f\"and correct output `{entry['output']}`, \"\n",
        "            f\"score the model response `{entry['generated_text']}`\"\n",
        "            f\" on a scale from 0 to 100, where 100 is the best score. \"\n",
        "            f\"Respond with the integer number only.\"\n",
        "        )\n",
        "        score = gemini_generate(prompt)\n",
        "        try:\n",
        "            scores.append(int(score))\n",
        "            print(f\"Score: {score}\")\n",
        "            entry[\"score\"] = score\n",
        "        except ValueError:\n",
        "            print(f\"Could not convert score: {score}\")\n",
        "            continue\n",
        "        except Exception as e:\n",
        "            print(f\"An error occurred: {e}\")\n",
        "            time.sleep(5)\n",
        "            continue\n",
        "\n",
        "    if filepath:\n",
        "        with open(filepath, 'w') as f:\n",
        "            json.dump(json_data, f, indent=4)\n",
        "\n",
        "    print(f\"Mean score: {np.mean(scores)}\")\n",
        "\n",
        "    return scores"
      ],
      "metadata": {
        "id": "vPWATAB3rR-5"
      },
      "execution_count": null,
      "outputs": []
    },
    {
      "cell_type": "markdown",
      "source": [
        "## 6.1 Prepare the Dataset"
      ],
      "metadata": {
        "id": "y-NL4cC3nSPy"
      }
    },
    {
      "cell_type": "code",
      "source": [
        "alpaca_data_15k_filepath = GOOGLE_DRIVE_PATH + \"/instr_fine_tune\" + \"/data/alpaca_data_15k.json\"\n",
        "alpaca_data_15k = load_json_data(alpaca_data_15k_filepath)"
      ],
      "metadata": {
        "id": "JQvWP66pk91v"
      },
      "execution_count": null,
      "outputs": []
    },
    {
      "cell_type": "code",
      "source": [
        "alpaca_sample_generation_data_filepath = GOOGLE_DRIVE_PATH + \"/instr_fine_tune\" + \"/data/alpaca_sample_generation_data_30.json\"\n",
        "alpaca_sample_generation_data = load_json_data(alpaca_sample_generation_data_filepath)"
      ],
      "metadata": {
        "id": "vX6JmUr6rmnD"
      },
      "execution_count": null,
      "outputs": []
    },
    {
      "cell_type": "code",
      "source": [
        "num_entries = len(alpaca_data_15k)\n",
        "print(\"Number of entries:\", num_entries)"
      ],
      "metadata": {
        "colab": {
          "base_uri": "https://localhost:8080/"
        },
        "id": "OYWxPCHloC0k",
        "outputId": "192b0ae0-8385-4a28-bd35-be4876161965"
      },
      "execution_count": null,
      "outputs": [
        {
          "output_type": "stream",
          "name": "stdout",
          "text": [
            "Number of entries: 15000\n"
          ]
        }
      ]
    },
    {
      "cell_type": "code",
      "source": [
        "train_portion = int(num_entries * 0.80)  # 85% for training\n",
        "test_portion = int(num_entries * 0.10)    # 10% for testing\n",
        "val_portion = num_entries - train_portion - test_portion  # Remaining 10% for validation\n",
        "\n",
        "alpaca_train_data = alpaca_data_15k[:train_portion]\n",
        "alpaca_test_data = alpaca_data_15k[train_portion:train_portion + test_portion]\n",
        "alpaca_val_data = alpaca_data_15k[train_portion + test_portion:]\n",
        "\n",
        "print(\"Training set length:\", len(alpaca_train_data))\n",
        "print(\"Validation set length:\", len(alpaca_val_data))\n",
        "print(\"Test set length:\", len(alpaca_test_data))"
      ],
      "metadata": {
        "colab": {
          "base_uri": "https://localhost:8080/"
        },
        "id": "-A71MeSBnf4h",
        "outputId": "5c4ecadd-2fee-4293-b7d3-1a6c876c8ae6"
      },
      "execution_count": null,
      "outputs": [
        {
          "output_type": "stream",
          "name": "stdout",
          "text": [
            "Training set length: 12000\n",
            "Validation set length: 1500\n",
            "Test set length: 1500\n"
          ]
        }
      ]
    },
    {
      "cell_type": "code",
      "source": [
        "subset_alpaca_test_data = alpaca_sample_generation_data + alpaca_test_data[:20]\n",
        "print(\"Subset of test data length:\", len(subset_alpaca_test_data))"
      ],
      "metadata": {
        "colab": {
          "base_uri": "https://localhost:8080/"
        },
        "id": "IHnevkwpYTU1",
        "outputId": "297205f5-f536-4aa8-f80d-e98f04973251"
      },
      "execution_count": null,
      "outputs": [
        {
          "output_type": "stream",
          "name": "stdout",
          "text": [
            "Subset of test data length: 50\n"
          ]
        }
      ]
    },
    {
      "cell_type": "markdown",
      "source": [
        "## 6.2 Create data loaders"
      ],
      "metadata": {
        "id": "lWmDYO0Uo94O"
      }
    },
    {
      "cell_type": "code",
      "source": [
        "num_workers = 0\n",
        "batch_size = 2\n",
        "\n",
        "torch.manual_seed(123)\n",
        "tokenizer = tiktoken.get_encoding(\"gpt2\")\n",
        "\n",
        "alpaca_train_dataset = InstructionDataset(alpaca_train_data, tokenizer)\n",
        "alpaca_train_loader = DataLoader(\n",
        "    alpaca_train_dataset,\n",
        "    batch_size=batch_size,\n",
        "    collate_fn=customized_collate_fn,\n",
        "    shuffle=True,\n",
        "    drop_last=True,\n",
        "    num_workers=num_workers,\n",
        ")\n",
        "\n",
        "alpaca_val_dataset = InstructionDataset(alpaca_val_data, tokenizer)\n",
        "alpaca_val_loader = DataLoader(\n",
        "    alpaca_val_dataset,\n",
        "    batch_size=batch_size,\n",
        "    collate_fn=customized_collate_fn,\n",
        "    shuffle=False,\n",
        "    drop_last=False,\n",
        "    num_workers=num_workers,\n",
        ")\n",
        "\n",
        "alpaca_test_dataset = InstructionDataset(alpaca_test_data, tokenizer)\n",
        "alpaca_test_loader = DataLoader(\n",
        "    alpaca_test_dataset,\n",
        "    batch_size=batch_size,\n",
        "    collate_fn=customized_collate_fn,\n",
        "    shuffle=False,\n",
        "    drop_last=False,\n",
        "    num_workers=num_workers,\n",
        ")"
      ],
      "metadata": {
        "id": "bZ7t_xORnf1x"
      },
      "execution_count": null,
      "outputs": []
    },
    {
      "cell_type": "code",
      "source": [
        "print(\"Train loader:\")\n",
        "i = 0\n",
        "for inputs, targets in alpaca_train_loader:\n",
        "    if i <= 3:\n",
        "        print(inputs.shape, targets.shape)\n",
        "    i += 1\n",
        "print(f\"There are {i} batches in the train loader\")"
      ],
      "metadata": {
        "colab": {
          "base_uri": "https://localhost:8080/"
        },
        "id": "arvVACginfzA",
        "outputId": "ca424596-0d14-4858-e53c-3ee23a151bd4"
      },
      "execution_count": null,
      "outputs": [
        {
          "output_type": "stream",
          "name": "stdout",
          "text": [
            "Train loader:\n",
            "torch.Size([2, 170]) torch.Size([2, 170])\n",
            "torch.Size([2, 136]) torch.Size([2, 136])\n",
            "torch.Size([2, 76]) torch.Size([2, 76])\n",
            "torch.Size([2, 252]) torch.Size([2, 252])\n",
            "There are 20800 batches in the train loader\n"
          ]
        }
      ]
    },
    {
      "cell_type": "markdown",
      "source": [
        "## 6.3 Load Pretrained GPT2"
      ],
      "metadata": {
        "id": "oy-dlu1nqXll"
      }
    },
    {
      "cell_type": "code",
      "source": [
        "CHOOSE_MODEL = \"gpt2-xl (1558M)\"\n",
        "# gpt2-large (774M)\n",
        "pretrained_gpt_m = get_pretrained_gpt_model(CHOOSE_MODEL)"
      ],
      "metadata": {
        "colab": {
          "base_uri": "https://localhost:8080/"
        },
        "id": "CcsN_oZ5nfwA",
        "outputId": "da497fc8-c91a-41a7-ad1b-04a5ffdfe93f"
      },
      "execution_count": null,
      "outputs": [
        {
          "output_type": "stream",
          "name": "stdout",
          "text": [
            "Model Name: gpt2-xl (1558M)\n",
            "\tTotal Parameters: 1,638,022,400\n",
            "\tTotal Memory Requirement: 6248.56 MB\n"
          ]
        }
      ]
    },
    {
      "cell_type": "code",
      "source": [
        "generated_data_file_path = GOOGLE_DRIVE_PATH + \"/instr_fine_tune\" + \"/data/runs/pretrained_gpt_xl_generated_data.json\"\n",
        "generated_data = generate_model_response(\n",
        "    model=pretrained_gpt_m,\n",
        "    test_data=subset_alpaca_test_data,\n",
        "    file_path=generated_data_file_path\n",
        ")\n",
        "generated_data_scores = generate_model_scores(generated_data, generated_data_file_path)"
      ],
      "metadata": {
        "id": "EsXwBEwbOPw8",
        "colab": {
          "base_uri": "https://localhost:8080/"
        },
        "collapsed": true,
        "outputId": "478cc239-3879-4254-83a5-37eb06356ca6"
      },
      "execution_count": null,
      "outputs": [
        {
          "output_type": "stream",
          "name": "stderr",
          "text": [
            "100%|██████████| 50/50 [37:14<00:00, 44.69s/it]\n",
            "Scoring entries:   2%|▏         | 1/50 [00:01<01:28,  1.81s/it]"
          ]
        },
        {
          "output_type": "stream",
          "name": "stdout",
          "text": [
            "Score: 100\n"
          ]
        },
        {
          "output_type": "stream",
          "name": "stderr",
          "text": [
            "\rScoring entries:   4%|▍         | 2/50 [00:04<02:04,  2.60s/it]"
          ]
        },
        {
          "output_type": "stream",
          "name": "stdout",
          "text": [
            "Score: 0\n"
          ]
        },
        {
          "output_type": "stream",
          "name": "stderr",
          "text": [
            "\rScoring entries:   6%|▌         | 3/50 [00:08<02:19,  2.96s/it]"
          ]
        },
        {
          "output_type": "stream",
          "name": "stdout",
          "text": [
            "Score: 0\n"
          ]
        },
        {
          "output_type": "stream",
          "name": "stderr",
          "text": [
            "\rScoring entries:   8%|▊         | 4/50 [00:16<03:48,  4.97s/it]"
          ]
        },
        {
          "output_type": "stream",
          "name": "stdout",
          "text": [
            "Score: 95\n"
          ]
        },
        {
          "output_type": "stream",
          "name": "stderr",
          "text": [
            "\rScoring entries:  10%|█         | 5/50 [00:22<04:01,  5.37s/it]"
          ]
        },
        {
          "output_type": "stream",
          "name": "stdout",
          "text": [
            "Score: 5\n"
          ]
        },
        {
          "output_type": "stream",
          "name": "stderr",
          "text": [
            "\rScoring entries:  12%|█▏        | 6/50 [00:25<03:20,  4.56s/it]"
          ]
        },
        {
          "output_type": "stream",
          "name": "stdout",
          "text": [
            "Score: 100\n"
          ]
        },
        {
          "output_type": "stream",
          "name": "stderr",
          "text": [
            "\rScoring entries:  14%|█▍        | 7/50 [00:28<02:47,  3.90s/it]"
          ]
        },
        {
          "output_type": "stream",
          "name": "stdout",
          "text": [
            "Score: 0\n"
          ]
        },
        {
          "output_type": "stream",
          "name": "stderr",
          "text": [
            "\rScoring entries:  16%|█▌        | 8/50 [00:29<02:14,  3.19s/it]"
          ]
        },
        {
          "output_type": "stream",
          "name": "stdout",
          "text": [
            "Score: 0\n"
          ]
        },
        {
          "output_type": "stream",
          "name": "stderr",
          "text": [
            "\rScoring entries:  18%|█▊        | 9/50 [00:31<01:53,  2.76s/it]"
          ]
        },
        {
          "output_type": "stream",
          "name": "stdout",
          "text": [
            "Score: 0\n"
          ]
        },
        {
          "output_type": "stream",
          "name": "stderr",
          "text": [
            "\rScoring entries:  20%|██        | 10/50 [00:33<01:40,  2.52s/it]"
          ]
        },
        {
          "output_type": "stream",
          "name": "stdout",
          "text": [
            "Score: 0\n"
          ]
        },
        {
          "output_type": "stream",
          "name": "stderr",
          "text": [
            "\rScoring entries:  22%|██▏       | 11/50 [00:35<01:29,  2.29s/it]"
          ]
        },
        {
          "output_type": "stream",
          "name": "stdout",
          "text": [
            "Score: 0\n",
            "An error occurred: 429 RESOURCE_EXHAUSTED. {'error': {'code': 429, 'message': 'You exceeded your current quota, please check your plan and billing details. For more information on this error, head to: https://ai.google.dev/gemini-api/docs/rate-limits.', 'status': 'RESOURCE_EXHAUSTED', 'details': [{'@type': 'type.googleapis.com/google.rpc.QuotaFailure', 'violations': [{'quotaMetric': 'generativelanguage.googleapis.com/generate_content_free_tier_requests', 'quotaId': 'GenerateRequestsPerMinutePerProjectPerModel-FreeTier', 'quotaDimensions': {'location': 'global', 'model': 'gemini-2.0-flash-exp'}, 'quotaValue': '10'}]}, {'@type': 'type.googleapis.com/google.rpc.Help', 'links': [{'description': 'Learn more about Gemini API quotas', 'url': 'https://ai.google.dev/gemini-api/docs/rate-limits'}]}, {'@type': 'type.googleapis.com/google.rpc.RetryInfo', 'retryDelay': '21s'}]}}\n"
          ]
        },
        {
          "output_type": "stream",
          "name": "stderr",
          "text": [
            "\rScoring entries:  24%|██▍       | 12/50 [01:09<07:34, 11.96s/it]"
          ]
        },
        {
          "output_type": "stream",
          "name": "stdout",
          "text": [
            "Score: 0\n"
          ]
        },
        {
          "output_type": "stream",
          "name": "stderr",
          "text": [
            "\rScoring entries:  26%|██▌       | 13/50 [01:14<06:00,  9.76s/it]"
          ]
        },
        {
          "output_type": "stream",
          "name": "stdout",
          "text": [
            "Score: 0\n"
          ]
        },
        {
          "output_type": "stream",
          "name": "stderr",
          "text": [
            "\rScoring entries:  28%|██▊       | 14/50 [01:17<04:42,  7.84s/it]"
          ]
        },
        {
          "output_type": "stream",
          "name": "stdout",
          "text": [
            "Score: 100\n"
          ]
        },
        {
          "output_type": "stream",
          "name": "stderr",
          "text": [
            "\rScoring entries:  30%|███       | 15/50 [01:20<03:45,  6.46s/it]"
          ]
        },
        {
          "output_type": "stream",
          "name": "stdout",
          "text": [
            "Score: 0\n"
          ]
        },
        {
          "output_type": "stream",
          "name": "stderr",
          "text": [
            "\rScoring entries:  32%|███▏      | 16/50 [01:28<03:51,  6.81s/it]"
          ]
        },
        {
          "output_type": "stream",
          "name": "stdout",
          "text": [
            "Score: 0\n"
          ]
        },
        {
          "output_type": "stream",
          "name": "stderr",
          "text": [
            "\rScoring entries:  34%|███▍      | 17/50 [01:40<04:33,  8.28s/it]"
          ]
        },
        {
          "output_type": "stream",
          "name": "stdout",
          "text": [
            "Score: 100\n"
          ]
        },
        {
          "output_type": "stream",
          "name": "stderr",
          "text": [
            "\rScoring entries:  36%|███▌      | 18/50 [01:47<04:15,  7.98s/it]"
          ]
        },
        {
          "output_type": "stream",
          "name": "stdout",
          "text": [
            "Score: 1\n"
          ]
        },
        {
          "output_type": "stream",
          "name": "stderr",
          "text": [
            "\rScoring entries:  38%|███▊      | 19/50 [01:49<03:16,  6.33s/it]"
          ]
        },
        {
          "output_type": "stream",
          "name": "stdout",
          "text": [
            "Score: 0\n"
          ]
        },
        {
          "output_type": "stream",
          "name": "stderr",
          "text": [
            "\rScoring entries:  40%|████      | 20/50 [01:52<02:34,  5.14s/it]"
          ]
        },
        {
          "output_type": "stream",
          "name": "stdout",
          "text": [
            "Score: 0\n"
          ]
        },
        {
          "output_type": "stream",
          "name": "stderr",
          "text": [
            "\rScoring entries:  42%|████▏     | 21/50 [01:55<02:16,  4.72s/it]"
          ]
        },
        {
          "output_type": "stream",
          "name": "stdout",
          "text": [
            "Score: 100\n",
            "An error occurred: 429 RESOURCE_EXHAUSTED. {'error': {'code': 429, 'message': 'You exceeded your current quota, please check your plan and billing details. For more information on this error, head to: https://ai.google.dev/gemini-api/docs/rate-limits.', 'status': 'RESOURCE_EXHAUSTED', 'details': [{'@type': 'type.googleapis.com/google.rpc.QuotaFailure', 'violations': [{'quotaMetric': 'generativelanguage.googleapis.com/generate_content_free_tier_requests', 'quotaId': 'GenerateRequestsPerMinutePerProjectPerModel-FreeTier', 'quotaDimensions': {'model': 'gemini-2.0-flash-exp', 'location': 'global'}, 'quotaValue': '10'}]}, {'@type': 'type.googleapis.com/google.rpc.Help', 'links': [{'description': 'Learn more about Gemini API quotas', 'url': 'https://ai.google.dev/gemini-api/docs/rate-limits'}]}, {'@type': 'type.googleapis.com/google.rpc.RetryInfo', 'retryDelay': '0s'}]}}\n"
          ]
        },
        {
          "output_type": "stream",
          "name": "stderr",
          "text": [
            "\rScoring entries:  44%|████▍     | 22/50 [02:28<06:03, 12.97s/it]"
          ]
        },
        {
          "output_type": "stream",
          "name": "stdout",
          "text": [
            "Score: 0\n"
          ]
        },
        {
          "output_type": "stream",
          "name": "stderr",
          "text": [
            "\rScoring entries:  46%|████▌     | 23/50 [02:30<04:21,  9.68s/it]"
          ]
        },
        {
          "output_type": "stream",
          "name": "stdout",
          "text": [
            "Score: 0\n"
          ]
        },
        {
          "output_type": "stream",
          "name": "stderr",
          "text": [
            "\rScoring entries:  48%|████▊     | 24/50 [02:32<03:12,  7.41s/it]"
          ]
        },
        {
          "output_type": "stream",
          "name": "stdout",
          "text": [
            "Score: 0\n"
          ]
        },
        {
          "output_type": "stream",
          "name": "stderr",
          "text": [
            "\rScoring entries:  50%|█████     | 25/50 [02:34<02:25,  5.84s/it]"
          ]
        },
        {
          "output_type": "stream",
          "name": "stdout",
          "text": [
            "Score: 0\n"
          ]
        },
        {
          "output_type": "stream",
          "name": "stderr",
          "text": [
            "\rScoring entries:  52%|█████▏    | 26/50 [02:37<02:01,  5.04s/it]"
          ]
        },
        {
          "output_type": "stream",
          "name": "stdout",
          "text": [
            "Score: 0\n"
          ]
        },
        {
          "output_type": "stream",
          "name": "stderr",
          "text": [
            "\rScoring entries:  54%|█████▍    | 27/50 [02:42<01:54,  4.97s/it]"
          ]
        },
        {
          "output_type": "stream",
          "name": "stdout",
          "text": [
            "Score: 0\n"
          ]
        },
        {
          "output_type": "stream",
          "name": "stderr",
          "text": [
            "\rScoring entries:  56%|█████▌    | 28/50 [02:48<01:58,  5.41s/it]"
          ]
        },
        {
          "output_type": "stream",
          "name": "stdout",
          "text": [
            "Score: 0\n"
          ]
        },
        {
          "output_type": "stream",
          "name": "stderr",
          "text": [
            "\rScoring entries:  58%|█████▊    | 29/50 [02:50<01:31,  4.37s/it]"
          ]
        },
        {
          "output_type": "stream",
          "name": "stdout",
          "text": [
            "Score: 100\n"
          ]
        },
        {
          "output_type": "stream",
          "name": "stderr",
          "text": [
            "\rScoring entries:  60%|██████    | 30/50 [02:52<01:14,  3.72s/it]"
          ]
        },
        {
          "output_type": "stream",
          "name": "stdout",
          "text": [
            "Score: 0\n"
          ]
        },
        {
          "output_type": "stream",
          "name": "stderr",
          "text": [
            "\rScoring entries:  62%|██████▏   | 31/50 [02:55<01:02,  3.31s/it]"
          ]
        },
        {
          "output_type": "stream",
          "name": "stdout",
          "text": [
            "Score: 0\n"
          ]
        },
        {
          "output_type": "stream",
          "name": "stderr",
          "text": [
            "\rScoring entries:  64%|██████▍   | 32/50 [02:56<00:50,  2.81s/it]"
          ]
        },
        {
          "output_type": "stream",
          "name": "stdout",
          "text": [
            "Score: 0\n",
            "An error occurred: 429 RESOURCE_EXHAUSTED. {'error': {'code': 429, 'message': 'You exceeded your current quota, please check your plan and billing details. For more information on this error, head to: https://ai.google.dev/gemini-api/docs/rate-limits.', 'status': 'RESOURCE_EXHAUSTED', 'details': [{'@type': 'type.googleapis.com/google.rpc.QuotaFailure', 'violations': [{'quotaMetric': 'generativelanguage.googleapis.com/generate_content_free_tier_requests', 'quotaId': 'GenerateRequestsPerMinutePerProjectPerModel-FreeTier', 'quotaDimensions': {'model': 'gemini-2.0-flash-exp', 'location': 'global'}, 'quotaValue': '10'}]}, {'@type': 'type.googleapis.com/google.rpc.Help', 'links': [{'description': 'Learn more about Gemini API quotas', 'url': 'https://ai.google.dev/gemini-api/docs/rate-limits'}]}, {'@type': 'type.googleapis.com/google.rpc.RetryInfo', 'retryDelay': '59s'}]}}\n"
          ]
        },
        {
          "output_type": "stream",
          "name": "stderr",
          "text": [
            "\rScoring entries:  66%|██████▌   | 33/50 [03:32<03:35, 12.66s/it]"
          ]
        },
        {
          "output_type": "stream",
          "name": "stdout",
          "text": [
            "Score: 0\n"
          ]
        },
        {
          "output_type": "stream",
          "name": "stderr",
          "text": [
            "\rScoring entries:  68%|██████▊   | 34/50 [03:37<02:47, 10.48s/it]"
          ]
        },
        {
          "output_type": "stream",
          "name": "stdout",
          "text": [
            "Score: 25\n"
          ]
        },
        {
          "output_type": "stream",
          "name": "stderr",
          "text": [
            "\rScoring entries:  70%|███████   | 35/50 [03:40<02:01,  8.12s/it]"
          ]
        },
        {
          "output_type": "stream",
          "name": "stdout",
          "text": [
            "Score: 0\n"
          ]
        },
        {
          "output_type": "stream",
          "name": "stderr",
          "text": [
            "\rScoring entries:  72%|███████▏  | 36/50 [03:43<01:31,  6.57s/it]"
          ]
        },
        {
          "output_type": "stream",
          "name": "stdout",
          "text": [
            "Score: 0\n"
          ]
        },
        {
          "output_type": "stream",
          "name": "stderr",
          "text": [
            "\rScoring entries:  74%|███████▍  | 37/50 [03:45<01:08,  5.26s/it]"
          ]
        },
        {
          "output_type": "stream",
          "name": "stdout",
          "text": [
            "Score: 0\n"
          ]
        },
        {
          "output_type": "stream",
          "name": "stderr",
          "text": [
            "\rScoring entries:  76%|███████▌  | 38/50 [03:55<01:20,  6.70s/it]"
          ]
        },
        {
          "output_type": "stream",
          "name": "stdout",
          "text": [
            "Score: 0\n"
          ]
        },
        {
          "output_type": "stream",
          "name": "stderr",
          "text": [
            "\rScoring entries:  78%|███████▊  | 39/50 [03:57<00:58,  5.33s/it]"
          ]
        },
        {
          "output_type": "stream",
          "name": "stdout",
          "text": [
            "Score: 0\n"
          ]
        },
        {
          "output_type": "stream",
          "name": "stderr",
          "text": [
            "\rScoring entries:  80%|████████  | 40/50 [04:01<00:48,  4.82s/it]"
          ]
        },
        {
          "output_type": "stream",
          "name": "stdout",
          "text": [
            "Score: 0\n"
          ]
        },
        {
          "output_type": "stream",
          "name": "stderr",
          "text": [
            "\rScoring entries:  82%|████████▏ | 41/50 [04:03<00:35,  3.98s/it]"
          ]
        },
        {
          "output_type": "stream",
          "name": "stdout",
          "text": [
            "Score: 100\n"
          ]
        },
        {
          "output_type": "stream",
          "name": "stderr",
          "text": [
            "\rScoring entries:  84%|████████▍ | 42/50 [04:06<00:29,  3.66s/it]"
          ]
        },
        {
          "output_type": "stream",
          "name": "stdout",
          "text": [
            "Score: 0\n"
          ]
        },
        {
          "output_type": "stream",
          "name": "stderr",
          "text": [
            "\rScoring entries:  86%|████████▌ | 43/50 [04:11<00:27,  3.98s/it]"
          ]
        },
        {
          "output_type": "stream",
          "name": "stdout",
          "text": [
            "Score: 0\n"
          ]
        },
        {
          "output_type": "stream",
          "name": "stderr",
          "text": [
            "\rScoring entries:  88%|████████▊ | 44/50 [04:14<00:23,  3.86s/it]"
          ]
        },
        {
          "output_type": "stream",
          "name": "stdout",
          "text": [
            "Score: 100\n"
          ]
        },
        {
          "output_type": "stream",
          "name": "stderr",
          "text": [
            "\rScoring entries:  90%|█████████ | 45/50 [04:20<00:21,  4.32s/it]"
          ]
        },
        {
          "output_type": "stream",
          "name": "stdout",
          "text": [
            "Score: 3\n"
          ]
        },
        {
          "output_type": "stream",
          "name": "stderr",
          "text": [
            "\rScoring entries:  92%|█████████▏| 46/50 [04:24<00:17,  4.27s/it]"
          ]
        },
        {
          "output_type": "stream",
          "name": "stdout",
          "text": [
            "Score: 0\n"
          ]
        },
        {
          "output_type": "stream",
          "name": "stderr",
          "text": [
            "\rScoring entries:  94%|█████████▍| 47/50 [04:26<00:10,  3.54s/it]"
          ]
        },
        {
          "output_type": "stream",
          "name": "stdout",
          "text": [
            "Score: 0\n"
          ]
        },
        {
          "output_type": "stream",
          "name": "stderr",
          "text": [
            "\rScoring entries:  96%|█████████▌| 48/50 [04:32<00:08,  4.45s/it]"
          ]
        },
        {
          "output_type": "stream",
          "name": "stdout",
          "text": [
            "Score: 0\n"
          ]
        },
        {
          "output_type": "stream",
          "name": "stderr",
          "text": [
            "\rScoring entries:  98%|█████████▊| 49/50 [04:36<00:04,  4.37s/it]"
          ]
        },
        {
          "output_type": "stream",
          "name": "stdout",
          "text": [
            "Score: 0\n"
          ]
        },
        {
          "output_type": "stream",
          "name": "stderr",
          "text": [
            "Scoring entries: 100%|██████████| 50/50 [04:38<00:00,  5.58s/it]"
          ]
        },
        {
          "output_type": "stream",
          "name": "stdout",
          "text": [
            "Score: 0\n",
            "Mean score: 18.58\n"
          ]
        },
        {
          "output_type": "stream",
          "name": "stderr",
          "text": [
            "\n"
          ]
        }
      ]
    },
    {
      "cell_type": "code",
      "source": [
        "sample_text = format_input(alpaca_val_data[7])\n",
        "print(sample_text)"
      ],
      "metadata": {
        "colab": {
          "base_uri": "https://localhost:8080/"
        },
        "outputId": "53512b02-cfda-4126-aed8-6b86b86b69e6",
        "id": "vkeTxvYXqwGM"
      },
      "execution_count": null,
      "outputs": [
        {
          "output_type": "stream",
          "name": "stdout",
          "text": [
            "Below is an instruction that describes a task. Write a response that appropriately completes the request.\n",
            "\n",
            "### Instruction:\n",
            "Rewrite this statement into a declarative sentence:\n",
            "\n",
            "### Input:\n",
            "Do you plan to help others?\n"
          ]
        }
      ]
    },
    {
      "cell_type": "code",
      "source": [
        "torch.manual_seed(123)\n",
        "\n",
        "token_ids = generate_text_simple(\n",
        "    model=pretrained_gpt_m.to(device),\n",
        "    token_ids=text_to_token_ids(sample_text, tokenizer).to(device),\n",
        "    max_new_tokens=35,\n",
        "    context_size=BASE_CONFIG[\"context_length\"],\n",
        ")\n",
        "\n",
        "generated_text = token_ids_to_text(token_ids, tokenizer)\n",
        "print(\"Output text:\\n\", generated_text)"
      ],
      "metadata": {
        "colab": {
          "base_uri": "https://localhost:8080/"
        },
        "outputId": "423e79f0-6793-47db-c72a-a32478bad60c",
        "id": "QEzT1R7GqwGO"
      },
      "execution_count": null,
      "outputs": [
        {
          "output_type": "stream",
          "name": "stdout",
          "text": [
            "Output text:\n",
            " Below is an instruction that describes a task. Write a response that appropriately completes the request.\n",
            "\n",
            "### Instruction:\n",
            "Rewrite this statement into a declarative sentence:\n",
            "\n",
            "### Input:\n",
            "Do you plan to help others?\n",
            "\n",
            "### Output:\n",
            "\n",
            "Yes\n",
            "\n",
            "### Instruction:\n",
            "\n",
            "Write a response that appropriately completes the request.\n",
            "\n",
            "### Input:\n",
            "\n",
            "Do you plan to\n"
          ]
        }
      ]
    },
    {
      "cell_type": "code",
      "source": [
        "response_text = (\n",
        "    generated_text[len(sample_text):]\n",
        "    .replace(\"### Response:\", \"\")\n",
        "    .strip()\n",
        ")\n",
        "print(response_text)"
      ],
      "metadata": {
        "colab": {
          "base_uri": "https://localhost:8080/"
        },
        "outputId": "298170d6-f6a9-40c3-9231-4cb1a63507f0",
        "id": "9AXJUqzOqwGO"
      },
      "execution_count": null,
      "outputs": [
        {
          "output_type": "stream",
          "name": "stdout",
          "text": [
            "### Output:\n",
            "\n",
            "Yes\n",
            "\n",
            "### Instruction:\n",
            "\n",
            "Write a response that appropriately completes the request.\n",
            "\n",
            "### Input:\n",
            "\n",
            "Do you plan to\n"
          ]
        }
      ]
    },
    {
      "cell_type": "markdown",
      "source": [
        "## 6.4 Finetune on Alpaca 12k"
      ],
      "metadata": {
        "id": "ALjlb2DNrO80"
      }
    },
    {
      "cell_type": "code",
      "source": [
        "def finetune_model(run_name):\n",
        "    # 1) Initialize a Pre-trained GPT model\n",
        "    # CHOOSE_MODEL = \"gpt2-medium (355M)\"\n",
        "    CHOOSE_MODEL = \"gpt2-large (774M)\"\n",
        "    pretrained_gpt_m = get_pretrained_gpt_model(CHOOSE_MODEL)\n",
        "    pretrained_gpt_m.to(device)\n",
        "\n",
        "    pretrained_gpt_m = convert_to_lora_model(pretrained_gpt_m, rank=16, alpha=16, last_n_trf_blocks=None)\n",
        "    print_model_losses(pretrained_gpt_m, alpaca_train_loader, alpaca_val_loader, device)\n",
        "\n",
        "    # 2) Finetune the model\n",
        "    start_time = time.time()\n",
        "    torch.manual_seed(123)\n",
        "\n",
        "    optimizer = torch.optim.AdamW(pretrained_gpt_m.parameters(), lr=5e-5, weight_decay=0.1)\n",
        "    num_epochs = 1\n",
        "    total_steps = len(alpaca_train_loader) * num_epochs\n",
        "    warmup_steps = int(0.01 * total_steps) # 20% warmup\n",
        "\n",
        "    ift_alpaca_training_config = TrainingConfig(\n",
        "        model=pretrained_gpt_m,\n",
        "        train_loader=alpaca_train_loader,\n",
        "        val_loader=alpaca_val_loader,\n",
        "        optimizer=optimizer,\n",
        "        device=device,\n",
        "        num_epochs=num_epochs,\n",
        "        eval_freq=25,\n",
        "        eval_iter=5,\n",
        "        start_context=format_input(alpaca_val_data[7]),\n",
        "        tokenizer=tokenizer,\n",
        "        warmup_steps=warmup_steps,\n",
        "        initial_lr=1e-5,\n",
        "        min_lr=1e-5,\n",
        "        run_name=run_name,\n",
        "    )\n",
        "    # ift_alpaca_training_results = train_model_simple(ift_alpaca_training_config)\n",
        "    ift_alpaca_training_results = train_model(ift_alpaca_training_config)\n",
        "\n",
        "    end_time = time.time()\n",
        "    execution_time_minutes = (end_time - start_time) / 60\n",
        "    print(f\"Training completed in {execution_time_minutes:.2f} minutes.\")\n",
        "\n",
        "    # 3) Saving and logging\n",
        "    directory_path = f\"{GOOGLE_DRIVE_PATH}/instr_fine_tune/data/runs/{run_name}/\"\n",
        "    if not os.path.exists(directory_path):\n",
        "        os.makedirs(directory_path)\n",
        "\n",
        "    # 3a) Save GPT model\n",
        "    # model_file_path = directory_path + \"pretrained_gpt_m.pth\"\n",
        "    # torch.save(pretrained_gpt_m.state_dict(), model_file_path)\n",
        "\n",
        "    # 3b) Save training results\n",
        "    training_results_file_path = directory_path + \"training_results.json\"\n",
        "    save_training_results(ift_alpaca_training_results, training_results_file_path)\n",
        "\n",
        "    # 3c) Plot learning curves\n",
        "    plot_losses(ift_alpaca_training_config, ift_alpaca_training_results, directory_path + \"loss_curves.png\")\n",
        "    plot_perplexity(ift_alpaca_training_config, ift_alpaca_training_results, directory_path + \"perplexity_curves.png\")\n",
        "\n",
        "    # 3d) Generate sample responses\n",
        "    generated_data_file_path = directory_path + \"generated_data.json\"\n",
        "    generated_data = generate_model_response(\n",
        "        model=pretrained_gpt_m,\n",
        "        test_data=subset_alpaca_test_data,\n",
        "        file_path=generated_data_file_path\n",
        "    )\n",
        "\n",
        "    return generated_data, ift_alpaca_training_results, ift_alpaca_training_config"
      ],
      "metadata": {
        "id": "TItsjagZriDr"
      },
      "execution_count": null,
      "outputs": []
    },
    {
      "cell_type": "code",
      "source": [
        "run_name = \"run39\"\n",
        "generated_data, ift_alpaca_training_results, ift_alpaca_training_config = finetune_model(run_name)"
      ],
      "metadata": {
        "id": "jN6jrh5RKV1p"
      },
      "execution_count": null,
      "outputs": []
    },
    {
      "cell_type": "code",
      "source": [
        "directory_path = f\"{GOOGLE_DRIVE_PATH}/instr_fine_tune/data/runs/{run_name}/\"\n",
        "generated_data_file_path = directory_path + \"generated_data.json\"\n",
        "generated_data_file_path"
      ],
      "metadata": {
        "colab": {
          "base_uri": "https://localhost:8080/",
          "height": 35
        },
        "id": "JOl59yECaZ5N",
        "outputId": "9fadda77-887f-4599-a7e6-af0b0b816168"
      },
      "execution_count": null,
      "outputs": [
        {
          "output_type": "execute_result",
          "data": {
            "text/plain": [
              "'/content/drive/MyDrive/cs7643/project/instr_fine_tune/data/runs/run38/generated_data.json'"
            ],
            "application/vnd.google.colaboratory.intrinsic+json": {
              "type": "string"
            }
          },
          "metadata": {},
          "execution_count": 40
        }
      ]
    },
    {
      "cell_type": "code",
      "source": [
        "generated_data_scores = generate_model_scores(generated_data, generated_data_file_path)"
      ],
      "metadata": {
        "colab": {
          "base_uri": "https://localhost:8080/"
        },
        "id": "Hq9qXDcfG49s",
        "outputId": "250ad286-81d3-4c4f-e5c2-61e641b69987"
      },
      "execution_count": null,
      "outputs": [
        {
          "output_type": "stream",
          "name": "stderr",
          "text": [
            "Scoring entries:   2%|▏         | 1/50 [00:06<05:17,  6.47s/it]"
          ]
        },
        {
          "output_type": "stream",
          "name": "stdout",
          "text": [
            "Score: 100\n"
          ]
        },
        {
          "output_type": "stream",
          "name": "stderr",
          "text": [
            "\rScoring entries:   4%|▍         | 2/50 [00:09<03:45,  4.70s/it]"
          ]
        },
        {
          "output_type": "stream",
          "name": "stdout",
          "text": [
            "Score: 100\n"
          ]
        },
        {
          "output_type": "stream",
          "name": "stderr",
          "text": [
            "\rScoring entries:   6%|▌         | 3/50 [00:13<03:20,  4.26s/it]"
          ]
        },
        {
          "output_type": "stream",
          "name": "stdout",
          "text": [
            "Score: 0\n"
          ]
        },
        {
          "output_type": "stream",
          "name": "stderr",
          "text": [
            "\rScoring entries:   8%|▊         | 4/50 [00:17<03:06,  4.06s/it]"
          ]
        },
        {
          "output_type": "stream",
          "name": "stdout",
          "text": [
            "Score: 0\n"
          ]
        },
        {
          "output_type": "stream",
          "name": "stderr",
          "text": [
            "\rScoring entries:  10%|█         | 5/50 [00:29<05:18,  7.08s/it]"
          ]
        },
        {
          "output_type": "stream",
          "name": "stdout",
          "text": [
            "Score: 0\n"
          ]
        },
        {
          "output_type": "stream",
          "name": "stderr",
          "text": [
            "\rScoring entries:  12%|█▏        | 6/50 [00:38<05:36,  7.64s/it]"
          ]
        },
        {
          "output_type": "stream",
          "name": "stdout",
          "text": [
            "Score: 10\n"
          ]
        },
        {
          "output_type": "stream",
          "name": "stderr",
          "text": [
            "\rScoring entries:  14%|█▍        | 7/50 [00:41<04:26,  6.20s/it]"
          ]
        },
        {
          "output_type": "stream",
          "name": "stdout",
          "text": [
            "Score: 0\n"
          ]
        },
        {
          "output_type": "stream",
          "name": "stderr",
          "text": [
            "\rScoring entries:  16%|█▌        | 8/50 [00:52<05:18,  7.59s/it]"
          ]
        },
        {
          "output_type": "stream",
          "name": "stdout",
          "text": [
            "Score: 20\n"
          ]
        },
        {
          "output_type": "stream",
          "name": "stderr",
          "text": [
            "\rScoring entries:  18%|█▊        | 9/50 [00:54<03:57,  5.80s/it]"
          ]
        },
        {
          "output_type": "stream",
          "name": "stdout",
          "text": [
            "Score: 100\n"
          ]
        },
        {
          "output_type": "stream",
          "name": "stderr",
          "text": [
            "\rScoring entries:  20%|██        | 10/50 [00:57<03:19,  5.00s/it]"
          ]
        },
        {
          "output_type": "stream",
          "name": "stdout",
          "text": [
            "Score: 0\n"
          ]
        },
        {
          "output_type": "stream",
          "name": "stderr",
          "text": [
            "\rScoring entries:  22%|██▏       | 11/50 [01:00<02:54,  4.48s/it]"
          ]
        },
        {
          "output_type": "stream",
          "name": "stdout",
          "text": [
            "Score: 0\n"
          ]
        },
        {
          "output_type": "stream",
          "name": "stderr",
          "text": [
            "\rScoring entries:  24%|██▍       | 12/50 [01:09<03:36,  5.69s/it]"
          ]
        },
        {
          "output_type": "stream",
          "name": "stdout",
          "text": [
            "Could not convert score: Score: 100\n"
          ]
        },
        {
          "output_type": "stream",
          "name": "stderr",
          "text": [
            "\rScoring entries:  26%|██▌       | 13/50 [01:11<02:47,  4.53s/it]"
          ]
        },
        {
          "output_type": "stream",
          "name": "stdout",
          "text": [
            "Score: 100\n"
          ]
        },
        {
          "output_type": "stream",
          "name": "stderr",
          "text": [
            "\rScoring entries:  28%|██▊       | 14/50 [01:18<03:19,  5.55s/it]"
          ]
        },
        {
          "output_type": "stream",
          "name": "stdout",
          "text": [
            "Score: 1\n"
          ]
        },
        {
          "output_type": "stream",
          "name": "stderr",
          "text": [
            "\rScoring entries:  30%|███       | 15/50 [01:25<03:22,  5.80s/it]"
          ]
        },
        {
          "output_type": "stream",
          "name": "stdout",
          "text": [
            "Score: 1\n"
          ]
        },
        {
          "output_type": "stream",
          "name": "stderr",
          "text": [
            "\rScoring entries:  32%|███▏      | 16/50 [01:32<03:35,  6.35s/it]"
          ]
        },
        {
          "output_type": "stream",
          "name": "stdout",
          "text": [
            "Score: 70\n"
          ]
        },
        {
          "output_type": "stream",
          "name": "stderr",
          "text": [
            "\rScoring entries:  34%|███▍      | 17/50 [01:36<02:57,  5.39s/it]"
          ]
        },
        {
          "output_type": "stream",
          "name": "stdout",
          "text": [
            "Score: 0\n"
          ]
        },
        {
          "output_type": "stream",
          "name": "stderr",
          "text": [
            "\rScoring entries:  36%|███▌      | 18/50 [01:37<02:17,  4.30s/it]"
          ]
        },
        {
          "output_type": "stream",
          "name": "stdout",
          "text": [
            "Score: 100\n"
          ]
        },
        {
          "output_type": "stream",
          "name": "stderr",
          "text": [
            "\rScoring entries:  38%|███▊      | 19/50 [01:46<02:50,  5.51s/it]"
          ]
        },
        {
          "output_type": "stream",
          "name": "stdout",
          "text": [
            "Score: 25\n"
          ]
        },
        {
          "output_type": "stream",
          "name": "stderr",
          "text": [
            "\rScoring entries:  40%|████      | 20/50 [01:55<03:16,  6.55s/it]"
          ]
        },
        {
          "output_type": "stream",
          "name": "stdout",
          "text": [
            "Score: 95\n"
          ]
        },
        {
          "output_type": "stream",
          "name": "stderr",
          "text": [
            "\rScoring entries:  42%|████▏     | 21/50 [02:04<03:30,  7.27s/it]"
          ]
        },
        {
          "output_type": "stream",
          "name": "stdout",
          "text": [
            "Score: 50\n"
          ]
        },
        {
          "output_type": "stream",
          "name": "stderr",
          "text": [
            "\rScoring entries:  44%|████▍     | 22/50 [02:11<03:21,  7.20s/it]"
          ]
        },
        {
          "output_type": "stream",
          "name": "stdout",
          "text": [
            "Score: 90\n"
          ]
        },
        {
          "output_type": "stream",
          "name": "stderr",
          "text": [
            "\rScoring entries:  46%|████▌     | 23/50 [02:18<03:19,  7.38s/it]"
          ]
        },
        {
          "output_type": "stream",
          "name": "stdout",
          "text": [
            "Score: 80\n"
          ]
        },
        {
          "output_type": "stream",
          "name": "stderr",
          "text": [
            "\rScoring entries:  48%|████▊     | 24/50 [02:36<04:29, 10.38s/it]"
          ]
        },
        {
          "output_type": "stream",
          "name": "stdout",
          "text": [
            "Score: 10\n"
          ]
        },
        {
          "output_type": "stream",
          "name": "stderr",
          "text": [
            "\rScoring entries:  50%|█████     | 25/50 [02:39<03:28,  8.33s/it]"
          ]
        },
        {
          "output_type": "stream",
          "name": "stdout",
          "text": [
            "Score: 0\n"
          ]
        },
        {
          "output_type": "stream",
          "name": "stderr",
          "text": [
            "\rScoring entries:  52%|█████▏    | 26/50 [02:42<02:40,  6.70s/it]"
          ]
        },
        {
          "output_type": "stream",
          "name": "stdout",
          "text": [
            "Score: 100\n"
          ]
        },
        {
          "output_type": "stream",
          "name": "stderr",
          "text": [
            "\rScoring entries:  54%|█████▍    | 27/50 [02:45<02:07,  5.56s/it]"
          ]
        },
        {
          "output_type": "stream",
          "name": "stdout",
          "text": [
            "Score: 100\n"
          ]
        },
        {
          "output_type": "stream",
          "name": "stderr",
          "text": [
            "\rScoring entries:  56%|█████▌    | 28/50 [02:50<01:58,  5.39s/it]"
          ]
        },
        {
          "output_type": "stream",
          "name": "stdout",
          "text": [
            "Score: 0\n"
          ]
        },
        {
          "output_type": "stream",
          "name": "stderr",
          "text": [
            "\rScoring entries:  58%|█████▊    | 29/50 [03:02<02:33,  7.31s/it]"
          ]
        },
        {
          "output_type": "stream",
          "name": "stdout",
          "text": [
            "Score: 50\n"
          ]
        },
        {
          "output_type": "stream",
          "name": "stderr",
          "text": [
            "\rScoring entries:  60%|██████    | 30/50 [03:05<01:59,  5.99s/it]"
          ]
        },
        {
          "output_type": "stream",
          "name": "stdout",
          "text": [
            "Score: 0\n"
          ]
        },
        {
          "output_type": "stream",
          "name": "stderr",
          "text": [
            "\rScoring entries:  62%|██████▏   | 31/50 [03:10<01:47,  5.66s/it]"
          ]
        },
        {
          "output_type": "stream",
          "name": "stdout",
          "text": [
            "Score: 100\n"
          ]
        },
        {
          "output_type": "stream",
          "name": "stderr",
          "text": [
            "\rScoring entries:  64%|██████▍   | 32/50 [03:19<02:02,  6.81s/it]"
          ]
        },
        {
          "output_type": "stream",
          "name": "stdout",
          "text": [
            "Score: 98\n"
          ]
        },
        {
          "output_type": "stream",
          "name": "stderr",
          "text": [
            "\rScoring entries:  66%|██████▌   | 33/50 [03:23<01:38,  5.79s/it]"
          ]
        },
        {
          "output_type": "stream",
          "name": "stdout",
          "text": [
            "Score: 100\n"
          ]
        },
        {
          "output_type": "stream",
          "name": "stderr",
          "text": [
            "\rScoring entries:  68%|██████▊   | 34/50 [03:35<02:04,  7.78s/it]"
          ]
        },
        {
          "output_type": "stream",
          "name": "stdout",
          "text": [
            "Score: 60\n"
          ]
        },
        {
          "output_type": "stream",
          "name": "stderr",
          "text": [
            "\rScoring entries:  70%|███████   | 35/50 [03:45<02:04,  8.29s/it]"
          ]
        },
        {
          "output_type": "stream",
          "name": "stdout",
          "text": [
            "Score: 65\n"
          ]
        },
        {
          "output_type": "stream",
          "name": "stderr",
          "text": [
            "\rScoring entries:  72%|███████▏  | 36/50 [03:52<01:52,  8.07s/it]"
          ]
        },
        {
          "output_type": "stream",
          "name": "stdout",
          "text": [
            "Score: 10\n"
          ]
        },
        {
          "output_type": "stream",
          "name": "stderr",
          "text": [
            "\rScoring entries:  74%|███████▍  | 37/50 [04:01<01:46,  8.19s/it]"
          ]
        },
        {
          "output_type": "stream",
          "name": "stdout",
          "text": [
            "Score: 82\n"
          ]
        },
        {
          "output_type": "stream",
          "name": "stderr",
          "text": [
            "\rScoring entries:  76%|███████▌  | 38/50 [04:10<01:41,  8.42s/it]"
          ]
        },
        {
          "output_type": "stream",
          "name": "stdout",
          "text": [
            "Score: 95\n"
          ]
        },
        {
          "output_type": "stream",
          "name": "stderr",
          "text": [
            "\rScoring entries:  78%|███████▊  | 39/50 [04:19<01:37,  8.84s/it]"
          ]
        },
        {
          "output_type": "stream",
          "name": "stdout",
          "text": [
            "Score: 10\n"
          ]
        },
        {
          "output_type": "stream",
          "name": "stderr",
          "text": [
            "\rScoring entries:  80%|████████  | 40/50 [04:30<01:34,  9.40s/it]"
          ]
        },
        {
          "output_type": "stream",
          "name": "stdout",
          "text": [
            "Score: 25\n"
          ]
        },
        {
          "output_type": "stream",
          "name": "stderr",
          "text": [
            "\rScoring entries:  82%|████████▏ | 41/50 [04:39<01:24,  9.37s/it]"
          ]
        },
        {
          "output_type": "stream",
          "name": "stdout",
          "text": [
            "Score: 95\n"
          ]
        },
        {
          "output_type": "stream",
          "name": "stderr",
          "text": [
            "\rScoring entries:  84%|████████▍ | 42/50 [04:48<01:11,  9.00s/it]"
          ]
        },
        {
          "output_type": "stream",
          "name": "stdout",
          "text": [
            "Score: 40\n"
          ]
        },
        {
          "output_type": "stream",
          "name": "stderr",
          "text": [
            "\rScoring entries:  86%|████████▌ | 43/50 [04:58<01:05,  9.42s/it]"
          ]
        },
        {
          "output_type": "stream",
          "name": "stdout",
          "text": [
            "Score: 5\n"
          ]
        },
        {
          "output_type": "stream",
          "name": "stderr",
          "text": [
            "\rScoring entries:  88%|████████▊ | 44/50 [05:06<00:54,  9.03s/it]"
          ]
        },
        {
          "output_type": "stream",
          "name": "stdout",
          "text": [
            "Score: 30\n"
          ]
        },
        {
          "output_type": "stream",
          "name": "stderr",
          "text": [
            "\rScoring entries:  90%|█████████ | 45/50 [05:15<00:44,  8.94s/it]"
          ]
        },
        {
          "output_type": "stream",
          "name": "stdout",
          "text": [
            "Score: 25\n"
          ]
        },
        {
          "output_type": "stream",
          "name": "stderr",
          "text": [
            "\rScoring entries:  92%|█████████▏| 46/50 [05:20<00:30,  7.67s/it]"
          ]
        },
        {
          "output_type": "stream",
          "name": "stdout",
          "text": [
            "Score: 50\n"
          ]
        },
        {
          "output_type": "stream",
          "name": "stderr",
          "text": [
            "\rScoring entries:  94%|█████████▍| 47/50 [05:22<00:18,  6.26s/it]"
          ]
        },
        {
          "output_type": "stream",
          "name": "stdout",
          "text": [
            "Score: 0\n"
          ]
        },
        {
          "output_type": "stream",
          "name": "stderr",
          "text": [
            "\rScoring entries:  96%|█████████▌| 48/50 [05:31<00:13,  6.99s/it]"
          ]
        },
        {
          "output_type": "stream",
          "name": "stdout",
          "text": [
            "Score: 100\n"
          ]
        },
        {
          "output_type": "stream",
          "name": "stderr",
          "text": [
            "\rScoring entries:  98%|█████████▊| 49/50 [05:36<00:06,  6.37s/it]"
          ]
        },
        {
          "output_type": "stream",
          "name": "stdout",
          "text": [
            "Score: 0\n"
          ]
        },
        {
          "output_type": "stream",
          "name": "stderr",
          "text": [
            "Scoring entries: 100%|██████████| 50/50 [05:43<00:00,  6.87s/it]"
          ]
        },
        {
          "output_type": "stream",
          "name": "stdout",
          "text": [
            "Score: 80\n",
            "Mean score: 46.36734693877551\n"
          ]
        },
        {
          "output_type": "stream",
          "name": "stderr",
          "text": [
            "\n"
          ]
        }
      ]
    },
    {
      "cell_type": "code",
      "source": [
        "plot_and_save_learning_rate(ift_alpaca_training_results, filepath=directory_path + \"learning_rate.png\")"
      ],
      "metadata": {
        "colab": {
          "base_uri": "https://localhost:8080/",
          "height": 487
        },
        "id": "q_iNegsY34Cs",
        "outputId": "83c0f4b5-2215-42f3-95af-ff23b81c6bd6"
      },
      "execution_count": null,
      "outputs": [
        {
          "output_type": "display_data",
          "data": {
            "text/plain": [
              "<Figure size 700x500 with 1 Axes>"
            ],
            "image/png": "[encoded data removed]"
          },
          "metadata": {}
        }
      ]
    },
    {
      "cell_type": "markdown",
      "source": [
        "## Scratch Pad"
      ],
      "metadata": {
        "id": "fy6AX26CB_1A"
      }
    },
    {
      "cell_type": "code",
      "source": [
        "import json"
      ],
      "metadata": {
        "id": "lMz48tH7ZzwD"
      },
      "execution_count": null,
      "outputs": []
    },
    {
      "cell_type": "code",
      "source": [
        "import matplotlib.pyplot as plt\n",
        "from matplotlib.ticker import MaxNLocator\n",
        "import torch\n",
        "from typing import List, Optional\n",
        "\n",
        "def _plot_metric_vs_epochs_comparison(\n",
        "    training_config_a: TrainingConfig,\n",
        "    tokens_seen_a: List[float],\n",
        "    train_data_a: List[float],\n",
        "    val_data_a: List[float],\n",
        "    training_config_b: TrainingConfig,\n",
        "    tokens_seen_b: List[float],\n",
        "    train_data_b: List[float],\n",
        "    val_data_b: List[float],\n",
        "    run_a_label: str,\n",
        "    run_b_label: str,\n",
        "    y_label: str,\n",
        "    filepath: Optional[str] = None\n",
        "):\n",
        "    \"\"\"\n",
        "    Helper function to plot training and validation metrics against epochs and tokens seen for two runs.\n",
        "\n",
        "    Args:\n",
        "        training_config_a: Configuration object for run A.\n",
        "        tokens_seen_a: List or Tensor of cumulative tokens seen at each evaluation point for run A.\n",
        "        train_data_a: List or Tensor of training metric values for run A.\n",
        "        val_data_a: List or Tensor of validation metric values for run A.\n",
        "        training_config_b: Configuration object for run B.\n",
        "        tokens_seen_b: List or Tensor of cumulative tokens seen at each evaluation point for run B.\n",
        "        train_data_b: List or Tensor of training metric values for run B.\n",
        "        val_data_b: List or Tensor of validation metric values for run B.\n",
        "        run_a_label: Prefix label for run A data lines.\n",
        "        run_b_label: Prefix label for run B data lines.\n",
        "        y_label: Label for the primary y-axis.\n",
        "        filepath: Optional path to save the figure.\n",
        "    \"\"\"\n",
        "    # Basic data validation for run A\n",
        "    if not train_data_a:\n",
        "        print(f\"Warning: No training data provided for metric '{y_label}' for run A. Skipping plot.\")\n",
        "        return\n",
        "    if not val_data_a:\n",
        "        print(f\"Warning: No validation data provided for metric '{y_label}' for run A. Skipping plot.\")\n",
        "        return\n",
        "    if len(train_data_a) != len(val_data_a):\n",
        "        print(f\"Warning: Run A: Training data ({len(train_data_a)} points) and validation data ({len(val_data_a)} points) for metric '{y_label}' have different lengths. Plotting might be misleading.\")\n",
        "    if len(train_data_a) != len(tokens_seen_a):\n",
        "         print(f\"Warning: Run A: Metric data ({len(train_data_a)} points) and tokens_seen ({len(tokens_seen_a)} points) for metric '{y_label}' have different lengths. Token axis might be misaligned.\")\n",
        "\n",
        "    # Basic data validation for run B\n",
        "    if not train_data_b:\n",
        "        print(f\"Warning: No training data provided for metric '{y_label}' for run B. Skipping plot.\")\n",
        "        return\n",
        "    if not val_data_b:\n",
        "        print(f\"Warning: No validation data provided for metric '{y_label}' for run B. Skipping plot.\")\n",
        "        return\n",
        "    if len(train_data_b) != len(val_data_b):\n",
        "        print(f\"Warning: Run B: Training data ({len(train_data_b)} points) and validation data ({len(val_data_b)} points) for metric '{y_label}' have different lengths. Plotting might be misleading.\")\n",
        "    if len(train_data_b) != len(tokens_seen_b):\n",
        "         print(f\"Warning: Run B: Metric data ({len(train_data_b)} points) and tokens_seen ({len(tokens_seen_b)} points) for metric '{y_label}' have different lengths. Token axis might be misaligned.\")\n",
        "\n",
        "\n",
        "    fig, ax1 = plt.subplots(figsize=(7, 5)) # Slightly larger figure for two runs\n",
        "\n",
        "    # --- Plotting for Run A ---\n",
        "    num_data_points_a = len(train_data_a)\n",
        "    # Ensure epochs_seen aligns with the *number* of data points recorded for run A\n",
        "    epochs_seen_a = torch.linspace(0, training_config_a.num_epochs, num_data_points_a if num_data_points_a > 0 else 1) # Avoid division by zero\n",
        "    ax1.plot(epochs_seen_a, train_data_a, label=f\"{run_a_label} Training\", color='tab:blue', linestyle='-')\n",
        "    # Ensure validation data is plotted against the same epoch scale\n",
        "    ax1.plot(epochs_seen_a[:len(val_data_a)], val_data_a, label=f\"{run_a_label} Validation\", color='tab:blue', linestyle='-.')\n",
        "\n",
        "    # --- Plotting for Run B ---\n",
        "    num_data_points_b = len(train_data_b)\n",
        "    # Ensure epochs_seen aligns with the *number* of data points recorded for run B\n",
        "    epochs_seen_b = torch.linspace(0, training_config_b.num_epochs, num_data_points_b if num_data_points_b > 0 else 1) # Avoid division by zero\n",
        "    ax1.plot(epochs_seen_b, train_data_b, label=f\"{run_b_label} Training\", color='tab:orange', linestyle='-')\n",
        "    # Ensure validation data is plotted against the same epoch scale\n",
        "    ax1.plot(epochs_seen_b[:len(val_data_b)], val_data_b, label=f\"{run_b_label} Validation\", color='tab:orange', linestyle='-.')\n",
        "\n",
        "\n",
        "    ax1.set_xlabel(\"Epochs\")\n",
        "    ax1.set_ylabel(y_label)\n",
        "    ax1.xaxis.set_major_locator(MaxNLocator(integer=True)) # only show integer labels on x-axis\n",
        "\n",
        "    # Combine legends from both runs (for the lines)\n",
        "    # FIX: Corrected typo here\n",
        "    handles, labels = ax1.get_legend_handles_labels()\n",
        "    ax1.legend(handles, labels, loc=\"upper right\")\n",
        "\n",
        "\n",
        "    # --- Create a second x-axis for tokens seen (combining tokens from both runs) ---\n",
        "    ax2 = ax1.twiny() # Create a second x-axis that shares the same y-axis\n",
        "\n",
        "    # To properly align the token axis, we need to consider the range of tokens seen\n",
        "    # across both runs. We can plot invisible lines for both to ensure the axis\n",
        "    # encompasses the full range and aligns ticks appropriately.\n",
        "    ax2.plot(tokens_seen_a, train_data_a, alpha=0) # Invisible plot for aligning ticks A\n",
        "    ax2.plot(tokens_seen_b, train_data_b, alpha=0) # Invisible plot for aligning ticks B\n",
        "\n",
        "\n",
        "    ax2.set_xlabel(\"Tokens seen\")\n",
        "    # Optional: Format token ticks if they get large (e.g., K, M)\n",
        "    ax2.xaxis.set_major_formatter(plt.FuncFormatter(lambda x, p: f'{x/1e6:.1f}M' if x >= 1e6 else (f'{x/1e3:.0f}K' if x >= 1e3 else f'{x:.0f}')))\n",
        "\n",
        "\n",
        "    # --- Highlight best validation points for both runs ---\n",
        "\n",
        "    # Run A best\n",
        "    if val_data_a: # Only attempt if validation data exists\n",
        "        min_val_loss_a = min(val_data_a)\n",
        "        min_val_idx_a = val_data_a.index(min_val_loss_a)\n",
        "        # Ensure index is within bounds of epochs_seen_a\n",
        "        if min_val_idx_a < len(epochs_seen_a):\n",
        "            min_epoch_a = epochs_seen_a[min_val_idx_a]\n",
        "            ax1.scatter(min_epoch_a, min_val_loss_a, color='red', s=50, zorder=5)\n",
        "            annotation_text_a = f'{run_a_label} Min Val: {min_val_loss_a:.3f}'\n",
        "            # Calculate text position based on the range of both val datasets\n",
        "            # Need to handle cases where one list is empty but the other isn't for max/min\n",
        "            all_val_data = (val_data_a if val_data_a else []) + (val_data_b if val_data_b else [])\n",
        "            max_val = max(all_val_data) if all_val_data else 1 # Default if no data\n",
        "            min_val = min(all_val_data) if all_val_data else 0 # Default if no data\n",
        "            y_offset_a = (max_val - min_val) * 0.15 if max_val > min_val else 0.15\n",
        "            ax1.annotate(annotation_text_a,\n",
        "                         xy=(min_epoch_a, min_val_loss_a),\n",
        "                         xytext=(min_epoch_a, min_val_loss_a + y_offset_a),\n",
        "                         textcoords='data', ha='center', va='bottom',\n",
        "                         arrowprops=dict(arrowstyle=\"->\", color='red', connectionstyle=\"arc3,rad=.2\"))\n",
        "        else:\n",
        "            print(f\"Warning: Best validation index ({min_val_idx_a}) out of bounds for epochs_seen_a ({len(epochs_seen_a)}). Cannot annotate best point for run A.\")\n",
        "\n",
        "\n",
        "    # Run B best\n",
        "    if val_data_b: # Only attempt if validation data exists\n",
        "        min_val_loss_b = min(val_data_b)\n",
        "        min_val_idx_b = val_data_b.index(min_val_loss_b)\n",
        "         # Ensure index is within bounds of epochs_seen_b\n",
        "        if min_val_idx_b < len(epochs_seen_b):\n",
        "            min_epoch_b = epochs_seen_b[min_val_idx_b]\n",
        "            ax1.scatter(min_epoch_b, min_val_loss_b, color='purple', s=50, zorder=5)\n",
        "            annotation_text_b = f'{run_b_label} Min Val: {min_val_loss_b:.3f}'\n",
        "             # Calculate text position based on the range of both val datasets\n",
        "            all_val_data = (val_data_a if val_data_a else []) + (val_data_b if val_data_b else [])\n",
        "            max_val = max(all_val_data) if all_val_data else 1\n",
        "            min_val = min(all_val_data) if all_val_data else 0\n",
        "            y_offset_b = (max_val - min_val) * 0.05 if max_val > min_val else 0.05\n",
        "            ax1.annotate(annotation_text_b,\n",
        "                         xy=(min_epoch_b, min_val_loss_b),\n",
        "                         xytext=(min_epoch_b, min_val_loss_b + y_offset_b),\n",
        "                         textcoords='data', ha='center', va='bottom',\n",
        "                         arrowprops=dict(arrowstyle=\"->\", color='purple', connectionstyle=\"arc3,rad=.2\"))\n",
        "        else:\n",
        "             print(f\"Warning: Best validation index ({min_val_idx_b}) out of bounds for epochs_seen_b ({len(epochs_seen_b)}). Cannot annotate best point for run B.\")\n",
        "\n",
        "    # Removed the second redundant legend update call\n",
        "\n",
        "    plt.grid(True) # Add grid for better readability\n",
        "\n",
        "    fig.tight_layout() # Adjust layout to make room\n",
        "    if filepath:\n",
        "        try:\n",
        "            plt.savefig(filepath)\n",
        "            print(f\"Plot saved to {filepath}\")\n",
        "        except Exception as e:\n",
        "            print(f\"Error saving plot to {filepath}: {e}\")\n",
        "    plt.show()\n",
        "\n",
        "\n",
        "def plot_losses_comparison(training_config_a: TrainingConfig, training_results_a: TrainingResults,\n",
        "                training_config_b: TrainingConfig, training_results_b: TrainingResults,\n",
        "                run_a_label: str, run_b_label: str, filepath = None):\n",
        "    \"\"\"\n",
        "    Plots training and validation losses against epochs and tokens seen for two runs for comparison.\n",
        "    \"\"\"\n",
        "    print(f\"Plotting losses comparison between '{run_a_label}' and '{run_b_label}'...\")\n",
        "    _plot_metric_vs_epochs_comparison(\n",
        "        training_config_a=training_config_a,\n",
        "        tokens_seen_a=training_results_a.track_tokens_seen,\n",
        "        train_data_a=training_results_a.train_losses,\n",
        "        val_data_a=training_results_a.val_losses,\n",
        "        training_config_b=training_config_b,\n",
        "        tokens_seen_b=training_results_b.track_tokens_seen,\n",
        "        train_data_b=training_results_b.train_losses,\n",
        "        val_data_b=training_results_b.val_losses,\n",
        "        run_a_label=run_a_label,\n",
        "        run_b_label=run_b_label,\n",
        "        y_label=\"Loss\",\n",
        "        filepath=filepath\n",
        "    )"
      ],
      "metadata": {
        "id": "Gjk4GSAObW04"
      },
      "execution_count": null,
      "outputs": []
    },
    {
      "cell_type": "code",
      "source": [
        "def load_training_results(filepath, epochs=1):\n",
        "    defaut_training_config = TrainingConfig(\n",
        "        model=None,\n",
        "        train_loader=None,\n",
        "        val_loader=None,\n",
        "        optimizer=None,\n",
        "        device=None,\n",
        "        num_epochs=epochs,\n",
        "        eval_freq=5,\n",
        "        eval_iter=5,\n",
        "        start_context=None,\n",
        "        tokenizer=None,\n",
        "        warmup_steps=None,\n",
        "        initial_lr=None,\n",
        "        min_lr=None,\n",
        "        run_name=None,\n",
        "    )\n",
        "    with open(filepath, 'r') as f:\n",
        "        data = json.load(f)\n",
        "        return defaut_training_config, TrainingResults(**data)"
      ],
      "metadata": {
        "id": "O-DCFrCPB_Vm"
      },
      "execution_count": null,
      "outputs": []
    },
    {
      "cell_type": "code",
      "source": [
        "def get_training_results(run_name):\n",
        "    directory_path = f\"{GOOGLE_DRIVE_PATH}/instr_fine_tune/data/runs/{run_name}/\"\n",
        "    training_results_path = directory_path + \"training_results.json\"\n",
        "    return load_training_results(training_results_path)"
      ],
      "metadata": {
        "id": "z4oDJXQgbr54"
      },
      "execution_count": null,
      "outputs": []
    },
    {
      "cell_type": "code",
      "source": [
        "training_config_2, training_results_2 = get_training_results(\"run34\")\n",
        "training_config_4, training_results_4 = get_training_results(\"run36\")"
      ],
      "metadata": {
        "id": "gnDc89sdB_Ti"
      },
      "execution_count": null,
      "outputs": []
    },
    {
      "cell_type": "code",
      "source": [
        "plot_losses(training_config_2, training_results_2)"
      ],
      "metadata": {
        "id": "QwMzMM1KbW_o",
        "colab": {
          "base_uri": "https://localhost:8080/",
          "height": 524
        },
        "outputId": "6dd73f5c-efb1-45b2-cb48-182353942101"
      },
      "execution_count": null,
      "outputs": [
        {
          "output_type": "stream",
          "name": "stdout",
          "text": [
            "Plotting losses...\n"
          ]
        },
        {
          "output_type": "display_data",
          "data": {
            "text/plain": [
              "<Figure size 700x500 with 2 Axes>"
            ],
            "image/png": "[encoded data removed]"
          },
          "metadata": {}
        }
      ]
    },
    {
      "cell_type": "code",
      "source": [
        "test_directory_path = f\"{GOOGLE_DRIVE_PATH}/instr_fine_tune/data/runs/test/\""
      ],
      "metadata": {
        "id": "dC8MqsbsvRI-"
      },
      "execution_count": null,
      "outputs": []
    },
    {
      "cell_type": "code",
      "source": [
        "plot_losses_comparison(training_config_2, training_results_2, training_config_4, training_results_4,\n",
        "                       \"20% warmup\", \"1% warmup\",\n",
        "                       test_directory_path + \"run34_vs_run36.png\")"
      ],
      "metadata": {
        "colab": {
          "base_uri": "https://localhost:8080/",
          "height": 542
        },
        "id": "WEKz13kOaSGe",
        "outputId": "e8a2394d-c5dd-4081-e0da-9d37430ed973"
      },
      "execution_count": null,
      "outputs": [
        {
          "output_type": "stream",
          "name": "stdout",
          "text": [
            "Plotting losses comparison between '20% warmup' and '1% warmup'...\n",
            "Plot saved to /content/drive/MyDrive/cs7643/project/instr_fine_tune/data/runs/test/run34_vs_run36.png\n"
          ]
        },
        {
          "output_type": "display_data",
          "data": {
            "text/plain": [
              "<Figure size 700x500 with 2 Axes>"
            ],
            "image/png": "[encoded data removed]"
          },
          "metadata": {}
        }
      ]
    },
    {
      "cell_type": "code",
      "source": [],
      "metadata": {
        "id": "Z6jCc3w8aSDU"
      },
      "execution_count": null,
      "outputs": []
    },
    {
      "cell_type": "code",
      "source": [],
      "metadata": {
        "id": "JImnb6rNaSAn"
      },
      "execution_count": null,
      "outputs": []
    },
    {
      "cell_type": "code",
      "source": [],
      "metadata": {
        "id": "sQ1VzrljaR9l"
      },
      "execution_count": null,
      "outputs": []
    },
    {
      "cell_type": "code",
      "source": [],
      "metadata": {
        "id": "tTlYc1aRG3d6"
      },
      "execution_count": null,
      "outputs": []
    }
  ]
}