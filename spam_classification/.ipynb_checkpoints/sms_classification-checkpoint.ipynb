{
 "cells": [
  {
   "cell_type": "markdown",
   "metadata": {
    "id": "Vr-qyFSktVrG"
   },
   "source": [
    "# CS7643: GPT2 From Scratch & Fine Tuning"
   ]
  },
  {
   "cell_type": "markdown",
   "metadata": {
    "id": "vO2trnNoJ_sr"
   },
   "source": [
    "# 0. Setup"
   ]
  },
  {
   "cell_type": "markdown",
   "metadata": {
    "id": "XCDTFw8LZgcx"
   },
   "source": [
    "### [Optional] Set up Google Drive Connection"
   ]
  },
  {
   "cell_type": "code",
   "execution_count": 1,
   "metadata": {
    "id": "D0J9P8XZZKsH"
   },
   "outputs": [],
   "source": [
    "%load_ext autoreload\n",
    "%autoreload 2"
   ]
  },
  {
   "cell_type": "code",
   "execution_count": 2,
   "metadata": {
    "colab": {
     "base_uri": "https://localhost:8080/"
    },
    "id": "MfiVBmhzZMLY",
    "outputId": "312463d6-ec47-4948-9990-a729209d4f45"
   },
   "outputs": [
    {
     "ename": "ModuleNotFoundError",
     "evalue": "No module named 'google.colab'",
     "output_type": "error",
     "traceback": [
      "\u001b[1;31m---------------------------------------------------------------------------\u001b[0m",
      "\u001b[1;31mModuleNotFoundError\u001b[0m                       Traceback (most recent call last)",
      "Cell \u001b[1;32mIn[2], line 1\u001b[0m\n\u001b[1;32m----> 1\u001b[0m \u001b[38;5;28;01mfrom\u001b[39;00m\u001b[38;5;250m \u001b[39m\u001b[38;5;21;01mgoogle\u001b[39;00m\u001b[38;5;21;01m.\u001b[39;00m\u001b[38;5;21;01mcolab\u001b[39;00m\u001b[38;5;250m \u001b[39m\u001b[38;5;28;01mimport\u001b[39;00m drive\n\u001b[0;32m      2\u001b[0m drive\u001b[38;5;241m.\u001b[39mmount(\u001b[38;5;124m'\u001b[39m\u001b[38;5;124m/content/drive\u001b[39m\u001b[38;5;124m'\u001b[39m)\n",
      "\u001b[1;31mModuleNotFoundError\u001b[0m: No module named 'google.colab'"
     ]
    }
   ],
   "source": [
    "from google.colab import drive\n",
    "drive.mount('/content/drive')"
   ]
  },
  {
   "cell_type": "code",
   "execution_count": null,
   "metadata": {
    "colab": {
     "base_uri": "https://localhost:8080/"
    },
    "id": "JXUrVEoGZOSI",
    "outputId": "804276b9-9220-4c13-9aca-63148bc0babd"
   },
   "outputs": [],
   "source": [
    "import os\n",
    "\n",
    "# TODO: Fill in the Google Drive path where you uploaded assignment1\n",
    "# Example: If you create a Fall2023 folder and put all the files under A1 folder, then 'Fall2023/A1'\n",
    "GOOGLE_DRIVE_PATH_POST_MYDRIVE = 'cs7643/project'\n",
    "GOOGLE_DRIVE_PATH = os.path.join('/content', 'drive', 'MyDrive', GOOGLE_DRIVE_PATH_POST_MYDRIVE)\n",
    "print(os.listdir(GOOGLE_DRIVE_PATH))"
   ]
  },
  {
   "cell_type": "code",
   "execution_count": 3,
   "metadata": {
    "id": "kHRgOKJ6ZbrX"
   },
   "outputs": [
    {
     "ename": "NameError",
     "evalue": "name 'GOOGLE_DRIVE_PATH' is not defined",
     "output_type": "error",
     "traceback": [
      "\u001b[1;31m---------------------------------------------------------------------------\u001b[0m",
      "\u001b[1;31mNameError\u001b[0m                                 Traceback (most recent call last)",
      "Cell \u001b[1;32mIn[3], line 4\u001b[0m\n\u001b[0;32m      2\u001b[0m \u001b[38;5;28;01mimport\u001b[39;00m\u001b[38;5;250m \u001b[39m\u001b[38;5;21;01mnumpy\u001b[39;00m\u001b[38;5;250m \u001b[39m\u001b[38;5;28;01mas\u001b[39;00m\u001b[38;5;250m \u001b[39m\u001b[38;5;21;01mnp\u001b[39;00m\n\u001b[0;32m      3\u001b[0m \u001b[38;5;28;01mimport\u001b[39;00m\u001b[38;5;250m \u001b[39m\u001b[38;5;21;01mmath\u001b[39;00m\n\u001b[1;32m----> 4\u001b[0m sys\u001b[38;5;241m.\u001b[39mpath\u001b[38;5;241m.\u001b[39mappend(\u001b[43mGOOGLE_DRIVE_PATH\u001b[49m)\n",
      "\u001b[1;31mNameError\u001b[0m: name 'GOOGLE_DRIVE_PATH' is not defined"
     ]
    }
   ],
   "source": [
    "import sys\n",
    "import numpy as np\n",
    "import math\n",
    "sys.path.append(GOOGLE_DRIVE_PATH)"
   ]
  },
  {
   "cell_type": "code",
   "execution_count": 4,
   "metadata": {
    "colab": {
     "base_uri": "https://localhost:8080/"
    },
    "id": "PK1Y7DZrjQeG",
    "outputId": "c80f6aef-4363-4f73-89e1-833fcdc1855e"
   },
   "outputs": [
    {
     "data": {
      "text/plain": [
       "['C:\\\\ProgramData\\\\anaconda3\\\\python312.zip',\n",
       " 'C:\\\\ProgramData\\\\anaconda3\\\\DLLs',\n",
       " 'C:\\\\ProgramData\\\\anaconda3\\\\Lib',\n",
       " 'C:\\\\ProgramData\\\\anaconda3',\n",
       " '',\n",
       " 'C:\\\\Users\\\\Khanh Nguyen\\\\AppData\\\\Roaming\\\\Python\\\\Python312\\\\site-packages',\n",
       " 'C:\\\\Users\\\\Khanh Nguyen\\\\AppData\\\\Roaming\\\\Python\\\\Python312\\\\site-packages\\\\win32',\n",
       " 'C:\\\\Users\\\\Khanh Nguyen\\\\AppData\\\\Roaming\\\\Python\\\\Python312\\\\site-packages\\\\win32\\\\lib',\n",
       " 'C:\\\\Users\\\\Khanh Nguyen\\\\AppData\\\\Roaming\\\\Python\\\\Python312\\\\site-packages\\\\Pythonwin',\n",
       " 'C:\\\\ProgramData\\\\anaconda3\\\\Lib\\\\site-packages',\n",
       " 'C:\\\\ProgramData\\\\anaconda3\\\\Lib\\\\site-packages\\\\win32',\n",
       " 'C:\\\\ProgramData\\\\anaconda3\\\\Lib\\\\site-packages\\\\win32\\\\lib',\n",
       " 'C:\\\\ProgramData\\\\anaconda3\\\\Lib\\\\site-packages\\\\Pythonwin']"
      ]
     },
     "execution_count": 4,
     "metadata": {},
     "output_type": "execute_result"
    }
   ],
   "source": [
    "sys.path"
   ]
  },
  {
   "cell_type": "code",
   "execution_count": 5,
   "metadata": {
    "colab": {
     "base_uri": "https://localhost:8080/"
    },
    "id": "zVXHDfnuZZZZ",
    "outputId": "0ff8afb5-2741-42b7-f2de-6faec241d911"
   },
   "outputs": [
    {
     "name": "stdout",
     "output_type": "stream",
     "text": [
      "Running locally.\n"
     ]
    }
   ],
   "source": [
    "# if running locally set GOOGLE PATH\n",
    "import sys\n",
    "\n",
    "if 'google.colab' in sys.modules:\n",
    "    print(f'Running in google colab. Our path is `{GOOGLE_DRIVE_PATH}`')\n",
    "else:\n",
    "    GOOGLE_DRIVE_PATH = '.'\n",
    "    print('Running locally.')"
   ]
  },
  {
   "cell_type": "markdown",
   "metadata": {},
   "source": [
    "### Set up for local:"
   ]
  },
  {
   "cell_type": "code",
   "execution_count": 6,
   "metadata": {},
   "outputs": [
    {
     "name": "stdout",
     "output_type": "stream",
     "text": [
      "Current directory: G:\\Grad\\CS7643-DeepLearning\\cs7643-project\\sms_classification\n",
      "Parent directory: G:\\Grad\\CS7643-DeepLearning\\cs7643-project\n",
      "Python path now includes: ['C:\\\\ProgramData\\\\anaconda3\\\\python312.zip', 'C:\\\\ProgramData\\\\anaconda3\\\\DLLs', 'C:\\\\ProgramData\\\\anaconda3\\\\Lib', 'C:\\\\ProgramData\\\\anaconda3', '', 'C:\\\\Users\\\\Khanh Nguyen\\\\AppData\\\\Roaming\\\\Python\\\\Python312\\\\site-packages', 'C:\\\\Users\\\\Khanh Nguyen\\\\AppData\\\\Roaming\\\\Python\\\\Python312\\\\site-packages\\\\win32', 'C:\\\\Users\\\\Khanh Nguyen\\\\AppData\\\\Roaming\\\\Python\\\\Python312\\\\site-packages\\\\win32\\\\lib', 'C:\\\\Users\\\\Khanh Nguyen\\\\AppData\\\\Roaming\\\\Python\\\\Python312\\\\site-packages\\\\Pythonwin', 'C:\\\\ProgramData\\\\anaconda3\\\\Lib\\\\site-packages', 'C:\\\\ProgramData\\\\anaconda3\\\\Lib\\\\site-packages\\\\win32', 'C:\\\\ProgramData\\\\anaconda3\\\\Lib\\\\site-packages\\\\win32\\\\lib', 'C:\\\\ProgramData\\\\anaconda3\\\\Lib\\\\site-packages\\\\Pythonwin', 'G:\\\\Grad\\\\CS7643-DeepLearning\\\\cs7643-project']\n"
     ]
    }
   ],
   "source": [
    "import os\n",
    "import sys\n",
    "import numpy as np\n",
    "import math\n",
    "import matplotlib.pyplot as plt\n",
    "\n",
    "# Get current working directory (sms_classification)\n",
    "current_dir = os.getcwd()\n",
    "print(f\"Current directory: {current_dir}\")\n",
    "\n",
    "# Get parent directory (the root directory containing 'model')\n",
    "parent_dir = os.path.dirname(current_dir)\n",
    "print(f\"Parent directory: {parent_dir}\")\n",
    "\n",
    "# Add parent directory to Python path\n",
    "sys.path.append(parent_dir)\n",
    "print(f\"Python path now includes: {sys.path}\")"
   ]
  },
  {
   "cell_type": "markdown",
   "metadata": {
    "id": "0itX7X2zZn_s"
   },
   "source": [
    "### Import Modules"
   ]
  },
  {
   "cell_type": "code",
   "execution_count": 7,
   "metadata": {
    "colab": {
     "base_uri": "https://localhost:8080/"
    },
    "id": "MNv9dhcltM9M",
    "outputId": "6d8c07d5-92f2-4dd4-bd24-0f99bcbee48b"
   },
   "outputs": [
    {
     "name": "stdout",
     "output_type": "stream",
     "text": [
      "Requirement already satisfied: tiktoken in g:\\program files\\python312\\lib\\site-packages (0.9.0)\n",
      "Requirement already satisfied: regex>=2022.1.18 in g:\\program files\\python312\\lib\\site-packages (from tiktoken) (2024.11.6)\n",
      "Requirement already satisfied: requests>=2.26.0 in g:\\program files\\python312\\lib\\site-packages (from tiktoken) (2.32.3)\n",
      "Requirement already satisfied: charset-normalizer<4,>=2 in g:\\program files\\python312\\lib\\site-packages (from requests>=2.26.0->tiktoken) (3.4.1)\n",
      "Requirement already satisfied: idna<4,>=2.5 in g:\\program files\\python312\\lib\\site-packages (from requests>=2.26.0->tiktoken) (3.10)\n",
      "Requirement already satisfied: urllib3<3,>=1.21.1 in g:\\program files\\python312\\lib\\site-packages (from requests>=2.26.0->tiktoken) (2.3.0)\n",
      "Requirement already satisfied: certifi>=2017.4.17 in g:\\program files\\python312\\lib\\site-packages (from requests>=2.26.0->tiktoken) (2025.1.31)\n"
     ]
    }
   ],
   "source": [
    "!pip install tiktoken"
   ]
  },
  {
   "cell_type": "code",
   "execution_count": 8,
   "metadata": {
    "colab": {
     "base_uri": "https://localhost:8080/"
    },
    "id": "r23i-TndKDkO",
    "outputId": "b9beb04a-ebde-42dc-dfb7-31202b1bf0d7"
   },
   "outputs": [
    {
     "name": "stdout",
     "output_type": "stream",
     "text": [
      "tiktoken version: 0.9.0\n"
     ]
    }
   ],
   "source": [
    "from importlib.metadata import version\n",
    "import tiktoken\n",
    "print(\"tiktoken version:\", version(\"tiktoken\"))"
   ]
  },
  {
   "cell_type": "code",
   "execution_count": 9,
   "metadata": {
    "colab": {
     "base_uri": "https://localhost:8080/"
    },
    "id": "IeWaGyVlKGSq",
    "outputId": "e20da107-4f1d-45b8-d2fc-2c807ad043b1"
   },
   "outputs": [
    {
     "name": "stdout",
     "output_type": "stream",
     "text": [
      "torch version: 2.5.1\n",
      "Using device = cuda\n"
     ]
    }
   ],
   "source": [
    "import torch\n",
    "print(\"torch version:\", version(\"torch\"))\n",
    "\n",
    "device = 'mps' if torch.backends.mps.is_available() else ('cuda' if torch.cuda.is_available() else 'cpu')\n",
    "print(\"Using device = \" + device)\n",
    "if device == 'cpu':\n",
    "    print(\"WARNING: Using CPU will cause slower train times\")"
   ]
  },
  {
   "cell_type": "code",
   "execution_count": 10,
   "metadata": {
    "id": "j4HnzllKKHk-"
   },
   "outputs": [],
   "source": [
    "from torch.utils.data import Dataset, DataLoader"
   ]
  },
  {
   "cell_type": "code",
   "execution_count": 11,
   "metadata": {
    "id": "ta22rvfJpOxg"
   },
   "outputs": [],
   "source": [
    "from torch import nn"
   ]
  },
  {
   "cell_type": "code",
   "execution_count": 12,
   "metadata": {
    "id": "Rv5-QQY6lAD1"
   },
   "outputs": [],
   "source": [
    "import pandas as pd"
   ]
  },
  {
   "cell_type": "code",
   "execution_count": 13,
   "metadata": {
    "id": "vj2UrO4YlKHP"
   },
   "outputs": [],
   "source": [
    "import urllib\n",
    "from pathlib import Path\n",
    "import time\n",
    "from tqdm import tqdm"
   ]
  },
  {
   "cell_type": "markdown",
   "metadata": {
    "id": "XjR2sCawk0TP"
   },
   "source": [
    "# 1. Implement a GPT-2 Model"
   ]
  },
  {
   "cell_type": "code",
   "execution_count": 14,
   "metadata": {
    "id": "prULdEtOuuJr"
   },
   "outputs": [],
   "source": [
    "from model.gpt import GPTModel, text_to_token_ids, token_ids_to_text, generate_text_simple, generate, print_model_stats, TransformerBlock\n",
    "from model.load_model import load_weights\n",
    "from model.lora_gpt import LoRALayer, LinearWithLoRA, replace_linear_with_lora, replace_linear_with_lora_last_n"
   ]
  },
  {
   "cell_type": "markdown",
   "metadata": {
    "id": "r8eGGcMtYB2F"
   },
   "source": [
    "## 1.0 Utils"
   ]
  },
  {
   "cell_type": "code",
   "execution_count": 15,
   "metadata": {
    "id": "a-SVWsCM7Cs6"
   },
   "outputs": [],
   "source": [
    "from transformers import GPT2Model\n",
    "\n",
    "# Available Models Names\n",
    "model_names = {\n",
    "    \"gpt2-small (124M)\": \"openai-community/gpt2\",\n",
    "    \"gpt2-medium (355M)\": \"openai-community/gpt2-medium\",\n",
    "    \"gpt2-large (774M)\": \"openai-community/gpt2-large\",\n",
    "    \"gpt2-xl (1558M)\": \"openai-community/gpt2-xl\"\n",
    "}\n",
    "\n",
    "BASE_CONFIG = {\n",
    "    \"vocab_size\": 50257,     # Vocabulary size\n",
    "    \"context_length\": 1024,  # Context length\n",
    "    \"drop_rate\": 0.0,        # Dropout rate\n",
    "    \"qkv_bias\": True         # Query-key-value bias\n",
    "}\n",
    "\n",
    "model_configs = {\n",
    "    \"gpt2-small (124M)\": {\"emb_dim\": 768, \"n_layers\": 12, \"n_heads\": 12},\n",
    "    \"gpt2-medium (355M)\": {\"emb_dim\": 1024, \"n_layers\": 24, \"n_heads\": 16},\n",
    "    \"gpt2-large (774M)\": {\"emb_dim\": 1280, \"n_layers\": 36, \"n_heads\": 20},\n",
    "    \"gpt2-xl (1558M)\": {\"emb_dim\": 1600, \"n_layers\": 48, \"n_heads\": 25},\n",
    "}\n",
    "\n",
    "def get_raw_gpt(model_name):\n",
    "    if model_name not in model_configs:\n",
    "        raise ValueError(f\"Unknown model name: {model_name}\")\n",
    "\n",
    "    base_config_copy = BASE_CONFIG.copy()\n",
    "    base_config_copy.update(model_configs[model_name])\n",
    "    return GPTModel(base_config_copy)\n",
    "\n",
    "def get_pretrained_gpt_model(model_name, verbose=True):\n",
    "    if model_name not in model_configs:\n",
    "        raise ValueError(f\"Unknown model name: {model_name}\")\n",
    "\n",
    "    base_config_copy = BASE_CONFIG.copy()\n",
    "    base_config_copy.update(model_configs[model_name])\n",
    "    gpt_model = GPTModel(base_config_copy)\n",
    "\n",
    "    hf_pretrained_gpt = GPT2Model.from_pretrained(model_names[model_name], cache_dir=\"checkpoints\")\n",
    "    load_weights(gpt_model, hf_pretrained_gpt, base_config_copy)\n",
    "\n",
    "    if verbose:\n",
    "        print_model_stats(gpt_model, model_name)\n",
    "\n",
    "    return gpt_model"
   ]
  },
  {
   "cell_type": "code",
   "execution_count": 16,
   "metadata": {
    "id": "YT2xtQfWlhKp"
   },
   "outputs": [],
   "source": [
    "def convert_to_lora_model(model: GPTModel, rank: int, alpha: int, last_n_trf_blocks=None) -> GPTModel:\n",
    "    total_params = sum(p.numel() for p in model.parameters() if p.requires_grad)\n",
    "    print(f\"Total trainable parameters before: {total_params:,}\")\n",
    "\n",
    "    for param in model.parameters():\n",
    "        param.requires_grad = False\n",
    "\n",
    "    total_params = sum(p.numel() for p in model.parameters() if p.requires_grad)\n",
    "    print(f\"Total trainable parameters after: {total_params:,}\")\n",
    "\n",
    "    if last_n_trf_blocks is not None:\n",
    "        replace_linear_with_lora_last_n(model, n=last_n_trf_blocks, rank=rank, alpha=alpha)\n",
    "    else:\n",
    "        replace_linear_with_lora(model, rank=rank, alpha=alpha)\n",
    "\n",
    "    total_params = sum(p.numel() for p in model.parameters() if p.requires_grad)\n",
    "    print(f\"Total trainable LoRA parameters: {total_params:,}\")\n",
    "    model.to(device)\n",
    "    return model"
   ]
  },
  {
   "cell_type": "markdown",
   "metadata": {
    "id": "9PncFFFgdSQN"
   },
   "source": [
    "## 1.1 Sanity Check Creating GPT Model"
   ]
  },
  {
   "cell_type": "code",
   "execution_count": 17,
   "metadata": {
    "colab": {
     "base_uri": "https://localhost:8080/"
    },
    "id": "UlEgkrKj6HeJ",
    "outputId": "1a87cd6f-22fb-436f-b3aa-4dc146aaf764"
   },
   "outputs": [
    {
     "name": "stdout",
     "output_type": "stream",
     "text": [
      "[50256]\n",
      "\n",
      "==================================================\n",
      "                      IN\n",
      "==================================================\n",
      "\n",
      "Input text: Hello, I am\n",
      "Encoded input text: tensor([[15496,    11,   314,   716]])\n",
      "encoded_tensor.shape: torch.Size([1, 4])\n",
      "\n",
      "\n",
      "==================================================\n",
      "                      OUT\n",
      "==================================================\n",
      "\n",
      "Output: tensor([[15496,    11,   314,   716, 27018, 24086, 47843, 30961, 42348,  7267,\n",
      "         49706, 43231, 47062, 34657]])\n",
      "Output length: 14\n",
      "Output text: Hello, I am Featureiman Byeswickattribute argue logger Normandy Compton analogous\n"
     ]
    }
   ],
   "source": [
    "GPT_CONFIG_124M = {\n",
    "    \"vocab_size\": 50257,     # Vocabulary size\n",
    "    \"context_length\": 1024,  # Context length\n",
    "    \"emb_dim\": 768,          # Embedding dimension\n",
    "    \"n_heads\": 12,           # Number of attention heads\n",
    "    \"n_layers\": 12,          # Number of layers\n",
    "    \"drop_rate\": 0.1,        # Dropout rate\n",
    "    \"qkv_bias\": False        # Query-Key-Value bias\n",
    "}\n",
    "\n",
    "torch.manual_seed(123)\n",
    "test_raw_gpt = GPTModel(GPT_CONFIG_124M)\n",
    "test_raw_gpt.eval()  # disable dropout\n",
    "\n",
    "start_context = \"Hello, I am\"\n",
    "\n",
    "tokenizer = tiktoken.get_encoding(\"gpt2\")\n",
    "print(tokenizer.encode(\"<|endoftext|>\", allowed_special={\"<|endoftext|>\"}))\n",
    "encoded_tensor = text_to_token_ids(start_context, tokenizer)\n",
    "\n",
    "print(f\"\\n{50*'='}\\n{22*' '}IN\\n{50*'='}\")\n",
    "print(\"\\nInput text:\", start_context)\n",
    "print(\"Encoded input text:\", encoded_tensor)\n",
    "print(\"encoded_tensor.shape:\", encoded_tensor.shape)\n",
    "\n",
    "out_token_ids = generate_text_simple(\n",
    "    model=test_raw_gpt,\n",
    "    token_ids=encoded_tensor,\n",
    "    max_new_tokens=10,\n",
    "    context_size=GPT_CONFIG_124M[\"context_length\"]\n",
    ")\n",
    "decoded_text = token_ids_to_text(out_token_ids, tokenizer)\n",
    "\n",
    "print(f\"\\n\\n{50*'='}\\n{22*' '}OUT\\n{50*'='}\")\n",
    "print(\"\\nOutput:\", out_token_ids)\n",
    "print(\"Output length:\", len(out_token_ids[0]))\n",
    "print(\"Output text:\", decoded_text)"
   ]
  },
  {
   "cell_type": "code",
   "execution_count": 18,
   "metadata": {
    "colab": {
     "base_uri": "https://localhost:8080/"
    },
    "id": "pl5PBMe56HVP",
    "outputId": "3e897b01-fd96-4612-c2cd-b2ee68128eef"
   },
   "outputs": [
    {
     "name": "stdout",
     "output_type": "stream",
     "text": [
      "Total Parameters: 163,009,536\n",
      "Number of trainable parameters considering weight tying: 124,412,160\n"
     ]
    }
   ],
   "source": [
    "total_params = sum(p.numel() for p in test_raw_gpt.parameters())\n",
    "print(f\"Total Parameters: {total_params:,}\")\n",
    "\n",
    "total_params_gpt2 =  total_params - sum(p.numel() for p in test_raw_gpt.out_head.parameters())\n",
    "print(f\"Number of trainable parameters considering weight tying: {total_params_gpt2:,}\")"
   ]
  },
  {
   "cell_type": "code",
   "execution_count": 19,
   "metadata": {
    "colab": {
     "base_uri": "https://localhost:8080/"
    },
    "id": "KHUgFxo1btRW",
    "outputId": "849e4aa4-a2db-474e-830c-f3b3a85ce87d"
   },
   "outputs": [
    {
     "name": "stdout",
     "output_type": "stream",
     "text": [
      "Model Name: GPT-124M\n",
      "\tTotal Parameters: 163,009,536\n",
      "\tTotal Memory Requirement: 621.83 MB\n"
     ]
    }
   ],
   "source": [
    "print_model_stats(test_raw_gpt, \"GPT-124M\")"
   ]
  },
  {
   "cell_type": "markdown",
   "metadata": {
    "id": "6s2zo3vNQnvF"
   },
   "source": [
    "## 1.2 Sanity Check Loading Pre-trained Weights"
   ]
  },
  {
   "cell_type": "code",
   "execution_count": 20,
   "metadata": {
    "colab": {
     "base_uri": "https://localhost:8080/",
     "referenced_widgets": [
      "59d137cdc7114074a42d50d077f22bd2",
      "30e5d7c7fad244f0bdffd61817d4e898",
      "6892d80d30834ac89922d353c58d1afe",
      "7d326df2b99d49a381a2acde5a286ef9",
      "2866f7e744d14734935398b1c826e380",
      "d6761cd1067c4fa092a942d373819d5d",
      "f75fac600947449bba4836b06b88322f",
      "a6402a34a24f47f99109cba9f97adee0",
      "84290926106b48e3ad17222bbcfff83a",
      "bf336ce224a24a5dbfc47c3bdb9960b0",
      "137c903e0eb74330b4e6eb1ce01f9b5f",
      "2a7169b17c20421388cbd2c57aaabb2b",
      "6c5f581670a146f1b9a86739667a16ef",
      "6de0a3e9f72e4f5eb55cdb4b9854333f",
      "042abe1672c34b8184c2dca737a88d99",
      "fb492c2354aa4f4687b59391bad95e70",
      "110ca7774cb84667ab7832b453d5e30e",
      "e5f8ea229bf747eb854dd27f1bb24ccb",
      "64246d207ce04c03be5d67542c0a3b5d",
      "04d259e6069e4852bcf4dfb4ba6ae558",
      "fa426df74eab43c58ed2dd4b7093ce81",
      "1d0ff35f5d8b4c04b7e9277c2e19105e"
     ]
    },
    "id": "s-kDdhsMc6JO",
    "outputId": "6bdee77e-07f6-413e-a24e-6d8b90022afc"
   },
   "outputs": [],
   "source": [
    "# CHOOSE_MODEL = \"gpt2-medium (355M)\"\n",
    "CHOOSE_MODEL = \"gpt2-large (774M)\"\n",
    "test_pretrained_gpt = get_pretrained_gpt_model(CHOOSE_MODEL, verbose=False)"
   ]
  },
  {
   "cell_type": "code",
   "execution_count": 21,
   "metadata": {
    "colab": {
     "base_uri": "https://localhost:8080/"
    },
    "id": "h5KfRrBWU5pT",
    "outputId": "a527c61d-c72f-4ddf-924d-956393ed20b0"
   },
   "outputs": [
    {
     "name": "stdout",
     "output_type": "stream",
     "text": [
      "Output text:\n",
      " The state capital of New Jersey is Newark. The state capital of California is Los Angeles. The state capital of New York is Albany. The state capital of Texas is Austin. The state capital of Florida is Miami. The state\n"
     ]
    }
   ],
   "source": [
    "torch.manual_seed(123)\n",
    "\n",
    "tokenizer = tiktoken.get_encoding(\"gpt2\")\n",
    "\n",
    "token_ids = generate_text_simple(\n",
    "    model=test_pretrained_gpt.to(device),\n",
    "    # token_ids=text_to_token_ids(\"Every effort moves\", tokenizer).to(device),\n",
    "    token_ids=text_to_token_ids(\"The state capital of New Jersey is Newark. The state capital of California is\", tokenizer).to(device),\n",
    "    max_new_tokens=30,\n",
    "    context_size=BASE_CONFIG[\"context_length\"],\n",
    ")\n",
    "\n",
    "print(\"Output text:\\n\", token_ids_to_text(token_ids, tokenizer))"
   ]
  },
  {
   "cell_type": "markdown",
   "metadata": {
    "id": "oVWuqq5w_UnM"
   },
   "source": [
    "## 1.3 Sanity check LoRA model"
   ]
  },
  {
   "cell_type": "code",
   "execution_count": 22,
   "metadata": {
    "colab": {
     "base_uri": "https://localhost:8080/",
     "height": 240,
     "referenced_widgets": [
      "2a4acb386cd7445c9a306f45b49035ac",
      "4193edbc9dd24dd1930cb516f3e67c36",
      "39c21e48c25240b4a8b0a65ed26e6b56",
      "3ed30978b7894f58987619a35bc9751e",
      "72fc08a40e7d47e7ae9a778b13123adf",
      "16b2ed68aaa44c9f816a5949f938e7ec",
      "be0c0fabad584a4aa30dd010c1eae152",
      "daa8cc67975a40f0a6c3493bc117c529",
      "1a75f9599c4648588ea6ea05fae157d5",
      "d10fb6234f8a4b43a2046ff3f957b10d",
      "1ad3497b36bc4809ae08c1583b1c4ba6",
      "7a94e7c6a42c45e3b4eb0189927ca011",
      "baf8880e266640ea971de542d37be0f5",
      "06dbdd30e7e94304b8b8f3f58297b637",
      "c231276adcf344708059583054d23c53",
      "1417be87ed014e4ca7ec9f61e0e5b26b",
      "13f2a463ec5a4ad0b467970aef00e80d",
      "b1dbe6c5f036444a84dc05a1fbc04cf5",
      "951c4d07c293458e8714ed4f2eb2ab30",
      "83f0cde47fbc4575aaf32b1f90ca217c",
      "def93ba457604adb80b67b49576687a9",
      "888b68e0cc0c4f98979fa12f0a3d9c2f"
     ]
    },
    "id": "C8viZip4XK_0",
    "outputId": "501251ed-740c-4570-bce3-c7fb46fedd3b"
   },
   "outputs": [],
   "source": [
    "test_lora_gpt = get_pretrained_gpt_model(\"gpt2-small (124M)\", verbose=False)"
   ]
  },
  {
   "cell_type": "code",
   "execution_count": 23,
   "metadata": {
    "colab": {
     "base_uri": "https://localhost:8080/"
    },
    "id": "8a7IzwPe6FnM",
    "outputId": "d8a44148-cb00-4f2a-b759-0e2a2a8c8f71"
   },
   "outputs": [
    {
     "name": "stdout",
     "output_type": "stream",
     "text": [
      "Total trainable parameters before: 163,037,184\n",
      "Total trainable parameters after: 0\n"
     ]
    }
   ],
   "source": [
    "total_params = sum(p.numel() for p in test_lora_gpt.parameters() if p.requires_grad)\n",
    "print(f\"Total trainable parameters before: {total_params:,}\")\n",
    "\n",
    "for param in test_lora_gpt.parameters():\n",
    "    param.requires_grad = False\n",
    "\n",
    "total_params = sum(p.numel() for p in test_lora_gpt.parameters() if p.requires_grad)\n",
    "print(f\"Total trainable parameters after: {total_params:,}\")"
   ]
  },
  {
   "cell_type": "code",
   "execution_count": 24,
   "metadata": {
    "colab": {
     "base_uri": "https://localhost:8080/"
    },
    "id": "lct79HEu6Fk4",
    "outputId": "d770a7a6-fc11-4f6a-9e7c-d1a39e218bd1"
   },
   "outputs": [
    {
     "name": "stdout",
     "output_type": "stream",
     "text": [
      "Applying LoRA with rank=16, alpha=16 to the last 2 transformer blocks (indices 10 to 11).\n",
      "Total trainable LoRA parameters: 1,258,768\n"
     ]
    }
   ],
   "source": [
    "# replace_linear_with_lora(test_lora_gpt, rank=16, alpha=16)\n",
    "replace_linear_with_lora_last_n(test_lora_gpt, n=2, rank=16, alpha=16)\n",
    "\n",
    "total_params = sum(p.numel() for p in test_lora_gpt.parameters() if p.requires_grad)\n",
    "print(f\"Total trainable LoRA parameters: {total_params:,}\")"
   ]
  },
  {
   "cell_type": "code",
   "execution_count": 25,
   "metadata": {
    "colab": {
     "base_uri": "https://localhost:8080/"
    },
    "id": "CCl1w8S8U5jL",
    "outputId": "24b7c8d4-f3eb-403a-f769-36b4f2566b8c"
   },
   "outputs": [
    {
     "name": "stdout",
     "output_type": "stream",
     "text": [
      "Output text:\n",
      " Every effort moves forward, but it's not enough.\n",
      "\n",
      "\"I'm not going to sit here and say, 'I'm not going to do this,'\n"
     ]
    }
   ],
   "source": [
    "torch.manual_seed(123)\n",
    "\n",
    "tokenizer = tiktoken.get_encoding(\"gpt2\")\n",
    "\n",
    "token_ids = generate_text_simple(\n",
    "    model=test_lora_gpt.to(device),\n",
    "    token_ids=text_to_token_ids(\"Every effort moves\", tokenizer).to(device),\n",
    "    max_new_tokens=30,\n",
    "    context_size=BASE_CONFIG[\"context_length\"],\n",
    ")\n",
    "\n",
    "print(\"Output text:\\n\", token_ids_to_text(token_ids, tokenizer))"
   ]
  },
  {
   "cell_type": "code",
   "execution_count": null,
   "metadata": {
    "collapsed": true,
    "id": "x263ce0wOmLW",
    "jupyter": {
     "outputs_hidden": true
    }
   },
   "outputs": [],
   "source": []
  },
  {
   "cell_type": "markdown",
   "metadata": {
    "id": "-9Gx_ZC5Mg6b"
   },
   "source": [
    "# 3. The Verdict Dataset Loaders"
   ]
  },
  {
   "cell_type": "code",
   "execution_count": 26,
   "metadata": {
    "id": "EIsL40qmMROe"
   },
   "outputs": [],
   "source": [
    "class GPTDatasetV1(Dataset):\n",
    "    def __init__(self, txt, tokenizer, max_length, stride):\n",
    "        self.input_ids = []\n",
    "        self.target_ids = []\n",
    "\n",
    "        # Tokenize the entire text\n",
    "        token_ids = tokenizer.encode(txt, allowed_special={\"<|endoftext|>\"})\n",
    "\n",
    "        # Use a sliding window to chunk the book into overlapping sequences of max_length\n",
    "        for i in range(0, len(token_ids) - max_length, stride):\n",
    "            input_chunk = token_ids[i:i + max_length]\n",
    "            target_chunk = token_ids[i + 1: i + max_length + 1]\n",
    "            self.input_ids.append(torch.tensor(input_chunk))\n",
    "            self.target_ids.append(torch.tensor(target_chunk))\n",
    "\n",
    "    def __len__(self):\n",
    "        return len(self.input_ids)\n",
    "\n",
    "    def __getitem__(self, idx):\n",
    "        return self.input_ids[idx], self.target_ids[idx]\n",
    "\n",
    "\n",
    "def create_dataloader_v1(txt, batch_size=4, max_length=256,\n",
    "                         stride=128, shuffle=True, drop_last=True, num_workers=0):\n",
    "    # Initialize the tokenizer\n",
    "    tokenizer = tiktoken.get_encoding(\"gpt2\")\n",
    "\n",
    "    # Create dataset\n",
    "    dataset = GPTDatasetV1(txt, tokenizer, max_length, stride)\n",
    "\n",
    "    # Create dataloader\n",
    "    dataloader = DataLoader(\n",
    "        dataset, batch_size=batch_size, shuffle=shuffle, drop_last=drop_last, num_workers=num_workers)\n",
    "\n",
    "    return dataloader"
   ]
  },
  {
   "cell_type": "code",
   "execution_count": 27,
   "metadata": {},
   "outputs": [],
   "source": [
    "class SpamDataset(Dataset):\n",
    "    def __init__(self, dataframe, tokenizer, max_length=None, pad_token_id=50256):\n",
    "        self.data = dataframe\n",
    "        \n",
    "        # Convert to string and check for NaN values\n",
    "        self.data['Message'] = self.data['Message'].astype(str)\n",
    "        \n",
    "        # Pre-tokenize texts with error handling\n",
    "        self.encoded_texts = []\n",
    "        for i, text in enumerate(self.data[\"Message\"]):\n",
    "            try:\n",
    "                encoded = tokenizer.encode(text)\n",
    "                self.encoded_texts.append(encoded)\n",
    "            except Exception as e:\n",
    "                print(f\"Error encoding text at index {i}: {text}\")\n",
    "                print(f\"Error message: {str(e)}\")\n",
    "                # Use an empty sequence as fallback\n",
    "                self.encoded_texts.append([])\n",
    "        \n",
    "        if max_length is None:\n",
    "            self.max_length = self._longest_encoded_length()\n",
    "        else:\n",
    "            self.max_length = max_length\n",
    "        \n",
    "        # Truncate sequences if they are longer than max_length\n",
    "        self.encoded_texts = [\n",
    "            encoded_text[:self.max_length] if len(encoded_text) > 0 else [0]\n",
    "            for encoded_text in self.encoded_texts\n",
    "        ]\n",
    "\n",
    "        # Pad sequences to the longest sequence\n",
    "        self.encoded_texts = [\n",
    "            encoded_text + [pad_token_id] * (self.max_length - len(encoded_text))\n",
    "            for encoded_text in self.encoded_texts\n",
    "        ]\n",
    "\n",
    "        # Convert labels to integers\n",
    "        self.labels = [1 if label == \"spam\" else 0 for label in self.data[\"Label\"]]\n",
    "\n",
    "    def __getitem__(self, index):\n",
    "        encoded = self.encoded_texts[index]\n",
    "        label = self.labels[index]\n",
    "        return (\n",
    "            torch.tensor(encoded, dtype=torch.long),\n",
    "            torch.tensor(label, dtype=torch.long)\n",
    "        )\n",
    "\n",
    "    def __len__(self):\n",
    "        return len(self.data)\n",
    "\n",
    "    def _longest_encoded_length(self):\n",
    "        max_length = 0\n",
    "        for encoded_text in self.encoded_texts:\n",
    "            encoded_length = len(encoded_text)\n",
    "            if encoded_length > max_length:\n",
    "                max_length = encoded_length\n",
    "        return max_length"
   ]
  },
  {
   "cell_type": "markdown",
   "metadata": {
    "id": "GpOofVxjN3Pj"
   },
   "source": [
    "### Download data"
   ]
  },
  {
   "cell_type": "code",
   "execution_count": 28,
   "metadata": {
    "colab": {
     "base_uri": "https://localhost:8080/"
    },
    "id": "2I3jZ-J3MkHm",
    "outputId": "418f6636-72ae-4544-f257-96db13901fa9"
   },
   "outputs": [
    {
     "name": "stdout",
     "output_type": "stream",
     "text": [
      "Downloading file from https://raw.githubusercontent.com/MWiechmann/enron_spam_data/master/enron_spam_data.zip...\n",
      "Download successful. File saved to enron_spam_data.zip\n",
      "Extracting to enron_spam_data...\n",
      "Extraction successful. CSV file available at enron_spam_data\\enron_spam_data.csv\n"
     ]
    }
   ],
   "source": [
    "import urllib.request\n",
    "import zipfile\n",
    "import os\n",
    "from pathlib import Path\n",
    "\n",
    "url = \"https://raw.githubusercontent.com/MWiechmann/enron_spam_data/master/enron_spam_data.zip\"\n",
    "\n",
    "zip_path = \"enron_spam_data.zip\"\n",
    "extracted_path = \"enron_spam_data\"\n",
    "date_file_path = Path(extracted_path)/\"enron_spam_data.csv\"\n",
    "\n",
    "# Download the zip file\n",
    "print(f\"Downloading file from {url}...\")\n",
    "urllib.request.urlretrieve(url, zip_path)\n",
    "\n",
    "# Check if the download was successful\n",
    "if os.path.exists(zip_path):\n",
    "    print(f\"Download successful. File saved to {zip_path}\")\n",
    "    \n",
    "    # Create extraction directory if it doesn't exist\n",
    "    if not os.path.exists(extracted_path):\n",
    "        os.makedirs(extracted_path)\n",
    "    \n",
    "    # Extract the zip file\n",
    "    print(f\"Extracting to {extracted_path}...\")\n",
    "    with zipfile.ZipFile(zip_path, 'r') as zip_ref:\n",
    "        zip_ref.extractall(extracted_path)\n",
    "    \n",
    "    # Check if the CSV file was extracted\n",
    "    if os.path.exists(date_file_path):\n",
    "        print(f\"Extraction successful. CSV file available at {date_file_path}\")\n",
    "    else:\n",
    "        print(\"Extraction completed, but CSV file not found.\")\n",
    "else:\n",
    "    print(\"Download failed.\")"
   ]
  },
  {
   "cell_type": "markdown",
   "metadata": {},
   "source": [
    "### Put the data into pandas dataframe:"
   ]
  },
  {
   "cell_type": "code",
   "execution_count": 33,
   "metadata": {},
   "outputs": [
    {
     "name": "stdout",
     "output_type": "stream",
     "text": [
      "\n",
      "DataFrame loaded successfully. Sample data:\n",
      "                                             Message Label\n",
      "0                                                NaN   ham\n",
      "1  gary , production from the high island larger ...   ham\n",
      "2             - calpine daily gas nomination 1 . doc   ham\n",
      "3  fyi - see note below - already done .\\nstella\\...   ham\n",
      "4  fyi .\\n- - - - - - - - - - - - - - - - - - - -...   ham\n"
     ]
    }
   ],
   "source": [
    "# Load only the Spam/Ham and Message columns into a DataFrame\n",
    "df = pd.read_csv(date_file_path, usecols=['Spam/Ham', 'Message'])\n",
    "df = df.rename(columns={'Spam/Ham': 'Label'})\n",
    "\n",
    "# Display the first few rows of the DataFrame\n",
    "print(\"\\nDataFrame loaded successfully. Sample data:\")\n",
    "print(df.head())"
   ]
  },
  {
   "cell_type": "code",
   "execution_count": 34,
   "metadata": {},
   "outputs": [
    {
     "name": "stdout",
     "output_type": "stream",
     "text": [
      "Label\n",
      "spam    17171\n",
      "ham     16545\n",
      "Name: count, dtype: int64\n"
     ]
    }
   ],
   "source": [
    "print(df[\"Label\"].value_counts())"
   ]
  },
  {
   "cell_type": "markdown",
   "metadata": {},
   "source": [
    "### Take 1000 samples for each label"
   ]
  },
  {
   "cell_type": "code",
   "execution_count": 48,
   "metadata": {},
   "outputs": [
    {
     "name": "stdout",
     "output_type": "stream",
     "text": [
      "Label\n",
      "ham     500\n",
      "spam    500\n",
      "Name: count, dtype: int64\n"
     ]
    }
   ],
   "source": [
    "def create_sample_dataset(df):\n",
    "    # Sample 1000 instances from each class\n",
    "    spam_subset = df[df[\"Label\"] == \"spam\"].sample(500, random_state=123)\n",
    "    ham_subset = df[df[\"Label\"] == \"ham\"].sample(500, random_state=123)\n",
    "    \n",
    "    # Combine both subsets\n",
    "    sample_df = pd.concat([ham_subset, spam_subset])\n",
    "    \n",
    "    # Shuffle the dataset\n",
    "    sample_df = sample_df.sample(frac=1, random_state=123).reset_index(drop=True)\n",
    "    \n",
    "    return sample_df\n",
    "    \n",
    "sample_df = create_sample_dataset(df)\n",
    "print(sample_df[\"Label\"].value_counts())"
   ]
  },
  {
   "cell_type": "markdown",
   "metadata": {
    "id": "uCbGwMnapeuM"
   },
   "source": [
    "# 4. Training Loop"
   ]
  },
  {
   "cell_type": "code",
   "execution_count": 49,
   "metadata": {
    "id": "HUm8OIRgnGJA"
   },
   "outputs": [],
   "source": [
    "from sms_classification.train import calc_batch_loss, calc_loader_loss, evaluate_model, generate_and_print_sample, TrainingConfig, TrainingResults, train_model_simple, train_model\n",
    "from sms_classification.train_plots import plot_losses, plot_perplexity, plot_and_save_learning_rate\n",
    "import json\n"
   ]
  },
  {
   "cell_type": "code",
   "execution_count": 50,
   "metadata": {
    "id": "5Ehg-TWtG1hH"
   },
   "outputs": [],
   "source": [
    "def save_training_results(results: TrainingResults, filename: str):\n",
    "    results_dict = {\n",
    "        \"train_losses\": results.train_losses,\n",
    "        \"val_losses\": results.val_losses,\n",
    "        \"track_steps_seen\": results.track_tokens_seen,\n",
    "        \"train_accuracies\": results.train_accuracies,\n",
    "        \"val_accuracies\": results.val_accuracies,\n",
    "    }\n",
    "    if results.track_lrs is not None:\n",
    "        results_dict[\"track_lrs\"] = results.track_lrs\n",
    "\n",
    "    with open(filename, \"w\") as f:\n",
    "        json.dump(results_dict, f, indent=4)\n",
    "        print(f\"Training results saved to {filename}\")"
   ]
  },
  {
   "cell_type": "markdown",
   "metadata": {
    "id": "iTgvT-7kKvp0"
   },
   "source": [
    "## 4.2 Simple Train loop"
   ]
  },
  {
   "cell_type": "code",
   "execution_count": 57,
   "metadata": {
    "id": "zo7KsLUPtFU9"
   },
   "outputs": [],
   "source": [
    "GPT_CONFIG_124M = {\n",
    "    \"vocab_size\": 50257,   # Vocabulary size\n",
    "    \"context_length\": 256, # Shortened context length (orig: 1024)\n",
    "    \"emb_dim\": 768,        # Embedding dimension\n",
    "    \"n_heads\": 12,         # Number of attention heads\n",
    "    \"n_layers\": 12,        # Number of layers\n",
    "    \"drop_rate\": 0.1,      # Dropout rate\n",
    "    \"qkv_bias\": False      # Query-key-value bias\n",
    "}\n",
    "\n",
    "device = torch.device(\"cuda\" if torch.cuda.is_available() else \"cpu\")\n",
    "\n",
    "torch.manual_seed(123)\n",
    "model = GPTModel(GPT_CONFIG_124M)\n",
    "model.eval();  # Disable dropout during inference"
   ]
  },
  {
   "cell_type": "code",
   "execution_count": 58,
   "metadata": {
    "colab": {
     "base_uri": "https://localhost:8080/"
    },
    "id": "TIxTSHPgfUpR",
    "outputId": "e93a7453-d460-40a0-f047-f8f0f73fd468"
   },
   "outputs": [
    {
     "name": "stdout",
     "output_type": "stream",
     "text": [
      "                                              Message Label\n",
      "0   business highlights\\nenron freight markets\\nen...   ham\n",
      "1   hey , i thought you might like to take a look ...  spam\n",
      "2   http : / / www . virtu\\nally - anywhere . com ...  spam\n",
      "3   fyi\\n- - - - - - - - - - - - - - - - - - - - -...   ham\n",
      "4   to : yyyy @ netnoteinc . com\\n# #\\n# adult onl...  spam\n",
      "..                                                ...   ...\n",
      "94  the assembly will attempt to pass its version ...   ham\n",
      "95  we all know prescriptions are less expensive i...  spam\n",
      "96  mobile production units for developing countri...  spam\n",
      "97  everyone should be using enron net works llc i...   ham\n",
      "98  discount rx is simple , quick , and affordable...  spam\n",
      "\n",
      "[99 rows x 2 columns]\n"
     ]
    }
   ],
   "source": [
    "print(sample_df[:99])"
   ]
  },
  {
   "cell_type": "code",
   "execution_count": 59,
   "metadata": {},
   "outputs": [
    {
     "name": "stdout",
     "output_type": "stream",
     "text": [
      "<__main__.SpamDataset object at 0x000002346EC907D0>\n",
      "Training samples: 800\n",
      "<torch.utils.data.dataset.Subset object at 0x000002346EC92510>\n",
      "Validation samples: 200\n",
      "<torch.utils.data.dataset.Subset object at 0x000002346EC92000>\n"
     ]
    }
   ],
   "source": [
    "# Train/validation ratio\n",
    "from torch.utils.data import random_split\n",
    "\n",
    "MAX_LENGTH = GPT_CONFIG_124M[\"context_length\"]\n",
    "\n",
    "sample_df = sample_df.sample(frac=1, random_state=42).reset_index(drop=True)\n",
    "train_size = int(0.8 * len(sample_df))\n",
    "val_size = len(sample_df) - train_size\n",
    "\n",
    "dataset = SpamDataset(\n",
    "    dataframe=sample_df,\n",
    "    tokenizer=tokenizer,\n",
    "    max_length=MAX_LENGTH\n",
    ")\n",
    "print(dataset)\n",
    "\n",
    "# Split the dataset\n",
    "train_dataset, val_dataset = random_split(dataset, [train_size, val_size])\n",
    "print(f\"Training samples: {len(train_dataset)}\")\n",
    "print(train_dataset)\n",
    "print(f\"Validation samples: {len(val_dataset)}\")\n",
    "print(val_dataset)"
   ]
  },
  {
   "cell_type": "code",
   "execution_count": 60,
   "metadata": {
    "id": "KaR8aLz6btOK"
   },
   "outputs": [
    {
     "name": "stdout",
     "output_type": "stream",
     "text": [
      "<torch.utils.data.dataloader.DataLoader object at 0x0000023457E3D250>\n"
     ]
    }
   ],
   "source": [
    "torch.manual_seed(123)\n",
    "\n",
    "num_workers = 0\n",
    "batch_size = 8\n",
    "\n",
    "train_loader = DataLoader(\n",
    "    dataset=train_dataset,\n",
    "    batch_size=batch_size,\n",
    "    shuffle=True,\n",
    "    num_workers=num_workers,\n",
    "    drop_last=True,\n",
    ")\n",
    "\n",
    "print(train_loader)\n",
    "val_loader = DataLoader(\n",
    "    dataset=val_dataset,\n",
    "    batch_size=batch_size,\n",
    "    num_workers=num_workers,\n",
    "    drop_last=False,\n",
    ")"
   ]
  },
  {
   "cell_type": "code",
   "execution_count": 62,
   "metadata": {
    "colab": {
     "base_uri": "https://localhost:8080/"
    },
    "id": "MaqdxWSYI-dI",
    "outputId": "83547c47-46e8-4f85-9c51-e6aff36143c2"
   },
   "outputs": [
    {
     "name": "stdout",
     "output_type": "stream",
     "text": [
      "Train loader:\n",
      "Input batch dimensions: torch.Size([8, 256])\n",
      "Label batch dimensions torch.Size([8])\n"
     ]
    }
   ],
   "source": [
    "print(\"Train loader:\")\n",
    "for input_batch, target_batch in train_loader:\n",
    "    pass\n",
    "\n",
    "print(\"Input batch dimensions:\", input_batch.shape)\n",
    "print(\"Label batch dimensions\", target_batch.shape)"
   ]
  },
  {
   "cell_type": "code",
   "execution_count": 63,
   "metadata": {
    "colab": {
     "base_uri": "https://localhost:8080/"
    },
    "id": "KxU2uytmbtLY",
    "outputId": "1f6f7518-7a71-45d2-8030-5bb6e4aa5ddc"
   },
   "outputs": [
    {
     "name": "stdout",
     "output_type": "stream",
     "text": [
      "100 training batches\n",
      "25 validation batches\n"
     ]
    }
   ],
   "source": [
    "print(f\"{len(train_loader)} training batches\")\n",
    "print(f\"{len(val_loader)} validation batches\")"
   ]
  },
  {
   "cell_type": "markdown",
   "metadata": {
    "id": "iO_APCB9OhRo"
   },
   "source": [
    "### 4.2.1 Sanity check the simple training loop"
   ]
  },
  {
   "cell_type": "code",
   "execution_count": 64,
   "metadata": {
    "colab": {
     "base_uri": "https://localhost:8080/",
     "height": 210
    },
    "id": "w75jjewbZIf9",
    "outputId": "2e963b27-2a46-4404-fdf9-47c39bc41090"
   },
   "outputs": [
    {
     "name": "stdout",
     "output_type": "stream",
     "text": [
      "Ep 1 (Step 000000): Train loss 7.154, Val loss 7.080\n",
      "Ep 1 (Step 000020): Train loss 0.976, Val loss 0.949\n",
      "Ep 1 (Step 000040): Train loss 0.847, Val loss 1.043\n",
      "Ep 1 (Step 000060): Train loss 0.686, Val loss 0.737\n",
      "Ep 1 (Step 000080): Train loss 0.649, Val loss 0.718\n",
      "Training accuracy: 42.50% | Validation accuracy: 50.00%\n",
      "Ep 2 (Step 000100): Train loss 0.589, Val loss 0.690\n",
      "Ep 2 (Step 000120): Train loss 0.505, Val loss 0.644\n",
      "Ep 2 (Step 000140): Train loss 0.570, Val loss 0.567\n",
      "Ep 2 (Step 000160): Train loss 0.593, Val loss 0.491\n",
      "Ep 2 (Step 000180): Train loss 0.624, Val loss 0.603\n",
      "Training accuracy: 72.50% | Validation accuracy: 65.00%\n",
      "Training completed in 9.72 minutes.\n"
     ]
    }
   ],
   "source": [
    "import time\n",
    "\n",
    "start_time = time.time()\n",
    "\n",
    "torch.manual_seed(123)\n",
    "\n",
    "model = GPTModel(GPT_CONFIG_124M)\n",
    "model.to(device)\n",
    "optimizer = torch.optim.AdamW(model.parameters(), lr=5e-5, weight_decay=0.1)\n",
    "\n",
    "num_epochs = 2\n",
    "training_config = TrainingConfig(\n",
    "    model=model,\n",
    "    train_loader=train_loader,\n",
    "    val_loader=val_loader,\n",
    "    optimizer=optimizer,\n",
    "    device=device,\n",
    "    num_epochs=num_epochs,\n",
    "    eval_freq=20,\n",
    "    eval_iter=5,\n",
    "    tokenizer=tokenizer,\n",
    ")\n",
    "\n",
    "sanity_check_training_results = train_model_simple(training_config)\n",
    "\n",
    "end_time = time.time()\n",
    "execution_time_minutes = (end_time - start_time) / 60\n",
    "print(f\"Training completed in {execution_time_minutes:.2f} minutes.\")"
   ]
  },
  {
   "cell_type": "code",
   "execution_count": 65,
   "metadata": {
    "id": "I4hi114LW2Xn"
   },
   "outputs": [],
   "source": [
    "import matplotlib.pyplot as plt\n",
    "\n",
    "def plot_values(epochs_seen, examples_seen, train_values, val_values, label=\"loss\"):\n",
    "    fig, ax1 = plt.subplots(figsize=(6, 3))\n",
    "\n",
    "    # Plot training and validation loss against epochs\n",
    "    ax1.plot(epochs_seen, train_values, label=f\"Training {label}\")\n",
    "    ax1.plot(epochs_seen, val_values, linestyle=\"-.\", label=f\"Validation {label}\")\n",
    "    ax1.set_xlabel(\"Epochs\")\n",
    "    ax1.set_ylabel(label.capitalize())\n",
    "    ax1.legend()\n",
    "\n",
    "    # Create a second x-axis for examples seen\n",
    "    ax2 = ax1.twiny()  # Create a second x-axis that shares the same y-axis\n",
    "    ax2.plot(examples_seen, train_values, alpha=0)  # Invisible plot for aligning ticks\n",
    "    ax2.set_xlabel(\"Tokens seen\")\n",
    "\n",
    "    fig.tight_layout()  # Adjust layout to make room\n",
    "    plt.savefig(f\"{label}-plot.pdf\")\n",
    "    plt.show()\n"
   ]
  },
  {
   "cell_type": "code",
   "execution_count": 66,
   "metadata": {},
   "outputs": [
    {
     "data": {
      "image/png": "[encoded data removed]",
      "text/plain": [
       "<Figure size 600x300 with 2 Axes>"
      ]
     },
     "metadata": {},
     "output_type": "display_data"
    }
   ],
   "source": [
    "epochs_tensor = torch.linspace(0, num_epochs, len(sanity_check_training_results.train_losses))\n",
    "plot_values(epochs_tensor,\n",
    "            sanity_check_training_results.track_tokens_seen,\n",
    "            sanity_check_training_results.train_losses,\n",
    "            sanity_check_training_results.val_losses)"
   ]
  },
  {
   "cell_type": "markdown",
   "metadata": {
    "id": "-B8zvt73bA79"
   },
   "source": [
    "## 4.3 Advanced Train Loop"
   ]
  },
  {
   "cell_type": "markdown",
   "metadata": {
    "id": "6bdSVNHqbHR8"
   },
   "source": [
    "This training loop adds the following to the simple one:\n",
    "\n",
    "1) Learning rate warmup\n",
    "\n",
    "2) Cosine decay (after pear l.r has been reached)\n",
    "\n",
    "3) Gradient clipping"
   ]
  },
  {
   "cell_type": "markdown",
   "metadata": {
    "id": "ZKYxMoHMdNzC"
   },
   "source": [
    "### 4.3.1 Sanity check the advanced training loop"
   ]
  },
  {
   "cell_type": "markdown",
   "metadata": {
    "id": "amBRlxcvdnBS"
   },
   "source": [
    "Typically, the number of warmup steps is between 0.1% to 20% of the total number of steps"
   ]
  },
  {
   "cell_type": "code",
   "execution_count": 67,
   "metadata": {
    "colab": {
     "base_uri": "https://localhost:8080/"
    },
    "id": "1Tj7W8tFdofi",
    "outputId": "26b6f76f-f044-4de3-8971-d11c5eb510c6"
   },
   "outputs": [
    {
     "name": "stdout",
     "output_type": "stream",
     "text": [
      "100\n",
      "100 20\n"
     ]
    }
   ],
   "source": [
    "num_epochs = 1\n",
    "print(len(train_loader))\n",
    "total_steps = len(train_loader) * num_epochs\n",
    "warmup_steps = int(0.2 * total_steps) # 20% warmup\n",
    "print(total_steps, warmup_steps)"
   ]
  },
  {
   "cell_type": "code",
   "execution_count": 68,
   "metadata": {
    "colab": {
     "base_uri": "https://localhost:8080/"
    },
    "id": "eCnU-1bYetGb",
    "outputId": "7412042f-049b-4efc-c09a-37631bb5cf19"
   },
   "outputs": [
    {
     "name": "stdout",
     "output_type": "stream",
     "text": [
      "Total number of training steps: 200\n",
      "Ep 1 (Iter 000000): Train loss 10.157, Val loss 10.012\n",
      "Ep 1 (Iter 000020): Train loss 1.165, Val loss 1.075\n",
      "Ep 1 (Iter 000040): Train loss 1.958, Val loss 2.606\n",
      "Ep 1 (Iter 000060): Train loss 0.698, Val loss 0.712\n",
      "Ep 1 (Iter 000080): Train loss 0.779, Val loss 0.713\n",
      "Training accuracy: 37.50% | Validation accuracy: 50.00%\n",
      "Ep 2 (Iter 000100): Train loss 0.667, Val loss 0.721\n",
      "Ep 2 (Iter 000120): Train loss 0.644, Val loss 0.663\n",
      "Ep 2 (Iter 000140): Train loss 0.617, Val loss 0.613\n",
      "Ep 2 (Iter 000160): Train loss 0.562, Val loss 0.557\n",
      "Ep 2 (Iter 000180): Train loss 0.533, Val loss 0.562\n",
      "Training accuracy: 82.50% | Validation accuracy: 75.00%\n",
      "Training completed in 13.29 minutes.\n"
     ]
    }
   ],
   "source": [
    "start_time = time.time()\n",
    "\n",
    "torch.manual_seed(123)\n",
    "model = GPTModel(GPT_CONFIG_124M)\n",
    "model.to(device)\n",
    "\n",
    "peak_lr = 0.001\n",
    "optimizer = torch.optim.AdamW(model.parameters(), lr=peak_lr, weight_decay=0.1)\n",
    "tokenizer = tiktoken.get_encoding(\"gpt2\")\n",
    "\n",
    "num_epochs = 2\n",
    "total_training_steps = len(train_loader) * num_epochs\n",
    "print(f\"Total number of training steps: {total_training_steps}\")\n",
    "\n",
    "training_config = TrainingConfig(\n",
    "    model=model,\n",
    "    train_loader=train_loader,\n",
    "    val_loader=val_loader,\n",
    "    optimizer=optimizer,\n",
    "    device=device,\n",
    "    num_epochs=num_epochs,\n",
    "    eval_freq=20,\n",
    "    eval_iter=5,\n",
    "    tokenizer=tokenizer,\n",
    "    warmup_steps=warmup_steps,\n",
    "    initial_lr=1e-5,\n",
    "    min_lr=1e-5,\n",
    ")\n",
    "\n",
    "sanity_check_advanced_training_results = train_model(training_config)\n",
    "\n",
    "end_time = time.time()\n",
    "execution_time_minutes = (end_time - start_time) / 60\n",
    "print(f\"Training completed in {execution_time_minutes:.2f} minutes.\")"
   ]
  },
  {
   "cell_type": "code",
   "execution_count": 69,
   "metadata": {
    "colab": {
     "base_uri": "https://localhost:8080/",
     "height": 324
    },
    "id": "nGID41Q_d04n",
    "outputId": "b9e06e47-5281-48e1-a721-154346786a76"
   },
   "outputs": [
    {
     "data": {
      "image/png": "[encoded data removed]",
      "text/plain": [
       "<Figure size 600x300 with 2 Axes>"
      ]
     },
     "metadata": {},
     "output_type": "display_data"
    }
   ],
   "source": [
    "epochs_tensor = torch.linspace(0, num_epochs, len(sanity_check_training_results.train_losses))\n",
    "plot_values(epochs_tensor,\n",
    "            sanity_check_training_results.track_tokens_seen,\n",
    "            sanity_check_training_results.train_losses,\n",
    "            sanity_check_training_results.val_losses)"
   ]
  },
  {
   "cell_type": "code",
   "execution_count": 70,
   "metadata": {
    "colab": {
     "base_uri": "https://localhost:8080/",
     "height": 311
    },
    "id": "S8xdjJA9d01k",
    "outputId": "335945e8-454d-4f7f-d712-5a15adfe2d2a"
   },
   "outputs": [
    {
     "data": {
      "image/png": "[encoded data removed]",
      "text/plain": [
       "<Figure size 700x500 with 1 Axes>"
      ]
     },
     "metadata": {},
     "output_type": "display_data"
    }
   ],
   "source": [
    "plt.figure(figsize=(7, 5))\n",
    "plt.plot(range(len(sanity_check_advanced_training_results.track_lrs)), sanity_check_advanced_training_results.track_lrs)\n",
    "plt.ylabel(\"Learning rate\")\n",
    "plt.xlabel(\"Steps\")\n",
    "plt.grid()\n",
    "plt.show()"
   ]
  },
  {
   "cell_type": "code",
   "execution_count": null,
   "metadata": {
    "collapsed": true,
    "id": "Ex_Z32LZbG79",
    "jupyter": {
     "outputs_hidden": true
    }
   },
   "outputs": [],
   "source": []
  },
  {
   "cell_type": "markdown",
   "metadata": {
    "id": "iJCZH-lYy5dN"
   },
   "source": [
    "# 5. SMS Classification Fine Tuning"
   ]
  },
  {
   "cell_type": "markdown",
   "metadata": {
    "id": "yo9WNa0jJqQK"
   },
   "source": [
    "## 5.0 Utils"
   ]
  },
  {
   "cell_type": "code",
   "execution_count": 100,
   "metadata": {
    "id": "Sw26kCwgJp9g"
   },
   "outputs": [],
   "source": [
    "def print_model_losses(model, train_loader, val_loader, device):\n",
    "    with torch.no_grad():\n",
    "        train_loss = calc_loader_loss(train_loader, model, device, num_batches=5)\n",
    "        val_loss = calc_loader_loss(val_loader, model, device, num_batches=5)\n",
    "\n",
    "    print(\"Training loss:\", train_loss)\n",
    "    print(\"Validation loss:\", val_loss)\n",
    "    print(\"Training perplexity:\", torch.exp(torch.tensor(train_loss)).item())\n",
    "    print(\"Validation perplexity:\", torch.exp(torch.tensor(val_loss)).item())\n",
    "\n",
    "def print_classification_metrics(model, train_loader, val_loader, device):\n",
    "    model.eval() # Ensure model is in evaluation mode\n",
    "    with torch.no_grad():\n",
    "        # Calculate Loss (using updated classification loss function)\n",
    "        train_loss = calc_loader_loss(train_loader, model, device, num_batches=len(train_loader)) # Use full loader for better estimate\n",
    "        val_loss = calc_loader_loss(val_loader, model, device, num_batches=len(val_loader))\n",
    "        # Calculate Accuracy (using updated classification accuracy function)\n",
    "        train_acc = calc_loader_accuracy(train_loader, model, device, num_batches=len(train_loader))\n",
    "        val_acc = calc_loader_accuracy(val_loader, model, device, num_batches=len(val_loader))\n",
    "    model.train() # Set back to train mode\n",
    "\n",
    "    print(f\"Training loss: {train_loss:.4f}\")\n",
    "    print(f\"Validation loss: {val_loss:.4f}\")\n",
    "    print(f\"Training accuracy: {train_acc:.4f}\") # Print accuracy\n",
    "    print(f\"Validation accuracy: {val_acc:.4f}\") # Print accuracy"
   ]
  },
  {
   "cell_type": "code",
   "execution_count": 101,
   "metadata": {
    "id": "YAAFTViCZ3Ti"
   },
   "outputs": [],
   "source": [
    "import json\n",
    "\n",
    "def download_and_load_json_file(file_path, url):\n",
    "    if not os.path.exists(file_path):\n",
    "        with urllib.request.urlopen(url) as response:\n",
    "            text_data = response.read().decode(\"utf-8\")\n",
    "        with open(file_path, \"w\", encoding=\"utf-8\") as file:\n",
    "            file.write(text_data)\n",
    "\n",
    "    with open(file_path, \"r\", encoding=\"utf-8\") as file:\n",
    "        data = json.load(file)\n",
    "\n",
    "    return data"
   ]
  },
  {
   "cell_type": "code",
   "execution_count": 102,
   "metadata": {
    "id": "efiB2bnde7LX"
   },
   "outputs": [],
   "source": [
    "def format_input(entry):\n",
    "    instruction_text = (\n",
    "        f\"Below is an instruction that describes a task. \"\n",
    "        f\"Write a response that appropriately completes the request.\"\n",
    "        f\"\\n\\n### Instruction:\\n{entry['instruction']}\"\n",
    "    )\n",
    "\n",
    "    input_text = f\"\\n\\n### Input:\\n{entry['input']}\" if entry[\"input\"] else \"\"\n",
    "\n",
    "    return instruction_text + input_text\n",
    "\n",
    "def format_response(entry):\n",
    "    return f\"\\n\\n### Response:\\n{entry['output']}\""
   ]
  },
  {
   "cell_type": "code",
   "execution_count": 103,
   "metadata": {
    "id": "Uip0rvfyng-6"
   },
   "outputs": [],
   "source": [
    "def load_json_data(filepath):\n",
    "    with open(filepath, 'r') as f:\n",
    "        data = json.load(f)\n",
    "    return data"
   ]
  },
  {
   "cell_type": "code",
   "execution_count": 104,
   "metadata": {
    "id": "cLjYSSPZI7Yi"
   },
   "outputs": [],
   "source": [
    "def generate_model_response(model, test_data, file_path=None):\n",
    "    model.eval()\n",
    "    with torch.no_grad():\n",
    "        for i, entry in tqdm(enumerate(test_data), total=len(test_data)):\n",
    "            instruction_text = format_input(entry)\n",
    "            token_ids = generate(\n",
    "                model=model.to(device),\n",
    "                token_ids=text_to_token_ids(instruction_text, tokenizer).to(device),\n",
    "                max_new_tokens=512,\n",
    "                context_size=BASE_CONFIG[\"context_length\"],\n",
    "                eos_id=50256,\n",
    "            )\n",
    "            generated_text = token_ids_to_text(token_ids, tokenizer)\n",
    "\n",
    "            response_text = generated_text[len(instruction_text):].replace(\"### Response:\", \"\").strip()\n",
    "            entry[\"generated_text\"] = response_text\n",
    "\n",
    "    # Save the data\n",
    "    if file_path:\n",
    "        with open(file_path, 'w') as f:\n",
    "            json.dump(test_data, f, indent=4)\n",
    "\n",
    "    return test_data"
   ]
  },
  {
   "cell_type": "code",
   "execution_count": 105,
   "metadata": {
    "id": "KilDuOmYKBmf"
   },
   "outputs": [],
   "source": [
    "def print_model_losses(model, train_loader, val_loader, device):\n",
    "    with torch.no_grad():\n",
    "        train_loss = calc_loader_loss(train_loader, model, device, num_batches=5)\n",
    "        val_loss = calc_loader_loss(val_loader, model, device, num_batches=5)\n",
    "\n",
    "    print(\"Training loss:\", train_loss)\n",
    "    print(\"Validation loss:\", val_loss)\n",
    "    print(\"Training perplexity:\", torch.exp(torch.tensor(train_loss)).item())\n",
    "    print(\"Validation perplexity:\", torch.exp(torch.tensor(val_loss)).item())\n",
    "    print()"
   ]
  },
  {
   "cell_type": "markdown",
   "metadata": {
    "id": "DPdJyLA6hL4Z"
   },
   "source": [
    "## 5.2 Organizing data into training batches"
   ]
  },
  {
   "cell_type": "code",
   "execution_count": null,
   "metadata": {
    "collapsed": true,
    "id": "mdNP2rDhgZWJ",
    "jupyter": {
     "outputs_hidden": true
    }
   },
   "outputs": [],
   "source": [
    "class InstructionDataset(Dataset):\n",
    "    def __init__(self, data, tokenizer):\n",
    "        self.data = data\n",
    "\n",
    "        # Pre-tokenize texts\n",
    "        self.encoded_texts = []\n",
    "        for entry in data:\n",
    "            instruction_plus_input = format_input(entry)\n",
    "            response_text = format_response(entry)\n",
    "            full_text = instruction_plus_input + response_text\n",
    "            self.encoded_texts.append(\n",
    "                tokenizer.encode(full_text)\n",
    "            )\n",
    "\n",
    "    def __getitem__(self, index):\n",
    "        return self.encoded_texts[index]\n",
    "\n",
    "    def __len__(self):\n",
    "        return len(self.data)"
   ]
  },
  {
   "cell_type": "code",
   "execution_count": null,
   "metadata": {
    "collapsed": true,
    "id": "b25rJlXYgZPc",
    "jupyter": {
     "outputs_hidden": true
    }
   },
   "outputs": [],
   "source": [
    "def custom_collate_fn(\n",
    "    batch,\n",
    "    pad_token_id=50256,\n",
    "    ignore_index=-100,\n",
    "    allowed_max_length=None,\n",
    "    device=\"cpu\"\n",
    "):\n",
    "    # Find the longest sequence in the batch\n",
    "    batch_max_length = max(len(item)+1 for item in batch)\n",
    "\n",
    "    # Pad and prepare inputs and targets\n",
    "    inputs_lst, targets_lst = [], []\n",
    "\n",
    "    for item in batch:          # item is just list of token ids e.g. [0, 1, 2, 3]\n",
    "        new_item = item.copy()\n",
    "        # Add an <|endoftext|> token\n",
    "        new_item += [pad_token_id]\n",
    "        # Pad sequences to max_length\n",
    "        padded = (\n",
    "            new_item + [pad_token_id] *\n",
    "            (batch_max_length - len(new_item))\n",
    "        )\n",
    "        inputs = torch.tensor(padded[:-1])  # Truncate the last token for inputs\n",
    "        targets = torch.tensor(padded[1:])  # Shift +1 to the right for targets\n",
    "\n",
    "        # New: Replace all but the first padding tokens in targets by ignore_index\n",
    "        mask = targets == pad_token_id\n",
    "        indices = torch.nonzero(mask).squeeze()\n",
    "        if indices.numel() > 1:\n",
    "            targets[indices[1:]] = ignore_index\n",
    "\n",
    "        # New: Optionally truncate to maximum sequence length\n",
    "        if allowed_max_length is not None:\n",
    "            inputs = inputs[:allowed_max_length]\n",
    "            targets = targets[:allowed_max_length]\n",
    "\n",
    "        inputs_lst.append(inputs)\n",
    "        targets_lst.append(targets)\n",
    "\n",
    "    # Convert list of inputs and targets to tensors and transfer to target device\n",
    "    inputs_tensor = torch.stack(inputs_lst).to(device)\n",
    "    targets_tensor = torch.stack(targets_lst).to(device)\n",
    "\n",
    "    return inputs_tensor, targets_tensor"
   ]
  },
  {
   "cell_type": "code",
   "execution_count": null,
   "metadata": {
    "collapsed": true,
    "id": "YSJojPSWzdzk",
    "jupyter": {
     "outputs_hidden": true
    }
   },
   "outputs": [],
   "source": [
    "from functools import partial\n",
    "\n",
    "customized_collate_fn = partial(\n",
    "    custom_collate_fn,\n",
    "    device=device,\n",
    "    allowed_max_length=1024\n",
    ")"
   ]
  },
  {
   "cell_type": "markdown",
   "metadata": {
    "id": "Fe9arV26e4C4"
   },
   "source": [
    "## 5.1 Prepare Dataset"
   ]
  },
  {
   "cell_type": "code",
   "execution_count": null,
   "metadata": {
    "colab": {
     "base_uri": "https://localhost:8080/"
    },
    "collapsed": true,
    "id": "UBEEFb7gy_Rq",
    "jupyter": {
     "outputs_hidden": true
    },
    "outputId": "adc55f83-d554-4e3f-9978-ceeeac97123a"
   },
   "outputs": [],
   "source": [
    "file_path = \"instruction-data.json\"\n",
    "url = (\n",
    "    \"https://raw.githubusercontent.com/rasbt/LLMs-from-scratch\"\n",
    "    \"/main/ch07/01_main-chapter-code/instruction-data.json\"\n",
    ")\n",
    "\n",
    "data = download_and_load_json_file(file_path, url)\n",
    "print(\"Number of entries:\", len(data))"
   ]
  },
  {
   "cell_type": "code",
   "execution_count": null,
   "metadata": {
    "colab": {
     "base_uri": "https://localhost:8080/"
    },
    "collapsed": true,
    "id": "JAfrYT3Ve7Oe",
    "jupyter": {
     "outputs_hidden": true
    },
    "outputId": "07ba92df-2987-44de-f76a-2a29d7210130"
   },
   "outputs": [],
   "source": [
    "print(\"Example entry:\\n\", data[50])"
   ]
  },
  {
   "cell_type": "code",
   "execution_count": null,
   "metadata": {
    "colab": {
     "base_uri": "https://localhost:8080/"
    },
    "collapsed": true,
    "id": "059JD76VqsRE",
    "jupyter": {
     "outputs_hidden": true
    },
    "outputId": "a77b4279-7cc9-4b3c-9ed8-414e42fbcc04"
   },
   "outputs": [],
   "source": [
    "def save_first_n_entries(data, n, filename):\n",
    "    \"\"\"Saves the first n entries of the data to a JSON file.\"\"\"\n",
    "    try:\n",
    "        with open(filename, 'w') as f:\n",
    "            json.dump(data[:n], f, indent=4)  # Use indent for pretty printing\n",
    "        print(f\"Successfully saved the first {n} entries to {filename}\")\n",
    "    except Exception as e:\n",
    "        print(f\"An error occurred: {e}\")\n",
    "\n",
    "save_first_n_entries(\n",
    "    data, 30,\n",
    "    GOOGLE_DRIVE_PATH + \"/instr_fine_tune\" + \"/data/alpaca_sample_generation_data_30.json\")"
   ]
  },
  {
   "cell_type": "code",
   "execution_count": null,
   "metadata": {
    "colab": {
     "base_uri": "https://localhost:8080/"
    },
    "collapsed": true,
    "id": "D6vtd7YAifRx",
    "jupyter": {
     "outputs_hidden": true
    },
    "outputId": "1b4da15f-2860-439d-919f-97915eaf85fb"
   },
   "outputs": [],
   "source": [
    "print(format_input(data[50]) + format_response(data[50]))"
   ]
  },
  {
   "cell_type": "code",
   "execution_count": null,
   "metadata": {
    "collapsed": true,
    "id": "HRSK5iGle7Ig",
    "jupyter": {
     "outputs_hidden": true
    }
   },
   "outputs": [],
   "source": [
    "train_portion = int(len(data) * 0.85)  # 85% for training\n",
    "test_portion = int(len(data) * 0.1)    # 10% for testing\n",
    "val_portion = len(data) - train_portion - test_portion  # Remaining 5% for validation\n",
    "\n",
    "train_data = data[:train_portion]\n",
    "test_data = data[train_portion:train_portion + test_portion]\n",
    "val_data = data[train_portion + test_portion:]"
   ]
  },
  {
   "cell_type": "code",
   "execution_count": null,
   "metadata": {
    "colab": {
     "base_uri": "https://localhost:8080/"
    },
    "collapsed": true,
    "id": "eN-P8iqoe7FV",
    "jupyter": {
     "outputs_hidden": true
    },
    "outputId": "84a8c7a9-5fb2-4fad-ca7c-42c5aeeed8f6"
   },
   "outputs": [],
   "source": [
    "print(\"Training set length:\", len(train_data))\n",
    "print(\"Validation set length:\", len(val_data))\n",
    "print(\"Test set length:\", len(test_data))"
   ]
  },
  {
   "cell_type": "markdown",
   "metadata": {
    "id": "plYJLPT5mGTs"
   },
   "source": [
    "## 5.3 Creating data loaders for an instruction dataset"
   ]
  },
  {
   "cell_type": "code",
   "execution_count": null,
   "metadata": {
    "collapsed": true,
    "id": "kuTmqWc57aPP",
    "jupyter": {
     "outputs_hidden": true
    }
   },
   "outputs": [],
   "source": [
    "tokenizer = tiktoken.get_encoding(\"gpt2\")"
   ]
  },
  {
   "cell_type": "code",
   "execution_count": null,
   "metadata": {
    "collapsed": true,
    "id": "f94-uFkbgZI_",
    "jupyter": {
     "outputs_hidden": true
    }
   },
   "outputs": [],
   "source": [
    "num_workers = 0\n",
    "batch_size = 8\n",
    "\n",
    "torch.manual_seed(123)\n",
    "\n",
    "train_dataset = InstructionDataset(train_data, tokenizer)\n",
    "train_loader = DataLoader(\n",
    "    train_dataset,\n",
    "    batch_size=batch_size,\n",
    "    collate_fn=customized_collate_fn,\n",
    "    shuffle=True,\n",
    "    drop_last=True,\n",
    "    num_workers=num_workers\n",
    ")\n",
    "\n",
    "val_dataset = InstructionDataset(val_data, tokenizer)\n",
    "val_loader = DataLoader(\n",
    "    val_dataset,\n",
    "    batch_size=batch_size,\n",
    "    collate_fn=customized_collate_fn,\n",
    "    shuffle=False,\n",
    "    drop_last=False,\n",
    "    num_workers=num_workers\n",
    ")\n",
    "\n",
    "test_dataset = InstructionDataset(test_data, tokenizer)\n",
    "test_loader = DataLoader(\n",
    "    test_dataset,\n",
    "    batch_size=batch_size,\n",
    "    collate_fn=customized_collate_fn,\n",
    "    shuffle=False,\n",
    "    drop_last=False,\n",
    "    num_workers=num_workers\n",
    ")"
   ]
  },
  {
   "cell_type": "code",
   "execution_count": null,
   "metadata": {
    "colab": {
     "base_uri": "https://localhost:8080/"
    },
    "collapsed": true,
    "id": "S7x61mfFe7CN",
    "jupyter": {
     "outputs_hidden": true
    },
    "outputId": "c895d5b3-cb02-4a79-bd8f-4eedd5a30a91"
   },
   "outputs": [],
   "source": [
    "print(\"Train loader:\")\n",
    "i = 0\n",
    "for inputs, targets in train_loader:\n",
    "    print(inputs.shape, targets.shape)\n",
    "    if i == 3: break\n",
    "    i += 1"
   ]
  },
  {
   "cell_type": "markdown",
   "metadata": {
    "id": "aYqvauqh0nR5"
   },
   "source": [
    "## 5.4 Loading a pretrained LLM"
   ]
  },
  {
   "cell_type": "code",
   "execution_count": null,
   "metadata": {
    "colab": {
     "base_uri": "https://localhost:8080/",
     "referenced_widgets": [
      "3f22b4235c454929902bf333ca0333da",
      "dbacb0064718457a88e51939b9493bd6",
      "013d857359ee4e8a98de82a141a82dc6",
      "78ae9a4a6f47437c9d6f863008babf37",
      "7615768f71414af9bd9f857b5432b032",
      "a448a9494f9440c9a487b464b244c856",
      "49286700bdd24bdf99d0bcde2c40f0df",
      "4fdb7451b5e348fc986611784fa16480",
      "0cd4b8d1b9334c0b9df1330409ced1e9",
      "0d3c1431488348ff9ef4d8eace82c7e9",
      "6e0087f49bac42708b148579843f9314",
      "f22ab3297bf546838e72b352c233a44c",
      "ee055adabf5f463faf0a6ef754a1c86b",
      "1f4dc8204d254d888e49d7f3d9a5313d",
      "98f57976f5dd4bc3afa48b6758b4555e",
      "1764f7ec7505463db8470c3423d6c2fd",
      "8337649816c54e359829c38df83f1d6d",
      "2bbee239df3e412c92a5f9f96434c570",
      "d03bb7ce9b8f48ff822feb305bfc8e19",
      "5837e8eb6271449aafac03a005134a28",
      "268765a39df6496eadbff867cfdc1fc9",
      "c1fe2e3143df48d28fd6fdb6cf82c9a9"
     ]
    },
    "collapsed": true,
    "id": "aX2GQyq6cDG7",
    "jupyter": {
     "outputs_hidden": true
    },
    "outputId": "43ff2fec-891a-41fe-88dc-0a5cfc83169d"
   },
   "outputs": [],
   "source": [
    "CHOOSE_MODEL = \"gpt2-medium (355M)\"\n",
    "gpt_m = get_pretrained_gpt_model(CHOOSE_MODEL)"
   ]
  },
  {
   "cell_type": "code",
   "execution_count": null,
   "metadata": {
    "colab": {
     "base_uri": "https://localhost:8080/"
    },
    "collapsed": true,
    "id": "rplwttIG3DjU",
    "jupyter": {
     "outputs_hidden": true
    },
    "outputId": "509dbeff-cdd1-4519-c9e7-9886aa2e1e6f"
   },
   "outputs": [],
   "source": [
    "input_text = format_input(val_data[0])\n",
    "print(input_text)"
   ]
  },
  {
   "cell_type": "code",
   "execution_count": null,
   "metadata": {
    "colab": {
     "base_uri": "https://localhost:8080/"
    },
    "collapsed": true,
    "id": "es3az17y2jyw",
    "jupyter": {
     "outputs_hidden": true
    },
    "outputId": "ff27d1b7-143a-4cef-b31b-14ef13247c3d"
   },
   "outputs": [],
   "source": [
    "torch.manual_seed(123)\n",
    "\n",
    "tokenizer = tiktoken.get_encoding(\"gpt2\")\n",
    "\n",
    "token_ids = generate_text_simple(\n",
    "    model=gpt_m.to(device),\n",
    "    token_ids=text_to_token_ids(input_text, tokenizer).to(device),\n",
    "    max_new_tokens=35,\n",
    "    context_size=BASE_CONFIG[\"context_length\"],\n",
    ")\n",
    "\n",
    "generated_text = token_ids_to_text(token_ids, tokenizer)\n",
    "print(\"Output text:\\n\", generated_text)"
   ]
  },
  {
   "cell_type": "code",
   "execution_count": null,
   "metadata": {
    "colab": {
     "base_uri": "https://localhost:8080/"
    },
    "collapsed": true,
    "id": "XG8DKGQEy-oq",
    "jupyter": {
     "outputs_hidden": true
    },
    "outputId": "0383f271-ae99-4095-eef1-63422e2eeb6f"
   },
   "outputs": [],
   "source": [
    "response_text = (\n",
    "    generated_text[len(input_text):]\n",
    "    .replace(\"### Response:\", \"\")\n",
    "    .strip()\n",
    ")\n",
    "print(response_text)"
   ]
  },
  {
   "cell_type": "markdown",
   "metadata": {
    "id": "vX9LBfQ53sG5"
   },
   "source": [
    "## 5.5 Finetuning the LLM on instruction data"
   ]
  },
  {
   "cell_type": "markdown",
   "metadata": {
    "id": "2PyBCd2x5zc9"
   },
   "source": [
    "Initial Loss"
   ]
  },
  {
   "cell_type": "code",
   "execution_count": null,
   "metadata": {
    "colab": {
     "base_uri": "https://localhost:8080/"
    },
    "collapsed": true,
    "id": "oXSXMMYW3jmv",
    "jupyter": {
     "outputs_hidden": true
    },
    "outputId": "bd8c7e69-1e5e-4474-fe66-4a85181d5492"
   },
   "outputs": [],
   "source": [
    "torch.manual_seed(123)\n",
    "\n",
    "with torch.no_grad():\n",
    "    train_loss = calc_loader_loss(train_loader, gpt_m, device, num_batches=5)\n",
    "    val_loss = calc_loader_loss(val_loader, gpt_m, device, num_batches=5)\n",
    "\n",
    "print(\"Training loss:\", train_loss)\n",
    "print(\"Validation loss:\", val_loss)\n",
    "print(\"Training perplexity:\", torch.exp(torch.tensor(train_loss)).item())\n",
    "print(\"Validation perplexity:\", torch.exp(torch.tensor(val_loss)).item())"
   ]
  },
  {
   "cell_type": "code",
   "execution_count": null,
   "metadata": {
    "colab": {
     "base_uri": "https://localhost:8080/"
    },
    "collapsed": true,
    "id": "DDn4kE5_3jjm",
    "jupyter": {
     "outputs_hidden": true
    },
    "outputId": "8ebda58a-9ace-4c41-cc65-3da0509bba95"
   },
   "outputs": [],
   "source": [
    "import time\n",
    "\n",
    "start_time = time.time()\n",
    "\n",
    "torch.manual_seed(123)\n",
    "\n",
    "optimizer = torch.optim.AdamW(gpt_m.parameters(), lr=0.00005, weight_decay=0.1)\n",
    "num_epochs = 2\n",
    "\n",
    "ift_mini_alpaca_training_config = TrainingConfig(\n",
    "    model=gpt_m,\n",
    "    train_loader=train_loader,\n",
    "    val_loader=val_loader,\n",
    "    optimizer=optimizer,\n",
    "    device=device,\n",
    "    num_epochs=num_epochs,\n",
    "    eval_freq=5,\n",
    "    eval_iter=5,\n",
    "    start_context=format_input(val_data[0]),\n",
    "    tokenizer=tokenizer,\n",
    ")\n",
    "\n",
    "ift_mini_alpaca_training_results = train_model_simple(ift_mini_alpaca_training_config)\n",
    "\n",
    "end_time = time.time()\n",
    "execution_time_minutes = (end_time - start_time) / 60\n",
    "print(f\"Training completed in {execution_time_minutes:.2f} minutes.\")"
   ]
  },
  {
   "cell_type": "code",
   "execution_count": null,
   "metadata": {
    "colab": {
     "base_uri": "https://localhost:8080/",
     "height": 307
    },
    "collapsed": true,
    "id": "K-jQHEZA6eJb",
    "jupyter": {
     "outputs_hidden": true
    },
    "outputId": "1977a3cc-496c-42ae-c72d-abe8abd9afa2"
   },
   "outputs": [],
   "source": [
    "epochs_tensor = torch.linspace(\n",
    "    0, num_epochs, len(ift_mini_alpaca_training_results.train_losses))\n",
    "\n",
    "plot_losses(epochs_tensor,\n",
    "            ift_mini_alpaca_training_results.track_tokens_seen,\n",
    "            ift_mini_alpaca_training_results.train_losses,\n",
    "            ift_mini_alpaca_training_results.val_losses)"
   ]
  },
  {
   "cell_type": "code",
   "execution_count": null,
   "metadata": {
    "colab": {
     "base_uri": "https://localhost:8080/"
    },
    "collapsed": true,
    "id": "Bv8QZoDL9bh-",
    "jupyter": {
     "outputs_hidden": true
    },
    "outputId": "bc9bf9aa-4019-46d8-dbbe-9e3a590da9e9"
   },
   "outputs": [],
   "source": [
    "token_ids = generate(\n",
    "    model=gpt_m.to(device),\n",
    "    token_ids=text_to_token_ids(input_text, tokenizer).to(device),\n",
    "    max_new_tokens=35,\n",
    "    context_size=BASE_CONFIG[\"context_length\"],\n",
    "    eos_id=50256,\n",
    ")\n",
    "\n",
    "generated_text = token_ids_to_text(token_ids, tokenizer)\n",
    "print(\"Output text:\\n\", generated_text)"
   ]
  },
  {
   "cell_type": "markdown",
   "metadata": {
    "id": "tq7y5Spe-6Vi"
   },
   "source": [
    "# 6. Alpaca Instruction Fine Tuning"
   ]
  },
  {
   "cell_type": "markdown",
   "metadata": {
    "id": "fsWuqt7jj85M"
   },
   "source": [
    "## 6.0 [Optional] Download the ALpaca Dataset"
   ]
  },
  {
   "cell_type": "code",
   "execution_count": null,
   "metadata": {
    "collapsed": true,
    "id": "SE9wLMqW9bef",
    "jupyter": {
     "outputs_hidden": true
    }
   },
   "outputs": [],
   "source": [
    "alpaca_data_url = \"https://raw.githubusercontent.com/tatsu-lab/stanford_alpaca/main/alpaca_data.json\"\n",
    "file_path = GOOGLE_DRIVE_PATH + \"/instr_fine_tune\" + \"/data/alpaca_data.json\""
   ]
  },
  {
   "cell_type": "code",
   "execution_count": null,
   "metadata": {
    "colab": {
     "base_uri": "https://localhost:8080/"
    },
    "collapsed": true,
    "id": "3KAOuVQ8k-BZ",
    "jupyter": {
     "outputs_hidden": true
    },
    "outputId": "f505bdb1-586e-4beb-87c8-0bca5ef18297"
   },
   "outputs": [],
   "source": [
    "alpaca_data = download_and_load_json_file(file_path, alpaca_data_url)\n",
    "print(\"Number of entries:\", len(alpaca_data))"
   ]
  },
  {
   "cell_type": "markdown",
   "metadata": {
    "id": "x2w93IFYliXh"
   },
   "source": [
    "We will select only 12K entries of the 52K for compute reasons.\n",
    "\n",
    "We will only keep entires whose output is less than 512 characters in length"
   ]
  },
  {
   "cell_type": "code",
   "execution_count": null,
   "metadata": {
    "collapsed": true,
    "id": "kvugrUxIl3R4",
    "jupyter": {
     "outputs_hidden": true
    }
   },
   "outputs": [],
   "source": [
    "def filter_alpaca_data_by_len(alpaca_data, target_size=12000, max_output_len=512, filepath=None):\n",
    "    filtered_alpaca_data = []\n",
    "\n",
    "    for entry in alpaca_data:\n",
    "            if len(entry['output']) < max_output_len:\n",
    "                filtered_alpaca_data.append(entry)\n",
    "            if len(filtered_alpaca_data) >= target_size:\n",
    "                break\n",
    "\n",
    "    if filepath:\n",
    "        with open(filepath, 'w') as f:\n",
    "            json.dump(filtered_alpaca_data, f, indent=4)\n",
    "\n",
    "    return filtered_alpaca_data"
   ]
  },
  {
   "cell_type": "code",
   "execution_count": null,
   "metadata": {
    "collapsed": true,
    "id": "WoVEeHphk9-s",
    "jupyter": {
     "outputs_hidden": true
    }
   },
   "outputs": [],
   "source": [
    "alpaca_data_15k = filter_alpaca_data_by_len(\n",
    "    alpaca_data, target_size=15000, max_output_len=512,\n",
    "    filepath=GOOGLE_DRIVE_PATH + \"/instr_fine_tune\" + \"/data/alpaca_data_15k.json\")"
   ]
  },
  {
   "cell_type": "code",
   "execution_count": null,
   "metadata": {
    "colab": {
     "base_uri": "https://localhost:8080/"
    },
    "collapsed": true,
    "id": "DdW6vBK3k947",
    "jupyter": {
     "outputs_hidden": true
    },
    "outputId": "f18dbe4f-0281-4bc2-f1d4-8f53f75f4fc0"
   },
   "outputs": [],
   "source": [
    "print(\"Number of entries:\", len(alpaca_data_15k))"
   ]
  },
  {
   "cell_type": "markdown",
   "metadata": {
    "id": "zfPhL1IYOIzo"
   },
   "source": [
    "## Gemini Eval"
   ]
  },
  {
   "cell_type": "code",
   "execution_count": null,
   "metadata": {
    "collapsed": true,
    "id": "4XMZhnoRrSEY",
    "jupyter": {
     "outputs_hidden": true
    }
   },
   "outputs": [],
   "source": [
    "from google import genai\n",
    "from google.genai import types\n",
    "from google.colab import userdata\n",
    "\n",
    "\n",
    "def gemini_generate(prompt):\n",
    "    client = genai.Client(\n",
    "        api_key=userdata.get('GOOGLE_API_KEY')\n",
    "    )\n",
    "\n",
    "    # model = \"gemini-2.5-pro-exp-03-25\"\n",
    "    model = \"gemini-2.0-flash-thinking-exp-01-21\"\n",
    "    contents = [\n",
    "        types.Content(\n",
    "            role=\"user\",\n",
    "            parts=[\n",
    "                types.Part.from_text(text=prompt),\n",
    "            ],\n",
    "        ),\n",
    "    ]\n",
    "    generate_content_config = types.GenerateContentConfig(\n",
    "        response_mime_type=\"text/plain\",\n",
    "    )\n",
    "\n",
    "    for tries in range(3):\n",
    "        try:\n",
    "            response = client.models.generate_content(\n",
    "                model=model,\n",
    "                contents=contents,\n",
    "                config=generate_content_config,\n",
    "            )\n",
    "            return response.text\n",
    "        except Exception as e:\n",
    "            print(f\"An error occurred: {e}\")\n",
    "            time.sleep(30)\n",
    "            continue"
   ]
  },
  {
   "cell_type": "code",
   "execution_count": null,
   "metadata": {
    "colab": {
     "base_uri": "https://localhost:8080/",
     "height": 0
    },
    "collapsed": true,
    "id": "hSflIU4eOkLu",
    "jupyter": {
     "outputs_hidden": true
    },
    "outputId": "2b53a577-5984-466e-8b2e-cfdc11129bcf"
   },
   "outputs": [],
   "source": [
    "gemini_generate(\"Hello, how are you?\")"
   ]
  },
  {
   "cell_type": "code",
   "execution_count": null,
   "metadata": {
    "collapsed": true,
    "id": "vPWATAB3rR-5",
    "jupyter": {
     "outputs_hidden": true
    }
   },
   "outputs": [],
   "source": [
    "def generate_model_scores(json_data, filepath=None):\n",
    "    scores = []\n",
    "    for entry in tqdm(json_data, desc=\"Scoring entries\"):\n",
    "        prompt = (\n",
    "            f\"Given the input `{format_input(entry)}` \"\n",
    "            f\"and correct output `{entry['output']}`, \"\n",
    "            f\"score the model response `{entry['generated_text']}`\"\n",
    "            f\" on a scale from 0 to 100, where 100 is the best score. \"\n",
    "            f\"Respond with the integer number only.\"\n",
    "        )\n",
    "        score = gemini_generate(prompt)\n",
    "        try:\n",
    "            scores.append(int(score))\n",
    "            print(f\"Score: {score}\")\n",
    "            entry[\"score\"] = score\n",
    "        except ValueError:\n",
    "            print(f\"Could not convert score: {score}\")\n",
    "            continue\n",
    "        except Exception as e:\n",
    "            print(f\"An error occurred: {e}\")\n",
    "            time.sleep(5)\n",
    "            continue\n",
    "\n",
    "    if filepath:\n",
    "        with open(filepath, 'w') as f:\n",
    "            json.dump(json_data, f, indent=4)\n",
    "\n",
    "    print(f\"Mean score: {np.mean(scores)}\")\n",
    "\n",
    "    return scores"
   ]
  },
  {
   "cell_type": "markdown",
   "metadata": {
    "id": "y-NL4cC3nSPy"
   },
   "source": [
    "## 6.1 Prepare the Dataset"
   ]
  },
  {
   "cell_type": "code",
   "execution_count": null,
   "metadata": {
    "id": "JQvWP66pk91v"
   },
   "outputs": [],
   "source": [
    "alpaca_data_15k_filepath = GOOGLE_DRIVE_PATH + \"/instr_fine_tune\" + \"/data/alpaca_data_15k.json\"\n",
    "alpaca_data_15k = load_json_data(alpaca_data_15k_filepath)"
   ]
  },
  {
   "cell_type": "code",
   "execution_count": null,
   "metadata": {
    "id": "vX6JmUr6rmnD"
   },
   "outputs": [],
   "source": [
    "alpaca_sample_generation_data_filepath = GOOGLE_DRIVE_PATH + \"/instr_fine_tune\" + \"/data/alpaca_sample_generation_data_30.json\"\n",
    "alpaca_sample_generation_data = load_json_data(alpaca_sample_generation_data_filepath)"
   ]
  },
  {
   "cell_type": "code",
   "execution_count": null,
   "metadata": {
    "colab": {
     "base_uri": "https://localhost:8080/"
    },
    "id": "OYWxPCHloC0k",
    "outputId": "601a2a20-d3f6-4bf7-9ec0-25e708130259"
   },
   "outputs": [],
   "source": [
    "num_entries = len(alpaca_data_15k)\n",
    "print(\"Number of entries:\", num_entries)"
   ]
  },
  {
   "cell_type": "code",
   "execution_count": null,
   "metadata": {
    "colab": {
     "base_uri": "https://localhost:8080/"
    },
    "collapsed": true,
    "id": "-A71MeSBnf4h",
    "jupyter": {
     "outputs_hidden": true
    },
    "outputId": "728f6f57-95ba-4c32-d1cc-91d9f6807b57"
   },
   "outputs": [],
   "source": [
    "train_portion = int(num_entries * 0.80)  # 85% for training\n",
    "test_portion = int(num_entries * 0.10)    # 10% for testing\n",
    "val_portion = num_entries - train_portion - test_portion  # Remaining 10% for validation\n",
    "\n",
    "alpaca_train_data = alpaca_data_15k[:train_portion]\n",
    "alpaca_test_data = alpaca_data_15k[train_portion:train_portion + test_portion]\n",
    "alpaca_val_data = alpaca_data_15k[train_portion + test_portion:]\n",
    "\n",
    "print(\"Training set length:\", len(alpaca_train_data))\n",
    "print(\"Validation set length:\", len(alpaca_val_data))\n",
    "print(\"Test set length:\", len(alpaca_test_data))"
   ]
  },
  {
   "cell_type": "code",
   "execution_count": null,
   "metadata": {
    "colab": {
     "base_uri": "https://localhost:8080/"
    },
    "collapsed": true,
    "id": "IHnevkwpYTU1",
    "jupyter": {
     "outputs_hidden": true
    },
    "outputId": "767b3feb-b479-4916-861d-3ea2a1b01e82"
   },
   "outputs": [],
   "source": [
    "subset_alpaca_test_data = alpaca_sample_generation_data + alpaca_test_data[:20]\n",
    "print(\"Subset of test data length:\", len(subset_alpaca_test_data))"
   ]
  },
  {
   "cell_type": "markdown",
   "metadata": {
    "id": "lWmDYO0Uo94O"
   },
   "source": [
    "## 6.2 Create data loaders"
   ]
  },
  {
   "cell_type": "code",
   "execution_count": null,
   "metadata": {
    "collapsed": true,
    "id": "bZ7t_xORnf1x",
    "jupyter": {
     "outputs_hidden": true
    }
   },
   "outputs": [],
   "source": [
    "num_workers = 0\n",
    "batch_size = 4\n",
    "\n",
    "torch.manual_seed(123)\n",
    "tokenizer = tiktoken.get_encoding(\"gpt2\")\n",
    "\n",
    "alpaca_train_dataset = InstructionDataset(alpaca_train_data, tokenizer)\n",
    "alpaca_train_loader = DataLoader(\n",
    "    alpaca_train_dataset,\n",
    "    batch_size=batch_size,\n",
    "    collate_fn=customized_collate_fn,\n",
    "    shuffle=True,\n",
    "    drop_last=True,\n",
    "    num_workers=num_workers,\n",
    ")\n",
    "\n",
    "alpaca_val_dataset = InstructionDataset(alpaca_val_data, tokenizer)\n",
    "alpaca_val_loader = DataLoader(\n",
    "    alpaca_val_dataset,\n",
    "    batch_size=batch_size,\n",
    "    collate_fn=customized_collate_fn,\n",
    "    shuffle=False,\n",
    "    drop_last=False,\n",
    "    num_workers=num_workers,\n",
    ")\n",
    "\n",
    "alpaca_test_dataset = InstructionDataset(alpaca_test_data, tokenizer)\n",
    "alpaca_test_loader = DataLoader(\n",
    "    alpaca_test_dataset,\n",
    "    batch_size=batch_size,\n",
    "    collate_fn=customized_collate_fn,\n",
    "    shuffle=False,\n",
    "    drop_last=False,\n",
    "    num_workers=num_workers,\n",
    ")"
   ]
  },
  {
   "cell_type": "code",
   "execution_count": null,
   "metadata": {
    "colab": {
     "base_uri": "https://localhost:8080/"
    },
    "collapsed": true,
    "id": "arvVACginfzA",
    "jupyter": {
     "outputs_hidden": true
    },
    "outputId": "676d19e5-7760-48a3-8a83-1e6ebf805bbd"
   },
   "outputs": [],
   "source": [
    "print(\"Train loader:\")\n",
    "i = 0\n",
    "for inputs, targets in alpaca_train_loader:\n",
    "    if i <= 3:\n",
    "        print(inputs.shape, targets.shape)\n",
    "    i += 1\n",
    "print(f\"There are {i} batches in the train loader\")"
   ]
  },
  {
   "cell_type": "markdown",
   "metadata": {
    "id": "oy-dlu1nqXll"
   },
   "source": [
    "## 6.3 Load Pretrained GPT2"
   ]
  },
  {
   "cell_type": "code",
   "execution_count": null,
   "metadata": {
    "colab": {
     "base_uri": "https://localhost:8080/"
    },
    "collapsed": true,
    "id": "CcsN_oZ5nfwA",
    "jupyter": {
     "outputs_hidden": true
    },
    "outputId": "da497fc8-c91a-41a7-ad1b-04a5ffdfe93f"
   },
   "outputs": [],
   "source": [
    "CHOOSE_MODEL = \"gpt2-xl (1558M)\"\n",
    "# gpt2-large (774M)\n",
    "pretrained_gpt_m = get_pretrained_gpt_model(CHOOSE_MODEL)"
   ]
  },
  {
   "cell_type": "code",
   "execution_count": null,
   "metadata": {
    "colab": {
     "base_uri": "https://localhost:8080/"
    },
    "collapsed": true,
    "id": "EsXwBEwbOPw8",
    "jupyter": {
     "outputs_hidden": true
    },
    "outputId": "478cc239-3879-4254-83a5-37eb06356ca6"
   },
   "outputs": [],
   "source": [
    "generated_data_file_path = GOOGLE_DRIVE_PATH + \"/instr_fine_tune\" + \"/data/runs/pretrained_gpt_xl_generated_data.json\"\n",
    "generated_data = generate_model_response(\n",
    "    model=pretrained_gpt_m,\n",
    "    test_data=subset_alpaca_test_data,\n",
    "    file_path=generated_data_file_path\n",
    ")\n",
    "generated_data_scores = generate_model_scores(generated_data, generated_data_file_path)"
   ]
  },
  {
   "cell_type": "code",
   "execution_count": null,
   "metadata": {
    "colab": {
     "base_uri": "https://localhost:8080/"
    },
    "collapsed": true,
    "id": "vkeTxvYXqwGM",
    "jupyter": {
     "outputs_hidden": true
    },
    "outputId": "53512b02-cfda-4126-aed8-6b86b86b69e6"
   },
   "outputs": [],
   "source": [
    "sample_text = format_input(alpaca_val_data[7])\n",
    "print(sample_text)"
   ]
  },
  {
   "cell_type": "code",
   "execution_count": null,
   "metadata": {
    "colab": {
     "base_uri": "https://localhost:8080/"
    },
    "collapsed": true,
    "id": "QEzT1R7GqwGO",
    "jupyter": {
     "outputs_hidden": true
    },
    "outputId": "423e79f0-6793-47db-c72a-a32478bad60c"
   },
   "outputs": [],
   "source": [
    "torch.manual_seed(123)\n",
    "\n",
    "token_ids = generate_text_simple(\n",
    "    model=pretrained_gpt_m.to(device),\n",
    "    token_ids=text_to_token_ids(sample_text, tokenizer).to(device),\n",
    "    max_new_tokens=35,\n",
    "    context_size=BASE_CONFIG[\"context_length\"],\n",
    ")\n",
    "\n",
    "generated_text = token_ids_to_text(token_ids, tokenizer)\n",
    "print(\"Output text:\\n\", generated_text)"
   ]
  },
  {
   "cell_type": "code",
   "execution_count": null,
   "metadata": {
    "colab": {
     "base_uri": "https://localhost:8080/"
    },
    "collapsed": true,
    "id": "9AXJUqzOqwGO",
    "jupyter": {
     "outputs_hidden": true
    },
    "outputId": "298170d6-f6a9-40c3-9231-4cb1a63507f0"
   },
   "outputs": [],
   "source": [
    "response_text = (\n",
    "    generated_text[len(sample_text):]\n",
    "    .replace(\"### Response:\", \"\")\n",
    "    .strip()\n",
    ")\n",
    "print(response_text)"
   ]
  },
  {
   "cell_type": "markdown",
   "metadata": {
    "id": "ALjlb2DNrO80"
   },
   "source": [
    "## 6.4 Finetune on Alpaca 12k"
   ]
  },
  {
   "cell_type": "code",
   "execution_count": null,
   "metadata": {
    "id": "TItsjagZriDr"
   },
   "outputs": [],
   "source": [
    "def finetune_model(run_name):\n",
    "    # 1) Initialize a Pre-trained GPT model\n",
    "    CHOOSE_MODEL = \"gpt2-medium (355M)\"\n",
    "    # CHOOSE_MODEL = \"gpt2-large (774M)\"\n",
    "    pretrained_gpt_m = get_pretrained_gpt_model(CHOOSE_MODEL)\n",
    "    pretrained_gpt_m.to(device)\n",
    "\n",
    "    pretrained_gpt_m = convert_to_lora_model(pretrained_gpt_m, rank=16, alpha=16, last_n_trf_blocks=22)\n",
    "    print_model_losses(pretrained_gpt_m, alpaca_train_loader, alpaca_val_loader, device)\n",
    "\n",
    "    # 2) Finetune the model\n",
    "    start_time = time.time()\n",
    "    torch.manual_seed(123)\n",
    "\n",
    "    optimizer = torch.optim.AdamW(pretrained_gpt_m.parameters(), lr=5e-5, weight_decay=0.1)\n",
    "    num_epochs = 2\n",
    "    total_steps = len(alpaca_train_loader) * num_epochs\n",
    "    warmup_steps = int(0.2 * total_steps) # 20% warmup\n",
    "\n",
    "    ift_alpaca_training_config = TrainingConfig(\n",
    "        model=pretrained_gpt_m,\n",
    "        train_loader=alpaca_train_loader,\n",
    "        val_loader=alpaca_val_loader,\n",
    "        optimizer=optimizer,\n",
    "        device=device,\n",
    "        num_epochs=num_epochs,\n",
    "        eval_freq=25,\n",
    "        eval_iter=5,\n",
    "        start_context=format_input(alpaca_val_data[7]),\n",
    "        tokenizer=tokenizer,\n",
    "        warmup_steps=warmup_steps,\n",
    "        initial_lr=1e-5,\n",
    "        min_lr=1e-5,\n",
    "        run_name=run_name,\n",
    "    )\n",
    "    # ift_alpaca_training_results = train_model_simple(ift_alpaca_training_config)\n",
    "    ift_alpaca_training_results = train_model(ift_alpaca_training_config)\n",
    "\n",
    "    end_time = time.time()\n",
    "    execution_time_minutes = (end_time - start_time) / 60\n",
    "    print(f\"Training completed in {execution_time_minutes:.2f} minutes.\")\n",
    "\n",
    "    # 3) Saving and logging\n",
    "    directory_path = f\"{GOOGLE_DRIVE_PATH}/instr_fine_tune/data/runs/{run_name}/\"\n",
    "    if not os.path.exists(directory_path):\n",
    "        os.makedirs(directory_path)\n",
    "\n",
    "    # 3a) Save GPT model\n",
    "    # model_file_path = directory_path + \"pretrained_gpt_m.pth\"\n",
    "    # torch.save(pretrained_gpt_m.state_dict(), model_file_path)\n",
    "\n",
    "    # 3b) Save training results\n",
    "    training_results_file_path = directory_path + \"training_results.json\"\n",
    "    save_training_results(ift_alpaca_training_results, training_results_file_path)\n",
    "\n",
    "    # 3c) Plot learning curves\n",
    "    plot_losses(ift_alpaca_training_config, ift_alpaca_training_results, directory_path + \"loss_curves.png\")\n",
    "    plot_perplexity(ift_alpaca_training_config, ift_alpaca_training_results, directory_path + \"perplexity_curves.png\")\n",
    "\n",
    "    # 3d) Generate sample responses\n",
    "    generated_data_file_path = directory_path + \"generated_data.json\"\n",
    "    generated_data = generate_model_response(\n",
    "        model=pretrained_gpt_m,\n",
    "        test_data=subset_alpaca_test_data,\n",
    "        file_path=generated_data_file_path\n",
    "    )\n",
    "\n",
    "    return generated_data, ift_alpaca_training_results, ift_alpaca_training_config"
   ]
  },
  {
   "cell_type": "code",
   "execution_count": null,
   "metadata": {
    "colab": {
     "base_uri": "https://localhost:8080/"
    },
    "id": "jN6jrh5RKV1p",
    "outputId": "7a638729-169d-44ee-854e-86a4c8e2d450"
   },
   "outputs": [],
   "source": [
    "run_name = \"run33\"\n",
    "generated_data, ift_alpaca_training_results, ift_alpaca_training_config = finetune_model(run_name)"
   ]
  },
  {
   "cell_type": "code",
   "execution_count": null,
   "metadata": {
    "id": "JOl59yECaZ5N"
   },
   "outputs": [],
   "source": [
    "directory_path = f\"{GOOGLE_DRIVE_PATH}/instr_fine_tune/data/runs/{run_name}/\"\n",
    "generated_data_file_path = directory_path + \"generated_data.json\"\n",
    "generated_data_file_path"
   ]
  },
  {
   "cell_type": "code",
   "execution_count": null,
   "metadata": {
    "id": "Hq9qXDcfG49s"
   },
   "outputs": [],
   "source": [
    "generated_data_scores = generate_model_scores(generated_data, generated_data_file_path)"
   ]
  },
  {
   "cell_type": "code",
   "execution_count": null,
   "metadata": {
    "colab": {
     "base_uri": "https://localhost:8080/",
     "height": 487
    },
    "id": "q_iNegsY34Cs",
    "outputId": "6d7f14e0-485e-4165-d4fd-07342115fa1f"
   },
   "outputs": [],
   "source": [
    "plot_and_save_learning_rate(ift_alpaca_training_results, filepath=directory_path + \"learning_rate.png\")"
   ]
  },
  {
   "cell_type": "markdown",
   "metadata": {
    "id": "fy6AX26CB_1A"
   },
   "source": [
    "## Scratch Pad"
   ]
  },
  {
   "cell_type": "code",
   "execution_count": null,
   "metadata": {
    "collapsed": true,
    "id": "U5iDdR-KB_YV",
    "jupyter": {
     "outputs_hidden": true
    }
   },
   "outputs": [],
   "source": []
  },
  {
   "cell_type": "code",
   "execution_count": null,
   "metadata": {
    "collapsed": true,
    "id": "O-DCFrCPB_Vm",
    "jupyter": {
     "outputs_hidden": true
    }
   },
   "outputs": [],
   "source": []
  },
  {
   "cell_type": "code",
   "execution_count": null,
   "metadata": {
    "collapsed": true,
    "id": "gnDc89sdB_Ti",
    "jupyter": {
     "outputs_hidden": true
    }
   },
   "outputs": [],
   "source": []
  },
  {
   "cell_type": "code",
   "execution_count": null,
   "metadata": {
    "collapsed": true,
    "id": "QwMzMM1KbW_o",
    "jupyter": {
     "outputs_hidden": true
    }
   },
   "outputs": [],
   "source": []
  },
  {
   "cell_type": "code",
   "execution_count": null,
   "metadata": {
    "collapsed": true,
    "id": "tTlYc1aRG3d6",
    "jupyter": {
     "outputs_hidden": true
    }
   },
   "outputs": [],
   "source": []
  }
 ],
 "metadata": {
  "accelerator": "GPU",
  "colab": {
   "collapsed_sections": [
    "vO2trnNoJ_sr",
    "XCDTFw8LZgcx",
    "0itX7X2zZn_s",
    "9PncFFFgdSQN",
    "6s2zo3vNQnvF",
    "oVWuqq5w_UnM",
    "-9Gx_ZC5Mg6b",
    "uCbGwMnapeuM",
    "iTgvT-7kKvp0",
    "-B8zvt73bA79",
    "yo9WNa0jJqQK",
    "DPdJyLA6hL4Z",
    "Fe9arV26e4C4",
    "plYJLPT5mGTs",
    "aYqvauqh0nR5",
    "vX9LBfQ53sG5",
    "fsWuqt7jj85M",
    "zfPhL1IYOIzo",
    "oy-dlu1nqXll"
   ],
   "gpuType": "T4",
   "provenance": [],
   "toc_visible": true
  },
  "kernelspec": {
   "display_name": "Python 3 (ipykernel)",
   "language": "python",
   "name": "python3"
  },
  "language_info": {
   "codemirror_mode": {
    "name": "ipython",
    "version": 3
   },
   "file_extension": ".py",
   "mimetype": "text/x-python",
   "name": "python",
   "nbconvert_exporter": "python",
   "pygments_lexer": "ipython3",
   "version": "3.12.3"
  },
  "widgets": {
   "application/vnd.jupyter.widget-state+json": {
    "013d857359ee4e8a98de82a141a82dc6": {
     "model_module": "@jupyter-widgets/controls",
     "model_module_version": "1.5.0",
     "model_name": "FloatProgressModel",
     "state": {
      "_dom_classes": [],
      "_model_module": "@jupyter-widgets/controls",
      "_model_module_version": "1.5.0",
      "_model_name": "FloatProgressModel",
      "_view_count": null,
      "_view_module": "@jupyter-widgets/controls",
      "_view_module_version": "1.5.0",
      "_view_name": "ProgressView",
      "bar_style": "success",
      "description": "",
      "description_tooltip": null,
      "layout": "IPY_MODEL_4fdb7451b5e348fc986611784fa16480",
      "max": 718,
      "min": 0,
      "orientation": "horizontal",
      "style": "IPY_MODEL_0cd4b8d1b9334c0b9df1330409ced1e9",
      "value": 718
     }
    },
    "042abe1672c34b8184c2dca737a88d99": {
     "model_module": "@jupyter-widgets/controls",
     "model_module_version": "1.5.0",
     "model_name": "HTMLModel",
     "state": {
      "_dom_classes": [],
      "_model_module": "@jupyter-widgets/controls",
      "_model_module_version": "1.5.0",
      "_model_name": "HTMLModel",
      "_view_count": null,
      "_view_module": "@jupyter-widgets/controls",
      "_view_module_version": "1.5.0",
      "_view_name": "HTMLView",
      "description": "",
      "description_tooltip": null,
      "layout": "IPY_MODEL_fa426df74eab43c58ed2dd4b7093ce81",
      "placeholder": "​",
      "style": "IPY_MODEL_1d0ff35f5d8b4c04b7e9277c2e19105e",
      "value": " 3.25G/3.25G [01:16&lt;00:00, 35.4MB/s]"
     }
    },
    "04d259e6069e4852bcf4dfb4ba6ae558": {
     "model_module": "@jupyter-widgets/controls",
     "model_module_version": "1.5.0",
     "model_name": "ProgressStyleModel",
     "state": {
      "_model_module": "@jupyter-widgets/controls",
      "_model_module_version": "1.5.0",
      "_model_name": "ProgressStyleModel",
      "_view_count": null,
      "_view_module": "@jupyter-widgets/base",
      "_view_module_version": "1.2.0",
      "_view_name": "StyleView",
      "bar_color": null,
      "description_width": ""
     }
    },
    "06dbdd30e7e94304b8b8f3f58297b637": {
     "model_module": "@jupyter-widgets/controls",
     "model_module_version": "1.5.0",
     "model_name": "FloatProgressModel",
     "state": {
      "_dom_classes": [],
      "_model_module": "@jupyter-widgets/controls",
      "_model_module_version": "1.5.0",
      "_model_name": "FloatProgressModel",
      "_view_count": null,
      "_view_module": "@jupyter-widgets/controls",
      "_view_module_version": "1.5.0",
      "_view_name": "ProgressView",
      "bar_style": "success",
      "description": "",
      "description_tooltip": null,
      "layout": "IPY_MODEL_951c4d07c293458e8714ed4f2eb2ab30",
      "max": 548105171,
      "min": 0,
      "orientation": "horizontal",
      "style": "IPY_MODEL_83f0cde47fbc4575aaf32b1f90ca217c",
      "value": 548105171
     }
    },
    "0cd4b8d1b9334c0b9df1330409ced1e9": {
     "model_module": "@jupyter-widgets/controls",
     "model_module_version": "1.5.0",
     "model_name": "ProgressStyleModel",
     "state": {
      "_model_module": "@jupyter-widgets/controls",
      "_model_module_version": "1.5.0",
      "_model_name": "ProgressStyleModel",
      "_view_count": null,
      "_view_module": "@jupyter-widgets/base",
      "_view_module_version": "1.2.0",
      "_view_name": "StyleView",
      "bar_color": null,
      "description_width": ""
     }
    },
    "0d3c1431488348ff9ef4d8eace82c7e9": {
     "model_module": "@jupyter-widgets/base",
     "model_module_version": "1.2.0",
     "model_name": "LayoutModel",
     "state": {
      "_model_module": "@jupyter-widgets/base",
      "_model_module_version": "1.2.0",
      "_model_name": "LayoutModel",
      "_view_count": null,
      "_view_module": "@jupyter-widgets/base",
      "_view_module_version": "1.2.0",
      "_view_name": "LayoutView",
      "align_content": null,
      "align_items": null,
      "align_self": null,
      "border": null,
      "bottom": null,
      "display": null,
      "flex": null,
      "flex_flow": null,
      "grid_area": null,
      "grid_auto_columns": null,
      "grid_auto_flow": null,
      "grid_auto_rows": null,
      "grid_column": null,
      "grid_gap": null,
      "grid_row": null,
      "grid_template_areas": null,
      "grid_template_columns": null,
      "grid_template_rows": null,
      "height": null,
      "justify_content": null,
      "justify_items": null,
      "left": null,
      "margin": null,
      "max_height": null,
      "max_width": null,
      "min_height": null,
      "min_width": null,
      "object_fit": null,
      "object_position": null,
      "order": null,
      "overflow": null,
      "overflow_x": null,
      "overflow_y": null,
      "padding": null,
      "right": null,
      "top": null,
      "visibility": null,
      "width": null
     }
    },
    "110ca7774cb84667ab7832b453d5e30e": {
     "model_module": "@jupyter-widgets/base",
     "model_module_version": "1.2.0",
     "model_name": "LayoutModel",
     "state": {
      "_model_module": "@jupyter-widgets/base",
      "_model_module_version": "1.2.0",
      "_model_name": "LayoutModel",
      "_view_count": null,
      "_view_module": "@jupyter-widgets/base",
      "_view_module_version": "1.2.0",
      "_view_name": "LayoutView",
      "align_content": null,
      "align_items": null,
      "align_self": null,
      "border": null,
      "bottom": null,
      "display": null,
      "flex": null,
      "flex_flow": null,
      "grid_area": null,
      "grid_auto_columns": null,
      "grid_auto_flow": null,
      "grid_auto_rows": null,
      "grid_column": null,
      "grid_gap": null,
      "grid_row": null,
      "grid_template_areas": null,
      "grid_template_columns": null,
      "grid_template_rows": null,
      "height": null,
      "justify_content": null,
      "justify_items": null,
      "left": null,
      "margin": null,
      "max_height": null,
      "max_width": null,
      "min_height": null,
      "min_width": null,
      "object_fit": null,
      "object_position": null,
      "order": null,
      "overflow": null,
      "overflow_x": null,
      "overflow_y": null,
      "padding": null,
      "right": null,
      "top": null,
      "visibility": null,
      "width": null
     }
    },
    "137c903e0eb74330b4e6eb1ce01f9b5f": {
     "model_module": "@jupyter-widgets/controls",
     "model_module_version": "1.5.0",
     "model_name": "DescriptionStyleModel",
     "state": {
      "_model_module": "@jupyter-widgets/controls",
      "_model_module_version": "1.5.0",
      "_model_name": "DescriptionStyleModel",
      "_view_count": null,
      "_view_module": "@jupyter-widgets/base",
      "_view_module_version": "1.2.0",
      "_view_name": "StyleView",
      "description_width": ""
     }
    },
    "13f2a463ec5a4ad0b467970aef00e80d": {
     "model_module": "@jupyter-widgets/base",
     "model_module_version": "1.2.0",
     "model_name": "LayoutModel",
     "state": {
      "_model_module": "@jupyter-widgets/base",
      "_model_module_version": "1.2.0",
      "_model_name": "LayoutModel",
      "_view_count": null,
      "_view_module": "@jupyter-widgets/base",
      "_view_module_version": "1.2.0",
      "_view_name": "LayoutView",
      "align_content": null,
      "align_items": null,
      "align_self": null,
      "border": null,
      "bottom": null,
      "display": null,
      "flex": null,
      "flex_flow": null,
      "grid_area": null,
      "grid_auto_columns": null,
      "grid_auto_flow": null,
      "grid_auto_rows": null,
      "grid_column": null,
      "grid_gap": null,
      "grid_row": null,
      "grid_template_areas": null,
      "grid_template_columns": null,
      "grid_template_rows": null,
      "height": null,
      "justify_content": null,
      "justify_items": null,
      "left": null,
      "margin": null,
      "max_height": null,
      "max_width": null,
      "min_height": null,
      "min_width": null,
      "object_fit": null,
      "object_position": null,
      "order": null,
      "overflow": null,
      "overflow_x": null,
      "overflow_y": null,
      "padding": null,
      "right": null,
      "top": null,
      "visibility": null,
      "width": null
     }
    },
    "1417be87ed014e4ca7ec9f61e0e5b26b": {
     "model_module": "@jupyter-widgets/base",
     "model_module_version": "1.2.0",
     "model_name": "LayoutModel",
     "state": {
      "_model_module": "@jupyter-widgets/base",
      "_model_module_version": "1.2.0",
      "_model_name": "LayoutModel",
      "_view_count": null,
      "_view_module": "@jupyter-widgets/base",
      "_view_module_version": "1.2.0",
      "_view_name": "LayoutView",
      "align_content": null,
      "align_items": null,
      "align_self": null,
      "border": null,
      "bottom": null,
      "display": null,
      "flex": null,
      "flex_flow": null,
      "grid_area": null,
      "grid_auto_columns": null,
      "grid_auto_flow": null,
      "grid_auto_rows": null,
      "grid_column": null,
      "grid_gap": null,
      "grid_row": null,
      "grid_template_areas": null,
      "grid_template_columns": null,
      "grid_template_rows": null,
      "height": null,
      "justify_content": null,
      "justify_items": null,
      "left": null,
      "margin": null,
      "max_height": null,
      "max_width": null,
      "min_height": null,
      "min_width": null,
      "object_fit": null,
      "object_position": null,
      "order": null,
      "overflow": null,
      "overflow_x": null,
      "overflow_y": null,
      "padding": null,
      "right": null,
      "top": null,
      "visibility": null,
      "width": null
     }
    },
    "16b2ed68aaa44c9f816a5949f938e7ec": {
     "model_module": "@jupyter-widgets/base",
     "model_module_version": "1.2.0",
     "model_name": "LayoutModel",
     "state": {
      "_model_module": "@jupyter-widgets/base",
      "_model_module_version": "1.2.0",
      "_model_name": "LayoutModel",
      "_view_count": null,
      "_view_module": "@jupyter-widgets/base",
      "_view_module_version": "1.2.0",
      "_view_name": "LayoutView",
      "align_content": null,
      "align_items": null,
      "align_self": null,
      "border": null,
      "bottom": null,
      "display": null,
      "flex": null,
      "flex_flow": null,
      "grid_area": null,
      "grid_auto_columns": null,
      "grid_auto_flow": null,
      "grid_auto_rows": null,
      "grid_column": null,
      "grid_gap": null,
      "grid_row": null,
      "grid_template_areas": null,
      "grid_template_columns": null,
      "grid_template_rows": null,
      "height": null,
      "justify_content": null,
      "justify_items": null,
      "left": null,
      "margin": null,
      "max_height": null,
      "max_width": null,
      "min_height": null,
      "min_width": null,
      "object_fit": null,
      "object_position": null,
      "order": null,
      "overflow": null,
      "overflow_x": null,
      "overflow_y": null,
      "padding": null,
      "right": null,
      "top": null,
      "visibility": null,
      "width": null
     }
    },
    "1764f7ec7505463db8470c3423d6c2fd": {
     "model_module": "@jupyter-widgets/base",
     "model_module_version": "1.2.0",
     "model_name": "LayoutModel",
     "state": {
      "_model_module": "@jupyter-widgets/base",
      "_model_module_version": "1.2.0",
      "_model_name": "LayoutModel",
      "_view_count": null,
      "_view_module": "@jupyter-widgets/base",
      "_view_module_version": "1.2.0",
      "_view_name": "LayoutView",
      "align_content": null,
      "align_items": null,
      "align_self": null,
      "border": null,
      "bottom": null,
      "display": null,
      "flex": null,
      "flex_flow": null,
      "grid_area": null,
      "grid_auto_columns": null,
      "grid_auto_flow": null,
      "grid_auto_rows": null,
      "grid_column": null,
      "grid_gap": null,
      "grid_row": null,
      "grid_template_areas": null,
      "grid_template_columns": null,
      "grid_template_rows": null,
      "height": null,
      "justify_content": null,
      "justify_items": null,
      "left": null,
      "margin": null,
      "max_height": null,
      "max_width": null,
      "min_height": null,
      "min_width": null,
      "object_fit": null,
      "object_position": null,
      "order": null,
      "overflow": null,
      "overflow_x": null,
      "overflow_y": null,
      "padding": null,
      "right": null,
      "top": null,
      "visibility": null,
      "width": null
     }
    },
    "1a75f9599c4648588ea6ea05fae157d5": {
     "model_module": "@jupyter-widgets/controls",
     "model_module_version": "1.5.0",
     "model_name": "ProgressStyleModel",
     "state": {
      "_model_module": "@jupyter-widgets/controls",
      "_model_module_version": "1.5.0",
      "_model_name": "ProgressStyleModel",
      "_view_count": null,
      "_view_module": "@jupyter-widgets/base",
      "_view_module_version": "1.2.0",
      "_view_name": "StyleView",
      "bar_color": null,
      "description_width": ""
     }
    },
    "1ad3497b36bc4809ae08c1583b1c4ba6": {
     "model_module": "@jupyter-widgets/controls",
     "model_module_version": "1.5.0",
     "model_name": "DescriptionStyleModel",
     "state": {
      "_model_module": "@jupyter-widgets/controls",
      "_model_module_version": "1.5.0",
      "_model_name": "DescriptionStyleModel",
      "_view_count": null,
      "_view_module": "@jupyter-widgets/base",
      "_view_module_version": "1.2.0",
      "_view_name": "StyleView",
      "description_width": ""
     }
    },
    "1d0ff35f5d8b4c04b7e9277c2e19105e": {
     "model_module": "@jupyter-widgets/controls",
     "model_module_version": "1.5.0",
     "model_name": "DescriptionStyleModel",
     "state": {
      "_model_module": "@jupyter-widgets/controls",
      "_model_module_version": "1.5.0",
      "_model_name": "DescriptionStyleModel",
      "_view_count": null,
      "_view_module": "@jupyter-widgets/base",
      "_view_module_version": "1.2.0",
      "_view_name": "StyleView",
      "description_width": ""
     }
    },
    "1f4dc8204d254d888e49d7f3d9a5313d": {
     "model_module": "@jupyter-widgets/controls",
     "model_module_version": "1.5.0",
     "model_name": "FloatProgressModel",
     "state": {
      "_dom_classes": [],
      "_model_module": "@jupyter-widgets/controls",
      "_model_module_version": "1.5.0",
      "_model_name": "FloatProgressModel",
      "_view_count": null,
      "_view_module": "@jupyter-widgets/controls",
      "_view_module_version": "1.5.0",
      "_view_name": "ProgressView",
      "bar_style": "success",
      "description": "",
      "description_tooltip": null,
      "layout": "IPY_MODEL_d03bb7ce9b8f48ff822feb305bfc8e19",
      "max": 1519984962,
      "min": 0,
      "orientation": "horizontal",
      "style": "IPY_MODEL_5837e8eb6271449aafac03a005134a28",
      "value": 1519984962
     }
    },
    "268765a39df6496eadbff867cfdc1fc9": {
     "model_module": "@jupyter-widgets/base",
     "model_module_version": "1.2.0",
     "model_name": "LayoutModel",
     "state": {
      "_model_module": "@jupyter-widgets/base",
      "_model_module_version": "1.2.0",
      "_model_name": "LayoutModel",
      "_view_count": null,
      "_view_module": "@jupyter-widgets/base",
      "_view_module_version": "1.2.0",
      "_view_name": "LayoutView",
      "align_content": null,
      "align_items": null,
      "align_self": null,
      "border": null,
      "bottom": null,
      "display": null,
      "flex": null,
      "flex_flow": null,
      "grid_area": null,
      "grid_auto_columns": null,
      "grid_auto_flow": null,
      "grid_auto_rows": null,
      "grid_column": null,
      "grid_gap": null,
      "grid_row": null,
      "grid_template_areas": null,
      "grid_template_columns": null,
      "grid_template_rows": null,
      "height": null,
      "justify_content": null,
      "justify_items": null,
      "left": null,
      "margin": null,
      "max_height": null,
      "max_width": null,
      "min_height": null,
      "min_width": null,
      "object_fit": null,
      "object_position": null,
      "order": null,
      "overflow": null,
      "overflow_x": null,
      "overflow_y": null,
      "padding": null,
      "right": null,
      "top": null,
      "visibility": null,
      "width": null
     }
    },
    "2866f7e744d14734935398b1c826e380": {
     "model_module": "@jupyter-widgets/base",
     "model_module_version": "1.2.0",
     "model_name": "LayoutModel",
     "state": {
      "_model_module": "@jupyter-widgets/base",
      "_model_module_version": "1.2.0",
      "_model_name": "LayoutModel",
      "_view_count": null,
      "_view_module": "@jupyter-widgets/base",
      "_view_module_version": "1.2.0",
      "_view_name": "LayoutView",
      "align_content": null,
      "align_items": null,
      "align_self": null,
      "border": null,
      "bottom": null,
      "display": null,
      "flex": null,
      "flex_flow": null,
      "grid_area": null,
      "grid_auto_columns": null,
      "grid_auto_flow": null,
      "grid_auto_rows": null,
      "grid_column": null,
      "grid_gap": null,
      "grid_row": null,
      "grid_template_areas": null,
      "grid_template_columns": null,
      "grid_template_rows": null,
      "height": null,
      "justify_content": null,
      "justify_items": null,
      "left": null,
      "margin": null,
      "max_height": null,
      "max_width": null,
      "min_height": null,
      "min_width": null,
      "object_fit": null,
      "object_position": null,
      "order": null,
      "overflow": null,
      "overflow_x": null,
      "overflow_y": null,
      "padding": null,
      "right": null,
      "top": null,
      "visibility": null,
      "width": null
     }
    },
    "2a4acb386cd7445c9a306f45b49035ac": {
     "model_module": "@jupyter-widgets/controls",
     "model_module_version": "1.5.0",
     "model_name": "HBoxModel",
     "state": {
      "_dom_classes": [],
      "_model_module": "@jupyter-widgets/controls",
      "_model_module_version": "1.5.0",
      "_model_name": "HBoxModel",
      "_view_count": null,
      "_view_module": "@jupyter-widgets/controls",
      "_view_module_version": "1.5.0",
      "_view_name": "HBoxView",
      "box_style": "",
      "children": [
       "IPY_MODEL_4193edbc9dd24dd1930cb516f3e67c36",
       "IPY_MODEL_39c21e48c25240b4a8b0a65ed26e6b56",
       "IPY_MODEL_3ed30978b7894f58987619a35bc9751e"
      ],
      "layout": "IPY_MODEL_72fc08a40e7d47e7ae9a778b13123adf"
     }
    },
    "2a7169b17c20421388cbd2c57aaabb2b": {
     "model_module": "@jupyter-widgets/controls",
     "model_module_version": "1.5.0",
     "model_name": "HBoxModel",
     "state": {
      "_dom_classes": [],
      "_model_module": "@jupyter-widgets/controls",
      "_model_module_version": "1.5.0",
      "_model_name": "HBoxModel",
      "_view_count": null,
      "_view_module": "@jupyter-widgets/controls",
      "_view_module_version": "1.5.0",
      "_view_name": "HBoxView",
      "box_style": "",
      "children": [
       "IPY_MODEL_6c5f581670a146f1b9a86739667a16ef",
       "IPY_MODEL_6de0a3e9f72e4f5eb55cdb4b9854333f",
       "IPY_MODEL_042abe1672c34b8184c2dca737a88d99"
      ],
      "layout": "IPY_MODEL_fb492c2354aa4f4687b59391bad95e70"
     }
    },
    "2bbee239df3e412c92a5f9f96434c570": {
     "model_module": "@jupyter-widgets/controls",
     "model_module_version": "1.5.0",
     "model_name": "DescriptionStyleModel",
     "state": {
      "_model_module": "@jupyter-widgets/controls",
      "_model_module_version": "1.5.0",
      "_model_name": "DescriptionStyleModel",
      "_view_count": null,
      "_view_module": "@jupyter-widgets/base",
      "_view_module_version": "1.2.0",
      "_view_name": "StyleView",
      "description_width": ""
     }
    },
    "30e5d7c7fad244f0bdffd61817d4e898": {
     "model_module": "@jupyter-widgets/controls",
     "model_module_version": "1.5.0",
     "model_name": "HTMLModel",
     "state": {
      "_dom_classes": [],
      "_model_module": "@jupyter-widgets/controls",
      "_model_module_version": "1.5.0",
      "_model_name": "HTMLModel",
      "_view_count": null,
      "_view_module": "@jupyter-widgets/controls",
      "_view_module_version": "1.5.0",
      "_view_name": "HTMLView",
      "description": "",
      "description_tooltip": null,
      "layout": "IPY_MODEL_d6761cd1067c4fa092a942d373819d5d",
      "placeholder": "​",
      "style": "IPY_MODEL_f75fac600947449bba4836b06b88322f",
      "value": "config.json: 100%"
     }
    },
    "39c21e48c25240b4a8b0a65ed26e6b56": {
     "model_module": "@jupyter-widgets/controls",
     "model_module_version": "1.5.0",
     "model_name": "FloatProgressModel",
     "state": {
      "_dom_classes": [],
      "_model_module": "@jupyter-widgets/controls",
      "_model_module_version": "1.5.0",
      "_model_name": "FloatProgressModel",
      "_view_count": null,
      "_view_module": "@jupyter-widgets/controls",
      "_view_module_version": "1.5.0",
      "_view_name": "ProgressView",
      "bar_style": "success",
      "description": "",
      "description_tooltip": null,
      "layout": "IPY_MODEL_daa8cc67975a40f0a6c3493bc117c529",
      "max": 665,
      "min": 0,
      "orientation": "horizontal",
      "style": "IPY_MODEL_1a75f9599c4648588ea6ea05fae157d5",
      "value": 665
     }
    },
    "3ed30978b7894f58987619a35bc9751e": {
     "model_module": "@jupyter-widgets/controls",
     "model_module_version": "1.5.0",
     "model_name": "HTMLModel",
     "state": {
      "_dom_classes": [],
      "_model_module": "@jupyter-widgets/controls",
      "_model_module_version": "1.5.0",
      "_model_name": "HTMLModel",
      "_view_count": null,
      "_view_module": "@jupyter-widgets/controls",
      "_view_module_version": "1.5.0",
      "_view_name": "HTMLView",
      "description": "",
      "description_tooltip": null,
      "layout": "IPY_MODEL_d10fb6234f8a4b43a2046ff3f957b10d",
      "placeholder": "​",
      "style": "IPY_MODEL_1ad3497b36bc4809ae08c1583b1c4ba6",
      "value": " 665/665 [00:00&lt;00:00, 65.0kB/s]"
     }
    },
    "3f22b4235c454929902bf333ca0333da": {
     "model_module": "@jupyter-widgets/controls",
     "model_module_version": "1.5.0",
     "model_name": "HBoxModel",
     "state": {
      "_dom_classes": [],
      "_model_module": "@jupyter-widgets/controls",
      "_model_module_version": "1.5.0",
      "_model_name": "HBoxModel",
      "_view_count": null,
      "_view_module": "@jupyter-widgets/controls",
      "_view_module_version": "1.5.0",
      "_view_name": "HBoxView",
      "box_style": "",
      "children": [
       "IPY_MODEL_dbacb0064718457a88e51939b9493bd6",
       "IPY_MODEL_013d857359ee4e8a98de82a141a82dc6",
       "IPY_MODEL_78ae9a4a6f47437c9d6f863008babf37"
      ],
      "layout": "IPY_MODEL_7615768f71414af9bd9f857b5432b032"
     }
    },
    "4193edbc9dd24dd1930cb516f3e67c36": {
     "model_module": "@jupyter-widgets/controls",
     "model_module_version": "1.5.0",
     "model_name": "HTMLModel",
     "state": {
      "_dom_classes": [],
      "_model_module": "@jupyter-widgets/controls",
      "_model_module_version": "1.5.0",
      "_model_name": "HTMLModel",
      "_view_count": null,
      "_view_module": "@jupyter-widgets/controls",
      "_view_module_version": "1.5.0",
      "_view_name": "HTMLView",
      "description": "",
      "description_tooltip": null,
      "layout": "IPY_MODEL_16b2ed68aaa44c9f816a5949f938e7ec",
      "placeholder": "​",
      "style": "IPY_MODEL_be0c0fabad584a4aa30dd010c1eae152",
      "value": "config.json: 100%"
     }
    },
    "49286700bdd24bdf99d0bcde2c40f0df": {
     "model_module": "@jupyter-widgets/controls",
     "model_module_version": "1.5.0",
     "model_name": "DescriptionStyleModel",
     "state": {
      "_model_module": "@jupyter-widgets/controls",
      "_model_module_version": "1.5.0",
      "_model_name": "DescriptionStyleModel",
      "_view_count": null,
      "_view_module": "@jupyter-widgets/base",
      "_view_module_version": "1.2.0",
      "_view_name": "StyleView",
      "description_width": ""
     }
    },
    "4fdb7451b5e348fc986611784fa16480": {
     "model_module": "@jupyter-widgets/base",
     "model_module_version": "1.2.0",
     "model_name": "LayoutModel",
     "state": {
      "_model_module": "@jupyter-widgets/base",
      "_model_module_version": "1.2.0",
      "_model_name": "LayoutModel",
      "_view_count": null,
      "_view_module": "@jupyter-widgets/base",
      "_view_module_version": "1.2.0",
      "_view_name": "LayoutView",
      "align_content": null,
      "align_items": null,
      "align_self": null,
      "border": null,
      "bottom": null,
      "display": null,
      "flex": null,
      "flex_flow": null,
      "grid_area": null,
      "grid_auto_columns": null,
      "grid_auto_flow": null,
      "grid_auto_rows": null,
      "grid_column": null,
      "grid_gap": null,
      "grid_row": null,
      "grid_template_areas": null,
      "grid_template_columns": null,
      "grid_template_rows": null,
      "height": null,
      "justify_content": null,
      "justify_items": null,
      "left": null,
      "margin": null,
      "max_height": null,
      "max_width": null,
      "min_height": null,
      "min_width": null,
      "object_fit": null,
      "object_position": null,
      "order": null,
      "overflow": null,
      "overflow_x": null,
      "overflow_y": null,
      "padding": null,
      "right": null,
      "top": null,
      "visibility": null,
      "width": null
     }
    },
    "5837e8eb6271449aafac03a005134a28": {
     "model_module": "@jupyter-widgets/controls",
     "model_module_version": "1.5.0",
     "model_name": "ProgressStyleModel",
     "state": {
      "_model_module": "@jupyter-widgets/controls",
      "_model_module_version": "1.5.0",
      "_model_name": "ProgressStyleModel",
      "_view_count": null,
      "_view_module": "@jupyter-widgets/base",
      "_view_module_version": "1.2.0",
      "_view_name": "StyleView",
      "bar_color": null,
      "description_width": ""
     }
    },
    "59d137cdc7114074a42d50d077f22bd2": {
     "model_module": "@jupyter-widgets/controls",
     "model_module_version": "1.5.0",
     "model_name": "HBoxModel",
     "state": {
      "_dom_classes": [],
      "_model_module": "@jupyter-widgets/controls",
      "_model_module_version": "1.5.0",
      "_model_name": "HBoxModel",
      "_view_count": null,
      "_view_module": "@jupyter-widgets/controls",
      "_view_module_version": "1.5.0",
      "_view_name": "HBoxView",
      "box_style": "",
      "children": [
       "IPY_MODEL_30e5d7c7fad244f0bdffd61817d4e898",
       "IPY_MODEL_6892d80d30834ac89922d353c58d1afe",
       "IPY_MODEL_7d326df2b99d49a381a2acde5a286ef9"
      ],
      "layout": "IPY_MODEL_2866f7e744d14734935398b1c826e380"
     }
    },
    "64246d207ce04c03be5d67542c0a3b5d": {
     "model_module": "@jupyter-widgets/base",
     "model_module_version": "1.2.0",
     "model_name": "LayoutModel",
     "state": {
      "_model_module": "@jupyter-widgets/base",
      "_model_module_version": "1.2.0",
      "_model_name": "LayoutModel",
      "_view_count": null,
      "_view_module": "@jupyter-widgets/base",
      "_view_module_version": "1.2.0",
      "_view_name": "LayoutView",
      "align_content": null,
      "align_items": null,
      "align_self": null,
      "border": null,
      "bottom": null,
      "display": null,
      "flex": null,
      "flex_flow": null,
      "grid_area": null,
      "grid_auto_columns": null,
      "grid_auto_flow": null,
      "grid_auto_rows": null,
      "grid_column": null,
      "grid_gap": null,
      "grid_row": null,
      "grid_template_areas": null,
      "grid_template_columns": null,
      "grid_template_rows": null,
      "height": null,
      "justify_content": null,
      "justify_items": null,
      "left": null,
      "margin": null,
      "max_height": null,
      "max_width": null,
      "min_height": null,
      "min_width": null,
      "object_fit": null,
      "object_position": null,
      "order": null,
      "overflow": null,
      "overflow_x": null,
      "overflow_y": null,
      "padding": null,
      "right": null,
      "top": null,
      "visibility": null,
      "width": null
     }
    },
    "6892d80d30834ac89922d353c58d1afe": {
     "model_module": "@jupyter-widgets/controls",
     "model_module_version": "1.5.0",
     "model_name": "FloatProgressModel",
     "state": {
      "_dom_classes": [],
      "_model_module": "@jupyter-widgets/controls",
      "_model_module_version": "1.5.0",
      "_model_name": "FloatProgressModel",
      "_view_count": null,
      "_view_module": "@jupyter-widgets/controls",
      "_view_module_version": "1.5.0",
      "_view_name": "ProgressView",
      "bar_style": "success",
      "description": "",
      "description_tooltip": null,
      "layout": "IPY_MODEL_a6402a34a24f47f99109cba9f97adee0",
      "max": 666,
      "min": 0,
      "orientation": "horizontal",
      "style": "IPY_MODEL_84290926106b48e3ad17222bbcfff83a",
      "value": 666
     }
    },
    "6c5f581670a146f1b9a86739667a16ef": {
     "model_module": "@jupyter-widgets/controls",
     "model_module_version": "1.5.0",
     "model_name": "HTMLModel",
     "state": {
      "_dom_classes": [],
      "_model_module": "@jupyter-widgets/controls",
      "_model_module_version": "1.5.0",
      "_model_name": "HTMLModel",
      "_view_count": null,
      "_view_module": "@jupyter-widgets/controls",
      "_view_module_version": "1.5.0",
      "_view_name": "HTMLView",
      "description": "",
      "description_tooltip": null,
      "layout": "IPY_MODEL_110ca7774cb84667ab7832b453d5e30e",
      "placeholder": "​",
      "style": "IPY_MODEL_e5f8ea229bf747eb854dd27f1bb24ccb",
      "value": "model.safetensors: 100%"
     }
    },
    "6de0a3e9f72e4f5eb55cdb4b9854333f": {
     "model_module": "@jupyter-widgets/controls",
     "model_module_version": "1.5.0",
     "model_name": "FloatProgressModel",
     "state": {
      "_dom_classes": [],
      "_model_module": "@jupyter-widgets/controls",
      "_model_module_version": "1.5.0",
      "_model_name": "FloatProgressModel",
      "_view_count": null,
      "_view_module": "@jupyter-widgets/controls",
      "_view_module_version": "1.5.0",
      "_view_name": "ProgressView",
      "bar_style": "success",
      "description": "",
      "description_tooltip": null,
      "layout": "IPY_MODEL_64246d207ce04c03be5d67542c0a3b5d",
      "max": 3247159078,
      "min": 0,
      "orientation": "horizontal",
      "style": "IPY_MODEL_04d259e6069e4852bcf4dfb4ba6ae558",
      "value": 3247159078
     }
    },
    "6e0087f49bac42708b148579843f9314": {
     "model_module": "@jupyter-widgets/controls",
     "model_module_version": "1.5.0",
     "model_name": "DescriptionStyleModel",
     "state": {
      "_model_module": "@jupyter-widgets/controls",
      "_model_module_version": "1.5.0",
      "_model_name": "DescriptionStyleModel",
      "_view_count": null,
      "_view_module": "@jupyter-widgets/base",
      "_view_module_version": "1.2.0",
      "_view_name": "StyleView",
      "description_width": ""
     }
    },
    "72fc08a40e7d47e7ae9a778b13123adf": {
     "model_module": "@jupyter-widgets/base",
     "model_module_version": "1.2.0",
     "model_name": "LayoutModel",
     "state": {
      "_model_module": "@jupyter-widgets/base",
      "_model_module_version": "1.2.0",
      "_model_name": "LayoutModel",
      "_view_count": null,
      "_view_module": "@jupyter-widgets/base",
      "_view_module_version": "1.2.0",
      "_view_name": "LayoutView",
      "align_content": null,
      "align_items": null,
      "align_self": null,
      "border": null,
      "bottom": null,
      "display": null,
      "flex": null,
      "flex_flow": null,
      "grid_area": null,
      "grid_auto_columns": null,
      "grid_auto_flow": null,
      "grid_auto_rows": null,
      "grid_column": null,
      "grid_gap": null,
      "grid_row": null,
      "grid_template_areas": null,
      "grid_template_columns": null,
      "grid_template_rows": null,
      "height": null,
      "justify_content": null,
      "justify_items": null,
      "left": null,
      "margin": null,
      "max_height": null,
      "max_width": null,
      "min_height": null,
      "min_width": null,
      "object_fit": null,
      "object_position": null,
      "order": null,
      "overflow": null,
      "overflow_x": null,
      "overflow_y": null,
      "padding": null,
      "right": null,
      "top": null,
      "visibility": null,
      "width": null
     }
    },
    "7615768f71414af9bd9f857b5432b032": {
     "model_module": "@jupyter-widgets/base",
     "model_module_version": "1.2.0",
     "model_name": "LayoutModel",
     "state": {
      "_model_module": "@jupyter-widgets/base",
      "_model_module_version": "1.2.0",
      "_model_name": "LayoutModel",
      "_view_count": null,
      "_view_module": "@jupyter-widgets/base",
      "_view_module_version": "1.2.0",
      "_view_name": "LayoutView",
      "align_content": null,
      "align_items": null,
      "align_self": null,
      "border": null,
      "bottom": null,
      "display": null,
      "flex": null,
      "flex_flow": null,
      "grid_area": null,
      "grid_auto_columns": null,
      "grid_auto_flow": null,
      "grid_auto_rows": null,
      "grid_column": null,
      "grid_gap": null,
      "grid_row": null,
      "grid_template_areas": null,
      "grid_template_columns": null,
      "grid_template_rows": null,
      "height": null,
      "justify_content": null,
      "justify_items": null,
      "left": null,
      "margin": null,
      "max_height": null,
      "max_width": null,
      "min_height": null,
      "min_width": null,
      "object_fit": null,
      "object_position": null,
      "order": null,
      "overflow": null,
      "overflow_x": null,
      "overflow_y": null,
      "padding": null,
      "right": null,
      "top": null,
      "visibility": null,
      "width": null
     }
    },
    "78ae9a4a6f47437c9d6f863008babf37": {
     "model_module": "@jupyter-widgets/controls",
     "model_module_version": "1.5.0",
     "model_name": "HTMLModel",
     "state": {
      "_dom_classes": [],
      "_model_module": "@jupyter-widgets/controls",
      "_model_module_version": "1.5.0",
      "_model_name": "HTMLModel",
      "_view_count": null,
      "_view_module": "@jupyter-widgets/controls",
      "_view_module_version": "1.5.0",
      "_view_name": "HTMLView",
      "description": "",
      "description_tooltip": null,
      "layout": "IPY_MODEL_0d3c1431488348ff9ef4d8eace82c7e9",
      "placeholder": "​",
      "style": "IPY_MODEL_6e0087f49bac42708b148579843f9314",
      "value": " 718/718 [00:00&lt;00:00, 62.8kB/s]"
     }
    },
    "7a94e7c6a42c45e3b4eb0189927ca011": {
     "model_module": "@jupyter-widgets/controls",
     "model_module_version": "1.5.0",
     "model_name": "HBoxModel",
     "state": {
      "_dom_classes": [],
      "_model_module": "@jupyter-widgets/controls",
      "_model_module_version": "1.5.0",
      "_model_name": "HBoxModel",
      "_view_count": null,
      "_view_module": "@jupyter-widgets/controls",
      "_view_module_version": "1.5.0",
      "_view_name": "HBoxView",
      "box_style": "",
      "children": [
       "IPY_MODEL_baf8880e266640ea971de542d37be0f5",
       "IPY_MODEL_06dbdd30e7e94304b8b8f3f58297b637",
       "IPY_MODEL_c231276adcf344708059583054d23c53"
      ],
      "layout": "IPY_MODEL_1417be87ed014e4ca7ec9f61e0e5b26b"
     }
    },
    "7d326df2b99d49a381a2acde5a286ef9": {
     "model_module": "@jupyter-widgets/controls",
     "model_module_version": "1.5.0",
     "model_name": "HTMLModel",
     "state": {
      "_dom_classes": [],
      "_model_module": "@jupyter-widgets/controls",
      "_model_module_version": "1.5.0",
      "_model_name": "HTMLModel",
      "_view_count": null,
      "_view_module": "@jupyter-widgets/controls",
      "_view_module_version": "1.5.0",
      "_view_name": "HTMLView",
      "description": "",
      "description_tooltip": null,
      "layout": "IPY_MODEL_bf336ce224a24a5dbfc47c3bdb9960b0",
      "placeholder": "​",
      "style": "IPY_MODEL_137c903e0eb74330b4e6eb1ce01f9b5f",
      "value": " 666/666 [00:00&lt;00:00, 54.6kB/s]"
     }
    },
    "8337649816c54e359829c38df83f1d6d": {
     "model_module": "@jupyter-widgets/base",
     "model_module_version": "1.2.0",
     "model_name": "LayoutModel",
     "state": {
      "_model_module": "@jupyter-widgets/base",
      "_model_module_version": "1.2.0",
      "_model_name": "LayoutModel",
      "_view_count": null,
      "_view_module": "@jupyter-widgets/base",
      "_view_module_version": "1.2.0",
      "_view_name": "LayoutView",
      "align_content": null,
      "align_items": null,
      "align_self": null,
      "border": null,
      "bottom": null,
      "display": null,
      "flex": null,
      "flex_flow": null,
      "grid_area": null,
      "grid_auto_columns": null,
      "grid_auto_flow": null,
      "grid_auto_rows": null,
      "grid_column": null,
      "grid_gap": null,
      "grid_row": null,
      "grid_template_areas": null,
      "grid_template_columns": null,
      "grid_template_rows": null,
      "height": null,
      "justify_content": null,
      "justify_items": null,
      "left": null,
      "margin": null,
      "max_height": null,
      "max_width": null,
      "min_height": null,
      "min_width": null,
      "object_fit": null,
      "object_position": null,
      "order": null,
      "overflow": null,
      "overflow_x": null,
      "overflow_y": null,
      "padding": null,
      "right": null,
      "top": null,
      "visibility": null,
      "width": null
     }
    },
    "83f0cde47fbc4575aaf32b1f90ca217c": {
     "model_module": "@jupyter-widgets/controls",
     "model_module_version": "1.5.0",
     "model_name": "ProgressStyleModel",
     "state": {
      "_model_module": "@jupyter-widgets/controls",
      "_model_module_version": "1.5.0",
      "_model_name": "ProgressStyleModel",
      "_view_count": null,
      "_view_module": "@jupyter-widgets/base",
      "_view_module_version": "1.2.0",
      "_view_name": "StyleView",
      "bar_color": null,
      "description_width": ""
     }
    },
    "84290926106b48e3ad17222bbcfff83a": {
     "model_module": "@jupyter-widgets/controls",
     "model_module_version": "1.5.0",
     "model_name": "ProgressStyleModel",
     "state": {
      "_model_module": "@jupyter-widgets/controls",
      "_model_module_version": "1.5.0",
      "_model_name": "ProgressStyleModel",
      "_view_count": null,
      "_view_module": "@jupyter-widgets/base",
      "_view_module_version": "1.2.0",
      "_view_name": "StyleView",
      "bar_color": null,
      "description_width": ""
     }
    },
    "888b68e0cc0c4f98979fa12f0a3d9c2f": {
     "model_module": "@jupyter-widgets/controls",
     "model_module_version": "1.5.0",
     "model_name": "DescriptionStyleModel",
     "state": {
      "_model_module": "@jupyter-widgets/controls",
      "_model_module_version": "1.5.0",
      "_model_name": "DescriptionStyleModel",
      "_view_count": null,
      "_view_module": "@jupyter-widgets/base",
      "_view_module_version": "1.2.0",
      "_view_name": "StyleView",
      "description_width": ""
     }
    },
    "951c4d07c293458e8714ed4f2eb2ab30": {
     "model_module": "@jupyter-widgets/base",
     "model_module_version": "1.2.0",
     "model_name": "LayoutModel",
     "state": {
      "_model_module": "@jupyter-widgets/base",
      "_model_module_version": "1.2.0",
      "_model_name": "LayoutModel",
      "_view_count": null,
      "_view_module": "@jupyter-widgets/base",
      "_view_module_version": "1.2.0",
      "_view_name": "LayoutView",
      "align_content": null,
      "align_items": null,
      "align_self": null,
      "border": null,
      "bottom": null,
      "display": null,
      "flex": null,
      "flex_flow": null,
      "grid_area": null,
      "grid_auto_columns": null,
      "grid_auto_flow": null,
      "grid_auto_rows": null,
      "grid_column": null,
      "grid_gap": null,
      "grid_row": null,
      "grid_template_areas": null,
      "grid_template_columns": null,
      "grid_template_rows": null,
      "height": null,
      "justify_content": null,
      "justify_items": null,
      "left": null,
      "margin": null,
      "max_height": null,
      "max_width": null,
      "min_height": null,
      "min_width": null,
      "object_fit": null,
      "object_position": null,
      "order": null,
      "overflow": null,
      "overflow_x": null,
      "overflow_y": null,
      "padding": null,
      "right": null,
      "top": null,
      "visibility": null,
      "width": null
     }
    },
    "98f57976f5dd4bc3afa48b6758b4555e": {
     "model_module": "@jupyter-widgets/controls",
     "model_module_version": "1.5.0",
     "model_name": "HTMLModel",
     "state": {
      "_dom_classes": [],
      "_model_module": "@jupyter-widgets/controls",
      "_model_module_version": "1.5.0",
      "_model_name": "HTMLModel",
      "_view_count": null,
      "_view_module": "@jupyter-widgets/controls",
      "_view_module_version": "1.5.0",
      "_view_name": "HTMLView",
      "description": "",
      "description_tooltip": null,
      "layout": "IPY_MODEL_268765a39df6496eadbff867cfdc1fc9",
      "placeholder": "​",
      "style": "IPY_MODEL_c1fe2e3143df48d28fd6fdb6cf82c9a9",
      "value": " 1.52G/1.52G [00:24&lt;00:00, 101MB/s]"
     }
    },
    "a448a9494f9440c9a487b464b244c856": {
     "model_module": "@jupyter-widgets/base",
     "model_module_version": "1.2.0",
     "model_name": "LayoutModel",
     "state": {
      "_model_module": "@jupyter-widgets/base",
      "_model_module_version": "1.2.0",
      "_model_name": "LayoutModel",
      "_view_count": null,
      "_view_module": "@jupyter-widgets/base",
      "_view_module_version": "1.2.0",
      "_view_name": "LayoutView",
      "align_content": null,
      "align_items": null,
      "align_self": null,
      "border": null,
      "bottom": null,
      "display": null,
      "flex": null,
      "flex_flow": null,
      "grid_area": null,
      "grid_auto_columns": null,
      "grid_auto_flow": null,
      "grid_auto_rows": null,
      "grid_column": null,
      "grid_gap": null,
      "grid_row": null,
      "grid_template_areas": null,
      "grid_template_columns": null,
      "grid_template_rows": null,
      "height": null,
      "justify_content": null,
      "justify_items": null,
      "left": null,
      "margin": null,
      "max_height": null,
      "max_width": null,
      "min_height": null,
      "min_width": null,
      "object_fit": null,
      "object_position": null,
      "order": null,
      "overflow": null,
      "overflow_x": null,
      "overflow_y": null,
      "padding": null,
      "right": null,
      "top": null,
      "visibility": null,
      "width": null
     }
    },
    "a6402a34a24f47f99109cba9f97adee0": {
     "model_module": "@jupyter-widgets/base",
     "model_module_version": "1.2.0",
     "model_name": "LayoutModel",
     "state": {
      "_model_module": "@jupyter-widgets/base",
      "_model_module_version": "1.2.0",
      "_model_name": "LayoutModel",
      "_view_count": null,
      "_view_module": "@jupyter-widgets/base",
      "_view_module_version": "1.2.0",
      "_view_name": "LayoutView",
      "align_content": null,
      "align_items": null,
      "align_self": null,
      "border": null,
      "bottom": null,
      "display": null,
      "flex": null,
      "flex_flow": null,
      "grid_area": null,
      "grid_auto_columns": null,
      "grid_auto_flow": null,
      "grid_auto_rows": null,
      "grid_column": null,
      "grid_gap": null,
      "grid_row": null,
      "grid_template_areas": null,
      "grid_template_columns": null,
      "grid_template_rows": null,
      "height": null,
      "justify_content": null,
      "justify_items": null,
      "left": null,
      "margin": null,
      "max_height": null,
      "max_width": null,
      "min_height": null,
      "min_width": null,
      "object_fit": null,
      "object_position": null,
      "order": null,
      "overflow": null,
      "overflow_x": null,
      "overflow_y": null,
      "padding": null,
      "right": null,
      "top": null,
      "visibility": null,
      "width": null
     }
    },
    "b1dbe6c5f036444a84dc05a1fbc04cf5": {
     "model_module": "@jupyter-widgets/controls",
     "model_module_version": "1.5.0",
     "model_name": "DescriptionStyleModel",
     "state": {
      "_model_module": "@jupyter-widgets/controls",
      "_model_module_version": "1.5.0",
      "_model_name": "DescriptionStyleModel",
      "_view_count": null,
      "_view_module": "@jupyter-widgets/base",
      "_view_module_version": "1.2.0",
      "_view_name": "StyleView",
      "description_width": ""
     }
    },
    "baf8880e266640ea971de542d37be0f5": {
     "model_module": "@jupyter-widgets/controls",
     "model_module_version": "1.5.0",
     "model_name": "HTMLModel",
     "state": {
      "_dom_classes": [],
      "_model_module": "@jupyter-widgets/controls",
      "_model_module_version": "1.5.0",
      "_model_name": "HTMLModel",
      "_view_count": null,
      "_view_module": "@jupyter-widgets/controls",
      "_view_module_version": "1.5.0",
      "_view_name": "HTMLView",
      "description": "",
      "description_tooltip": null,
      "layout": "IPY_MODEL_13f2a463ec5a4ad0b467970aef00e80d",
      "placeholder": "​",
      "style": "IPY_MODEL_b1dbe6c5f036444a84dc05a1fbc04cf5",
      "value": "model.safetensors: 100%"
     }
    },
    "be0c0fabad584a4aa30dd010c1eae152": {
     "model_module": "@jupyter-widgets/controls",
     "model_module_version": "1.5.0",
     "model_name": "DescriptionStyleModel",
     "state": {
      "_model_module": "@jupyter-widgets/controls",
      "_model_module_version": "1.5.0",
      "_model_name": "DescriptionStyleModel",
      "_view_count": null,
      "_view_module": "@jupyter-widgets/base",
      "_view_module_version": "1.2.0",
      "_view_name": "StyleView",
      "description_width": ""
     }
    },
    "bf336ce224a24a5dbfc47c3bdb9960b0": {
     "model_module": "@jupyter-widgets/base",
     "model_module_version": "1.2.0",
     "model_name": "LayoutModel",
     "state": {
      "_model_module": "@jupyter-widgets/base",
      "_model_module_version": "1.2.0",
      "_model_name": "LayoutModel",
      "_view_count": null,
      "_view_module": "@jupyter-widgets/base",
      "_view_module_version": "1.2.0",
      "_view_name": "LayoutView",
      "align_content": null,
      "align_items": null,
      "align_self": null,
      "border": null,
      "bottom": null,
      "display": null,
      "flex": null,
      "flex_flow": null,
      "grid_area": null,
      "grid_auto_columns": null,
      "grid_auto_flow": null,
      "grid_auto_rows": null,
      "grid_column": null,
      "grid_gap": null,
      "grid_row": null,
      "grid_template_areas": null,
      "grid_template_columns": null,
      "grid_template_rows": null,
      "height": null,
      "justify_content": null,
      "justify_items": null,
      "left": null,
      "margin": null,
      "max_height": null,
      "max_width": null,
      "min_height": null,
      "min_width": null,
      "object_fit": null,
      "object_position": null,
      "order": null,
      "overflow": null,
      "overflow_x": null,
      "overflow_y": null,
      "padding": null,
      "right": null,
      "top": null,
      "visibility": null,
      "width": null
     }
    },
    "c1fe2e3143df48d28fd6fdb6cf82c9a9": {
     "model_module": "@jupyter-widgets/controls",
     "model_module_version": "1.5.0",
     "model_name": "DescriptionStyleModel",
     "state": {
      "_model_module": "@jupyter-widgets/controls",
      "_model_module_version": "1.5.0",
      "_model_name": "DescriptionStyleModel",
      "_view_count": null,
      "_view_module": "@jupyter-widgets/base",
      "_view_module_version": "1.2.0",
      "_view_name": "StyleView",
      "description_width": ""
     }
    },
    "c231276adcf344708059583054d23c53": {
     "model_module": "@jupyter-widgets/controls",
     "model_module_version": "1.5.0",
     "model_name": "HTMLModel",
     "state": {
      "_dom_classes": [],
      "_model_module": "@jupyter-widgets/controls",
      "_model_module_version": "1.5.0",
      "_model_name": "HTMLModel",
      "_view_count": null,
      "_view_module": "@jupyter-widgets/controls",
      "_view_module_version": "1.5.0",
      "_view_name": "HTMLView",
      "description": "",
      "description_tooltip": null,
      "layout": "IPY_MODEL_def93ba457604adb80b67b49576687a9",
      "placeholder": "​",
      "style": "IPY_MODEL_888b68e0cc0c4f98979fa12f0a3d9c2f",
      "value": " 548M/548M [00:01&lt;00:00, 300MB/s]"
     }
    },
    "d03bb7ce9b8f48ff822feb305bfc8e19": {
     "model_module": "@jupyter-widgets/base",
     "model_module_version": "1.2.0",
     "model_name": "LayoutModel",
     "state": {
      "_model_module": "@jupyter-widgets/base",
      "_model_module_version": "1.2.0",
      "_model_name": "LayoutModel",
      "_view_count": null,
      "_view_module": "@jupyter-widgets/base",
      "_view_module_version": "1.2.0",
      "_view_name": "LayoutView",
      "align_content": null,
      "align_items": null,
      "align_self": null,
      "border": null,
      "bottom": null,
      "display": null,
      "flex": null,
      "flex_flow": null,
      "grid_area": null,
      "grid_auto_columns": null,
      "grid_auto_flow": null,
      "grid_auto_rows": null,
      "grid_column": null,
      "grid_gap": null,
      "grid_row": null,
      "grid_template_areas": null,
      "grid_template_columns": null,
      "grid_template_rows": null,
      "height": null,
      "justify_content": null,
      "justify_items": null,
      "left": null,
      "margin": null,
      "max_height": null,
      "max_width": null,
      "min_height": null,
      "min_width": null,
      "object_fit": null,
      "object_position": null,
      "order": null,
      "overflow": null,
      "overflow_x": null,
      "overflow_y": null,
      "padding": null,
      "right": null,
      "top": null,
      "visibility": null,
      "width": null
     }
    },
    "d10fb6234f8a4b43a2046ff3f957b10d": {
     "model_module": "@jupyter-widgets/base",
     "model_module_version": "1.2.0",
     "model_name": "LayoutModel",
     "state": {
      "_model_module": "@jupyter-widgets/base",
      "_model_module_version": "1.2.0",
      "_model_name": "LayoutModel",
      "_view_count": null,
      "_view_module": "@jupyter-widgets/base",
      "_view_module_version": "1.2.0",
      "_view_name": "LayoutView",
      "align_content": null,
      "align_items": null,
      "align_self": null,
      "border": null,
      "bottom": null,
      "display": null,
      "flex": null,
      "flex_flow": null,
      "grid_area": null,
      "grid_auto_columns": null,
      "grid_auto_flow": null,
      "grid_auto_rows": null,
      "grid_column": null,
      "grid_gap": null,
      "grid_row": null,
      "grid_template_areas": null,
      "grid_template_columns": null,
      "grid_template_rows": null,
      "height": null,
      "justify_content": null,
      "justify_items": null,
      "left": null,
      "margin": null,
      "max_height": null,
      "max_width": null,
      "min_height": null,
      "min_width": null,
      "object_fit": null,
      "object_position": null,
      "order": null,
      "overflow": null,
      "overflow_x": null,
      "overflow_y": null,
      "padding": null,
      "right": null,
      "top": null,
      "visibility": null,
      "width": null
     }
    },
    "d6761cd1067c4fa092a942d373819d5d": {
     "model_module": "@jupyter-widgets/base",
     "model_module_version": "1.2.0",
     "model_name": "LayoutModel",
     "state": {
      "_model_module": "@jupyter-widgets/base",
      "_model_module_version": "1.2.0",
      "_model_name": "LayoutModel",
      "_view_count": null,
      "_view_module": "@jupyter-widgets/base",
      "_view_module_version": "1.2.0",
      "_view_name": "LayoutView",
      "align_content": null,
      "align_items": null,
      "align_self": null,
      "border": null,
      "bottom": null,
      "display": null,
      "flex": null,
      "flex_flow": null,
      "grid_area": null,
      "grid_auto_columns": null,
      "grid_auto_flow": null,
      "grid_auto_rows": null,
      "grid_column": null,
      "grid_gap": null,
      "grid_row": null,
      "grid_template_areas": null,
      "grid_template_columns": null,
      "grid_template_rows": null,
      "height": null,
      "justify_content": null,
      "justify_items": null,
      "left": null,
      "margin": null,
      "max_height": null,
      "max_width": null,
      "min_height": null,
      "min_width": null,
      "object_fit": null,
      "object_position": null,
      "order": null,
      "overflow": null,
      "overflow_x": null,
      "overflow_y": null,
      "padding": null,
      "right": null,
      "top": null,
      "visibility": null,
      "width": null
     }
    },
    "daa8cc67975a40f0a6c3493bc117c529": {
     "model_module": "@jupyter-widgets/base",
     "model_module_version": "1.2.0",
     "model_name": "LayoutModel",
     "state": {
      "_model_module": "@jupyter-widgets/base",
      "_model_module_version": "1.2.0",
      "_model_name": "LayoutModel",
      "_view_count": null,
      "_view_module": "@jupyter-widgets/base",
      "_view_module_version": "1.2.0",
      "_view_name": "LayoutView",
      "align_content": null,
      "align_items": null,
      "align_self": null,
      "border": null,
      "bottom": null,
      "display": null,
      "flex": null,
      "flex_flow": null,
      "grid_area": null,
      "grid_auto_columns": null,
      "grid_auto_flow": null,
      "grid_auto_rows": null,
      "grid_column": null,
      "grid_gap": null,
      "grid_row": null,
      "grid_template_areas": null,
      "grid_template_columns": null,
      "grid_template_rows": null,
      "height": null,
      "justify_content": null,
      "justify_items": null,
      "left": null,
      "margin": null,
      "max_height": null,
      "max_width": null,
      "min_height": null,
      "min_width": null,
      "object_fit": null,
      "object_position": null,
      "order": null,
      "overflow": null,
      "overflow_x": null,
      "overflow_y": null,
      "padding": null,
      "right": null,
      "top": null,
      "visibility": null,
      "width": null
     }
    },
    "dbacb0064718457a88e51939b9493bd6": {
     "model_module": "@jupyter-widgets/controls",
     "model_module_version": "1.5.0",
     "model_name": "HTMLModel",
     "state": {
      "_dom_classes": [],
      "_model_module": "@jupyter-widgets/controls",
      "_model_module_version": "1.5.0",
      "_model_name": "HTMLModel",
      "_view_count": null,
      "_view_module": "@jupyter-widgets/controls",
      "_view_module_version": "1.5.0",
      "_view_name": "HTMLView",
      "description": "",
      "description_tooltip": null,
      "layout": "IPY_MODEL_a448a9494f9440c9a487b464b244c856",
      "placeholder": "​",
      "style": "IPY_MODEL_49286700bdd24bdf99d0bcde2c40f0df",
      "value": "config.json: 100%"
     }
    },
    "def93ba457604adb80b67b49576687a9": {
     "model_module": "@jupyter-widgets/base",
     "model_module_version": "1.2.0",
     "model_name": "LayoutModel",
     "state": {
      "_model_module": "@jupyter-widgets/base",
      "_model_module_version": "1.2.0",
      "_model_name": "LayoutModel",
      "_view_count": null,
      "_view_module": "@jupyter-widgets/base",
      "_view_module_version": "1.2.0",
      "_view_name": "LayoutView",
      "align_content": null,
      "align_items": null,
      "align_self": null,
      "border": null,
      "bottom": null,
      "display": null,
      "flex": null,
      "flex_flow": null,
      "grid_area": null,
      "grid_auto_columns": null,
      "grid_auto_flow": null,
      "grid_auto_rows": null,
      "grid_column": null,
      "grid_gap": null,
      "grid_row": null,
      "grid_template_areas": null,
      "grid_template_columns": null,
      "grid_template_rows": null,
      "height": null,
      "justify_content": null,
      "justify_items": null,
      "left": null,
      "margin": null,
      "max_height": null,
      "max_width": null,
      "min_height": null,
      "min_width": null,
      "object_fit": null,
      "object_position": null,
      "order": null,
      "overflow": null,
      "overflow_x": null,
      "overflow_y": null,
      "padding": null,
      "right": null,
      "top": null,
      "visibility": null,
      "width": null
     }
    },
    "e5f8ea229bf747eb854dd27f1bb24ccb": {
     "model_module": "@jupyter-widgets/controls",
     "model_module_version": "1.5.0",
     "model_name": "DescriptionStyleModel",
     "state": {
      "_model_module": "@jupyter-widgets/controls",
      "_model_module_version": "1.5.0",
      "_model_name": "DescriptionStyleModel",
      "_view_count": null,
      "_view_module": "@jupyter-widgets/base",
      "_view_module_version": "1.2.0",
      "_view_name": "StyleView",
      "description_width": ""
     }
    },
    "ee055adabf5f463faf0a6ef754a1c86b": {
     "model_module": "@jupyter-widgets/controls",
     "model_module_version": "1.5.0",
     "model_name": "HTMLModel",
     "state": {
      "_dom_classes": [],
      "_model_module": "@jupyter-widgets/controls",
      "_model_module_version": "1.5.0",
      "_model_name": "HTMLModel",
      "_view_count": null,
      "_view_module": "@jupyter-widgets/controls",
      "_view_module_version": "1.5.0",
      "_view_name": "HTMLView",
      "description": "",
      "description_tooltip": null,
      "layout": "IPY_MODEL_8337649816c54e359829c38df83f1d6d",
      "placeholder": "​",
      "style": "IPY_MODEL_2bbee239df3e412c92a5f9f96434c570",
      "value": "model.safetensors: 100%"
     }
    },
    "f22ab3297bf546838e72b352c233a44c": {
     "model_module": "@jupyter-widgets/controls",
     "model_module_version": "1.5.0",
     "model_name": "HBoxModel",
     "state": {
      "_dom_classes": [],
      "_model_module": "@jupyter-widgets/controls",
      "_model_module_version": "1.5.0",
      "_model_name": "HBoxModel",
      "_view_count": null,
      "_view_module": "@jupyter-widgets/controls",
      "_view_module_version": "1.5.0",
      "_view_name": "HBoxView",
      "box_style": "",
      "children": [
       "IPY_MODEL_ee055adabf5f463faf0a6ef754a1c86b",
       "IPY_MODEL_1f4dc8204d254d888e49d7f3d9a5313d",
       "IPY_MODEL_98f57976f5dd4bc3afa48b6758b4555e"
      ],
      "layout": "IPY_MODEL_1764f7ec7505463db8470c3423d6c2fd"
     }
    },
    "f75fac600947449bba4836b06b88322f": {
     "model_module": "@jupyter-widgets/controls",
     "model_module_version": "1.5.0",
     "model_name": "DescriptionStyleModel",
     "state": {
      "_model_module": "@jupyter-widgets/controls",
      "_model_module_version": "1.5.0",
      "_model_name": "DescriptionStyleModel",
      "_view_count": null,
      "_view_module": "@jupyter-widgets/base",
      "_view_module_version": "1.2.0",
      "_view_name": "StyleView",
      "description_width": ""
     }
    },
    "fa426df74eab43c58ed2dd4b7093ce81": {
     "model_module": "@jupyter-widgets/base",
     "model_module_version": "1.2.0",
     "model_name": "LayoutModel",
     "state": {
      "_model_module": "@jupyter-widgets/base",
      "_model_module_version": "1.2.0",
      "_model_name": "LayoutModel",
      "_view_count": null,
      "_view_module": "@jupyter-widgets/base",
      "_view_module_version": "1.2.0",
      "_view_name": "LayoutView",
      "align_content": null,
      "align_items": null,
      "align_self": null,
      "border": null,
      "bottom": null,
      "display": null,
      "flex": null,
      "flex_flow": null,
      "grid_area": null,
      "grid_auto_columns": null,
      "grid_auto_flow": null,
      "grid_auto_rows": null,
      "grid_column": null,
      "grid_gap": null,
      "grid_row": null,
      "grid_template_areas": null,
      "grid_template_columns": null,
      "grid_template_rows": null,
      "height": null,
      "justify_content": null,
      "justify_items": null,
      "left": null,
      "margin": null,
      "max_height": null,
      "max_width": null,
      "min_height": null,
      "min_width": null,
      "object_fit": null,
      "object_position": null,
      "order": null,
      "overflow": null,
      "overflow_x": null,
      "overflow_y": null,
      "padding": null,
      "right": null,
      "top": null,
      "visibility": null,
      "width": null
     }
    },
    "fb492c2354aa4f4687b59391bad95e70": {
     "model_module": "@jupyter-widgets/base",
     "model_module_version": "1.2.0",
     "model_name": "LayoutModel",
     "state": {
      "_model_module": "@jupyter-widgets/base",
      "_model_module_version": "1.2.0",
      "_model_name": "LayoutModel",
      "_view_count": null,
      "_view_module": "@jupyter-widgets/base",
      "_view_module_version": "1.2.0",
      "_view_name": "LayoutView",
      "align_content": null,
      "align_items": null,
      "align_self": null,
      "border": null,
      "bottom": null,
      "display": null,
      "flex": null,
      "flex_flow": null,
      "grid_area": null,
      "grid_auto_columns": null,
      "grid_auto_flow": null,
      "grid_auto_rows": null,
      "grid_column": null,
      "grid_gap": null,
      "grid_row": null,
      "grid_template_areas": null,
      "grid_template_columns": null,
      "grid_template_rows": null,
      "height": null,
      "justify_content": null,
      "justify_items": null,
      "left": null,
      "margin": null,
      "max_height": null,
      "max_width": null,
      "min_height": null,
      "min_width": null,
      "object_fit": null,
      "object_position": null,
      "order": null,
      "overflow": null,
      "overflow_x": null,
      "overflow_y": null,
      "padding": null,
      "right": null,
      "top": null,
      "visibility": null,
      "width": null
     }
    }
   }
  }
 },
 "nbformat": 4,
 "nbformat_minor": 4
}
